{
 "cells": [
  {
   "cell_type": "code",
   "execution_count": 4,
   "metadata": {},
   "outputs": [],
   "source": [
    "import hazelbean as hb\n",
    "import numpy as np\n",
    "import pandas as pd\n",
    "import geopandas as gpd\n",
    "\n",
    "import matplotlib\n",
    "import matplotlib.pyplot as plt\n",
    "\n",
    "import os"
   ]
  },
  {
   "cell_type": "code",
   "execution_count": 77,
   "metadata": {},
   "outputs": [],
   "source": [
    "ssp_list = ['ssp1','ssp2','ssp3','ssp4','ssp5']\n",
    "rcp_list = ['26','45','60','60','85']\n",
    "gcm_list = ['cc','gs','he','mr']"
   ]
  },
  {
   "cell_type": "markdown",
   "metadata": {},
   "source": [
    "## Theory"
   ]
  },
  {
   "cell_type": "code",
   "execution_count": 2,
   "metadata": {},
   "outputs": [
    {
     "name": "stderr",
     "output_type": "stream",
     "text": [
      "/Users/charlotteweil1/anaconda/envs/spatialenv/lib/python3.6/site-packages/pandas/plotting/_core.py:1716: UserWarning: Pandas doesn't allow columns to be created via a new attribute name - see https://pandas.pydata.org/pandas-docs/stable/indexing.html#attribute-access\n",
      "  series.name = label\n"
     ]
    },
    {
     "data": {
      "image/png": "[encoded data removed]",
      "text/plain": [
       "<Figure size 432x288 with 1 Axes>"
      ]
     },
     "metadata": {},
     "output_type": "display_data"
    }
   ],
   "source": [
    "#pct_DietLS2050 = 0.15\n",
    "df = pd.DataFrame(columns=['% Livestock in diet','Livestock (kcal)','Crops (kcal)','Total Diet 2050 (kcal)'])\n",
    "\n",
    "Production = 9.1e15\n",
    "pct_Prodfood = 0.52\n",
    "feed_conversion_factor = 2.293651\n",
    "LS2000 = 1.1e15\n",
    "\n",
    "FoodCropsKcal2000 = 4.7684e+15\n",
    "\n",
    "\n",
    "for pct_DietLS2050 in np.arange(0,1,0.05,dtype=float):\n",
    "    LS_2050 = pct_DietLS2050 * (Production*pct_Prodfood + feed_conversion_factor*LS2000) / (1 + pct_DietLS2050*(feed_conversion_factor-1)) \n",
    "    \n",
    "    \n",
    "    FoodCrops_2050 = Production * pct_Prodfood + feed_conversion_factor * (LS2000-LS_2050) \n",
    "\n",
    "    TotDiet_2050 = FoodCrops_2050 + LS_2050\n",
    "    \n",
    "    df = df.append({'% Livestock in diet':pct_DietLS2050,\n",
    "                   'Livestock (kcal)':LS_2050,\n",
    "                   'Crops (kcal)':FoodCrops_2050,\n",
    "                   'Total Diet (kcal)':TotDiet_2050},ignore_index=True)\n",
    "\n",
    "df.plot(x='% Livestock in diet',y=['Livestock (kcal)','Crops (kcal)','Total Diet (kcal)']);#,figsize(10,20))\n",
    "    "
   ]
  },
  {
   "cell_type": "code",
   "execution_count": null,
   "metadata": {},
   "outputs": [],
   "source": []
  },
  {
   "cell_type": "markdown",
   "metadata": {},
   "source": [
    "# Global"
   ]
  },
  {
   "cell_type": "markdown",
   "metadata": {},
   "source": [
    "## Data"
   ]
  },
  {
   "cell_type": "markdown",
   "metadata": {},
   "source": [
    "See Method - Caloric Sufficiency Calc"
   ]
  },
  {
   "cell_type": "code",
   "execution_count": null,
   "metadata": {},
   "outputs": [],
   "source": [
    "#Caloric requirement\n",
    "#ADER = 2355 (w.o fish 2320)\n",
    "\n",
    "caloric_req = 2320 * 1e3 * 365.25 #in cal/capita/yr"
   ]
  },
  {
   "cell_type": "code",
   "execution_count": 125,
   "metadata": {},
   "outputs": [],
   "source": [
    "# Population \n",
    "\n",
    "def get_total_pop(ssp):\n",
    "    '''ssp: 2000 or ssp'''\n",
    "    \n",
    "    pop_dir = '../Data/intermediate/Population_csvs'\n",
    "    if ssp.startswith('ssp'):\n",
    "        pop = pd.read_csv(os.path.join(pop_dir,'adjusted_'+ssp+'.csv'))\n",
    "    else:\n",
    "        pop = pd.read_csv(os.path.join(pop_dir,ssp+'.csv'))\n",
    "    pop = pop.set_index('pixel_id')\n",
    "    pop_tot = pop['gpw_population'].sum()\n",
    "    return pop_tot"
   ]
  },
  {
   "cell_type": "code",
   "execution_count": 16,
   "metadata": {},
   "outputs": [],
   "source": [
    "def get_total_prod(ssp):\n",
    "    '''ssp: 2000 or ssp'''\n",
    "    \n",
    "    results_dir = '../Data/outputs/Model_results/All_Change/xgb3_Allinputs'\n",
    "    if ssp == '2000':\n",
    "        rez = pd.read_csv(os.path.join(results_dir,'ssp1_composite.csv'))\n",
    "        return rez['Calories 2000'].sum()\n",
    "    \n",
    "    else:\n",
    "        rez = pd.read_csv(os.path.join(results_dir,ssp+'_composite.csv'))\n",
    "        #rez = rez.set_index('pixel_id')\n",
    "        return rez['Calories 2050'].sum()"
   ]
  },
  {
   "cell_type": "markdown",
   "metadata": {
    "heading_collapsed": true
   },
   "source": [
    "## Caloric Sufficiency equations"
   ]
  },
  {
   "cell_type": "code",
   "execution_count": 80,
   "metadata": {
    "hidden": true
   },
   "outputs": [],
   "source": [
    "def calc_CalSuff(prod_available, LS, pop,\n",
    "            caloric_req = (2320*1e3*365.25) #in cal/capita/yr\n",
    "           ):\n",
    "    ''' prod_available (for Food not Feed + accounting for losses) - in Calories\n",
    "        LS : animal calories availables\n",
    "        pop : in capita\n",
    "        caloric_req : default values is ADER=2320 kcal/cap/d (without fish)\n",
    "        \n",
    "        This is all per year\n",
    "    '''\n",
    "    return (prod_available + LS) / (caloric_req * pop)\n",
    "    "
   ]
  },
  {
   "cell_type": "markdown",
   "metadata": {
    "heading_collapsed": true
   },
   "source": [
    "## Global caloric sufficiency "
   ]
  },
  {
   "cell_type": "markdown",
   "metadata": {
    "hidden": true
   },
   "source": [
    "### 2000"
   ]
  },
  {
   "cell_type": "code",
   "execution_count": 100,
   "metadata": {
    "hidden": true
   },
   "outputs": [],
   "source": [
    "pctLS_2000 = .19\n",
    "LS_2000 = 1.1483e15*1e3 #calories\n",
    "\n",
    "pct_Prod_Food = .52\n",
    "\n",
    "\n",
    "pop_2000 = get_total_pop('2000')\n",
    "prod_2000 = get_total_prod('2000') # calories"
   ]
  },
  {
   "cell_type": "code",
   "execution_count": 103,
   "metadata": {
    "hidden": true
   },
   "outputs": [
    {
     "data": {
      "text/plain": [
       "1.9568988513886614"
      ]
     },
     "execution_count": 103,
     "metadata": {},
     "output_type": "execute_result"
    }
   ],
   "source": [
    "prod_available = prod_2000*pct_Prod_Food\n",
    "\n",
    "global_CalSuff_2000 = calc_CalSuff(prod_available,\n",
    "                       LS_2000,\n",
    "                       pop_2000)\n",
    "\n",
    "global_CalSuff_2000"
   ]
  },
  {
   "cell_type": "markdown",
   "metadata": {
    "hidden": true
   },
   "source": [
    "### SSPs"
   ]
  },
  {
   "cell_type": "code",
   "execution_count": 51,
   "metadata": {
    "hidden": true
   },
   "outputs": [],
   "source": [
    "feed_conversion_factor = 2.3\n",
    "\n",
    "# Data source: Bodirsky : share of calories in diet from animal products\n",
    "pctLS_2050 = .19 #Assuming cst"
   ]
  },
  {
   "cell_type": "code",
   "execution_count": 81,
   "metadata": {
    "hidden": true
   },
   "outputs": [],
   "source": [
    "def global_CalSuff_2050(ssp,\n",
    "                        pctLS_2050 = .19):\n",
    "    \n",
    "    prod_2050 = get_total_prod(ssp)\n",
    "    \n",
    "    LS_2050 = pctLS_2050 * (prod_2050*pct_Prod_Food + feed_conversion_factor*LS_2000) / (1 + pctLS_2050*(feed_conversion_factor-1)) \n",
    "\n",
    "    feed_now_food = feed_conversion_factor * (LS_2000-LS_2050)\n",
    "    \n",
    "    prod_available = prod_2050*pct_Prod_Food + feed_now_food\n",
    "    \n",
    "    pop = get_total_pop(ssp)\n",
    "\n",
    "    calsuff = calc_CalSuff(prod_available,\n",
    "                           LS_2050,\n",
    "                           pop)\n",
    "    \n",
    "    return calsuff\n"
   ]
  },
  {
   "cell_type": "code",
   "execution_count": 121,
   "metadata": {
    "hidden": true
   },
   "outputs": [],
   "source": [
    "CalSuff_df = pd.DataFrame(columns=['ssp','global_CalSuff','pctLS'])"
   ]
  },
  {
   "cell_type": "code",
   "execution_count": 122,
   "metadata": {
    "hidden": true
   },
   "outputs": [],
   "source": [
    "for ssp in ssp_list:\n",
    "    for pctLS_2050 in [0,.05,.1,.11,.12,.13,.14,.15,.16,.17,.18,.19,.20,.21,.22,.23,.25,.30]:\n",
    "        \n",
    "        CalSuff = global_CalSuff_2050(ssp,\n",
    "                                     pctLS_2050)\n",
    "\n",
    "        CalSuff_df = CalSuff_df.append({'ssp':ssp,'global_CalSuff':CalSuff,'pctLS':pctLS_2050},ignore_index=True)"
   ]
  },
  {
   "cell_type": "markdown",
   "metadata": {
    "hidden": true
   },
   "source": [
    "### Plot"
   ]
  },
  {
   "cell_type": "code",
   "execution_count": 123,
   "metadata": {
    "hidden": true
   },
   "outputs": [
    {
     "data": {
      "image/png": "[encoded data removed]",
      "text/plain": [
       "<Figure size 432x288 with 1 Axes>"
      ]
     },
     "metadata": {},
     "output_type": "display_data"
    }
   ],
   "source": [
    "fig, ax = plt.subplots()\n",
    "\n",
    "for ssp, grp in CalSuff_df.groupby(['ssp']):\n",
    "    ax = grp.plot(ax=ax, kind='line', x='pctLS', y='global_CalSuff', label=ssp)\n",
    "\n",
    "plt.axvline(x=.19,linestyle=':',color='grey')\n",
    "plt.axhline(y=1,linestyle='--',color='grey')\n",
    "\n",
    "# Baseline\n",
    "plt.plot(.19, global_CalSuff_2000, 'yo') \n",
    "\n",
    "#Prettify\n",
    "ax.spines['right'].set_visible(False)\n",
    "ax.spines['top'].set_visible(False)\n",
    "\n",
    "plt.ylabel('global Caloric Sufficiency');\n",
    "plt.xlabel('Share of animal products in diet');\n",
    "plt.legend(loc='best');\n"
   ]
  },
  {
   "cell_type": "markdown",
   "metadata": {},
   "source": [
    "# By country"
   ]
  },
  {
   "cell_type": "code",
   "execution_count": 131,
   "metadata": {},
   "outputs": [
    {
     "data": {
      "text/html": [
       "<div>\n",
       "<style scoped>\n",
       "    .dataframe tbody tr th:only-of-type {\n",
       "        vertical-align: middle;\n",
       "    }\n",
       "\n",
       "    .dataframe tbody tr th {\n",
       "        vertical-align: top;\n",
       "    }\n",
       "\n",
       "    .dataframe thead th {\n",
       "        text-align: right;\n",
       "    }\n",
       "</style>\n",
       "<table border=\"1\" class=\"dataframe\">\n",
       "  <thead>\n",
       "    <tr style=\"text-align: right;\">\n",
       "      <th></th>\n",
       "      <th>Unnamed: 0</th>\n",
       "      <th>country_id</th>\n",
       "      <th>land_mask</th>\n",
       "    </tr>\n",
       "    <tr>\n",
       "      <th>pixel_id</th>\n",
       "      <th></th>\n",
       "      <th></th>\n",
       "      <th></th>\n",
       "    </tr>\n",
       "  </thead>\n",
       "  <tbody>\n",
       "    <tr>\n",
       "      <th>330087</th>\n",
       "      <td>330087</td>\n",
       "      <td>91.0</td>\n",
       "      <td>1</td>\n",
       "    </tr>\n",
       "    <tr>\n",
       "      <th>330088</th>\n",
       "      <td>330088</td>\n",
       "      <td>91.0</td>\n",
       "      <td>1</td>\n",
       "    </tr>\n",
       "    <tr>\n",
       "      <th>330089</th>\n",
       "      <td>330089</td>\n",
       "      <td>91.0</td>\n",
       "      <td>1</td>\n",
       "    </tr>\n",
       "    <tr>\n",
       "      <th>330090</th>\n",
       "      <td>330090</td>\n",
       "      <td>91.0</td>\n",
       "      <td>1</td>\n",
       "    </tr>\n",
       "    <tr>\n",
       "      <th>334378</th>\n",
       "      <td>334378</td>\n",
       "      <td>91.0</td>\n",
       "      <td>1</td>\n",
       "    </tr>\n",
       "  </tbody>\n",
       "</table>\n",
       "</div>"
      ],
      "text/plain": [
       "          Unnamed: 0  country_id  land_mask\n",
       "pixel_id                                   \n",
       "330087        330087        91.0          1\n",
       "330088        330088        91.0          1\n",
       "330089        330089        91.0          1\n",
       "330090        330090        91.0          1\n",
       "334378        334378        91.0          1"
      ]
     },
     "execution_count": 131,
     "metadata": {},
     "output_type": "execute_result"
    }
   ],
   "source": [
    "countries = pd.read_csv('../Data/intermediate/Crop_csvs/country_ids.csv')\n",
    "countries = countries.set_index('pixel_id')\n",
    "countries.head()"
   ]
  },
  {
   "cell_type": "code",
   "execution_count": 139,
   "metadata": {},
   "outputs": [],
   "source": [
    "countries_ids = countries['country_id'].unique()"
   ]
  },
  {
   "cell_type": "code",
   "execution_count": 145,
   "metadata": {},
   "outputs": [],
   "source": [
    "# Load countries and population data if it hasn't been done before\n",
    "try:\n",
    "    countries\n",
    "except NameError:\n",
    "    countries = pd.read_csv('../Data/intermediate/Crop_csvs/country_ids.csv')\n",
    "    countries = countries.set_index('pixel_id')\n",
    "\n",
    "try:\n",
    "    pop #### MUST CHANGE PER SSP\n",
    "    \n",
    "except NameError:\n",
    "    pop_dir = '../Data/intermediate/Population_csvs'\n",
    "    pop = pd.read_csv(os.path.join(pop_dir,'adjusted_'+ssp+'.csv'))\n",
    "    pop = pop.set_index('pixel_id')"
   ]
  },
  {
   "cell_type": "code",
   "execution_count": 132,
   "metadata": {},
   "outputs": [
    {
     "data": {
      "text/html": [
       "<div>\n",
       "<style scoped>\n",
       "    .dataframe tbody tr th:only-of-type {\n",
       "        vertical-align: middle;\n",
       "    }\n",
       "\n",
       "    .dataframe tbody tr th {\n",
       "        vertical-align: top;\n",
       "    }\n",
       "\n",
       "    .dataframe thead th {\n",
       "        text-align: right;\n",
       "    }\n",
       "</style>\n",
       "<table border=\"1\" class=\"dataframe\">\n",
       "  <thead>\n",
       "    <tr style=\"text-align: right;\">\n",
       "      <th></th>\n",
       "      <th>Unnamed: 0</th>\n",
       "      <th>gpw_population</th>\n",
       "      <th>land_mask</th>\n",
       "    </tr>\n",
       "    <tr>\n",
       "      <th>pixel_id</th>\n",
       "      <th></th>\n",
       "      <th></th>\n",
       "      <th></th>\n",
       "    </tr>\n",
       "  </thead>\n",
       "  <tbody>\n",
       "    <tr>\n",
       "      <th>330087</th>\n",
       "      <td>330087</td>\n",
       "      <td>0</td>\n",
       "      <td>1</td>\n",
       "    </tr>\n",
       "    <tr>\n",
       "      <th>330088</th>\n",
       "      <td>330088</td>\n",
       "      <td>0</td>\n",
       "      <td>1</td>\n",
       "    </tr>\n",
       "    <tr>\n",
       "      <th>330089</th>\n",
       "      <td>330089</td>\n",
       "      <td>0</td>\n",
       "      <td>1</td>\n",
       "    </tr>\n",
       "    <tr>\n",
       "      <th>330090</th>\n",
       "      <td>330090</td>\n",
       "      <td>0</td>\n",
       "      <td>1</td>\n",
       "    </tr>\n",
       "    <tr>\n",
       "      <th>334378</th>\n",
       "      <td>334378</td>\n",
       "      <td>0</td>\n",
       "      <td>1</td>\n",
       "    </tr>\n",
       "  </tbody>\n",
       "</table>\n",
       "</div>"
      ],
      "text/plain": [
       "          Unnamed: 0  gpw_population  land_mask\n",
       "pixel_id                                       \n",
       "330087        330087               0          1\n",
       "330088        330088               0          1\n",
       "330089        330089               0          1\n",
       "330090        330090               0          1\n",
       "334378        334378               0          1"
      ]
     },
     "execution_count": 132,
     "metadata": {},
     "output_type": "execute_result"
    }
   ],
   "source": [
    "pop_dir = '../Data/intermediate/Population_csvs'\n",
    "pop = pd.read_csv(os.path.join(pop_dir,'adjusted_'+ssp+'.csv'))\n",
    "pop = pop.set_index('pixel_id')\n",
    "\n",
    "pop.head()"
   ]
  },
  {
   "cell_type": "code",
   "execution_count": 135,
   "metadata": {},
   "outputs": [
    {
     "data": {
      "text/html": [
       "<div>\n",
       "<style scoped>\n",
       "    .dataframe tbody tr th:only-of-type {\n",
       "        vertical-align: middle;\n",
       "    }\n",
       "\n",
       "    .dataframe tbody tr th {\n",
       "        vertical-align: top;\n",
       "    }\n",
       "\n",
       "    .dataframe thead th {\n",
       "        text-align: right;\n",
       "    }\n",
       "</style>\n",
       "<table border=\"1\" class=\"dataframe\">\n",
       "  <thead>\n",
       "    <tr style=\"text-align: right;\">\n",
       "      <th></th>\n",
       "      <th>Unnamed: 0</th>\n",
       "      <th>gpw_population</th>\n",
       "      <th>land_mask</th>\n",
       "      <th>country_id</th>\n",
       "    </tr>\n",
       "    <tr>\n",
       "      <th>pixel_id</th>\n",
       "      <th></th>\n",
       "      <th></th>\n",
       "      <th></th>\n",
       "      <th></th>\n",
       "    </tr>\n",
       "  </thead>\n",
       "  <tbody>\n",
       "    <tr>\n",
       "      <th>330087</th>\n",
       "      <td>330087</td>\n",
       "      <td>0</td>\n",
       "      <td>1</td>\n",
       "      <td>91.0</td>\n",
       "    </tr>\n",
       "    <tr>\n",
       "      <th>330088</th>\n",
       "      <td>330088</td>\n",
       "      <td>0</td>\n",
       "      <td>1</td>\n",
       "      <td>91.0</td>\n",
       "    </tr>\n",
       "    <tr>\n",
       "      <th>330089</th>\n",
       "      <td>330089</td>\n",
       "      <td>0</td>\n",
       "      <td>1</td>\n",
       "      <td>91.0</td>\n",
       "    </tr>\n",
       "    <tr>\n",
       "      <th>330090</th>\n",
       "      <td>330090</td>\n",
       "      <td>0</td>\n",
       "      <td>1</td>\n",
       "      <td>91.0</td>\n",
       "    </tr>\n",
       "    <tr>\n",
       "      <th>334378</th>\n",
       "      <td>334378</td>\n",
       "      <td>0</td>\n",
       "      <td>1</td>\n",
       "      <td>91.0</td>\n",
       "    </tr>\n",
       "  </tbody>\n",
       "</table>\n",
       "</div>"
      ],
      "text/plain": [
       "          Unnamed: 0  gpw_population  land_mask  country_id\n",
       "pixel_id                                                   \n",
       "330087        330087               0          1        91.0\n",
       "330088        330088               0          1        91.0\n",
       "330089        330089               0          1        91.0\n",
       "330090        330090               0          1        91.0\n",
       "334378        334378               0          1        91.0"
      ]
     },
     "execution_count": 135,
     "metadata": {},
     "output_type": "execute_result"
    }
   ],
   "source": [
    "pop = pop.merge(countries[['country_id']],how='left',right_index=True,left_index=True)\n",
    "pop.head()"
   ]
  },
  {
   "cell_type": "code",
   "execution_count": null,
   "metadata": {},
   "outputs": [],
   "source": [
    "# Population \n",
    "\n",
    "def get_total_pop(ssp):\n",
    "    '''ssp: 2000 or ssp'''\n",
    "    \n",
    "    pop_dir = '../Data/intermediate/Population_csvs'\n",
    "    if ssp.startswith('ssp'):\n",
    "        pop = pd.read_csv(os.path.join(pop_dir,'adjusted_'+ssp+'.csv'))\n",
    "    else:\n",
    "        pop = pd.read_csv(os.path.join(pop_dir,ssp+'.csv'))\n",
    "    pop = pop.set_index('pixel_id')\n",
    "    pop_tot = pop['gpw_population'].sum()\n",
    "    return pop_tot"
   ]
  }
 ],
 "metadata": {
  "kernelspec": {
   "display_name": "Python [conda env:spatialenv]",
   "language": "python",
   "name": "conda-env-spatialenv-py"
  },
  "language_info": {
   "codemirror_mode": {
    "name": "ipython",
    "version": 3
   },
   "file_extension": ".py",
   "mimetype": "text/x-python",
   "name": "python",
   "nbconvert_exporter": "python",
   "pygments_lexer": "ipython3",
   "version": "3.6.5"
  },
  "toc": {
   "base_numbering": 1,
   "nav_menu": {},
   "number_sections": true,
   "sideBar": true,
   "skip_h1_title": false,
   "title_cell": "Table of Contents",
   "title_sidebar": "Contents",
   "toc_cell": false,
   "toc_position": {},
   "toc_section_display": true,
   "toc_window_display": false
  }
 },
 "nbformat": 4,
 "nbformat_minor": 2
}
