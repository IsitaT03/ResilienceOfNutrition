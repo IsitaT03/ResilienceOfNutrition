{
 "cells": [
  {
   "cell_type": "code",
   "execution_count": 15,
   "metadata": {},
   "outputs": [],
   "source": [
    "import gdal\n",
    "\n",
    "base_raster_path = r'NETCDF:\"/Users/charlotteweil1/Dropbox/Wallenberg Food/Global_Resilience_Nutrition_paper/Data/inputs/Management/Fertilizers/multiple-management_input4MIPs_landState_ScenarioMIP_UofMD-AIM-ssp370-2-1-f_gn_2015-2100.nc\":fertl_c3ann'\n",
    "target_raster_path = '../Data/inputs/Management/Fertilizers/test0.tif'\n",
    "\n",
    "gtiff_driver = gdal.GetDriverByName('GTiff')\n",
    "\n",
    "raster = gdal.OpenEx(base_raster_path, gdal.OF_RASTER)\n",
    "\n",
    "target_raster = gtiff_driver.CreateCopy(target_raster_path, raster)\n",
    "target_band = target_raster.GetRasterBand(1)\n",
    "target_band.XSize\n",
    "target_band.FlushCache()\n",
    "target_array = target_band.ReadAsArray()\n",
    "import numpy\n",
    "numpy.unique(target_array)\n",
    "target_band = None\n",
    "target_raster = None\n"
   ]
  }
 ],
 "metadata": {
  "kernelspec": {
   "display_name": "Python [conda env:spatialenv]",
   "language": "python",
   "name": "conda-env-spatialenv-py"
  },
  "language_info": {
   "codemirror_mode": {
    "name": "ipython",
    "version": 3
   },
   "file_extension": ".py",
   "mimetype": "text/x-python",
   "name": "python",
   "nbconvert_exporter": "python",
   "pygments_lexer": "ipython3",
   "version": "3.6.8"
  },
  "toc": {
   "base_numbering": 1,
   "nav_menu": {},
   "number_sections": true,
   "sideBar": true,
   "skip_h1_title": false,
   "title_cell": "Table of Contents",
   "title_sidebar": "Contents",
   "toc_cell": false,
   "toc_position": {},
   "toc_section_display": true,
   "toc_window_display": false
  }
 },
 "nbformat": 4,
 "nbformat_minor": 2
}
