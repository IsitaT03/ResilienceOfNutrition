{
 "cells": [
  {
   "cell_type": "markdown",
   "metadata": {
    "heading_collapsed": true
   },
   "source": [
    "# Notes to myself & flags"
   ]
  },
  {
   "cell_type": "code",
   "execution_count": null,
   "metadata": {
    "hidden": true
   },
   "outputs": [],
   "source": [
    "ssps_list = ['ssp1','ssp2','ssp3','ssp4','ssp5']"
   ]
  },
  {
   "cell_type": "markdown",
   "metadata": {
    "hidden": true
   },
   "source": [
    "\n",
    "TODO\n",
    "* LULC 2000 instead of 2015 please !\n",
    "* Lat/Lon are rounded up :(\n",
    "\n",
    "Big assumptions to flag\n",
    " * Assuming soil quality doesn't change (really bc no data on that)\n",
    " * - Is it not a terrible assumption to assume all 5min (10km) cropland pixel is cultivated? YES\n",
    "  - Calculated %Cropland crop_mask\n",
    "  - Else go back to Monfreda and find use %area cultivated for each cell, then mutliply this by yield\n",
    "  - And calc F['%cultivated'] = ... (aggregate crops again...)\n",
    "  - see where I export future_df"
   ]
  },
  {
   "cell_type": "markdown",
   "metadata": {},
   "source": [
    "# Imports"
   ]
  },
  {
   "cell_type": "code",
   "execution_count": 1,
   "metadata": {},
   "outputs": [],
   "source": [
    "import pickle"
   ]
  },
  {
   "cell_type": "code",
   "execution_count": 36,
   "metadata": {},
   "outputs": [],
   "source": [
    "import os\n",
    "from collections import OrderedDict\n",
    "\n",
    "import hazelbean as hb\n",
    "import numpy as np\n",
    "import pandas as pd"
   ]
  },
  {
   "cell_type": "code",
   "execution_count": 2,
   "metadata": {},
   "outputs": [],
   "source": [
    "import matplotlib\n",
    "import matplotlib.pyplot as plt\n",
    "import mpl_toolkits\n",
    "from mpl_toolkits.basemap import Basemap\n",
    "import seaborn as sns"
   ]
  },
  {
   "cell_type": "code",
   "execution_count": 7,
   "metadata": {},
   "outputs": [],
   "source": [
    "import math\n",
    "from scipy import stats\n",
    "\n",
    "from sklearn.model_selection import cross_val_score\n",
    "from sklearn.model_selection import train_test_split\n",
    "from sklearn.preprocessing import PolynomialFeatures\n",
    "from sklearn.ensemble import RandomForestClassifier\n",
    "from sklearn.linear_model import LinearRegression\n",
    "from sklearn.model_selection import train_test_split\n",
    "from sklearn.model_selection import cross_val_score\n",
    "from sklearn.pipeline import make_pipeline\n",
    "from sklearn.linear_model import Ridge\n",
    "from sklearn.feature_selection import RFE\n",
    "from sklearn.preprocessing import PolynomialFeatures\n",
    "import sklearn.metrics\n",
    "\n",
    "import xgboost as xgb"
   ]
  },
  {
   "cell_type": "code",
   "execution_count": 3,
   "metadata": {},
   "outputs": [],
   "source": [
    "import gdal\n",
    "import pygeoprocessing\n",
    "# import taskgraph\n",
    "import netCDF4"
   ]
  },
  {
   "cell_type": "code",
   "execution_count": 4,
   "metadata": {},
   "outputs": [
    {
     "ename": "NameError",
     "evalue": "name 'logging' is not defined",
     "output_type": "error",
     "traceback": [
      "\u001b[0;31m---------------------------------------------------------------------------\u001b[0m",
      "\u001b[0;31mNameError\u001b[0m                                 Traceback (most recent call last)",
      "\u001b[0;32m<ipython-input-4-37ee17d08156>\u001b[0m in \u001b[0;36m<module>\u001b[0;34m()\u001b[0m\n\u001b[1;32m      1\u001b[0m \u001b[0;32mimport\u001b[0m \u001b[0mlogging\u001b[0m \u001b[0;32mas\u001b[0m \u001b[0mL\u001b[0m\u001b[0;34m\u001b[0m\u001b[0m\n\u001b[0;32m----> 2\u001b[0;31m \u001b[0mL\u001b[0m\u001b[0;34m.\u001b[0m\u001b[0mbasicConfig\u001b[0m\u001b[0;34m(\u001b[0m\u001b[0mlevel\u001b[0m\u001b[0;34m=\u001b[0m\u001b[0mlogging\u001b[0m\u001b[0;34m.\u001b[0m\u001b[0mDEBUG\u001b[0m\u001b[0;34m)\u001b[0m\u001b[0;34m\u001b[0m\u001b[0m\n\u001b[0m\u001b[1;32m      3\u001b[0m \u001b[0mLOGGER\u001b[0m \u001b[0;34m=\u001b[0m \u001b[0mL\u001b[0m\u001b[0;34m.\u001b[0m\u001b[0mgetLogger\u001b[0m\u001b[0;34m(\u001b[0m\u001b[0m__name__\u001b[0m\u001b[0;34m)\u001b[0m\u001b[0;34m\u001b[0m\u001b[0m\n",
      "\u001b[0;31mNameError\u001b[0m: name 'logging' is not defined"
     ]
    }
   ],
   "source": [
    "## I can't install logging :'(\n",
    "## Command \"python setup.py egg_info\" failed with error code 1 in /private/var/folders/zz/mdt_32ps1ydd2xls85z7qt240000gp/T/pip-install-gr4qw335/logging/\n",
    "\n",
    "import logging as L\n",
    "L.basicConfig(level=logging.DEBUG)\n",
    "LOGGER = L.getLogger(__name__)"
   ]
  },
  {
   "cell_type": "markdown",
   "metadata": {},
   "source": [
    "# Pre-processing"
   ]
  },
  {
   "cell_type": "markdown",
   "metadata": {},
   "source": [
    "## Caloric yields maps preparation"
   ]
  },
  {
   "cell_type": "markdown",
   "metadata": {
    "heading_collapsed": true
   },
   "source": [
    "### Make relevant crop list"
   ]
  },
  {
   "cell_type": "code",
   "execution_count": null,
   "metadata": {
    "hidden": true
   },
   "outputs": [],
   "source": [
    "## Merge BCK's CSVs\n",
    "sustenance = pd.read_csv('../Data/inputs/Crop/crop_table_BCK.csv')\n",
    "crop_caloric_contents = pd.read_csv('../Data/inputs/Crop/crop_nutrient.csv',sep=';')\n",
    "crop_caloric_contents = crop_caloric_contents.merge(sustenance, how='left',\n",
    "                                                    right_on='file_name',\n",
    "                                                   left_on='filenm')\n",
    "crop_caloric_contents.to_csv('../Data/inputs/Crop/crop_nutrient_contents.csv')"
   ]
  },
  {
   "cell_type": "code",
   "execution_count": 5,
   "metadata": {
    "hidden": true
   },
   "outputs": [],
   "source": [
    "crop_caloric_contents = pd.read_csv('../Data/inputs/Crop/crop_nutrient_contents.csv')\n",
    "crop_caloric_contents = crop_caloric_contents.set_index('filenm')\n",
    "\n",
    "crops_list = []\n",
    "for cropnm in crop_caloric_contents.index:\n",
    "    if crop_caloric_contents['nutritional_relevance'][cropnm] == 1:\n",
    "        crops_list.append(cropnm)"
   ]
  },
  {
   "cell_type": "markdown",
   "metadata": {},
   "source": [
    "### Make Caloric Production rasters + Aggregate (all crops)"
   ]
  },
  {
   "cell_type": "code",
   "execution_count": 13,
   "metadata": {},
   "outputs": [],
   "source": [
    "from raster_calc_utils import *\n",
    "from spatial_utils import *"
   ]
  },
  {
   "cell_type": "code",
   "execution_count": null,
   "metadata": {},
   "outputs": [],
   "source": [
    "caloric_production_path_list = []\n",
    "crop_HarvestedAreaHectares_path_list = []\n",
    "\n",
    "Crop_dir = '../Data/inputs/Crop'\n",
    "Earthstat_dir = '../Data/inputs/Crop/Earthstat/HarvestedAreaYield175Crops_Geotiff'\n",
    "ha_per_cell_5min_path = '../Data/inputs/Base/ha_per_cell_5m.tif'\n",
    "\n",
    "Earthstat_intermediate_dir = '../Data/inputs/Crop/Earthstat_Preprocessed'\n",
    "\n",
    "\n",
    "## Recalculate ha_per_cell at 5min\n",
    "y_ha_column = None \n",
    "\n",
    "for cropnm in crops_list:\n",
    "    crop_YieldPerHectare_path = os.path.join(Earthstat_dir,cropnm+'_HarvAreaYield_Geotiff/'+cropnm+'_YieldPerHectare.tif')\n",
    "    crop_HarvestedAreaHectares_path = os.path.join(Earthstat_dir,cropnm+'_HarvAreaYield_Geotiff/'+cropnm+'_HarvestedAreaHectares.tif')\n",
    "    crop_Production_path = os.path.join(Earthstat_dir,cropnm+'_HarvAreaYield_Geotiff/'+cropnm+'_Production.tif')\n",
    "    \n",
    "    crop_HarvestedAreaHectares_raster_info = pygeoprocessing.get_raster_info(\n",
    "            crop_HarvestedAreaHectares_path)\n",
    "    crop_HarvestedAreaHectares_nodata = crop_HarvestedAreaHectares_raster_info['nodata'][0]\n",
    "    if crop_HarvestedAreaHectares_nodata == None:\n",
    "        crop_HarvestedAreaHectares_nodata = 0\n",
    "    crop_HarvestedAreaHectares_path_list.append(crop_HarvestedAreaHectares_path)\n",
    "        \n",
    "    crop_Production_raster_info = pygeoprocessing.get_raster_info(\n",
    "            crop_Production_path)\n",
    "    crop_Production_nodata = crop_Production_raster_info['nodata'][0]\n",
    "    if crop_Production_nodata == None:\n",
    "        crop_Production_nodata = 0\n",
    "    \n",
    "    if y_ha_column is None:\n",
    "        y_lat_array = np.linspace(\n",
    "                crop_HarvestedAreaHectares_raster_info['geotransform'][3],\n",
    "                crop_HarvestedAreaHectares_raster_info['geotransform'][3] +\n",
    "                crop_HarvestedAreaHectares_raster_info['geotransform'][5] *\n",
    "                crop_HarvestedAreaHectares_raster_info['raster_size'][1],\n",
    "                crop_HarvestedAreaHectares_raster_info['raster_size'][1])\n",
    "        y_ha_array = area_of_pixel(\n",
    "                abs(crop_HarvestedAreaHectares_raster_info['geotransform'][1]),\n",
    "                y_lat_array) / 10000.0\n",
    "        y_ha_column = y_ha_array.reshape((y_ha_array.size, 1))\n",
    "\n",
    "    ## Skip this because I have Prods rasters - was just to compare !\n",
    "    ## 1) Make raster Crop Production Yield from Earthstats rasters:\n",
    "    ## Crop_Production [tons] = Crop_YieldPerHectare[tons/ha] * ha_per_cell_5min * Crop_HarvestedAreaFraction\n",
    "    ## But not needed - I have Prods rasters- was just to compare !\n",
    "    \n",
    "    '''\n",
    "    !!!! HAVENT RUN SUCCESSFULLY. DOESN'T RETURN ACTUAL ERROR ONLY TASKGRAPH ERROR\n",
    "\n",
    "    crop_production_path = os.path.join(\n",
    "        Earthstat_intermediate_dir,'Productions','%s_Production.tif' % cropnm)\n",
    "    \n",
    "    crop_production_nodata = -1.0\n",
    "    crop_production_task = task_graph.add_task(\n",
    "            func=pygeoprocessing.raster_calculator,\n",
    "            args=(\n",
    "                #base_raster_path_band_const_list =\n",
    "                    [(crop_YieldPerHectare_path, 1),\n",
    "                     (crop_HarvestedAreaHectares_path, 1),\n",
    "                     y_ha_column,\n",
    "                     (crop_HarvestedAreaHectares_nodata, 'raw'),\n",
    "                     (crop_production_nodata, 'raw')],\n",
    "                crop_production_op,     #local_op\n",
    "                crop_production_path,   #target_raster_path\n",
    "                gdal.GDT_Float32,       #datatype_target \n",
    "                crop_production_nodata  #nodata_target\n",
    "                ),\n",
    "            target_path_list=[crop_production_path],\n",
    "            task_name=('Calc Crop Production Raster for '+ cropnm))\n",
    "    '''  \n",
    "\n",
    "    ## 2) Convert to Caloric Production with crop_nutrient_contents table:\n",
    "    ## Crop_Caloric_Production [cal] = Crop_Production [tons] * Crop_Energy[kJ/100g from crop_nutrient table] * 1e4[100g/tons] * 239,006[cal/kJ]\n",
    "    #print('Making '+cropnm+' Caloric Production raster')\n",
    "        \n",
    "        \n",
    "    caloric_production_path = os.path.join(\n",
    "        Earthstat_intermediate_dir,'Productions','%s_Caloric_Production.tif' % cropnm) \n",
    "    caloric_production_path_list.append(caloric_production_path)\n",
    "    \n",
    "    crop_energy = crop_caloric_contents['Energy'][cropnm] * 2390060\n",
    "    \n",
    "    crop_prod_array = (crop_Production_path,1)\n",
    "    cal_per_ton = (crop_energy,'raw')\n",
    "    nodata = (crop_Production_nodata, 'raw')\n",
    "    \n",
    "    pygeoprocessing.raster_calculator(\n",
    "        base_raster_path_band_const_list = [crop_prod_array,cal_per_ton,nodata],\n",
    "        local_op = convert_production_tons_to_caloric,\n",
    "        target_raster_path = caloric_production_path,\n",
    "        datatype_target = gdal.GDT_Float32,\n",
    "        nodata_target = crop_Production_nodata)\n",
    " "
   ]
  },
  {
   "cell_type": "code",
   "execution_count": 42,
   "metadata": {},
   "outputs": [
    {
     "ename": "NameError",
     "evalue": "name 'crop_HarvestedAreaHectares_path_list' is not defined",
     "output_type": "error",
     "traceback": [
      "\u001b[0;31m---------------------------------------------------------------------------\u001b[0m",
      "\u001b[0;31mNameError\u001b[0m                                 Traceback (most recent call last)",
      "\u001b[0;32m<ipython-input-42-95e219c49186>\u001b[0m in \u001b[0;36m<module>\u001b[0;34m()\u001b[0m\n\u001b[0;32m----> 1\u001b[0;31m \u001b[0mcrop_HarvestedAreaHectares_path_list\u001b[0m\u001b[0;34m\u001b[0m\u001b[0m\n\u001b[0m",
      "\u001b[0;31mNameError\u001b[0m: name 'crop_HarvestedAreaHectares_path_list' is not defined"
     ]
    }
   ],
   "source": [
    "crop_HarvestedAreaHectares_path_list"
   ]
  },
  {
   "cell_type": "code",
   "execution_count": 44,
   "metadata": {},
   "outputs": [],
   "source": [
    "# Aggregation\n",
    "\n",
    "# Total caloric production (sum caloric_Productions)\n",
    "#print('Adding '+cropnm+' Total caloric production')\n",
    "\n",
    "Total_Caloric_Production_path = os.path.join(\n",
    "    Earthstat_intermediate_dir, 'Total_caloric_production.tif')\n",
    "\n",
    "pygeoprocessing.raster_calculator(\n",
    "    base_raster_path_band_const_list =\n",
    "        [(crop_Production_nodata, 'raw')] +\n",
    "        [(path, 1) for path in caloric_production_path_list],\n",
    "    local_op = sum_arrays_op,\n",
    "    target_raster_path = Total_Caloric_Production_path,\n",
    "    datatype_target = gdal.GDT_Float32,\n",
    "    nodata_target = crop_Production_nodata)\n",
    "\n",
    "# Total harvested areas (ha) (by summing harvested hectares)\n",
    "#print('Adding '+cropnm+' to Total harvested areas')\n",
    "\n",
    "Total_harvested_area_ha_raster_path = os.path.join(\n",
    "    Earthstat_intermediate_dir, 'Total_harvested_area_ha.tif')\n",
    "\n",
    "pygeoprocessing.raster_calculator(\n",
    "    base_raster_path_band_const_list =\n",
    "        [(crop_HarvestedAreaHectares_nodata, 'raw')] +\n",
    "        [(path, 1) for path in crop_HarvestedAreaHectares_path_list],\n",
    "    local_op = sum_arrays_op,\n",
    "    target_raster_path = Total_harvested_area_ha_raster_path,\n",
    "    datatype_target = gdal.GDT_Float32,\n",
    "    nodata_target = crop_HarvestedAreaHectares_nodata)\n",
    "\n",
    "# Aggregated caloric yield = [total caloric production/Total harvested areas(ha)]\n",
    "#print('Making aggregated caloric yield raster')\n",
    "\n",
    "agg_calories_yield_raster_path = os.path.join(\n",
    "    Earthstat_intermediate_dir, 'agg_Caloric_yield_per_ha.tif')\n",
    "\n",
    "pygeoprocessing.raster_calculator(\n",
    "    base_raster_path_band_const_list =\n",
    "        [(Total_Caloric_Production_path, 1),\n",
    "         (Total_harvested_area_ha_raster_path, 1),\n",
    "         (crop_HarvestedAreaHectares_nodata, 'raw')],\n",
    "    local_op = div_arrays_op,\n",
    "    target_raster_path = agg_calories_yield_raster_path,\n",
    "    datatype_target = gdal.GDT_Float32,\n",
    "    nodata_target = crop_Production_nodata)"
   ]
  },
  {
   "cell_type": "code",
   "execution_count": 32,
   "metadata": {},
   "outputs": [],
   "source": [
    "# Aggregated caloric yield = [total caloric production/Total harvested areas(ha)]\n",
    "#print('Making aggregated caloric yield raster')\n",
    "\n",
    "agg_calories_yield_raster_path = os.path.join(\n",
    "    Earthstat_intermediate_dir, 'agg_Caloric_yield_per_ha.tif')\n",
    "\n",
    "pygeoprocessing.raster_calculator(\n",
    "    base_raster_path_band_const_list =\n",
    "        [(Total_Caloric_Production_path, 1),\n",
    "         (Total_harvested_area_ha_raster_path, 1),\n",
    "         (crop_HarvestedAreaHectares_nodata, 'raw')],\n",
    "    local_op = div_arrays_op,\n",
    "    target_raster_path = agg_calories_yield_raster_path,\n",
    "    datatype_target = gdal.GDT_Float32,\n",
    "    nodata_target = crop_Production_nodata)"
   ]
  },
  {
   "cell_type": "markdown",
   "metadata": {
    "heading_collapsed": true
   },
   "source": [
    "### TO FIX : Utils that I actually can't export because numpy doesn't work in utils.py?!"
   ]
  },
  {
   "cell_type": "code",
   "execution_count": 19,
   "metadata": {
    "hidden": true
   },
   "outputs": [],
   "source": [
    "def convert_production_tons_to_caloric(crop_prod_array, calories_per_ton, nodata):\n",
    "    \"\"\"Calorie (i) production = Crop (i) production x KJ content of crop (i).\n",
    "\n",
    "    Parameters:\n",
    "        crop_prod_array (array): production in tons.\n",
    "        calories_per_ton (float): calories/ton accounting for % refuse\n",
    "            of the crop.\n",
    "        nodata (float): nodata value for `crop_prod_array` and result.\n",
    "\n",
    "    Returns:\n",
    "        calorie production production * calories / ton\n",
    "\n",
    "    \"\"\"\n",
    "    result = np.array(crop_prod_array)\n",
    "    result[~np.isclose(crop_prod_array, nodata)] *= calories_per_ton\n",
    "    return result\n",
    "\n",
    "def div_arrays_op(numerator_array, denominator_array, nodata):\n",
    "    \"\"\"Calculate calorie yield.\n",
    "\n",
    "    Parameters:\n",
    "        numerator\n",
    "        e.g total_calorie_array (np.ndarray): total calories per element\n",
    "        denominator\n",
    "        e.g harvested_area_ha_array (np.ndarray): amount of total harvested\n",
    "            area in hectares per eleent.\n",
    "        nodata (float): the nodata value for all inputs and result.\n",
    "\n",
    "    Returns:\n",
    "        divided\n",
    "        e.g calorie yield = total calorie production / sum(harvested area)\n",
    "\n",
    "    \"\"\"\n",
    "    result = np.empty_like(numerator_array)\n",
    "    result[:] = nodata\n",
    "    zero_mask = (denominator_array == 0.0)\n",
    "    valid_mask = (\n",
    "        ~np.isclose(numerator_array, nodata) &\n",
    "        ~np.isclose(denominator_array, nodata)) & ~zero_mask\n",
    "    result[valid_mask] = (\n",
    "        numerator_array[valid_mask] / (\n",
    "            denominator_array[valid_mask]))\n",
    "    result[zero_mask] = 0.0\n",
    "    return result\n",
    "\n",
    "\n",
    "\n",
    "\n",
    "def crop_production_op(\n",
    "        yield_array, prop_harvest_area, cell_area_ha,\n",
    "        prop_harvest_area_nodata, target_nodata):\n",
    "    \"\"\"Calculate crop production\n",
    "\n",
    "    Parameters:\n",
    "        yield_array (np.ndarray): yield of crop in Tons/Ha\n",
    "        prop_harevest_area (np.ndarray): proportional harvested area of\n",
    "            the crop per cell.\n",
    "        cell_harea_ha (np.ndarray): area of the cell in Ha.\n",
    "        prop_harvest_area_nodata (float): nodata value for prop_harevest_area\n",
    "        target_nodata (float): nodata value for result\n",
    "\n",
    "    Returns:\n",
    "        Crop production =\n",
    "            Yield(i) x harvested area (proportion) (i) * area of cell.\n",
    "\n",
    "    \"\"\"\n",
    "    crop_production = np.empty_like(yield_array, dtype=np.float32)\n",
    "    crop_production[:] = target_nodata\n",
    "    valid_mask = ~np.isclose(prop_harvest_area, prop_harvest_area_nodata)\n",
    "    crop_production[valid_mask] = (\n",
    "        yield_array[valid_mask] * prop_harvest_area[valid_mask] *\n",
    "        cell_area_ha[valid_mask])\n",
    "    return crop_production\n",
    "\n",
    "def mult_arrays_op(nodata, *array_list):\n",
    "    \"\"\"Multiply array stack and ignore nodata.\"\"\"\n",
    "    result = np.ones(array_list[0].shape, dtype=np.float32)\n",
    "    valid_mask = np.empty(result.shape, dtype=np.bool)\n",
    "    valid_mask[:] = False\n",
    "    for array in array_list:\n",
    "        local_valid_mask = ~np.isclose(array, nodata)\n",
    "        valid_mask |= local_valid_mask\n",
    "    for array in array_list:\n",
    "        result[valid_mask] *= array[valid_mask]\n",
    "    result[~valid_mask] = nodata\n",
    "    return result\n",
    "\n",
    "\n",
    "def sum_arrays_op(nodata, *array_list):\n",
    "    \"\"\"Sum all rasters assuming they all have the same nodata value.\"\"\"\n",
    "    result = np.zeros(array_list[0].shape, dtype=np.float32)\n",
    "    valid_mask = np.empty(result.shape, dtype=np.bool)\n",
    "    valid_mask[:] = False\n",
    "    for array in array_list:\n",
    "        local_valid_mask = ~np.isclose(array, nodata)\n",
    "        valid_mask |= local_valid_mask\n",
    "        result[local_valid_mask] += array[local_valid_mask]\n",
    "    result[~valid_mask] = nodata\n",
    "    return result\n",
    "\n",
    "def calories_yield_op(total_calorie_array, harvested_area_ha_array, nodata):\n",
    "    \"\"\"Calculate calorie yield.\n",
    "\n",
    "    Parameters:\n",
    "        total_calorie_array (np.ndarray): total calories per element\n",
    "        harvested_area_ha_array (np.ndarray): amount of total harvested\n",
    "            area in hectares per eleent.\n",
    "        nodata (float): the nodata value for all inputs and result.\n",
    "\n",
    "    Returns:\n",
    "        calorie yield = total calorie production / sum(harvested area)\n",
    "\n",
    "    \"\"\"\n",
    "    result = np.empty_like(total_calorie_array)\n",
    "    result[:] = nodata\n",
    "    zero_mask = (harvested_area_ha_array == 0.0)\n",
    "    valid_mask = (\n",
    "        ~np.isclose(total_calorie_array, nodata) &\n",
    "        ~np.isclose(harvested_area_ha_array, nodata)) & ~zero_mask\n",
    "    result[valid_mask] = (\n",
    "        total_calorie_array[valid_mask] / (\n",
    "            harvested_area_ha_array[valid_mask]))\n",
    "    result[zero_mask] = 0.0\n",
    "    return result\n",
    "\n",
    "def area_of_pixel(pixel_size, center_lat):\n",
    "    \"\"\"Calculate m^2 area of a wgs84 square pixel.\n",
    "\n",
    "    Adapted from: https://gis.stackexchange.com/a/127327/2397\n",
    "\n",
    "    Parameters:\n",
    "        pixel_size (float): length of side of pixel in degrees.\n",
    "        center_lat (float): latitude of the center of the pixel. Note this\n",
    "            value +/- half the `pixel-size` must not exceed 90/-90 degrees\n",
    "            latitude or an invalid area will be calculated.\n",
    "\n",
    "    Returns:\n",
    "        Area of square pixel of side length `pixel_size` centered at\n",
    "        `center_lat` in m^2.\n",
    "\n",
    "    \"\"\"\n",
    "    a = 6378137  # meters\n",
    "    b = 6356752.3142  # meters\n",
    "    e = np.sqrt(1-(b/a)**2)\n",
    "    area_list = []\n",
    "    for f in [center_lat+pixel_size/2, center_lat-pixel_size/2]:\n",
    "        zm = 1 - e*np.sin(np.radians(f))\n",
    "        zp = 1 + e*np.sin(np.radians(f))\n",
    "        area_list.append(\n",
    "            np.pi * b**2 * (\n",
    "                np.log(zp/zm) / (2*e) +\n",
    "                np.sin(np.radians(f)) / (zp*zm)))\n",
    "    return pixel_size / 360. * (area_list[0]-area_list[1])"
   ]
  },
  {
   "cell_type": "markdown",
   "metadata": {
    "heading_collapsed": true
   },
   "source": [
    "### Aggregate by crop types (To do)"
   ]
  },
  {
   "cell_type": "code",
   "execution_count": 39,
   "metadata": {
    "hidden": true
   },
   "outputs": [],
   "source": [
    "# Total harvested areas (ha) per crop_type\n",
    "\n",
    "for crop_type in crop_types_list:\n",
    "    \n",
    "    Total_harvested_area_ha_raster_path = os.path.join(\n",
    "            Earthstat_intermediate_dir, crop_type+'_harvested_area_ha.tif')\n",
    "        \n",
    "    for cropnm in crops_list:\n",
    "        crop_HarvestedAreaHectares_path = os.path.join(Earthstat_dir,cropnm+'_HarvAreaYield_Geotiff/'+cropnm+'_HarvestedAreaHectares.tif')\n",
    "        crop_HarvestedAreaHectares_raster_info = pygeoprocessing.get_raster_info(\n",
    "                crop_HarvestedAreaHectares_path)\n",
    "        crop_HarvestedAreaHectares_nodata = crop_HarvestedAreaHectares_raster_info['nodata'][0]\n",
    "        if crop_HarvestedAreaHectares_nodata == None:\n",
    "            crop_HarvestedAreaHectares_nodata = 0\n",
    "\n",
    "        if cropnm in crop_membership[crop_type]:\n",
    "\n",
    "            pygeoprocessing.raster_calculator(\n",
    "            base_raster_path_band_const_list =\n",
    "                [(crop_HarvestedAreaHectares_nodata, 'raw'),\n",
    "                 (crop_HarvestedAreaHectares_path, 1)],\n",
    "            local_op = sum_arrays_op,\n",
    "            target_raster_path = Total_harvested_area_ha_raster_path,\n",
    "            datatype_target = gdal.GDT_Float32,\n",
    "            nodata_target = crop_HarvestedAreaHectares_nodata)"
   ]
  },
  {
   "cell_type": "code",
   "execution_count": null,
   "metadata": {
    "hidden": true
   },
   "outputs": [],
   "source": []
  },
  {
   "cell_type": "markdown",
   "metadata": {
    "heading_collapsed": true,
    "hidden": true
   },
   "source": [
    "#### Crop types list"
   ]
  },
  {
   "cell_type": "code",
   "execution_count": 37,
   "metadata": {
    "hidden": true
   },
   "outputs": [],
   "source": [
    "crop_types_list = ['c3ann','c3per','c4ann','c4per','c3nfx'] # = crop_membership.keys()\n",
    "\n",
    "crop_membership = OrderedDict()\n",
    "crop_membership['c3ann'] = [\n",
    "        'aniseetc',\n",
    "        'artichoke',\n",
    "        'asparagus',\n",
    "        'bambara',\n",
    "        'barley',\n",
    "        'buckwheat',\n",
    "        'cabbage',\n",
    "        'canaryseed',\n",
    "        'carob',\n",
    "        'carrot',\n",
    "        'cassava',\n",
    "        'cauliflower',\n",
    "        'cerealnes',\n",
    "        'chestnut',\n",
    "        'cinnamon',\n",
    "        'cucumberetc',\n",
    "        'currant',\n",
    "        'date',\n",
    "        'eggplant',\n",
    "        'fonio',\n",
    "        'garlic',\n",
    "        'ginger',\n",
    "        'mixedgrain',\n",
    "        'hazelnut',\n",
    "        'hempseed',\n",
    "        'hop',\n",
    "        'kapokseed',\n",
    "        'linseed',\n",
    "        'mango',\n",
    "        'mate',\n",
    "        'mustard',\n",
    "        'nutmeg',\n",
    "        'okra',\n",
    "        'onion',\n",
    "        'greenonion',\n",
    "        'peppermint',\n",
    "        'potato',\n",
    "        'pumpkinetc',\n",
    "        'pyrethrum',\n",
    "        'ramie',\n",
    "        'rapeseed',\n",
    "        'rice',\n",
    "        'safflower',\n",
    "        'sisal',\n",
    "        'sorghumfor',\n",
    "        'sourcherry',\n",
    "        'spinach',\n",
    "        'sugarbeet',\n",
    "        'sunflower',\n",
    "        'taro',\n",
    "        'tobacco',\n",
    "        'tomato',\n",
    "        'triticale',\n",
    "        'tung',\n",
    "        'vanilla',\n",
    "        'vetch',\n",
    "        'walnut',\n",
    "        'watermelon',\n",
    "        'wheat',\n",
    "        'yam',\n",
    "        'yautia']\n",
    "\n",
    "crop_membership['c3per'] = [\n",
    "        'almond',\n",
    "        'apple',\n",
    "        'apricot',\n",
    "        'areca',\n",
    "        'avocado',\n",
    "        'banana',\n",
    "        'blueberry',\n",
    "        'brazil',\n",
    "        'cashewapple',\n",
    "        'cashew',\n",
    "        'cherry',\n",
    "        'chicory',\n",
    "        'chilleetc',\n",
    "        'citrusnes',\n",
    "        'clove',\n",
    "        'cocoa',\n",
    "        'coconut',\n",
    "        'coffee',\n",
    "        'cotton',\n",
    "        'cranberry',\n",
    "        'fig',\n",
    "        'flax',\n",
    "        'grapefruitetc',\n",
    "        'grape',\n",
    "        'jute',\n",
    "        'karite',\n",
    "        'kiwi',\n",
    "        'kolanut',\n",
    "        'lemonlime',\n",
    "        'lettuce',\n",
    "        'abaca',\n",
    "        'melonetc',\n",
    "        'melonseed',\n",
    "        'oats',\n",
    "        'oilpalm',\n",
    "        'oilseedfor',\n",
    "        'olive',\n",
    "        'orange',\n",
    "        'papaya',\n",
    "        'peachetc',\n",
    "        'pear',\n",
    "        'pepper',\n",
    "        'persimmon',\n",
    "        'pineapple',\n",
    "        'pistachio',\n",
    "        'plantain',\n",
    "        'plum',\n",
    "        'poppy',\n",
    "        'quince',\n",
    "        'quinoa',\n",
    "        'rasberry',\n",
    "        'rubber',\n",
    "        'rye',\n",
    "        'stonefruitnes',\n",
    "        'strawberry',\n",
    "        'stringbean',\n",
    "        'sweetpotato',\n",
    "        'tangetc',\n",
    "        'tea',\n",
    "    ]\n",
    "\n",
    "crop_membership['c4ann'] = [\n",
    "        'maize',\n",
    "        'millet',\n",
    "        'sorghum',\n",
    "    ]\n",
    "\n",
    "crop_membership['c4per'] = [\n",
    "        'greencorn',\n",
    "        'sugarcane',\n",
    "\n",
    "    ]\n",
    "\n",
    "crop_membership['c3nfx'] = [\n",
    "        'bean',\n",
    "        'greenbean',\n",
    "        'soybean',\n",
    "        'chickpea',\n",
    "        'clover',\n",
    "        'cowpea',\n",
    "        'groundnut',\n",
    "        'lupin',\n",
    "        'pea',\n",
    "        'greenpea',\n",
    "        'pigeonpea',\n",
    "        'lentil',\n",
    "        'legumenes',\n",
    "        'broadbean',\n",
    "        'castor',\n",
    "\n",
    "    ]"
   ]
  },
  {
   "cell_type": "markdown",
   "metadata": {},
   "source": [
    "## Fertilizers: NetCDF to GeoTiffs"
   ]
  },
  {
   "cell_type": "markdown",
   "metadata": {},
   "source": [
    "Nitrogen\tFertilizer:\t(units\tkg\tN/ha/crop\tseason;\t(per\tyear\tfor\tsingle\tcropping))\n",
    "* fertl_c3ann: N. fertilizer rate for C3 annual crops\n",
    "* fertl_c4ann: N. fertilizer rate for C4 annual crops\n",
    "* fertl_c3per: N. fertilizer rate for C3 perennial crops\n",
    "* fertl_c4per: N. fertilizer rate for C4 perennial crops\n",
    "* fertl_c3nfx: N. fertilizer rate for C3 N-fixing crops\n",
    "\n",
    "In management_ssp.nc data:\n",
    "* Year = Band number + 2014 (2015: t=0, band=1) --> 2050 is band 36\n",
    "\n",
    "\n",
    "In management_historical.nc data:\n",
    "* Year = Band number + 849 (850: t=0, band=1) --> 2000 is band 1151\n"
   ]
  },
  {
   "cell_type": "markdown",
   "metadata": {},
   "source": [
    "### Utils"
   ]
  },
  {
   "cell_type": "code",
   "execution_count": 1,
   "metadata": {},
   "outputs": [],
   "source": [
    "ssps_list = ['ssp1','ssp2','ssp3','ssp4','ssp5']"
   ]
  },
  {
   "cell_type": "code",
   "execution_count": 3,
   "metadata": {},
   "outputs": [],
   "source": [
    "def netcdf_to_geotiff(base_raster_path,target_raster_path,\n",
    "                      band_num=1):\n",
    "    '''\n",
    "    base_raster_path should be in format : r'NETCDF:\"path:dimension_name' \n",
    "    '''\n",
    "    \n",
    "    gtiff_driver = gdal.GetDriverByName('GTiff')\n",
    "\n",
    "    raster = gdal.OpenEx(base_raster_path, gdal.OF_RASTER)\n",
    "\n",
    "    target_raster = gtiff_driver.CreateCopy(target_raster_path, raster)\n",
    "    target_band = target_raster.GetRasterBand(band_num)\n",
    "    target_band.XSize\n",
    "    target_band.FlushCache()\n",
    "    target_array = target_band.ReadAsArray()\n",
    "\n",
    "    target_band = None\n",
    "    target_raster = None"
   ]
  },
  {
   "cell_type": "markdown",
   "metadata": {},
   "source": [
    "### NetCDF to Geotiffs"
   ]
  },
  {
   "cell_type": "code",
   "execution_count": null,
   "metadata": {},
   "outputs": [],
   "source": [
    "# SSPs data \n",
    "\n",
    "for crop_type_raster in ['fertl_c3ann','fertl_c3per','fertl_c3nfx',\n",
    "               'fertl_c4ann','fertl_c4per']:\n",
    "    \n",
    "    for ssp in ssps_list:\n",
    "        base_raster_path = r'NETCDF:\"../Data/inputs/Management/Fertilizers/management_'+ssp+'.nc\":'+crop_type_raster\n",
    "        target_raster_path = '../Data/inputs/Management/Fertilizers/'+ssp+'/'+crop_type_raster+'.tif'\n",
    "        netcdf_to_geotiff(base_raster_path,target_raster_path,\n",
    "                      band_num=36) # Band number = 36 for year 2050"
   ]
  },
  {
   "cell_type": "code",
   "execution_count": null,
   "metadata": {},
   "outputs": [],
   "source": [
    "# 2000 data\n",
    "\n",
    "for crop_type_raster in ['fertl_c3ann','fertl_c3per','fertl_c3nfx',\n",
    "               'fertl_c4ann','fertl_c4per']:\n",
    "    \n",
    "    base_raster_path = r'NETCDF:\"../Data/inputs/Management/Fertilizers/management_historical.nc\":'+crop_type_raster\n",
    "    target_raster_path = '../Data/inputs/Management/Fertilizers/2000/'+crop_type_raster+'.tif'\n",
    "\n",
    "    netcdf_to_geotiff(base_raster_path,target_raster_path,\n",
    "                      band_num=1151) # Band number = 1151 for year 2000"
   ]
  },
  {
   "cell_type": "markdown",
   "metadata": {},
   "source": [
    "Actually the cell above maybe manually because took forever to run !!"
   ]
  },
  {
   "cell_type": "markdown",
   "metadata": {},
   "source": [
    "### Aggregate fertilizers "
   ]
  },
  {
   "cell_type": "code",
   "execution_count": 40,
   "metadata": {},
   "outputs": [
    {
     "data": {
      "text/plain": [
       "['c3ann', 'c3per', 'c4ann', 'c4per', 'c3nfx']"
      ]
     },
     "execution_count": 40,
     "metadata": {},
     "output_type": "execute_result"
    }
   ],
   "source": [
    "crop_types_list"
   ]
  },
  {
   "cell_type": "markdown",
   "metadata": {},
   "source": [
    "Croptype_harvestedarea should already account for number of seasons. You'll see some grid cells for some crops are > 1. That's because the area is already multiplied by the number of seasons\n",
    "\n",
    "\n",
    "LUH Inputs:\n",
    "for crop type in ['c3ann', 'c3per', 'c4ann', 'c4per', 'c3nfx']: \n",
    "Croptype_applicationrate [kg N/ha/crop season] for crop type in ['c3ann', 'c3per', 'c4ann', 'c4per', 'c3nfx']\n",
    "\n",
    "To aggregate:\n",
    "* Total application of fertilizers annually = \n",
    "Sum for each crop type:\n",
    "Croptype_applicationrate * Croptype_HarvestedArea \n",
    "*  Aggregated application rate [kg N/ha] =\n",
    "Total application of fertilizers annually / Total_HarvestedArea\n"
   ]
  },
  {
   "cell_type": "code",
   "execution_count": null,
   "metadata": {},
   "outputs": [],
   "source": [
    "for crop_type in crop_types_list:\n",
    "    croptype_harvested_area_ha_raster_path = os.path.join(\n",
    "            Earthstat_intermediate_dir, crop_type+'_harvested_area_ha.tif')"
   ]
  },
  {
   "cell_type": "code",
   "execution_count": 68,
   "metadata": {},
   "outputs": [
    {
     "data": {
      "text/plain": [
       "OrderedDict()"
      ]
     },
     "execution_count": 68,
     "metadata": {},
     "output_type": "execute_result"
    }
   ],
   "source": [
    "dataset.dimensions"
   ]
  },
  {
   "cell_type": "code",
   "execution_count": 70,
   "metadata": {},
   "outputs": [],
   "source": [
    "output_dir = '../Data/inputs/Management/Fertilizers/test7'\n",
    "extract_luh_netcdf_to_geotiffs(input_test, output_dir, 50)"
   ]
  },
  {
   "cell_type": "code",
   "execution_count": 60,
   "metadata": {},
   "outputs": [],
   "source": [
    "output_dir = '../Data/inputs/Management/Fertilizers/test2'\n",
    "extract_luh_netcdf_to_geotiffs(input_test, output_dir, 2)"
   ]
  },
  {
   "cell_type": "code",
   "execution_count": 57,
   "metadata": {},
   "outputs": [],
   "source": [
    "extract_luh_netcdf_to_geotiffs(input_test, output_dir, 1)"
   ]
  },
  {
   "cell_type": "code",
   "execution_count": 59,
   "metadata": {},
   "outputs": [],
   "source": [
    "extract_luh_netcdf_to_geotiffs(input_test, output_dir, 0)"
   ]
  },
  {
   "cell_type": "code",
   "execution_count": 40,
   "metadata": {},
   "outputs": [],
   "source": [
    "def extract_luh_netcdf_to_geotiffs(input_nc_uri, output_dir, dim_selection_indices):\n",
    "    \"\"\"\n",
    "    WARNING: currently only works given the nc structure of LUH2\n",
    "\n",
    "    dim_selection_indices allows you to select all the data specific to an asigned set of indices.\n",
    "    For example, with a standard time, lat, lon dimension structure of the .nc, assigning\n",
    "    dim_selection_indices = [7, None, None] would grab time=7, all lats, all lons. If dim_selection_indices\n",
    "    is a single value, it assumes that will be the selection for the first dimension..\n",
    "    \"\"\"\n",
    "\n",
    "    if type(dim_selection_indices) in [float, int]:\n",
    "        dim_selection_indices = [dim_selection_indices, None, None]\n",
    "\n",
    "    L.info('Called extract_luh_netcdf_to_geotiffs on ' + str(input_nc_uri))\n",
    "    ncfile = netCDF4.Dataset(input_nc_uri, 'r')\n",
    "    dim_names = ncfile.dimensions.keys()\n",
    "    dims_data = OrderedDict()\n",
    "    dim_lengths = []\n",
    "    for dim_name in dim_names:\n",
    "        if dim_name != 'bounds':\n",
    "            dims_data[dim_name] = ncfile.variables[dim_name][:]\n",
    "            dim_lengths.append(len(dims_data[dim_name]))\n",
    "\n",
    "    # ASSUME THIS IS GLOBAL to derive the geotransform\n",
    "    res = (360.0) / len(dims_data['lon'])\n",
    "    geotransform = [-180.0, res, 0.0, 90.0, 0.0, -1 * res]\n",
    "    projection = 'wgs84'\n",
    "\n",
    "    for var_name, var in ncfile.variables.items():\n",
    "        if 'standard_name' in var.__dict__:\n",
    "            var_string = str(var_name)\n",
    "            # var_string = str(var_name) + ' ^ ' + var.__dict__['standard_name'] + ' ^ ' + var.__dict__['long_name']\n",
    "\n",
    "            L.info('Processing ' + var_string)\n",
    "\n",
    "            if var_name not in dim_names:\n",
    "                # BROKEN, this wouldn't work with other dim_selection_indices schemes.\n",
    "                array = var[:][dim_selection_indices[0]]\n",
    "\n",
    "                no_data_value = -9999\n",
    "                array = np.where(array > 1E19, no_data_value, array)\n",
    "\n",
    "                output_geotiff_uri = os.path.join(output_dir, var_string + '.tif')\n",
    "                #hb.\n",
    "                save_array_as_geotiff(array, output_geotiff_uri, ndv=no_data_value, data_type=7,\n",
    "                                      match_data_type=7,\n",
    "                                      compress=True,geotransform_override=geotransform, projection_override=projection)\n",
    "\n",
    "                # output_geotiff_rp_uri = hb.suri(output_geotiff_uri, 'eck')\n",
    "                # wkt = hb.get_wkt_from_epsg_code(54012)\n",
    "                # hb.reproject_dataset_uri(output_geotiff_uri, 0.25, wkt, 'bilinear', output_geotiff_rp_uri)\n"
   ]
  },
  {
   "cell_type": "code",
   "execution_count": 47,
   "metadata": {},
   "outputs": [],
   "source": [
    "def save_array_as_geotiff(array, out_uri, geotiff_uri_to_match=None, ds_to_match=None, band_to_match=None,\n",
    "                          match_data_type=None,match_ndv=-99999,#Added Cha\n",
    "                          optimize_data_type=True, data_type=None, ndv=None, data_type_override=None, no_data_value_override=None,\n",
    "                          geotransform_override=None, projection_override=None, n_cols_override=None,\n",
    "                          n_rows_override=None, compress=False, compression_method=None,\n",
    "                          verbose=None, set_inf_to_no_data_value=False,\n",
    "                          save_png=False):\n",
    "    '''\n",
    "    Saves an array as a geotiff at uri_out. Attempts to correctly deal with many possible data flaws, such as\n",
    "    assigning a datatype to the geotiff that matches the required pixel depth. Also determines the best (according to me)\n",
    "    no_data_value to use based on the dtype and range of the data\n",
    "    '''\n",
    "    execute_in_python = True\n",
    "\n",
    "    n_cols = array.shape[1]\n",
    "    n_rows = array.shape[0]\n",
    "    geotransform = None\n",
    "    projection = None\n",
    "    data_type = None\n",
    "    ndv = None\n",
    "\n",
    "    if geotiff_uri_to_match != None:\n",
    "        ds_to_match = gdal.Open(geotiff_uri_to_match)\n",
    "        band_to_match = ds_to_match.GetRasterBand(1)\n",
    "\n",
    "    # ideally, the function is passed a gdal dataset (ds) and the gdal band.\n",
    "    if ds_to_match and band_to_match:\n",
    "        n_cols = ds_to_match.RasterXSize\n",
    "        n_rows = ds_to_match.RasterYSize\n",
    "        match_data_type = band_to_match.DataType\n",
    "        match_ndv = band_to_match.GetNoDataValue()\n",
    "        geotransform = ds_to_match.GetGeoTransform()\n",
    "        projection = ds_to_match.GetProjection()\n",
    "\n",
    "    if data_type is None:\n",
    "        if match_data_type is not None:\n",
    "            data_type = match_data_type\n",
    "        else:\n",
    "            raise NameError('data_type not given and match_data_type not understood.')\n",
    "    else:\n",
    "        raise NameError('data_type not processed correctly.')\n",
    "\n",
    "\n",
    "    if ndv is None:\n",
    "        if match_ndv is not None:\n",
    "            ndv = match_ndv\n",
    "        else:\n",
    "            raise NameError('ndv not given and match_data_type not understood.')\n",
    "    else:\n",
    "        raise NameError('ndv not processed correctly.')\n",
    "    array = array.astype(hb.gdal_number_to_numpy_type[data_type])\n",
    "\n",
    "    if geotransform_override:\n",
    "        if type(geotransform_override) is str:\n",
    "            geotransform = hb.config.common_geotransforms[geotransform_override]\n",
    "        else:\n",
    "            geotransform = geotransform_override\n",
    "\n",
    "    if not geotransform:\n",
    "        raise NameError('You must have a geotransform set, either in the geotiff_to_match, or manually as a 6-long list. '\n",
    "                        'e.g. geotransform = (-180.0, 0.08333333333333333, 0.0, 90.0, 0.0, -0.08333333333333333) to '\n",
    "                        'set to global extent with 5min cells or via a common keyword (defined in config).')\n",
    "\n",
    "    if geotransform_override:\n",
    "        if type(geotransform_override) is str:\n",
    "            geotransform = hb.config.common_geotransforms[geotransform_override]\n",
    "        else:\n",
    "            geotransform = geotransform_override\n",
    "\n",
    "    if projection_override:\n",
    "        if type(projection_override) is str:\n",
    "            if projection_override in hb.common_epsg_codes_by_name:\n",
    "                projection_override = hb.common_epsg_codes_by_name[projection_override]\n",
    "                srs = osr.SpatialReference()\n",
    "                srs.ImportFromEPSG(int(projection_override))\n",
    "                projection = srs.ExportToWkt()\n",
    "            else:\n",
    "                projection = projection_override # assume then it alreaydy was a wkt\n",
    "\n",
    "        else:\n",
    "            srs = osr.SpatialReference()\n",
    "            srs.ImportFromEPSG(int(projection_override))\n",
    "            projection = srs.ExportToWkt()\n",
    "\n",
    "    if n_cols_override:\n",
    "        n_cols = n_cols_override\n",
    "    if n_rows_override:\n",
    "        n_rows = n_rows_override\n",
    "\n",
    "    if not projection:\n",
    "        raise NameError('You must have a projection set, either in the geotiff_to_match, or manually via projection_override')\n",
    "\n",
    "    # Process out_uri\n",
    "    folder_uri, filename = os.path.split(out_uri)\n",
    "    basename, file_extension = os.path.splitext(filename)\n",
    "    if file_extension != '.tif':\n",
    "        file_extension = '.tif'\n",
    "        # L.info('No file_extension specified. Assuming .tif.')\n",
    "    if os.path.exists(folder_uri) or not folder_uri:\n",
    "        'Everything is fine.'\n",
    "    elif geotiff_uri_to_match:\n",
    "        print ('Folder did not exist, assuming you want the same as the geotiff_uri_to_match.')\n",
    "        folder_uri = os.path.split(geotiff_uri_to_match)[0]\n",
    "        if not os.path.exists(folder_uri):\n",
    "            raise NameError('Folder in geotiff_uri_to_match did not exist.')\n",
    "    else:\n",
    "        try:\n",
    "            os.mkdir(folder_uri)\n",
    "        except:\n",
    "            raise NameError('Not able to create required folder for ' + folder_uri)\n",
    "\n",
    "    processed_out_uri = os.path.join(folder_uri, basename + file_extension)\n",
    "\n",
    "    dst_options = ['BIGTIFF=IF_SAFER', 'TILED=YES']\n",
    "\n",
    "    if compress and not compression_method:\n",
    "        dst_options.append('COMPRESS=lzw')\n",
    "        dst_options.append('PREDICTOR=2')\n",
    "\n",
    "    if compression_method:\n",
    "        dst_options.append('COMPRESS=' + compression_method)\n",
    "        if compression_method == 'lzw':\n",
    "            dst_options.append('PREDICTOR=2')\n",
    "\n",
    "            # OUTDATED BUT HILARIOUS NOTE: When I compress an image with gdalwarp the result is often many times larger than the original!\n",
    "            # By default gdalwarp operates on chunks that are not necessarily aligned with the boundaries of the blocks/tiles/strips of the output format, so this might cause repeated compression/decompression of partial blocks, leading to lost space in the output format.\n",
    "            # Another possibility is to use gdalwarp without compression and then follow up with gdal_translate with compression:\n",
    "\n",
    "\n",
    "\n",
    "\n",
    "    if set_inf_to_no_data_value:\n",
    "        array[(array==np.inf) | (np.isneginf(array))] = ndv\n",
    "\n",
    "    if execute_in_python:\n",
    "        driver = gdal.GetDriverByName('GTiff')\n",
    "        dst_ds = driver.Create(processed_out_uri, n_cols, n_rows, 1, data_type, dst_options)\n",
    "        dst_ds.SetGeoTransform(geotransform)\n",
    "        dst_ds.SetProjection(projection)\n",
    "        dst_ds.GetRasterBand(1).SetNoDataValue(ndv)\n",
    "        dst_ds.GetRasterBand(1).WriteArray(array)\n",
    "    # else:\n",
    "    #     command_line_gdal_translate(array, processed_out_uri, tiled=True, compression_method=compression_method)\n",
    "\n",
    "\n",
    "    if not os.path.exists(processed_out_uri):\n",
    "        raise NameError('Failed to create geotiff ' + processed_out_uri + '.')\n",
    "\n",
    "    if verbose:\n",
    "        print ('nyi 1293939202')\n",
    "        # print ('Saved ' + processed_out_uri + ' which had stats: ' + desc(array))\n",
    "\n",
    "    if save_png:\n",
    "        if not ge:\n",
    "            raise NameError('No plotting interface configured.')\n",
    "        ge.show_array(array, output_uri=processed_out_uri.replace('.tif', '.png'), cbar_percentiles=[0,50,100])"
   ]
  },
  {
   "cell_type": "code",
   "execution_count": 1,
   "metadata": {},
   "outputs": [],
   "source": [
    "import os\n",
    "import pandas as pd\n",
    "from osgeo import gdal, osr, gdal_array\n",
    "import numpy as np\n",
    "\n",
    "def nc4_to_tiff(in_filename,out_filename,EPSG=4326):\n",
    "    #Open existing dataset\n",
    "    src_ds = gdal.Open(in_filename)\n",
    "\n",
    "    #Open output format driver, see gdal_translate --formats for list\n",
    "    format = \"GTiff\"\n",
    "    driver = gdal.GetDriverByName(format)\n",
    "\n",
    "    #Output to new format\n",
    "    dst_ds = driver.CreateCopy(out_filename, src_ds, -99)\n",
    "\n",
    "    #Set projection\n",
    "    srs = osr.SpatialReference()\n",
    "    srs.ImportFromEPSG(EPSG)\n",
    "    dst_ds.SetProjection(srs.ExportToWkt())\n",
    "\n",
    "    #Properly close the datasets to flush to disk\n",
    "    dst_ds = None\n",
    "    src_ds = None\n"
   ]
  },
  {
   "cell_type": "code",
   "execution_count": null,
   "metadata": {},
   "outputs": [],
   "source": [
    "#Set projection\n",
    "srs = osr.SpatialReference()\n",
    "srs.ImportFromEPSG(EPSG)\n",
    "dst_ds.SetProjection(srs.ExportToWkt())\n"
   ]
  },
  {
   "cell_type": "code",
   "execution_count": 24,
   "metadata": {},
   "outputs": [
    {
     "data": {
      "text/plain": [
       "<osgeo.gdal.Dataset; proxy of <Swig Object of type 'GDALDatasetShadow *' at 0x125446060> >"
      ]
     },
     "execution_count": 24,
     "metadata": {},
     "output_type": "execute_result"
    }
   ],
   "source": [
    "gdal.Open('NETCDF:\"'+inpute+'\":fertl_c3ann')"
   ]
  },
  {
   "cell_type": "code",
   "execution_count": 25,
   "metadata": {},
   "outputs": [],
   "source": [
    "gdal.Open('NETCDF:\"'+inpute+'\":time')"
   ]
  },
  {
   "cell_type": "code",
   "execution_count": 26,
   "metadata": {},
   "outputs": [],
   "source": [
    "gdal.Open('NETCDF:\"'+inpute+'\":time')\n",
    "\n",
    "format = \"GTiff\"\n",
    "driver = gdal.GetDriverByName(format)\n",
    "\n",
    "#Output to new format\n",
    "dst_ds = driver.CreateCopy(outt, src_ds, -99)\n"
   ]
  },
  {
   "cell_type": "code",
   "execution_count": 19,
   "metadata": {},
   "outputs": [],
   "source": [
    "from netCDF4 import Dataset\n",
    "dataset = Dataset(inpute)"
   ]
  },
  {
   "cell_type": "code",
   "execution_count": 20,
   "metadata": {},
   "outputs": [
    {
     "data": {
      "text/plain": [
       "<class 'netCDF4._netCDF4.Dataset'>\n",
       "root group (NETCDF4_CLASSIC data model, file format HDF5):\n",
       "    host: UMD College Park\n",
       "    comment: LUH2\n",
       "    contact: gchurtt@umd.edu, lchini@umd.edu, steve.frolking@unh.edu, ritvik@umd.edu\n",
       "    creation_date: 2017-08-30T10:12:47Z\n",
       "    title: Land-Use Harmonization Data Sets\n",
       "    activity_id: input4MIPs\n",
       "    Conventions: CF-1.6\n",
       "    data_structure: grid\n",
       "    further_info_url: http://luh.umd.edu\n",
       "    frequency: yr\n",
       "    institution_id: UofMD\n",
       "    realm: land\n",
       "    references: Hurtt, Chini et al. 2011\n",
       "    license: Land-Use Harmonization data produced by the University of Maryland is licensed under a Creative Commons Attribution \"Share Alike\" 4.0 International License (http://creativecommons.org/licenses/by/4.0/). The data producers and data providers make no warranty, either express or implied, including but not limited to, warranties of merchantability and fitness for a particular purpose. All liabilities arising from the supply of the information (including any liability arising in negligence) are excluded to the fullest extent permitted by law.\n",
       "    target_mip: [‘ScenarioMIP’, ‘AerChemMIP’, ‘C4MIP’, ‘DCPP’, ‘GeoMIP’, ‘LS3MIP’, ‘LUMIP’]\n",
       "    source_id: UofMD-landState-AIM-ssp370-2-1-f\n",
       "    source: LUH2 v2.1f: Land-Use Harmonization Data Set\n",
       "    dataset_version_number: 2.1f\n",
       "    dataset_category: landState\n",
       "    grid_label: gn\n",
       "    mip_era: CMIP6\n",
       "    institution: University of Maryland (UofMD), College Park, MD 20742, USA\n",
       "    variable_id: multiple-management\n",
       "    tracking_id: hdl:21.14100/319665f3-fe8d-4a7b-bc1d-e22038ea7cd5\n",
       "    dimensions(sizes): time(86), lat(720), lon(1440), bounds(2)\n",
       "    variables(dimensions): float64 \u001b[4mtime\u001b[0m(time), float64 \u001b[4mlat\u001b[0m(lat), float64 \u001b[4mlon\u001b[0m(lon), float32 \u001b[4mfertl_c3ann\u001b[0m(time,lat,lon), float32 \u001b[4mirrig_c3ann\u001b[0m(time,lat,lon), float32 \u001b[4mcrpbf_c3ann\u001b[0m(time,lat,lon), float32 \u001b[4mfertl_c4ann\u001b[0m(time,lat,lon), float32 \u001b[4mirrig_c4ann\u001b[0m(time,lat,lon), float32 \u001b[4mcrpbf_c4ann\u001b[0m(time,lat,lon), float32 \u001b[4mfertl_c3per\u001b[0m(time,lat,lon), float32 \u001b[4mirrig_c3per\u001b[0m(time,lat,lon), float32 \u001b[4mcrpbf_c3per\u001b[0m(time,lat,lon), float32 \u001b[4mfertl_c4per\u001b[0m(time,lat,lon), float32 \u001b[4mirrig_c4per\u001b[0m(time,lat,lon), float32 \u001b[4mcrpbf_c4per\u001b[0m(time,lat,lon), float32 \u001b[4mfertl_c3nfx\u001b[0m(time,lat,lon), float32 \u001b[4mirrig_c3nfx\u001b[0m(time,lat,lon), float32 \u001b[4mcrpbf_c3nfx\u001b[0m(time,lat,lon), float32 \u001b[4mfharv_c3per\u001b[0m(time,lat,lon), float32 \u001b[4mfharv_c4per\u001b[0m(time,lat,lon), float32 \u001b[4mflood\u001b[0m(time,lat,lon), float32 \u001b[4mrndwd\u001b[0m(time,lat,lon), float32 \u001b[4mfulwd\u001b[0m(time,lat,lon), float32 \u001b[4mcombf\u001b[0m(time,lat,lon), float32 \u001b[4mcrpbf_total\u001b[0m(time,lat,lon), float64 \u001b[4mlat_bounds\u001b[0m(lat,bounds), float64 \u001b[4mlon_bounds\u001b[0m(lon,bounds), int32 \u001b[4mtime_bnds\u001b[0m(time,bounds)\n",
       "    groups: "
      ]
     },
     "execution_count": 20,
     "metadata": {},
     "output_type": "execute_result"
    }
   ],
   "source": [
    "dataset"
   ]
  },
  {
   "cell_type": "code",
   "execution_count": 17,
   "metadata": {},
   "outputs": [
    {
     "name": "stdout",
     "output_type": "stream",
     "text": [
      "Input file contains subdatasets. Please, select one of them for reading.\r\n"
     ]
    }
   ],
   "source": [
    "! gdal_translate -of GTiff  ../Data/inputs/Management/Fertilizers/multiple-management_input4MIPs_landState_ScenarioMIP_UofMD-AIM-ssp370-2-1-f_gn_2015-2100.nc ../Data/inputs/Management/Fertilizers/testonsdonc.tif"
   ]
  },
  {
   "cell_type": "code",
   "execution_count": 21,
   "metadata": {},
   "outputs": [
    {
     "data": {
      "text/plain": [
       "<osgeo.gdal.Dataset; proxy of <Swig Object of type 'GDALDatasetShadow *' at 0x124c8de10> >"
      ]
     },
     "execution_count": 21,
     "metadata": {},
     "output_type": "execute_result"
    }
   ],
   "source": [
    "gdal.Open('NETCDF:\"'+inpute+'\":fertl_c3ann')"
   ]
  },
  {
   "cell_type": "code",
   "execution_count": 15,
   "metadata": {},
   "outputs": [],
   "source": [
    "format = \"GTiff\"\n",
    "driver = gdal.GetDriverByName(format)\n",
    "dst_ds = driver.CreateCopy(outt, src_ds, -99)"
   ]
  },
  {
   "cell_type": "code",
   "execution_count": 16,
   "metadata": {},
   "outputs": [
    {
     "data": {
      "text/plain": [
       "NoneType"
      ]
     },
     "execution_count": 16,
     "metadata": {},
     "output_type": "execute_result"
    }
   ],
   "source": [
    "type(dst_ds)"
   ]
  },
  {
   "cell_type": "code",
   "execution_count": 4,
   "metadata": {},
   "outputs": [],
   "source": [
    "src_ds = gdal.Open(inpute)"
   ]
  },
  {
   "cell_type": "code",
   "execution_count": 2,
   "metadata": {},
   "outputs": [
    {
     "ename": "AttributeError",
     "evalue": "'NoneType' object has no attribute 'SetProjection'",
     "output_type": "error",
     "traceback": [
      "\u001b[0;31m---------------------------------------------------------------------------\u001b[0m",
      "\u001b[0;31mAttributeError\u001b[0m                            Traceback (most recent call last)",
      "\u001b[0;32m<ipython-input-2-fe5505f2ab5d>\u001b[0m in \u001b[0;36m<module>\u001b[0;34m()\u001b[0m\n\u001b[1;32m      1\u001b[0m \u001b[0minpute\u001b[0m \u001b[0;34m=\u001b[0m \u001b[0;34m'../Data/inputs/Management/Fertilizers/multiple-management_input4MIPs_landState_ScenarioMIP_UofMD-AIM-ssp370-2-1-f_gn_2015-2100.nc'\u001b[0m\u001b[0;34m\u001b[0m\u001b[0m\n\u001b[1;32m      2\u001b[0m \u001b[0moutt\u001b[0m \u001b[0;34m=\u001b[0m \u001b[0;34m'../Data/inputs/Management/Fertilizers/testonsdonc.tif'\u001b[0m\u001b[0;34m\u001b[0m\u001b[0m\n\u001b[0;32m----> 3\u001b[0;31m \u001b[0mnc4_to_tiff\u001b[0m\u001b[0;34m(\u001b[0m\u001b[0minpute\u001b[0m\u001b[0;34m,\u001b[0m \u001b[0moutt\u001b[0m\u001b[0;34m)\u001b[0m\u001b[0;34m\u001b[0m\u001b[0m\n\u001b[0m",
      "\u001b[0;32m<ipython-input-1-38ebaeb98a36>\u001b[0m in \u001b[0;36mnc4_to_tiff\u001b[0;34m(in_filename, out_filename, EPSG)\u001b[0m\n\u001b[1;32m     18\u001b[0m     \u001b[0msrs\u001b[0m \u001b[0;34m=\u001b[0m \u001b[0mosr\u001b[0m\u001b[0;34m.\u001b[0m\u001b[0mSpatialReference\u001b[0m\u001b[0;34m(\u001b[0m\u001b[0;34m)\u001b[0m\u001b[0;34m\u001b[0m\u001b[0m\n\u001b[1;32m     19\u001b[0m     \u001b[0msrs\u001b[0m\u001b[0;34m.\u001b[0m\u001b[0mImportFromEPSG\u001b[0m\u001b[0;34m(\u001b[0m\u001b[0mEPSG\u001b[0m\u001b[0;34m)\u001b[0m\u001b[0;34m\u001b[0m\u001b[0m\n\u001b[0;32m---> 20\u001b[0;31m     \u001b[0mdst_ds\u001b[0m\u001b[0;34m.\u001b[0m\u001b[0mSetProjection\u001b[0m\u001b[0;34m(\u001b[0m\u001b[0msrs\u001b[0m\u001b[0;34m.\u001b[0m\u001b[0mExportToWkt\u001b[0m\u001b[0;34m(\u001b[0m\u001b[0;34m)\u001b[0m\u001b[0;34m)\u001b[0m\u001b[0;34m\u001b[0m\u001b[0m\n\u001b[0m\u001b[1;32m     21\u001b[0m \u001b[0;34m\u001b[0m\u001b[0m\n\u001b[1;32m     22\u001b[0m     \u001b[0;31m#Properly close the datasets to flush to disk\u001b[0m\u001b[0;34m\u001b[0m\u001b[0;34m\u001b[0m\u001b[0m\n",
      "\u001b[0;31mAttributeError\u001b[0m: 'NoneType' object has no attribute 'SetProjection'"
     ]
    }
   ],
   "source": [
    "inpute = '../Data/inputs/Management/Fertilizers/multiple-management_input4MIPs_landState_ScenarioMIP_UofMD-AIM-ssp370-2-1-f_gn_2015-2100.nc'\n",
    "outt = '../Data/inputs/Management/Fertilizers/testonsdonc.tif'\n",
    "nc4_to_tiff(inpute, outt)"
   ]
  },
  {
   "cell_type": "markdown",
   "metadata": {
    "heading_collapsed": true
   },
   "source": [
    "# Resample to 5min"
   ]
  },
  {
   "cell_type": "code",
   "execution_count": 5,
   "metadata": {
    "hidden": true
   },
   "outputs": [],
   "source": [
    "match_raster = '../Data/inputs/Base/country_ids.tif'"
   ]
  },
  {
   "cell_type": "markdown",
   "metadata": {
    "hidden": true
   },
   "source": [
    "## Resample to %Cropland"
   ]
  },
  {
   "cell_type": "code",
   "execution_count": 343,
   "metadata": {
    "hidden": true
   },
   "outputs": [],
   "source": [
    "def make_cropland_mask(input_raster, output_raster):\n",
    "    file = gdal.Open(input_raster)\n",
    "    band = file.GetRasterBand(1)\n",
    "    band.SetNoDataValue(-999) #tentative\n",
    "    raster = band.ReadAsArray()\n",
    "\n",
    "    # Reclassification\n",
    "    raster[raster != 2] = 0\n",
    "    raster[raster == 2 ] = 1\n",
    "\n",
    "    # Create new file\n",
    "    file2 = gdal.GetDriverByName('GTiff').Create(output_raster, file.RasterXSize , file.RasterYSize , 1)\n",
    "    file2.GetRasterBand(1).WriteArray(raster)\n",
    "    file2.GetRasterBand(1).SetNoDataValue(-999) #tentative\n",
    "    file2.SetProjection(file.GetProjection())\n",
    "    file2.SetGeoTransform(file.GetGeoTransform())\n",
    "    file2.FlushCache()"
   ]
  },
  {
   "cell_type": "code",
   "execution_count": 14,
   "metadata": {
    "collapsed": true,
    "hidden": true
   },
   "outputs": [
    {
     "name": "stdout",
     "output_type": "stream",
     "text": [
      "Resampling Cropland Mask of lulc_RCP6.0_SSP4.tif to 5 arcmin\n",
      "ReprojectImage for resize_and_resample_dataset_uri 6.000096450617284 percent complete\n",
      "ReprojectImage for resize_and_resample_dataset_uri 11.000257201646091 percent complete\n",
      "ReprojectImage for resize_and_resample_dataset_uri 17.00070730452675 percent complete\n",
      "ReprojectImage for resize_and_resample_dataset_uri 23.00034293552812 percent complete\n",
      "ReprojectImage for resize_and_resample_dataset_uri 29.000192901234566 percent complete\n",
      "ReprojectImage for resize_and_resample_dataset_uri 35.00042866941015 percent complete\n",
      "ReprojectImage for resize_and_resample_dataset_uri 41.00039651920439 percent complete\n",
      "ReprojectImage for resize_and_resample_dataset_uri 47.00051440329218 percent complete\n",
      "ReprojectImage for resize_and_resample_dataset_uri 53.0005787037037 percent complete\n",
      "ReprojectImage for resize_and_resample_dataset_uri 59.00028935185184 percent complete\n",
      "ReprojectImage for resize_and_resample_dataset_uri 65.0 percent complete\n",
      "ReprojectImage for resize_and_resample_dataset_uri 71.0011574074074 percent complete\n",
      "ReprojectImage for resize_and_resample_dataset_uri 77.00086805555556 percent complete\n",
      "ReprojectImage for resize_and_resample_dataset_uri 83.00057870370371 percent complete\n",
      "ReprojectImage for resize_and_resample_dataset_uri 89.00028935185186 percent complete\n",
      "ReprojectImage for resize_and_resample_dataset_uri 95.0 percent complete\n",
      "ReprojectImage for resize_and_resample_dataset_uri 100.0 percent complete\n",
      "Resampling Cropland Mask of lulc_RCP8.5_SSP5.tif to 5 arcmin\n",
      "ReprojectImage for resize_and_resample_dataset_uri 6.000096450617284 percent complete\n",
      "ReprojectImage for resize_and_resample_dataset_uri 12.000085733882031 percent complete\n",
      "ReprojectImage for resize_and_resample_dataset_uri 18.00030006858711 percent complete\n",
      "ReprojectImage for resize_and_resample_dataset_uri 24.00017146776406 percent complete\n",
      "ReprojectImage for resize_and_resample_dataset_uri 30.00050368655692 percent complete\n",
      "ReprojectImage for resize_and_resample_dataset_uri 36.00025720164609 percent complete\n",
      "ReprojectImage for resize_and_resample_dataset_uri 42.00070730452675 percent complete\n",
      "ReprojectImage for resize_and_resample_dataset_uri 48.00034293552812 percent complete\n",
      "ReprojectImage for resize_and_resample_dataset_uri 54.00019290123457 percent complete\n",
      "ReprojectImage for resize_and_resample_dataset_uri 60.000428669410155 percent complete\n",
      "ReprojectImage for resize_and_resample_dataset_uri 66.00039651920439 percent complete\n",
      "ReprojectImage for resize_and_resample_dataset_uri 72.00051440329219 percent complete\n",
      "ReprojectImage for resize_and_resample_dataset_uri 78.00057870370371 percent complete\n",
      "ReprojectImage for resize_and_resample_dataset_uri 84.00028935185185 percent complete\n",
      "ReprojectImage for resize_and_resample_dataset_uri 90.0 percent complete\n",
      "ReprojectImage for resize_and_resample_dataset_uri 96.0011574074074 percent complete\n",
      "ReprojectImage for resize_and_resample_dataset_uri 100.0 percent complete\n",
      "Resampling Cropland Mask of lulc_RCP7.0_SSP3.tif to 5 arcmin\n",
      "ReprojectImage for resize_and_resample_dataset_uri 6.000096450617284 percent complete\n",
      "ReprojectImage for resize_and_resample_dataset_uri 12.000085733882031 percent complete\n",
      "ReprojectImage for resize_and_resample_dataset_uri 18.00030006858711 percent complete\n",
      "ReprojectImage for resize_and_resample_dataset_uri 24.00017146776406 percent complete\n",
      "ReprojectImage for resize_and_resample_dataset_uri 30.00050368655692 percent complete\n",
      "ReprojectImage for resize_and_resample_dataset_uri 36.00025720164609 percent complete\n",
      "ReprojectImage for resize_and_resample_dataset_uri 42.00070730452675 percent complete\n",
      "ReprojectImage for resize_and_resample_dataset_uri 48.00034293552812 percent complete\n",
      "ReprojectImage for resize_and_resample_dataset_uri 54.00019290123457 percent complete\n",
      "ReprojectImage for resize_and_resample_dataset_uri 60.000428669410155 percent complete\n",
      "ReprojectImage for resize_and_resample_dataset_uri 66.00039651920439 percent complete\n",
      "ReprojectImage for resize_and_resample_dataset_uri 72.00051440329219 percent complete\n",
      "ReprojectImage for resize_and_resample_dataset_uri 78.00057870370371 percent complete\n",
      "ReprojectImage for resize_and_resample_dataset_uri 83.00057870370371 percent complete\n",
      "ReprojectImage for resize_and_resample_dataset_uri 89.00028935185186 percent complete\n",
      "ReprojectImage for resize_and_resample_dataset_uri 95.0 percent complete\n",
      "ReprojectImage for resize_and_resample_dataset_uri 100.0 percent complete\n",
      "Resampling Cropland Mask of lulc_RCP4.5_SSP2.tif to 5 arcmin\n",
      "ReprojectImage for resize_and_resample_dataset_uri 5.000503686556927 percent complete\n",
      "ReprojectImage for resize_and_resample_dataset_uri 10.000428669410152 percent complete\n",
      "ReprojectImage for resize_and_resample_dataset_uri 16.00039651920439 percent complete\n",
      "ReprojectImage for resize_and_resample_dataset_uri 22.000514403292183 percent complete\n",
      "ReprojectImage for resize_and_resample_dataset_uri 28.000578703703706 percent complete\n",
      "ReprojectImage for resize_and_resample_dataset_uri 34.000289351851855 percent complete\n",
      "ReprojectImage for resize_and_resample_dataset_uri 40.0 percent complete\n",
      "ReprojectImage for resize_and_resample_dataset_uri 46.001157407407405 percent complete\n",
      "ReprojectImage for resize_and_resample_dataset_uri 52.00086805555556 percent complete\n",
      "ReprojectImage for resize_and_resample_dataset_uri 58.00057870370371 percent complete\n",
      "ReprojectImage for resize_and_resample_dataset_uri 64.00028935185186 percent complete\n",
      "ReprojectImage for resize_and_resample_dataset_uri 69.00028935185185 percent complete\n",
      "ReprojectImage for resize_and_resample_dataset_uri 74.00017146776406 percent complete\n",
      "ReprojectImage for resize_and_resample_dataset_uri 79.00019290123457 percent complete\n",
      "ReprojectImage for resize_and_resample_dataset_uri 85.00042866941016 percent complete\n",
      "ReprojectImage for resize_and_resample_dataset_uri 91.00039651920439 percent complete\n",
      "ReprojectImage for resize_and_resample_dataset_uri 96.0011574074074 percent complete\n",
      "ReprojectImage for resize_and_resample_dataset_uri 100.0 percent complete\n",
      "Resampling Cropland Mask of lulc_esa_2015_reclassified_to_seals_simplified.tif to 5 arcmin\n",
      "ReprojectImage for resize_and_resample_dataset_uri 6.000096450617284 percent complete\n",
      "ReprojectImage for resize_and_resample_dataset_uri 11.000257201646091 percent complete\n",
      "ReprojectImage for resize_and_resample_dataset_uri 17.00070730452675 percent complete\n",
      "ReprojectImage for resize_and_resample_dataset_uri 23.00034293552812 percent complete\n",
      "ReprojectImage for resize_and_resample_dataset_uri 29.000192901234566 percent complete\n",
      "ReprojectImage for resize_and_resample_dataset_uri 35.00042866941015 percent complete\n",
      "ReprojectImage for resize_and_resample_dataset_uri 41.00039651920439 percent complete\n",
      "ReprojectImage for resize_and_resample_dataset_uri 47.00051440329218 percent complete\n",
      "ReprojectImage for resize_and_resample_dataset_uri 53.0005787037037 percent complete\n",
      "ReprojectImage for resize_and_resample_dataset_uri 58.00057870370371 percent complete\n",
      "ReprojectImage for resize_and_resample_dataset_uri 64.00028935185186 percent complete\n",
      "ReprojectImage for resize_and_resample_dataset_uri 70.0 percent complete\n",
      "ReprojectImage for resize_and_resample_dataset_uri 76.00115740740742 percent complete\n",
      "ReprojectImage for resize_and_resample_dataset_uri 82.00086805555556 percent complete\n",
      "ReprojectImage for resize_and_resample_dataset_uri 88.0005787037037 percent complete\n",
      "ReprojectImage for resize_and_resample_dataset_uri 94.00028935185185 percent complete\n",
      "ReprojectImage for resize_and_resample_dataset_uri 100.0 percent complete\n",
      "Resampling Cropland Mask of lulc_RCP2.6_SSP1.tif to 5 arcmin\n",
      "ReprojectImage for resize_and_resample_dataset_uri 6.000096450617284 percent complete\n",
      "ReprojectImage for resize_and_resample_dataset_uri 12.000085733882031 percent complete\n",
      "ReprojectImage for resize_and_resample_dataset_uri 18.00030006858711 percent complete\n",
      "ReprojectImage for resize_and_resample_dataset_uri 24.00017146776406 percent complete\n",
      "ReprojectImage for resize_and_resample_dataset_uri 30.00050368655692 percent complete\n",
      "ReprojectImage for resize_and_resample_dataset_uri 35.00042866941015 percent complete\n",
      "ReprojectImage for resize_and_resample_dataset_uri 40.0 percent complete\n"
     ]
    },
    {
     "name": "stdout",
     "output_type": "stream",
     "text": [
      "ReprojectImage for resize_and_resample_dataset_uri 45.0 percent complete\n",
      "ReprojectImage for resize_and_resample_dataset_uri 50.0 percent complete\n",
      "ReprojectImage for resize_and_resample_dataset_uri 56.000096450617285 percent complete\n",
      "ReprojectImage for resize_and_resample_dataset_uri 61.00025720164609 percent complete\n",
      "ReprojectImage for resize_and_resample_dataset_uri 67.00070730452676 percent complete\n",
      "ReprojectImage for resize_and_resample_dataset_uri 73.00034293552812 percent complete\n",
      "ReprojectImage for resize_and_resample_dataset_uri 79.00019290123457 percent complete\n",
      "ReprojectImage for resize_and_resample_dataset_uri 84.00028935185185 percent complete\n",
      "ReprojectImage for resize_and_resample_dataset_uri 89.00028935185186 percent complete\n",
      "ReprojectImage for resize_and_resample_dataset_uri 95.0 percent complete\n",
      "ReprojectImage for resize_and_resample_dataset_uri 100.0 percent complete\n",
      "Resampling Cropland Mask of lulc_RCP3.4_SSP4.tif to 5 arcmin\n",
      "ReprojectImage for resize_and_resample_dataset_uri 6.000096450617284 percent complete\n",
      "ReprojectImage for resize_and_resample_dataset_uri 12.000085733882031 percent complete\n",
      "ReprojectImage for resize_and_resample_dataset_uri 18.00030006858711 percent complete\n",
      "ReprojectImage for resize_and_resample_dataset_uri 24.00017146776406 percent complete\n",
      "ReprojectImage for resize_and_resample_dataset_uri 30.00050368655692 percent complete\n",
      "ReprojectImage for resize_and_resample_dataset_uri 36.00025720164609 percent complete\n",
      "ReprojectImage for resize_and_resample_dataset_uri 42.00070730452675 percent complete\n",
      "ReprojectImage for resize_and_resample_dataset_uri 48.00034293552812 percent complete\n",
      "ReprojectImage for resize_and_resample_dataset_uri 54.00019290123457 percent complete\n",
      "ReprojectImage for resize_and_resample_dataset_uri 60.000428669410155 percent complete\n",
      "ReprojectImage for resize_and_resample_dataset_uri 66.00039651920439 percent complete\n",
      "ReprojectImage for resize_and_resample_dataset_uri 72.00051440329219 percent complete\n",
      "ReprojectImage for resize_and_resample_dataset_uri 78.00057870370371 percent complete\n",
      "ReprojectImage for resize_and_resample_dataset_uri 83.00057870370371 percent complete\n",
      "ReprojectImage for resize_and_resample_dataset_uri 89.00028935185186 percent complete\n",
      "ReprojectImage for resize_and_resample_dataset_uri 95.0 percent complete\n",
      "ReprojectImage for resize_and_resample_dataset_uri 100.0 percent complete\n"
     ]
    }
   ],
   "source": [
    "## Resample LUs to Cropland masks\n",
    "\n",
    "for filename in os.listdir('../Data/inputs/LU/SEALS_Oct18(300m)'):\n",
    "    if filename.endswith(\".tif\"):  \n",
    "        input_raster = os.path.join('../Data/inputs/LU/SEALS_Oct18(300m)', filename)\n",
    "        intermediate_raster = ('../Data/inputs/LU/SEALS_Oct18_CropMask_300m/Cropmask_'+filename)\n",
    "        output_raster = ('../Data/inputs/LU/SEALS_Oct18_CropMask_5m/Cropmask_'+filename)\n",
    "        \n",
    "        #print('Making Cropland Mask for '+filename)\n",
    "        #make_cropland_mask(input_raster, intermediate_raster)\n",
    "        \n",
    "        print('Resampling Cropland Mask of '+filename+' to 5 arcmin')\n",
    "        hb.spatial_utils.align_dataset_to_match(intermediate_raster,\n",
    "                                        match_raster,\n",
    "                                        output_raster,\n",
    "                                        resample_method='average',\n",
    "                                        output_data_type=7)"
   ]
  },
  {
   "cell_type": "markdown",
   "metadata": {
    "hidden": true
   },
   "source": [
    "## Resample LU classification"
   ]
  },
  {
   "cell_type": "code",
   "execution_count": null,
   "metadata": {
    "hidden": true
   },
   "outputs": [],
   "source": [
    "## Resample LUs\n",
    "\n",
    "for filename in os.listdir('../Data/inputs/LU/SEALS_Oct18(300m)'):\n",
    "    if filename.endswith(\".tif\"):  \n",
    "        input_raster = os.path.join('../Data/inputs/LU/SEALS_Oct18(300m)', filename)\n",
    "        output_raster = os.path.join('../Data/inputs/LU/SEALS_Oct18_5m', filename)\n",
    "        print('Resampling '+filename+' to 5 arcmin')\n",
    "        hb.spatial_utils.align_dataset_to_match(input_raster,match_raster,output_raster)"
   ]
  },
  {
   "cell_type": "markdown",
   "metadata": {
    "hidden": true
   },
   "source": [
    "## Resample population"
   ]
  },
  {
   "cell_type": "code",
   "execution_count": 231,
   "metadata": {
    "hidden": true
   },
   "outputs": [
    {
     "name": "stdout",
     "output_type": "stream",
     "text": [
      "Resampling populationssp2_geotiff to 5 arcmin\n",
      "Resampling populationssp3_geotiff to 5 arcmin\n",
      "Resampling populationssp1_geotiff to 5 arcmin\n",
      "Resampling populationssp5_geotiff to 5 arcmin\n",
      "Resampling populationssp4_geotiff to 5 arcmin\n"
     ]
    }
   ],
   "source": [
    "## Resample Population\n",
    "\n",
    "for sspX_geotiff in os.listdir('../Data/inputs/Population'):\n",
    "    if sspX_geotiff.endswith(\"_geotiff\"):  \n",
    "        input_raster = os.path.join('../Data/inputs/Population', sspX_geotiff,('total/GeoTIFF/'+sspX_geotiff[:4]+'_2050.tif'))\n",
    "        output_raster = os.path.join('../Data/inputs/Population',(sspX_geotiff+'_tot_5m.tif'))\n",
    "        print('Resampling population'+sspX_geotiff+' to 5 arcmin')\n",
    "        hb.spatial_utils.align_dataset_to_match(input_raster,match_raster,output_raster)"
   ]
  },
  {
   "cell_type": "markdown",
   "metadata": {},
   "source": [
    "# Tifs to tabular"
   ]
  },
  {
   "cell_type": "markdown",
   "metadata": {},
   "source": [
    "## Utilities"
   ]
  },
  {
   "cell_type": "code",
   "execution_count": 19,
   "metadata": {},
   "outputs": [],
   "source": [
    "def convert_af_to_1d_df(af):\n",
    "    array = af.data.flatten()\n",
    "    df = pd.DataFrame(array)\n",
    "    return df\n",
    "\n",
    "\n",
    "def concatenate_dfs_horizontally(df_list, column_headers=None):\n",
    "    \"\"\"\n",
    "    Append horizontally, based on index.\n",
    "    \"\"\"\n",
    "    df = pd.concat(df_list, axis=1)\n",
    "    if column_headers:\n",
    "        df.columns = column_headers\n",
    "    return df\n",
    "\n",
    "def create_land_mask():\n",
    "    countries_af = hb.ArrayFrame('../Data/inputs/Base/country_ids.tif')\n",
    "    df = convert_af_to_1d_df(countries_af)\n",
    "    df['land_mask'] = df[0].apply(lambda x: 1 if x > 0 else 0)\n",
    "    df = df.drop(0, axis=1)\n",
    "    return df"
   ]
  },
  {
   "cell_type": "code",
   "execution_count": 20,
   "metadata": {},
   "outputs": [],
   "source": [
    "def rasters_to_tabular_csv(rasters_paths,csv_name,\n",
    "                          latlon=False,col_names=None):\n",
    "    # Create tabular data\n",
    "    rasters_names = []\n",
    "    dfs_list = []\n",
    "\n",
    "    match_af = hb.ArrayFrame(rasters_paths[0])\n",
    "    for path in rasters_paths:\n",
    "        af = hb.ArrayFrame(path)\n",
    "        df = convert_af_to_1d_df(af)\n",
    "        dfs_list.append(df)\n",
    "    \n",
    "        name = hb.explode_path(path)['file_root_no_suffix']\n",
    "        rasters_names.append(name)\n",
    "        \n",
    "    if col_names == None:\n",
    "        col_names = rasters_names\n",
    "        \n",
    "    df = concatenate_dfs_horizontally(dfs_list, col_names)\n",
    "\n",
    "    # Remove NaNs\n",
    "    # Or don't ?\n",
    "\n",
    "    # Get rid of the oceans cells\n",
    "    df['pixel_id'] = df.index\n",
    "    #df['pixel_id_float'] = df['pixel_id'].astype('float')\n",
    "    land_mask = create_land_mask()\n",
    "    df = df.merge(land_mask, right_index=True, left_on='pixel_id')\n",
    "    df_land = df[df['land_mask']==1]\n",
    "    df_land = df_land.dropna()\n",
    "\n",
    "    if latlon == True:\n",
    "        df_land['lon'] = round( (((df['pixel_id'] % 4320.)/4320 - .5) * 360.0),2)\n",
    "        df_land['lat'] = round( (((df['pixel_id'] / 4320.).round()/2160 - .5) * 180.),2)\n",
    "    \n",
    "    \n",
    "    dfland = df_land.set_index('pixel_id')\n",
    "\n",
    "    print('Writing csv ' + csv_name)\n",
    "    df_land.to_csv('../Data/intermediate/'+csv_name+'.csv')"
   ]
  },
  {
   "cell_type": "markdown",
   "metadata": {
    "heading_collapsed": true
   },
   "source": [
    "## LU tifs to csvs"
   ]
  },
  {
   "cell_type": "code",
   "execution_count": 22,
   "metadata": {
    "hidden": true
   },
   "outputs": [
    {
     "name": "stdout",
     "output_type": "stream",
     "text": [
      "Writing csv LU_csvs/Cropmask_lulc_RCP3.4_SSP4\n",
      "Writing csv LU_csvs/Cropmask_lulc_esa_2015\n",
      "Writing csv LU_csvs/Cropmask_lulc_RCP2.6_SSP1\n",
      "Writing csv LU_csvs/Cropmask_lulc_RCP4.5_SSP2\n",
      "Writing csv LU_csvs/Cropmask_lulc_RCP7.0_SSP3\n",
      "Writing csv LU_csvs/Cropmask_lulc_RCP8.5_SSP5\n",
      "Writing csv LU_csvs/Cropmask_lulc_RCP6.0_SSP4\n"
     ]
    }
   ],
   "source": [
    "# % Cropland\n",
    "for scenario in os.listdir('../Data/inputs/LU/SEALS_Oct18_CropMask_5m'):\n",
    "    if scenario.endswith('.tif'):  \n",
    "        rasters_to_tabular_csv(['../Data/inputs/LU/SEALS_Oct18_CropMask_5m/'+scenario],\n",
    "                           csv_name = ('LU_csvs/'+scenario[:-4]),\n",
    "                              latlon = True,col_names=['%cropland'])"
   ]
  },
  {
   "cell_type": "code",
   "execution_count": null,
   "metadata": {
    "hidden": true
   },
   "outputs": [],
   "source": [
    "# LU Classification\n",
    "for scenario in os.listdir('../Data/inputs/LU/SEALS_Oct18_5m'):\n",
    "    if scenario.endswith('.tif'):  \n",
    "        rasters_to_tabular_csv(['../Data/inputs/LU/SEALS_Oct18_5m/'+scenario],\n",
    "                           csv_name = ('LU_csvs/'+scenario[:-4]),\n",
    "                              latlon = True,col_names=['lulc'])"
   ]
  },
  {
   "cell_type": "markdown",
   "metadata": {},
   "source": [
    "## Climate tifs to csvs"
   ]
  },
  {
   "cell_type": "markdown",
   "metadata": {},
   "source": [
    "Units of bioclimatic variables ?\n",
    " - Precip (mm)\n",
    " - Temp_avg (°C *10)"
   ]
  },
  {
   "cell_type": "code",
   "execution_count": null,
   "metadata": {},
   "outputs": [],
   "source": [
    "for climate_scenario in os.listdir('../Data/inputs/Climate'):\n",
    "    if climate_scenario.endswith('0'):  \n",
    "        rasters = ['../Data/inputs/Climate/'+climate_scenario+'/'+climate_scenario+'1.tif',\n",
    "                '../Data/inputs/Climate/'+climate_scenario+'/'+climate_scenario+'12.tif']\n",
    "\n",
    "        rasters_to_tabular_csv(rasters,\n",
    "                           csv_name = climate_scenario,\n",
    "                              col_names=['temp_avg','precip'])"
   ]
  },
  {
   "cell_type": "markdown",
   "metadata": {
    "heading_collapsed": true
   },
   "source": [
    "## Pop tifs to csvs"
   ]
  },
  {
   "cell_type": "code",
   "execution_count": 237,
   "metadata": {
    "hidden": true
   },
   "outputs": [
    {
     "name": "stdout",
     "output_type": "stream",
     "text": [
      "Writing csv Population_csvs/ssp3_geotiff_tot_5m\n",
      "Writing csv Population_csvs/ssp5_geotiff_tot_5m\n",
      "Writing csv Population_csvs/ssp4_geotiff_tot_5m\n",
      "Writing csv Population_csvs/ssp2_geotiff_tot_5m\n",
      "Writing csv Population_csvs/ssp1_geotiff_tot_5m\n"
     ]
    }
   ],
   "source": [
    "for sspX_geotiff in os.listdir('../Data/inputs/Population'):\n",
    "    if sspX_geotiff.endswith(\".tif\"):  \n",
    "        \n",
    "        rasters_to_tabular_csv(['../Data/inputs/Population/'+sspX_geotiff],csv_name =('Population_csvs/'+sspX_geotiff[:-4]),\n",
    "                              col_names=['gpw_population'])"
   ]
  },
  {
   "cell_type": "markdown",
   "metadata": {},
   "source": [
    "# Run model on future dfs"
   ]
  },
  {
   "cell_type": "markdown",
   "metadata": {},
   "source": [
    "## Load baseline (current unchanged) df"
   ]
  },
  {
   "cell_type": "markdown",
   "metadata": {
    "heading_collapsed": true
   },
   "source": [
    "### Save full (with non ag in current pixels) baseline_df (do this once ever)\n",
    "Because how about pixels that were not but become ag!?"
   ]
  },
  {
   "cell_type": "code",
   "execution_count": 223,
   "metadata": {
    "hidden": true
   },
   "outputs": [],
   "source": [
    "###TODO load_new_data():\n",
    "\n",
    "def load_baseline_df():\n",
    "    crop_types_df = pd.read_csv('../../Food_ES/Crop modeling/ipbes_invest_crop_yield_project/intermediate/aggregate_crops_by_type/aggregated_crop_data.csv')\n",
    "    df_land = pd.read_csv('../../Food_ES/Crop modeling/ipbes_invest_crop_yield_project/intermediate/create_baseline_regression_data/baseline_regression_data.csv')\n",
    "    df = crop_types_df.merge(df_land,how='outer',on='pixel_id')\n",
    "    \n",
    "    #Remove cal_per_ha per crop type for now\n",
    "    df = df.drop(labels=['c3_annual_calories_per_ha', 'c3_perennial_calories_per_ha',\n",
    "           'c4_annual_calories_per_ha', 'c4_perennial_calories_per_ha',\n",
    "           'nitrogen_fixer_calories_per_ha'], axis=1)\n",
    "\n",
    "    #Remove helper columns (not features)\n",
    "    df = df.drop(labels=['Unnamed: 0'\n",
    "                        # , 'country_ids','ha_per_cell_5m'\n",
    "                        ], axis=1)\n",
    "    \n",
    "    return df\n",
    "\n",
    "def data_preprocessing(df):    \n",
    "    # Rename cols\n",
    "    df = df.rename(columns={'minutes_to_market_5m': 'min_to_market',\n",
    "                            'gdp_per_capita_2000_5m': 'gdp_per_capita',\n",
    "                            'gdp_2000': 'gdp'})\n",
    "    \n",
    "    # Encode properly NaNs\n",
    "    df['slope'] = df['slope'].replace({0: np.nan})  # 143 NaN in 'slope' variable\n",
    "    for soil_var in ['workability_index', 'toxicity_index', 'rooting_conditions_index', 'oxygen_availability_index',\n",
    "                     'nutrient_retention_index', 'nutrient_availability_index', 'excess_salts_index']:\n",
    "        df[soil_var] = df[soil_var].replace({255: np.nan})\n",
    "        \n",
    "    # Drop NaN\n",
    "    df = df.dropna()\n",
    "    \n",
    "    ## /!\\ DO NOT DO THIS TO HAVE SLOPE ETC DATA FOR AREAS THAT MAY BECOME AG !\n",
    "    ## df = df[df['calories_per_ha'] != 0]    \n",
    "    ## \n",
    "    \n",
    "    #Encode climate zones (as str)\n",
    "    climate_zones_map = {1:'Af',2:'Am',3:'Aw',\n",
    "                     5:'BWk',4:'BWh',7:'BSk',6:'BSh',\n",
    "                     14:'Cfa',15:'Cfb',16:'Cfc',8:'Csa',\n",
    "                     9:'Csb',10:'Csc',11:'Cwa',12:'Cwb',13:'Cwc',\n",
    "                     25:'Dfa',26:'Dfb',27:'Dfc',28:'Dfd',17:'Dsa',18:'Dsb',19:'Dsc',\n",
    "                     20:'Dsd',21:'Dwa',22:'Dwb',23:'Dwc',24:'Dwd',\n",
    "                     30:'EF',29:'ET'}\n",
    "    df['climate_zones'] = df['climate_zones'].map(climate_zones_map)\n",
    "    \n",
    "    # Encode climate zones as dummies\n",
    "    climate_dummies_df = pd.get_dummies(df['climate_zones'])\n",
    "    for col in climate_dummies_df.columns:\n",
    "        climate_dummies_df = climate_dummies_df.rename({col:str('climatezone_'+col)},axis=1)\n",
    "    \n",
    "    df = df.merge(climate_dummies_df, right_index=True,left_index=True)\n",
    "    df = df.drop('climate_zones',axis=1)\n",
    "    \n",
    "    # Lat/Lon\n",
    "    df['sin_lon'] = df['lon'].apply(lambda x:np.sin(np.radians(x)))\n",
    "    #df = df.drop('lon',axis=1)\n",
    "    #df['sin_lat'] = df['lat'].apply(lambda x:np.sin(np.radians(x)))\n",
    "    \n",
    "    # Log some skewed variables\n",
    "    df['calories_per_ha'] = df['calories_per_ha'].apply(lambda x: np.log(x) if x != 0 else 0)\n",
    "\n",
    "    for col in ['gdp_per_capita','altitude', 'min_to_market', 'gpw_population']:\n",
    "        df[str('log_'+col)] = df[col].apply(lambda x: np.log(x) if x != 0 else 0)\n",
    "        df = df.drop(col,axis=1)\n",
    "        \n",
    "        \n",
    "    # Slope\n",
    "    df['slope'] = df['slope'].apply(lambda x:x-90)\n",
    "                \n",
    "    \n",
    "    # Cols to drop\n",
    "    for col in ['pixel_id_float', 'land_mask']:\n",
    "        df = df.drop(col,axis=1)\n",
    "    \n",
    "    #Set index 'pixel_id'\n",
    "    df = df.set_index('pixel_id')\n",
    "\n",
    "    return df"
   ]
  },
  {
   "cell_type": "code",
   "execution_count": 224,
   "metadata": {
    "hidden": true
   },
   "outputs": [],
   "source": [
    "baseline_df = data_preprocessing(load_baseline_df())"
   ]
  },
  {
   "cell_type": "code",
   "execution_count": null,
   "metadata": {
    "hidden": true
   },
   "outputs": [],
   "source": [
    "len(baseline_df)"
   ]
  },
  {
   "cell_type": "code",
   "execution_count": 225,
   "metadata": {
    "hidden": true
   },
   "outputs": [],
   "source": [
    "baseline_df.to_csv('../../Food_ES/Crop modeling/ipbes_invest_crop_yield_project/intermediate/create_baseline_regression_data/baseline_df_full.csv')"
   ]
  },
  {
   "cell_type": "markdown",
   "metadata": {
    "heading_collapsed": true
   },
   "source": [
    "### Load Baseline df (for features not changing)"
   ]
  },
  {
   "cell_type": "code",
   "execution_count": 16,
   "metadata": {
    "hidden": true
   },
   "outputs": [],
   "source": [
    "baseline_df = pd.read_csv('../../Food_ES/Crop modeling/ipbes_invest_crop_yield_project/intermediate/create_baseline_regression_data/baseline_df_full.csv')\n",
    "baseline_df = baseline_df.set_index('pixel_id')\n",
    "baseline_df_notchanging = baseline_df[['slope','log_altitude',\n",
    "                                      'workability_index']].copy()"
   ]
  },
  {
   "cell_type": "code",
   "execution_count": null,
   "metadata": {
    "hidden": true
   },
   "outputs": [],
   "source": [
    "# for reference\n",
    "simple_subset = ['slope','lat','sin_lon','log_altitude',\n",
    "                  'workability_index',\n",
    "                  'log_gpw_population',\n",
    "                  'temp_avg','precip',\n",
    "                  'calories_per_ha'] # calories_per_ha is actually log(calories_per_ha) !\n",
    "\n"
   ]
  },
  {
   "cell_type": "markdown",
   "metadata": {},
   "source": [
    "## Create future dfs + run model"
   ]
  },
  {
   "cell_type": "markdown",
   "metadata": {},
   "source": [
    "### Utilities"
   ]
  },
  {
   "cell_type": "code",
   "execution_count": 33,
   "metadata": {},
   "outputs": [],
   "source": [
    "def create_future_df(LU_df, climate_df,Pop_df):\n",
    "    \n",
    "    # Mask not-ag pixels\n",
    "    future_df = (LU_df[LU_df['%cropland']!=0][['lon','lat','%cropland']]).merge(baseline_df_notchanging,\n",
    "                                                              how='left',\n",
    "                                                              left_index=True,\n",
    "                                                              right_index=True)\n",
    "    \n",
    "    # Merge with climate columns\n",
    "    future_df = future_df.merge(climate_df[['temp_avg','precip']],how='left',\n",
    "                            left_index=True, right_index=True)\n",
    "    \n",
    "    future_df = future_df.merge(Pop_df,how='left',\n",
    "                               left_index=True, right_index=True)\n",
    "    \n",
    "    future_df['sin_lon'] = future_df['lon'].apply(lambda x:np.sin(np.radians(x)))\n",
    "    \n",
    "    # Dumb column order needed by dumb XGB!\n",
    "    future_df_formatted = future_df[['slope', 'lat', 'sin_lon','log_altitude','workability_index',\n",
    "                                     'log_gpw_population', 'temp_avg', 'precip']]\n",
    "    \n",
    "    return future_df_formatted\n",
    "    "
   ]
  },
  {
   "cell_type": "code",
   "execution_count": 28,
   "metadata": {},
   "outputs": [],
   "source": [
    "def load_regression(model):\n",
    "    model_filename = '../Data/inputs/Models/'+model+'.sav'\n",
    "    regression = pickle.load(open(model_filename, 'rb'))\n",
    "    return regression"
   ]
  },
  {
   "cell_type": "code",
   "execution_count": 29,
   "metadata": {},
   "outputs": [],
   "source": [
    "def run_model_on_future_df(future_df):\n",
    "    '''Runs XGB3 Simple Subset Model and add a column log(cal_per_ha)'''\n",
    "    \n",
    "    regression = load_regression('xgb3simplesubset')\n",
    "    y_predicted = regression.predict(future_df)\n",
    "\n",
    "    future_df['log(cal_per_ha)'] = y_predicted\n",
    "   \n",
    "    return future_df"
   ]
  },
  {
   "cell_type": "code",
   "execution_count": 71,
   "metadata": {},
   "outputs": [],
   "source": [
    "def export_future_df(F,save_name=False):\n",
    "    \n",
    "    F = F.merge(baseline_df[['lon','ha_per_cell_5m','calories_per_ha']].rename({'calories_per_ha':'log(cal_per_ha) 2000'},axis=1),\n",
    "                how='left',right_index=True,left_index=True)\n",
    "\n",
    "    F = F.merge(LU_df[['%cropland','%cropland 2000']],\n",
    "                how='left',right_index=True,left_index=True)    #check how:'outer' ?\n",
    "    \n",
    "\n",
    "    F['population'] = F['log_gpw_population'].apply(lambda x: np.exp(x))\n",
    "    F['altitude'] = F['log_altitude'].apply(lambda x: np.exp(x))\n",
    "\n",
    "    F['calories_per_ha'] = F['log(cal_per_ha)'].apply(lambda x: np.exp(x))\n",
    "    F['calories_per_ha 2000'] = F['log(cal_per_ha) 2000'].apply(lambda x: np.exp(x))\n",
    "\n",
    "    # Yields to production \n",
    "    F['Calories'] = F['calories_per_ha'] * F['ha_per_cell_5m'] * F['%cropland']\n",
    "    F['Calories 2000'] = F['calories_per_ha 2000'] * F['ha_per_cell_5m'] * F['%cropland 2000']\n",
    "    F['Change_in_Yield'] = F['calories_per_ha'] - F['calories_per_ha 2000']\n",
    "    F['Change_in_Production'] = F['Calories'] - F['Calories 2000']\n",
    "    \n",
    "    \n",
    "    Fmin = (F[['log(cal_per_ha)','calories_per_ha', 'Calories','%cropland',\n",
    "              'Change_in_Yield','Change_in_Production',\n",
    "              'log(cal_per_ha) 2000','calories_per_ha 2000','Calories 2000','%cropland 2000',\n",
    "              'temp_avg', 'precip','workability_index','slope', 'altitude',\n",
    "              'lat', 'lon', 'population','ha_per_cell_5m']]).round(\n",
    "                  {'calories_per_ha': 0, 'Calories': 0, '%cropland': 0,\n",
    "                   'calories_per_ha 2000': 0, 'Calories 2000': 0,'%cropland 2000': 0,\n",
    "                   'altitude':0,'lon':6,'lat':6})\n",
    "    \n",
    "    if save_name != False:\n",
    "        Fmin.to_csv('../Data/outputs/'+save_name+'.csv')\n",
    "    \n",
    "    return Fmin"
   ]
  },
  {
   "cell_type": "markdown",
   "metadata": {},
   "source": [
    "### Loop over all scenarios"
   ]
  },
  {
   "cell_type": "markdown",
   "metadata": {},
   "source": [
    "#### Oct29, Prelim results for students (17:04 - "
   ]
  },
  {
   "cell_type": "code",
   "execution_count": 72,
   "metadata": {
    "collapsed": true
   },
   "outputs": [
    {
     "name": "stdout",
     "output_type": "stream",
     "text": [
      "Climate model: cc\n",
      "SSP1\n",
      "... Loading climate, pop and LU csvs\n",
      "... Run model\n",
      "... Saving results\n",
      "SSP2\n",
      "... Loading climate, pop and LU csvs\n",
      "... Run model\n",
      "... Saving results\n",
      "SSP3\n",
      "... Loading climate, pop and LU csvs\n",
      "... Run model\n",
      "... Saving results\n",
      "SSP4\n",
      "... Loading climate, pop and LU csvs\n",
      "... Run model\n",
      "... Saving results\n",
      "SSP5\n",
      "... Loading climate, pop and LU csvs\n",
      "... Run model\n",
      "... Saving results\n",
      "Climate model: he\n",
      "SSP1\n",
      "... Loading climate, pop and LU csvs\n",
      "... Run model\n",
      "... Saving results\n",
      "SSP2\n",
      "... Loading climate, pop and LU csvs\n",
      "... Run model\n",
      "... Saving results\n",
      "SSP3\n",
      "... Loading climate, pop and LU csvs\n",
      "... Run model\n",
      "... Saving results\n",
      "SSP4\n",
      "... Loading climate, pop and LU csvs\n",
      "... Run model\n",
      "... Saving results\n",
      "SSP5\n",
      "... Loading climate, pop and LU csvs\n",
      "... Run model\n",
      "... Saving results\n",
      "Climate model: mr\n",
      "SSP1\n",
      "... Loading climate, pop and LU csvs\n",
      "... Run model\n",
      "... Saving results\n",
      "SSP2\n",
      "... Loading climate, pop and LU csvs\n",
      "... Run model\n",
      "... Saving results\n",
      "SSP3\n",
      "... Loading climate, pop and LU csvs\n",
      "... Run model\n",
      "... Saving results\n",
      "SSP4\n",
      "... Loading climate, pop and LU csvs\n",
      "... Run model\n",
      "... Saving results\n",
      "SSP5\n",
      "... Loading climate, pop and LU csvs\n",
      "... Run model\n",
      "... Saving results\n",
      "Climate model: gs\n",
      "SSP1\n",
      "... Loading climate, pop and LU csvs\n"
     ]
    },
    {
     "ename": "FileNotFoundError",
     "evalue": "File b'../Data/intermediate/Climate_csvs/gs26bi50.csv' does not exist",
     "output_type": "error",
     "traceback": [
      "\u001b[0;31m---------------------------------------------------------------------------\u001b[0m",
      "\u001b[0;31mFileNotFoundError\u001b[0m                         Traceback (most recent call last)",
      "\u001b[0;32m<ipython-input-72-baca10a6602c>\u001b[0m in \u001b[0;36m<module>\u001b[0;34m()\u001b[0m\n\u001b[1;32m     27\u001b[0m \u001b[0;34m\u001b[0m\u001b[0m\n\u001b[1;32m     28\u001b[0m         \u001b[0mclimate_df_path\u001b[0m \u001b[0;34m=\u001b[0m \u001b[0;34m'../Data/intermediate/Climate_csvs/'\u001b[0m\u001b[0;34m+\u001b[0m\u001b[0mclimate_model\u001b[0m\u001b[0;34m+\u001b[0m\u001b[0mscenarios_dict\u001b[0m\u001b[0;34m[\u001b[0m\u001b[0mscenario_key\u001b[0m\u001b[0;34m]\u001b[0m\u001b[0;34m+\u001b[0m\u001b[0;34m'bi50.csv'\u001b[0m\u001b[0;34m\u001b[0m\u001b[0m\n\u001b[0;32m---> 29\u001b[0;31m         \u001b[0mclimate_df\u001b[0m \u001b[0;34m=\u001b[0m \u001b[0mpd\u001b[0m\u001b[0;34m.\u001b[0m\u001b[0mread_csv\u001b[0m\u001b[0;34m(\u001b[0m\u001b[0mclimate_df_path\u001b[0m\u001b[0;34m)\u001b[0m\u001b[0;34m\u001b[0m\u001b[0m\n\u001b[0m\u001b[1;32m     30\u001b[0m         \u001b[0mclimate_df\u001b[0m \u001b[0;34m=\u001b[0m \u001b[0mclimate_df\u001b[0m\u001b[0;34m.\u001b[0m\u001b[0mset_index\u001b[0m\u001b[0;34m(\u001b[0m\u001b[0;34m'pixel_id'\u001b[0m\u001b[0;34m)\u001b[0m\u001b[0;34m\u001b[0m\u001b[0m\n\u001b[1;32m     31\u001b[0m \u001b[0;34m\u001b[0m\u001b[0m\n",
      "\u001b[0;32m~/anaconda/envs/spatialenv/lib/python3.6/site-packages/pandas/io/parsers.py\u001b[0m in \u001b[0;36mparser_f\u001b[0;34m(filepath_or_buffer, sep, delimiter, header, names, index_col, usecols, squeeze, prefix, mangle_dupe_cols, dtype, engine, converters, true_values, false_values, skipinitialspace, skiprows, nrows, na_values, keep_default_na, na_filter, verbose, skip_blank_lines, parse_dates, infer_datetime_format, keep_date_col, date_parser, dayfirst, iterator, chunksize, compression, thousands, decimal, lineterminator, quotechar, quoting, escapechar, comment, encoding, dialect, tupleize_cols, error_bad_lines, warn_bad_lines, skipfooter, skip_footer, doublequote, delim_whitespace, as_recarray, compact_ints, use_unsigned, low_memory, buffer_lines, memory_map, float_precision)\u001b[0m\n\u001b[1;32m    707\u001b[0m                     skip_blank_lines=skip_blank_lines)\n\u001b[1;32m    708\u001b[0m \u001b[0;34m\u001b[0m\u001b[0m\n\u001b[0;32m--> 709\u001b[0;31m         \u001b[0;32mreturn\u001b[0m \u001b[0m_read\u001b[0m\u001b[0;34m(\u001b[0m\u001b[0mfilepath_or_buffer\u001b[0m\u001b[0;34m,\u001b[0m \u001b[0mkwds\u001b[0m\u001b[0;34m)\u001b[0m\u001b[0;34m\u001b[0m\u001b[0m\n\u001b[0m\u001b[1;32m    710\u001b[0m \u001b[0;34m\u001b[0m\u001b[0m\n\u001b[1;32m    711\u001b[0m     \u001b[0mparser_f\u001b[0m\u001b[0;34m.\u001b[0m\u001b[0m__name__\u001b[0m \u001b[0;34m=\u001b[0m \u001b[0mname\u001b[0m\u001b[0;34m\u001b[0m\u001b[0m\n",
      "\u001b[0;32m~/anaconda/envs/spatialenv/lib/python3.6/site-packages/pandas/io/parsers.py\u001b[0m in \u001b[0;36m_read\u001b[0;34m(filepath_or_buffer, kwds)\u001b[0m\n\u001b[1;32m    447\u001b[0m \u001b[0;34m\u001b[0m\u001b[0m\n\u001b[1;32m    448\u001b[0m     \u001b[0;31m# Create the parser.\u001b[0m\u001b[0;34m\u001b[0m\u001b[0;34m\u001b[0m\u001b[0m\n\u001b[0;32m--> 449\u001b[0;31m     \u001b[0mparser\u001b[0m \u001b[0;34m=\u001b[0m \u001b[0mTextFileReader\u001b[0m\u001b[0;34m(\u001b[0m\u001b[0mfilepath_or_buffer\u001b[0m\u001b[0;34m,\u001b[0m \u001b[0;34m**\u001b[0m\u001b[0mkwds\u001b[0m\u001b[0;34m)\u001b[0m\u001b[0;34m\u001b[0m\u001b[0m\n\u001b[0m\u001b[1;32m    450\u001b[0m \u001b[0;34m\u001b[0m\u001b[0m\n\u001b[1;32m    451\u001b[0m     \u001b[0;32mif\u001b[0m \u001b[0mchunksize\u001b[0m \u001b[0;32mor\u001b[0m \u001b[0miterator\u001b[0m\u001b[0;34m:\u001b[0m\u001b[0;34m\u001b[0m\u001b[0m\n",
      "\u001b[0;32m~/anaconda/envs/spatialenv/lib/python3.6/site-packages/pandas/io/parsers.py\u001b[0m in \u001b[0;36m__init__\u001b[0;34m(self, f, engine, **kwds)\u001b[0m\n\u001b[1;32m    816\u001b[0m             \u001b[0mself\u001b[0m\u001b[0;34m.\u001b[0m\u001b[0moptions\u001b[0m\u001b[0;34m[\u001b[0m\u001b[0;34m'has_index_names'\u001b[0m\u001b[0;34m]\u001b[0m \u001b[0;34m=\u001b[0m \u001b[0mkwds\u001b[0m\u001b[0;34m[\u001b[0m\u001b[0;34m'has_index_names'\u001b[0m\u001b[0;34m]\u001b[0m\u001b[0;34m\u001b[0m\u001b[0m\n\u001b[1;32m    817\u001b[0m \u001b[0;34m\u001b[0m\u001b[0m\n\u001b[0;32m--> 818\u001b[0;31m         \u001b[0mself\u001b[0m\u001b[0;34m.\u001b[0m\u001b[0m_make_engine\u001b[0m\u001b[0;34m(\u001b[0m\u001b[0mself\u001b[0m\u001b[0;34m.\u001b[0m\u001b[0mengine\u001b[0m\u001b[0;34m)\u001b[0m\u001b[0;34m\u001b[0m\u001b[0m\n\u001b[0m\u001b[1;32m    819\u001b[0m \u001b[0;34m\u001b[0m\u001b[0m\n\u001b[1;32m    820\u001b[0m     \u001b[0;32mdef\u001b[0m \u001b[0mclose\u001b[0m\u001b[0;34m(\u001b[0m\u001b[0mself\u001b[0m\u001b[0;34m)\u001b[0m\u001b[0;34m:\u001b[0m\u001b[0;34m\u001b[0m\u001b[0m\n",
      "\u001b[0;32m~/anaconda/envs/spatialenv/lib/python3.6/site-packages/pandas/io/parsers.py\u001b[0m in \u001b[0;36m_make_engine\u001b[0;34m(self, engine)\u001b[0m\n\u001b[1;32m   1047\u001b[0m     \u001b[0;32mdef\u001b[0m \u001b[0m_make_engine\u001b[0m\u001b[0;34m(\u001b[0m\u001b[0mself\u001b[0m\u001b[0;34m,\u001b[0m \u001b[0mengine\u001b[0m\u001b[0;34m=\u001b[0m\u001b[0;34m'c'\u001b[0m\u001b[0;34m)\u001b[0m\u001b[0;34m:\u001b[0m\u001b[0;34m\u001b[0m\u001b[0m\n\u001b[1;32m   1048\u001b[0m         \u001b[0;32mif\u001b[0m \u001b[0mengine\u001b[0m \u001b[0;34m==\u001b[0m \u001b[0;34m'c'\u001b[0m\u001b[0;34m:\u001b[0m\u001b[0;34m\u001b[0m\u001b[0m\n\u001b[0;32m-> 1049\u001b[0;31m             \u001b[0mself\u001b[0m\u001b[0;34m.\u001b[0m\u001b[0m_engine\u001b[0m \u001b[0;34m=\u001b[0m \u001b[0mCParserWrapper\u001b[0m\u001b[0;34m(\u001b[0m\u001b[0mself\u001b[0m\u001b[0;34m.\u001b[0m\u001b[0mf\u001b[0m\u001b[0;34m,\u001b[0m \u001b[0;34m**\u001b[0m\u001b[0mself\u001b[0m\u001b[0;34m.\u001b[0m\u001b[0moptions\u001b[0m\u001b[0;34m)\u001b[0m\u001b[0;34m\u001b[0m\u001b[0m\n\u001b[0m\u001b[1;32m   1050\u001b[0m         \u001b[0;32melse\u001b[0m\u001b[0;34m:\u001b[0m\u001b[0;34m\u001b[0m\u001b[0m\n\u001b[1;32m   1051\u001b[0m             \u001b[0;32mif\u001b[0m \u001b[0mengine\u001b[0m \u001b[0;34m==\u001b[0m \u001b[0;34m'python'\u001b[0m\u001b[0;34m:\u001b[0m\u001b[0;34m\u001b[0m\u001b[0m\n",
      "\u001b[0;32m~/anaconda/envs/spatialenv/lib/python3.6/site-packages/pandas/io/parsers.py\u001b[0m in \u001b[0;36m__init__\u001b[0;34m(self, src, **kwds)\u001b[0m\n\u001b[1;32m   1693\u001b[0m         \u001b[0mkwds\u001b[0m\u001b[0;34m[\u001b[0m\u001b[0;34m'allow_leading_cols'\u001b[0m\u001b[0;34m]\u001b[0m \u001b[0;34m=\u001b[0m \u001b[0mself\u001b[0m\u001b[0;34m.\u001b[0m\u001b[0mindex_col\u001b[0m \u001b[0;32mis\u001b[0m \u001b[0;32mnot\u001b[0m \u001b[0;32mFalse\u001b[0m\u001b[0;34m\u001b[0m\u001b[0m\n\u001b[1;32m   1694\u001b[0m \u001b[0;34m\u001b[0m\u001b[0m\n\u001b[0;32m-> 1695\u001b[0;31m         \u001b[0mself\u001b[0m\u001b[0;34m.\u001b[0m\u001b[0m_reader\u001b[0m \u001b[0;34m=\u001b[0m \u001b[0mparsers\u001b[0m\u001b[0;34m.\u001b[0m\u001b[0mTextReader\u001b[0m\u001b[0;34m(\u001b[0m\u001b[0msrc\u001b[0m\u001b[0;34m,\u001b[0m \u001b[0;34m**\u001b[0m\u001b[0mkwds\u001b[0m\u001b[0;34m)\u001b[0m\u001b[0;34m\u001b[0m\u001b[0m\n\u001b[0m\u001b[1;32m   1696\u001b[0m \u001b[0;34m\u001b[0m\u001b[0m\n\u001b[1;32m   1697\u001b[0m         \u001b[0;31m# XXX\u001b[0m\u001b[0;34m\u001b[0m\u001b[0;34m\u001b[0m\u001b[0m\n",
      "\u001b[0;32mpandas/_libs/parsers.pyx\u001b[0m in \u001b[0;36mpandas._libs.parsers.TextReader.__cinit__\u001b[0;34m()\u001b[0m\n",
      "\u001b[0;32mpandas/_libs/parsers.pyx\u001b[0m in \u001b[0;36mpandas._libs.parsers.TextReader._setup_parser_source\u001b[0;34m()\u001b[0m\n",
      "\u001b[0;31mFileNotFoundError\u001b[0m: File b'../Data/intermediate/Climate_csvs/gs26bi50.csv' does not exist"
     ]
    }
   ],
   "source": [
    "scenarios_dict = {'RCP2.6_SSP1':'26', 'RCP4.5_SSP2':'45','RCP7.0_SSP3':'60',\n",
    "                 'RCP6.0_SSP4':'60','RCP8.5_SSP5':'85'}\n",
    "\n",
    "LU_df_cur = pd.read_csv('../Data/intermediate/LU_csvs/Cropmask_lulc_esa_2015.csv')\n",
    "LU_df_cur = LU_df_cur.set_index('pixel_id')\n",
    "    \n",
    "for climate_model in ['cc','he','mr','gs']:\n",
    "    print('Climate model: '+climate_model)\n",
    "    for scenario_key in scenarios_dict.keys():\n",
    "        print(scenario_key[-4:])\n",
    "        \n",
    "        # Load LU_df + climate_df + Pop_df to create future_df\n",
    "        print('... Loading climate, pop and LU csvs')\n",
    "        \n",
    "        #Old: to get LULC\n",
    "        #LU_df_path = '../Data/intermediate/LU_csvs/lulc_'+scenario_key+'.csv'\n",
    "        #LU_df = pd.read_csv(LU_df_path)\n",
    "        #LU_df['cropland'] = LU_df['lulc'].apply(lambda lulc:(1 if lulc==2 else 0))\n",
    "        #LU_df = LU_df.set_index('pixel_id')\n",
    "        \n",
    "        LU_df_path = '../Data/intermediate/LU_csvs/Cropmask_lulc_'+scenario_key+'.csv'\n",
    "        LU_df = pd.read_csv(LU_df_path)\n",
    "        LU_df = LU_df.set_index('pixel_id')\n",
    "        \n",
    "        LU_df = LU_df.merge(pd.DataFrame(LU_df_cur['%cropland']).rename({'%cropland':'%cropland 2000'},axis=1),\n",
    "                            how='outer',right_index=True,left_index=True)\n",
    "       \n",
    "        climate_df_path = '../Data/intermediate/Climate_csvs/'+climate_model+scenarios_dict[scenario_key]+'bi50.csv'\n",
    "        climate_df = pd.read_csv(climate_df_path)\n",
    "        climate_df = climate_df.set_index('pixel_id')\n",
    "        \n",
    "        Pop_df_path = '../Data/intermediate/Population_csvs/'+scenario_key[-4:]+'_geotiff_tot_5m.csv'\n",
    "        Pop_df = pd.read_csv(Pop_df_path)\n",
    "        Pop_df['log_gpw_population'] = Pop_df['gpw_population'].apply(lambda x:np.log(x) if x!=0 else 0)\n",
    "        Pop_df = Pop_df[['pixel_id','log_gpw_population']].set_index('pixel_id')\n",
    "\n",
    "        future_df = create_future_df(LU_df, climate_df, Pop_df)\n",
    "        \n",
    "        # Run model\n",
    "        print('... Run model')\n",
    "        future_df = run_model_on_future_df(future_df)\n",
    "        \n",
    "        #Save results\n",
    "        print('... Saving results')\n",
    "        final_df = export_future_df(future_df,\n",
    "                                    save_name='Prelim_results_for_students/'+scenario_key[-4:]+'_'+climate_model)\n",
    "\n",
    "        #Viz\n",
    "        #visualize_data(final_df,'Change_in_Production',colorscheme = 'diverging')\n",
    "        "
   ]
  },
  {
   "cell_type": "code",
   "execution_count": 50,
   "metadata": {},
   "outputs": [
    {
     "data": {
      "image/png": "[encoded data removed]",
      "text/plain": [
       "<Figure size 1440x1080 with 2 Axes>"
      ]
     },
     "metadata": {},
     "output_type": "display_data"
    }
   ],
   "source": [
    "visualize_data(expo,'Change_in_Production',colorscheme = 'diverging')"
   ]
  },
  {
   "cell_type": "markdown",
   "metadata": {},
   "source": [
    "# Visualization functions"
   ]
  },
  {
   "cell_type": "code",
   "execution_count": 44,
   "metadata": {},
   "outputs": [],
   "source": [
    "## Geographical visualization function\n",
    "def visualize_data(df,col_name,savefig=False,colorscheme='diverging',\n",
    "                   shape=(2160,4320),title=None,resize=False):\n",
    "\n",
    "    \n",
    "    fig,axes = plt.subplots(1, 1, figsize=(20,15))\n",
    "\n",
    "    # -- Prepare data --\n",
    "    #Make a zeros_df of length 9331200\n",
    "    match_af = hb.ArrayFrame(match_raster)\n",
    "    zeros_array = np.zeros(match_af.size)\n",
    "    zeros_df = pd.DataFrame(zeros_array)\n",
    "    DF = df[col_name].reset_index()\n",
    "    ### Merge with zeros_df to include non-ag pixels\n",
    "    full_df = pd.merge(zeros_df, DF, left_index=True, right_on='pixel_id', how='outer')\n",
    "    \n",
    "    ## -- Plot column --\n",
    "    \n",
    "    #Colorscale\n",
    "    if colorscheme == 'diverging':\n",
    "        raw_cmap =  plt.get_cmap('PiYG')\n",
    "        cmap = customColorMap(raw_cmap, full_df[col_name],resize)\n",
    "    elif colorscheme == 'sequential':\n",
    "        raw_cmap = plt.get_cmap('inferno_r') #alternatively 'magma'\n",
    "        cmap = customColorMap(raw_cmap, full_df[col_name],resize)\n",
    "    #else:\n",
    "        #cmap = replicateColorMap(colorscheme,vmin=14.022869333967861,vmax=19.24083736317894)\n",
    "        \n",
    "    \n",
    "    \n",
    "    \n",
    "    #Plot data\n",
    "    data = np.array(full_df[col_name])\n",
    "    bm = Basemap()\n",
    "    im = bm.imshow(np.flipud(data.reshape(shape)),cmap=cmap)\n",
    "    bm.drawcoastlines(linewidth=0.15, color='0.1')\n",
    "    \n",
    "    cbar = plt.colorbar(im, orientation='vertical',fraction=0.0234, pad=0.04)\n",
    "    \n",
    "    if title == None:\n",
    "        plt.title(col_name)\n",
    "    else:\n",
    "        plt.title(title)\n",
    "    plt.show()\n",
    "  \n",
    "    if savefig != False:\n",
    "        fig.savefig(savefig)\n",
    "        \n",
    "   #if colorscheme != cmap:    \n",
    "   #     return cmap\n",
    "\n",
    "def customColorMap(cmap, serie, resize=False, name='blabla'):\n",
    "    '''Charlie's function to re-center and re-size colormap'''\n",
    "    \n",
    "    vmax = serie.max()\n",
    "    vmin = serie.min()\n",
    "    midpoint= 1 - vmax / (vmax + abs(vmin))\n",
    "    #print(vmin,vmax,midpoint)\n",
    "    \n",
    "    \n",
    "    if resize!=False: \n",
    "        start=resize[0]\n",
    "        stop =resize[1]\n",
    "        ### Could do directly with quantiles e.g  start = 1 / (serie.quantile(0.1) / serie.min() )\n",
    "        ### And stop =  1 / (serie.quantile(0.9) / serie.max() )\n",
    "    else:\n",
    "        start = 0\n",
    "        stop  = 1\n",
    "    \n",
    "    cdict = {\n",
    "        'red': [],\n",
    "        'green': [],\n",
    "        'blue': [],\n",
    "        'alpha': []\n",
    "    }\n",
    "\n",
    "    # regular index to compute the colors\n",
    "    reg_index = np.linspace(start, stop, 257)\n",
    "\n",
    "    # shifted index to match the data\n",
    "    shift_index = np.hstack([\n",
    "        np.linspace(0.0, midpoint, 128, endpoint=False), \n",
    "        np.linspace(midpoint, 1.0, 129, endpoint=True)\n",
    "    ])\n",
    "\n",
    "    for ri, si in zip(reg_index, shift_index):\n",
    "        r, g, b, a = cmap(ri)\n",
    "\n",
    "        cdict['red'].append((si, r, r))\n",
    "        cdict['green'].append((si, g, g))\n",
    "        cdict['blue'].append((si, b, b))\n",
    "        cdict['alpha'].append((si, a, a))\n",
    "\n",
    "    newcmap = matplotlib.colors.LinearSegmentedColormap(name, cdict)\n",
    "    plt.register_cmap(cmap=newcmap)\n",
    "\n",
    "    return newcmap"
   ]
  },
  {
   "cell_type": "code",
   "execution_count": null,
   "metadata": {},
   "outputs": [],
   "source": [
    "# Visualize input raster ??\n",
    "\n",
    "def plot_col(df, col_name, shape=(2160, 4320)):\n",
    "    m = np.array(df[col_name])\n",
    "    bm = Basemap()\n",
    "    im = bm.imshow(np.flipud(m.reshape(shape)))\n",
    "    bm.drawcoastlines(linewidth=0.15, color='0.1')\n",
    "    cbar = plt.colorbar(im, orientation='horizontal')\n",
    "    plt.title(col_name)\n",
    "    plt.show()"
   ]
  },
  {
   "cell_type": "markdown",
   "metadata": {
    "heading_collapsed": true
   },
   "source": [
    "# Various: nc files, reclassify"
   ]
  },
  {
   "cell_type": "code",
   "execution_count": null,
   "metadata": {
    "hidden": true
   },
   "outputs": [],
   "source": [
    "# To extract NC files, use this HB funciton:\n",
    "hb.extract_luh_netcdf_to_geotiffs(states_path, output_dir, year - 2015)  # 0 = 2015, last year is 85=2100"
   ]
  },
  {
   "cell_type": "code",
   "execution_count": null,
   "metadata": {
    "hidden": true
   },
   "outputs": [],
   "source": [
    "# Here's the recategorization i used,  notated as [ESA class] = [SEALS output class, 'esa description', 'seals description']:\n",
    "\n",
    "p.esacci_to_seals_simplified_correspondence = OrderedDict()\n",
    "p.esacci_to_seals_simplified_correspondence[0] = [0, 'ndv', 'ndv']\n",
    "p.esacci_to_seals_simplified_correspondence[10] = [2, 'crop_rainfed', 'crop']\n",
    "p.esacci_to_seals_simplified_correspondence[11] = [2, 'crop_rainfed_herb', 'crop']\n",
    "p.esacci_to_seals_simplified_correspondence[12] = [2, 'crop_rainfed_tree', 'crop']\n",
    "p.esacci_to_seals_simplified_correspondence[20] = [2, 'crop_irrigated', 'crop']\n",
    "p.esacci_to_seals_simplified_correspondence[30] = [2, 'crop_natural_mosaic', 'crop']\n",
    "p.esacci_to_seals_simplified_correspondence[40] = [2, 'natural_crop_mosaic', 'crop']\n",
    "p.esacci_to_seals_simplified_correspondence[50] = [4, 'tree_broadleaved_evergreen', 'forest']\n",
    "p.esacci_to_seals_simplified_correspondence[60] = [4, 'tree_broadleaved_deciduous_closed_to_open_15', 'forest']\n",
    "p.esacci_to_seals_simplified_correspondence[61] = [4, 'tree_broadleaved_deciduous_closed_40', 'forest']\n",
    "p.esacci_to_seals_simplified_correspondence[62] = [4, 'tree_broadleaved_deciduous_open_15_40', 'forest']\n",
    "p.esacci_to_seals_simplified_correspondence[70] = [4, 'tree_needleleaved_deciduous_closed_to_open_15', 'forest']\n",
    "p.esacci_to_seals_simplified_correspondence[71] = [4, 'tree_needleleaved_evergreen_closed_to_open_15_extended', 'forest']\n",
    "p.esacci_to_seals_simplified_correspondence[72] = [4, 'tree_needleleaved_evergreen_open_15_40', 'forest']\n",
    "p.esacci_to_seals_simplified_correspondence[80] = [4, 'tree_needleleaved_deciduous_closed_to_open_15', 'forest']\n",
    "p.esacci_to_seals_simplified_correspondence[81] = [4, 'tree_needleleaved_deciduous_closed_40', 'forest']\n",
    "p.esacci_to_seals_simplified_correspondence[82] = [4, 'tree_needleleaved_deciduous_open_15_40', 'forest']\n",
    "p.esacci_to_seals_simplified_correspondence[90] = [4, 'tree_mixed_type', 'forest']\n",
    "p.esacci_to_seals_simplified_correspondence[100] = [4, 'mosaic_tree_and_shrub_50_herbaceous_cover_50', 'forest']\n",
    "p.esacci_to_seals_simplified_correspondence[110] = [5, 'mosaic_herbaceous_cover_50_tree_and_shrub_50', 'shrubland']\n",
    "p.esacci_to_seals_simplified_correspondence[120] = [5, 'shrubland', 'shrubland']\n",
    "p.esacci_to_seals_simplified_correspondence[121] = [5, 'evergreen_shrubland', 'shrubland']\n",
    "p.esacci_to_seals_simplified_correspondence[122] = [5, 'deciduous_shrubland_', 'shrubland']\n",
    "p.esacci_to_seals_simplified_correspondence[130] = [3, 'grassland', 'grassland']\n",
    "p.esacci_to_seals_simplified_correspondence[140] = [5, 'lichens_and_mosses', 'shrubland']\n",
    "p.esacci_to_seals_simplified_correspondence[150] = [5, 'sparse_vegetation_tree_shrub_herbaceous_cover_15', 'shrubland']\n",
    "p.esacci_to_seals_simplified_correspondence[151] = [4, 'sparse_tree_15', 'forest']\n",
    "p.esacci_to_seals_simplified_correspondence[152] = [5, 'sparse_shrub_15', 'shrubland']\n",
    "p.esacci_to_seals_simplified_correspondence[153] = [5, 'sparse_herbaceous_cover_15', 'shrubland']\n",
    "p.esacci_to_seals_simplified_correspondence[160] = [4, 'tree_cover_flooded_fresh_or_brakish_water', 'forest']\n",
    "p.esacci_to_seals_simplified_correspondence[170] = [4, 'tree_cover_flooded_saline_water', 'forest']\n",
    "p.esacci_to_seals_simplified_correspondence[180] = [5, 'shrub_or_herbaceous_cover_flooded_fresh_saline_brakish_water', 'shrubland']\n",
    "p.esacci_to_seals_simplified_correspondence[190] = [1, 'urban_areas', 'urban']\n",
    "p.esacci_to_seals_simplified_correspondence[200] = [7, 'bare_areas', 'other']\n",
    "p.esacci_to_seals_simplified_correspondence[201] = [7, 'consolidated_bare_areas', 'other']\n",
    "p.esacci_to_seals_simplified_correspondence[202] = [7, 'unconsolidated_bare_areas', 'other']\n",
    "p.esacci_to_seals_simplified_correspondence[210] = [6, 'water_bodies', 'water']\n",
    "p.esacci_to_seals_simplified_correspondence[220] = [7, 'permanent_snow_and_ice', 'other']"
   ]
  }
 ],
 "metadata": {
  "kernelspec": {
   "display_name": "Python [conda env:spatialenv]",
   "language": "python",
   "name": "conda-env-spatialenv-py"
  },
  "language_info": {
   "codemirror_mode": {
    "name": "ipython",
    "version": 3
   },
   "file_extension": ".py",
   "mimetype": "text/x-python",
   "name": "python",
   "nbconvert_exporter": "python",
   "pygments_lexer": "ipython3",
   "version": "3.6.5"
  },
  "toc": {
   "base_numbering": 1,
   "nav_menu": {},
   "number_sections": true,
   "sideBar": true,
   "skip_h1_title": false,
   "title_cell": "Table of Contents",
   "title_sidebar": "Contents",
   "toc_cell": false,
   "toc_position": {},
   "toc_section_display": true,
   "toc_window_display": false
  }
 },
 "nbformat": 4,
 "nbformat_minor": 2
}
