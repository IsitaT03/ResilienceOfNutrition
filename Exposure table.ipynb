{
 "cells": [
  {
   "cell_type": "code",
   "execution_count": 1,
   "metadata": {},
   "outputs": [],
   "source": [
    "import hazelbean as hb\n",
    "import numpy as np\n",
    "import pandas as pd\n",
    "import geopandas as gpd\n",
    "\n",
    "import matplotlib\n",
    "import matplotlib.pyplot as plt\n",
    "\n",
    "import os"
   ]
  },
  {
   "cell_type": "code",
   "execution_count": 4,
   "metadata": {},
   "outputs": [],
   "source": [
    "ssp_list = ['ssp1','ssp2','ssp3','ssp4','ssp5']\n",
    "ssps_list = ['ssp1','ssp2','ssp3','ssp4','ssp5']\n",
    "rcp_list = ['26','45','60','60','85']\n",
    "gcm_list = ['cc','gs','he','mr']\n",
    "\n",
    "Changing = 'Climate+LU_Change'\n",
    "modelnm = 'xgb3_Allinputs'\n",
    "match_raster = '../Data/inputs/Base/country_ids.tif'"
   ]
  },
  {
   "cell_type": "markdown",
   "metadata": {
    "heading_collapsed": true
   },
   "source": [
    "# ΔLU"
   ]
  },
  {
   "cell_type": "markdown",
   "metadata": {
    "hidden": true
   },
   "source": [
    "Metric: change in total bio hectares cropland"
   ]
  },
  {
   "cell_type": "code",
   "execution_count": 8,
   "metadata": {
    "hidden": true
   },
   "outputs": [
    {
     "data": {
      "text/plain": [
       "2.5594917702605766"
      ]
     },
     "execution_count": 8,
     "metadata": {},
     "output_type": "execute_result"
    }
   ],
   "source": [
    "lu = pd.read_csv('../Data/intermediate/LU_csvs/Cropmask_lulc_esa_2000.csv')\n",
    "lu = lu.set_index('pixel_id')\n",
    "\n",
    "hectares = pd.read_csv('../Data/intermediate/Crop_csvs/ha_per_pixel.csv')\n",
    "hectares = hectares.set_index('pixel_id')\n",
    "\n",
    "lu = lu.merge(hectares[['ha_per_pixel']], right_index=True,left_index=True,how='inner')\n",
    "lu.head()\n",
    "\n",
    "lu['ha_cropland'] = lu['%cropland'] * lu['ha_per_pixel']\n",
    "LU_2000 = lu['ha_cropland'].sum()/1e9\n",
    "LU_2000"
   ]
  },
  {
   "cell_type": "code",
   "execution_count": 16,
   "metadata": {
    "hidden": true
   },
   "outputs": [
    {
     "name": "stdout",
     "output_type": "stream",
     "text": [
      "ssp1: Total bio cropland: 2.49, ΔCropland(mio ha):-68\n",
      "ssp2: Total bio cropland: 2.70, ΔCropland(mio ha):142\n",
      "ssp3: Total bio cropland: 2.76, ΔCropland(mio ha):196\n",
      "ssp4: Total bio cropland: 2.73, ΔCropland(mio ha):166\n",
      "ssp5: Total bio cropland: 2.79, ΔCropland(mio ha):226\n"
     ]
    }
   ],
   "source": [
    "for rcp,ssp in zip(rcp_list,ssp_list):\n",
    "    lu = pd.read_csv('../Data/intermediate/LU_csvs/Cropmask_lulc_RCP'+rcp+'_'+ssp+'.csv')\n",
    "    lu = lu.set_index('pixel_id')\n",
    "\n",
    "    hectares = pd.read_csv('../Data/intermediate/Crop_csvs/ha_per_pixel.csv')\n",
    "    hectares = hectares.set_index('pixel_id')\n",
    "\n",
    "    lu = lu.merge(hectares[['ha_per_pixel']], right_index=True,left_index=True,how='inner')\n",
    "    lu.head()\n",
    "\n",
    "    lu['ha_cropland'] = lu['%cropland'] * lu['ha_per_pixel']\n",
    "    tot = lu['ha_cropland'].sum()/1e9\n",
    "    dif = (tot - LU_2000 )*1e3\n",
    "    print('{}: Total bio cropland: {:.2f}, ΔCropland(mio ha):{:.0f}'.format(ssp,tot,dif))"
   ]
  },
  {
   "cell_type": "markdown",
   "metadata": {},
   "source": [
    "# ΔClimate"
   ]
  },
  {
   "cell_type": "code",
   "execution_count": 32,
   "metadata": {},
   "outputs": [],
   "source": [
    "climate_vars = ['Annual Mean Temperature', 'Mean Diurnal Range',\n",
    "       'Isothermality', 'Temperature Seasonality',\n",
    "       'Max Temperature of Warmest Month', 'Min Temperature of Coldest Month',\n",
    "       'Temperature Annual Range', 'Annual Precipitation',\n",
    "       'Precipitation of Wettest Month', 'Precipitation of Driest Month',\n",
    "       'Precipitation Seasonality']"
   ]
  },
  {
   "cell_type": "markdown",
   "metadata": {},
   "source": [
    "## Normalization"
   ]
  },
  {
   "cell_type": "markdown",
   "metadata": {},
   "source": [
    "### Find extrema across all SSPs, GCMs and pixels"
   ]
  },
  {
   "cell_type": "code",
   "execution_count": 37,
   "metadata": {},
   "outputs": [],
   "source": [
    "# Dictionaries with key = climate_vars , value = extrema\n",
    "max_dict = dict.fromkeys(climate_vars,0)\n",
    "min_dict = dict.fromkeys(climate_vars,0)"
   ]
  },
  {
   "cell_type": "code",
   "execution_count": 36,
   "metadata": {},
   "outputs": [
    {
     "data": {
      "text/plain": [
       "{'Annual Mean Temperature': 350,\n",
       " 'Mean Diurnal Range': 219,\n",
       " 'Isothermality': 96.6964857388604,\n",
       " 'Temperature Seasonality': 22656,\n",
       " 'Max Temperature of Warmest Month': 533,\n",
       " 'Min Temperature of Coldest Month': 280,\n",
       " 'Temperature Annual Range': 735,\n",
       " 'Annual Precipitation': 11339,\n",
       " 'Precipitation of Wettest Month': 2760,\n",
       " 'Precipitation of Driest Month': 738,\n",
       " 'Precipitation Seasonality': 270}"
      ]
     },
     "execution_count": 36,
     "metadata": {},
     "output_type": "execute_result"
    }
   ],
   "source": [
    "# Find global max for all climate vars\n",
    "climate_csvs_dir = '../Data/intermediate/Climate_csvs'\n",
    "\n",
    "for climate_var in climate_vars:\n",
    "    global_max = 0\n",
    "    for csv in os.listdir(climate_csvs_dir):\n",
    "        if csv.endswith('.csv'):\n",
    "            df = pd.read_csv(os.path.join(climate_csvs_dir,csv))\n",
    "            df = df.set_index('pixel_id')\n",
    "                             \n",
    "            local_max = df[climate_var].max()\n",
    "            global_max = max(global_max,local_max)\n",
    "    max_dict[climate_var] = global_max\n",
    "max_dict"
   ]
  },
  {
   "cell_type": "code",
   "execution_count": null,
   "metadata": {},
   "outputs": [],
   "source": [
    "# Find global min for all climate vars\n",
    "\n",
    "for climate_var in climate_vars:\n",
    "    global_min = 0\n",
    "    for csv in os.listdir(climate_csvs_dir):\n",
    "        if csv.endswith('.csv'):\n",
    "            df = pd.read_csv(os.path.join(climate_csvs_dir,csv))\n",
    "            df = df.set_index('pixel_id')\n",
    "                             \n",
    "            local_min = df[climate_var].min()\n",
    "            global_min = max(global_min,local_min)\n",
    "    min_dict[climate_var] = global_min\n",
    "min_dict"
   ]
  },
  {
   "cell_type": "markdown",
   "metadata": {},
   "source": [
    "### Normalize"
   ]
  },
  {
   "cell_type": "code",
   "execution_count": null,
   "metadata": {},
   "outputs": [],
   "source": [
    "TODO"
   ]
  },
  {
   "cell_type": "markdown",
   "metadata": {},
   "source": [
    "## Make vectors of Δbioclim vars for each pixel (computationally crazy...)"
   ]
  },
  {
   "cell_type": "code",
   "execution_count": null,
   "metadata": {},
   "outputs": [],
   "source": []
  },
  {
   "cell_type": "code",
   "execution_count": null,
   "metadata": {},
   "outputs": [],
   "source": []
  },
  {
   "cell_type": "markdown",
   "metadata": {},
   "source": [
    "# ΔMgt"
   ]
  },
  {
   "cell_type": "code",
   "execution_count": null,
   "metadata": {},
   "outputs": [],
   "source": []
  },
  {
   "cell_type": "markdown",
   "metadata": {
    "heading_collapsed": true
   },
   "source": [
    "# ΔDiet"
   ]
  },
  {
   "cell_type": "markdown",
   "metadata": {
    "heading_collapsed": true
   },
   "source": [
    "# ΔPop"
   ]
  },
  {
   "cell_type": "code",
   "execution_count": 25,
   "metadata": {
    "hidden": true
   },
   "outputs": [
    {
     "data": {
      "text/plain": [
       "5.976296907318532"
      ]
     },
     "execution_count": 25,
     "metadata": {},
     "output_type": "execute_result"
    }
   ],
   "source": [
    "cur = pd.read_csv(os.path.join('../Data/intermediate/Population_csvs','2000.csv'))\n",
    "cur = cur.set_index('pixel_id')\n",
    "cur_pop = cur['gpw_population'].sum()/1e9\n",
    "cur_pop"
   ]
  },
  {
   "cell_type": "code",
   "execution_count": 26,
   "metadata": {
    "hidden": true
   },
   "outputs": [
    {
     "name": "stdout",
     "output_type": "stream",
     "text": [
      "ssp5 2.271805529681468\n",
      "ssp4 2.7466757166814686\n",
      "ssp1 1.9736298066814681\n",
      "ssp3 3.953020077681468\n",
      "ssp2 2.2342945666814673\n"
     ]
    }
   ],
   "source": [
    "for csv in os.listdir('../Data/intermediate/Population_csvs'):\n",
    "    if csv.startswith(\"adjusted\"): \n",
    "        df = pd.read_csv(os.path.join('../Data/intermediate/Population_csvs',csv))\n",
    "        df = df.set_index('pixel_id')\n",
    "        tot = df['gpw_population'].sum()/1e9 - cur_pop\n",
    "        print(csv[-8:-4]+' '+str(tot))"
   ]
  },
  {
   "cell_type": "markdown",
   "metadata": {
    "heading_collapsed": true
   },
   "source": [
    "# ΔProd"
   ]
  },
  {
   "cell_type": "code",
   "execution_count": 17,
   "metadata": {
    "hidden": true
   },
   "outputs": [],
   "source": [
    "def load_results(ssp,\n",
    "                 Changing = 'All_Change',\n",
    "                 modelnm = 'xgb3_Allinputs'):\n",
    "    df = pd.read_csv('../Data/outputs/Model_results/'+Changing+'/'+modelnm+'/'+ssp+'_composite.csv')\n",
    "    df = df.set_index('pixel_id')\n",
    "    return df"
   ]
  },
  {
   "cell_type": "code",
   "execution_count": 22,
   "metadata": {
    "hidden": true
   },
   "outputs": [
    {
     "name": "stdout",
     "output_type": "stream",
     "text": [
      "2000: Tot Prod: 16.8e18 cal\n",
      "ssp1: Tot Prod: 15.4e18 cal   ΔProd: -1.4/-1.5e18 cal\n",
      "ssp2: Tot Prod: 16.0e18 cal   ΔProd: -0.8/-0.8e18 cal\n",
      "ssp3: Tot Prod: 15.5e18 cal   ΔProd: -1.4/-1.3e18 cal\n",
      "ssp4: Tot Prod: 15.7e18 cal   ΔProd: -1.2/-1.2e18 cal\n",
      "ssp5: Tot Prod: 17.0e18 cal   ΔProd: 0.2/0.2e18 cal\n"
     ]
    }
   ],
   "source": [
    "col = 'Calories 2050'\n",
    "\n",
    "cur_prod = load_results(ssp)['Calories 2000'].sum()/1e18\n",
    "print('2000: Tot Prod: {:.1f}e18 cal'.format(cur_prod))\n",
    "\n",
    "for ssp in ssp_list: \n",
    "    rez = load_results(ssp)\n",
    "    tot_prod = rez['Calories 2050'].sum()/1e18 \n",
    "    \n",
    "    tot_Δprod = rez['ΔCalories'].sum()/1e18\n",
    "    tot_Δprod_check = tot_prod - cur_prod\n",
    "    \n",
    "    print('{}: Tot Prod: {:.1f}e18 cal   ΔProd: {:.1f}/{:.1f}e18 cal'.format(ssp,tot_prod, tot_Δprod,tot_Δprod_check))"
   ]
  },
  {
   "cell_type": "code",
   "execution_count": null,
   "metadata": {
    "hidden": true
   },
   "outputs": [],
   "source": []
  }
 ],
 "metadata": {
  "kernelspec": {
   "display_name": "Python [conda env:spatialenv] *",
   "language": "python",
   "name": "conda-env-spatialenv-py"
  },
  "language_info": {
   "codemirror_mode": {
    "name": "ipython",
    "version": 3
   },
   "file_extension": ".py",
   "mimetype": "text/x-python",
   "name": "python",
   "nbconvert_exporter": "python",
   "pygments_lexer": "ipython3",
   "version": "3.6.7"
  },
  "toc": {
   "base_numbering": 1,
   "nav_menu": {},
   "number_sections": true,
   "sideBar": true,
   "skip_h1_title": false,
   "title_cell": "Table of Contents",
   "title_sidebar": "Contents",
   "toc_cell": false,
   "toc_position": {},
   "toc_section_display": true,
   "toc_window_display": false
  }
 },
 "nbformat": 4,
 "nbformat_minor": 2
}
