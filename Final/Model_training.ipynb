{
 "cells": [
  {
   "cell_type": "markdown",
   "metadata": {},
   "source": [
    "# Model training"
   ]
  },
  {
   "cell_type": "markdown",
   "metadata": {},
   "source": [
    "## Imports"
   ]
  },
  {
   "cell_type": "code",
   "execution_count": 2,
   "metadata": {},
   "outputs": [],
   "source": [
    "import pandas as pd\n",
    "import numpy as np\n",
    "import random\n",
    "\n",
    "import xgboost as xgb\n",
    "\n",
    "import matplotlib.pyplot as plt\n",
    "from matplotlib import cm, colors\n",
    "from matplotlib import patches as mpatches\n",
    "from mpl_toolkits.basemap import Basemap\n",
    "\n",
    "import seaborn as sns\n",
    "\n",
    "import os, sys\n",
    "\n",
    "import sklearn\n",
    "from sklearn.utils import shuffle\n",
    "from sklearn.preprocessing import OneHotEncoder\n",
    "from sklearn.model_selection import train_test_split, GridSearchCV\n",
    "from sklearn.metrics import r2_score, mean_squared_error\n",
    "\n",
    "import pickle"
   ]
  },
  {
   "cell_type": "markdown",
   "metadata": {},
   "source": [
    "## Data paths"
   ]
  },
  {
   "cell_type": "code",
   "execution_count": 3,
   "metadata": {},
   "outputs": [],
   "source": [
    "# Value to change to get correct paths\n",
    "data_path = '../data/'"
   ]
  },
  {
   "cell_type": "code",
   "execution_count": 8,
   "metadata": {},
   "outputs": [],
   "source": [
    "inputs_path = data_path + 'inputs/'\n",
    "intermediate_path = data_path + 'intermediate/'\n",
    "output_path = data_path + 'outputs/with_irrig/'\n",
    "\n",
    "base_path = inputs_path + 'Base/'\n",
    "diet_path = inputs_path + 'diet/'\n",
    "pop_path = inputs_path + 'population/'\n",
    "\n",
    "data_2000_path = intermediate_path + 'Baseline_df_iterations/with_irrig/'\n",
    "\n",
    "data_2050_path = intermediate_path + 'Future_dfs/All_change+irrig/'\n",
    "data_2050_gdp_cont_path = data_2050_path + 'gdp_cont/original/'\n",
    "data_2050_gdp_stat_path = data_2050_path + 'gdp_cat_stat/original/'\n",
    "\n",
    "\n",
    "model_output_path = output_path + 'model_output/'\n",
    "composite_path = output_path + 'composite/'\n",
    "compare_path = output_path + 'compare/'\n",
    "\n",
    "model_path = data_path + 'models/'"
   ]
  },
  {
   "cell_type": "code",
   "execution_count": 9,
   "metadata": {},
   "outputs": [],
   "source": [
    "numerical_col = ['log_slope', 'Annual Mean Temperature',\n",
    "               'Mean Diurnal Range', 'Isothermality', 'Temperature Seasonality',\n",
    "               'Max Temperature of Warmest Month', 'Min Temperature of Coldest Month',\n",
    "               'Temperature Annual Range', 'Annual Precipitation',\n",
    "               'Precipitation of Wettest Month', 'Precipitation of Driest Month',\n",
    "               'Precipitation Seasonality', 'fertl_c3ann', 'fertl_c3nfx',\n",
    "               'fertl_c3per', 'fertl_c4ann', 'log_altitude', 'irrig_c3ann', \n",
    "               'irrig_c3per', 'irrig_c3nfx', 'irrig_c4ann', 'irrig_c4per']\n",
    "\n",
    "non_numerical_col = ['nutrient_availability_index', 'oxygen_availability_index',\n",
    "               'workability_index', 'protected_areas_index', 'nutrient_retention_index', \n",
    "               'toxicity_index', 'excess_salts_index', 'rooting_conditions_index', 'cat_gdp']"
   ]
  },
  {
   "cell_type": "code",
   "execution_count": 10,
   "metadata": {},
   "outputs": [
    {
     "data": {
      "text/plain": [
       "(['cc', 'gs', 'he', 'mr'], ['ssp1', 'ssp2', 'ssp3', 'ssp4', 'ssp5'])"
      ]
     },
     "execution_count": 10,
     "metadata": {},
     "output_type": "execute_result"
    }
   ],
   "source": [
    "files_2050 = os.listdir(data_2050_gdp_cont_path)\n",
    "files_2050 = [filename for filename in files_2050 if 'ssp' in filename]\n",
    "\n",
    "climate_models, climate_scenarios = [], []\n",
    "\n",
    "for file in files_2050:\n",
    "    if len(file) == 11:\n",
    "        climate_models.append(file[:2])\n",
    "        climate_scenarios.append(file[3:7])\n",
    "\n",
    "climate_models = list(set(climate_models))\n",
    "climate_models.sort()\n",
    "climate_scenarios = list(set(climate_scenarios))\n",
    "climate_scenarios.sort()\n",
    "climate_models, climate_scenarios"
   ]
  },
  {
   "cell_type": "markdown",
   "metadata": {},
   "source": [
    "## Tune model"
   ]
  },
  {
   "cell_type": "code",
   "execution_count": 10,
   "metadata": {},
   "outputs": [],
   "source": [
    "df_2000 = pd.read_csv(data_2000_path + 'normalized_2000_gdp_cat_new.csv', index_col='pixel_id')"
   ]
  },
  {
   "cell_type": "code",
   "execution_count": 14,
   "metadata": {},
   "outputs": [
    {
     "data": {
      "text/plain": [
       "906770"
      ]
     },
     "execution_count": 14,
     "metadata": {},
     "output_type": "execute_result"
    }
   ],
   "source": [
    "len(df_2000)"
   ]
  },
  {
   "cell_type": "code",
   "execution_count": 15,
   "metadata": {},
   "outputs": [
    {
     "data": {
      "text/html": [
       "<div>\n",
       "<style scoped>\n",
       "    .dataframe tbody tr th:only-of-type {\n",
       "        vertical-align: middle;\n",
       "    }\n",
       "\n",
       "    .dataframe tbody tr th {\n",
       "        vertical-align: top;\n",
       "    }\n",
       "\n",
       "    .dataframe thead th {\n",
       "        text-align: right;\n",
       "    }\n",
       "</style>\n",
       "<table border=\"1\" class=\"dataframe\">\n",
       "  <thead>\n",
       "    <tr style=\"text-align: right;\">\n",
       "      <th></th>\n",
       "      <th>slope</th>\n",
       "      <th>Annual Mean Temperature</th>\n",
       "      <th>Mean Diurnal Range</th>\n",
       "      <th>Isothermality</th>\n",
       "      <th>Temperature Seasonality</th>\n",
       "      <th>Max Temperature of Warmest Month</th>\n",
       "      <th>Min Temperature of Coldest Month</th>\n",
       "      <th>Temperature Annual Range</th>\n",
       "      <th>Annual Precipitation</th>\n",
       "      <th>Precipitation of Wettest Month</th>\n",
       "      <th>...</th>\n",
       "      <th>nutrient_availability_index</th>\n",
       "      <th>oxygen_availability_index</th>\n",
       "      <th>workability_index</th>\n",
       "      <th>protected_areas_index</th>\n",
       "      <th>nutrient_retention_index</th>\n",
       "      <th>toxicity_index</th>\n",
       "      <th>excess_salts_index</th>\n",
       "      <th>rooting_conditions_index</th>\n",
       "      <th>cat_gdp</th>\n",
       "      <th>calories_per_ha</th>\n",
       "    </tr>\n",
       "    <tr>\n",
       "      <th>pixel_id</th>\n",
       "      <th></th>\n",
       "      <th></th>\n",
       "      <th></th>\n",
       "      <th></th>\n",
       "      <th></th>\n",
       "      <th></th>\n",
       "      <th></th>\n",
       "      <th></th>\n",
       "      <th></th>\n",
       "      <th></th>\n",
       "      <th></th>\n",
       "      <th></th>\n",
       "      <th></th>\n",
       "      <th></th>\n",
       "      <th></th>\n",
       "      <th></th>\n",
       "      <th></th>\n",
       "      <th></th>\n",
       "      <th></th>\n",
       "      <th></th>\n",
       "      <th></th>\n",
       "    </tr>\n",
       "  </thead>\n",
       "  <tbody>\n",
       "    <tr>\n",
       "      <th>1272549</th>\n",
       "      <td>-0.153686</td>\n",
       "      <td>-1.475497</td>\n",
       "      <td>-1.165186</td>\n",
       "      <td>-1.144281</td>\n",
       "      <td>0.809341</td>\n",
       "      <td>-1.712443</td>\n",
       "      <td>-1.131726</td>\n",
       "      <td>0.526905</td>\n",
       "      <td>-0.529328</td>\n",
       "      <td>-0.764668</td>\n",
       "      <td>...</td>\n",
       "      <td>3.0</td>\n",
       "      <td>4.0</td>\n",
       "      <td>1.0</td>\n",
       "      <td>2</td>\n",
       "      <td>2.0</td>\n",
       "      <td>1.0</td>\n",
       "      <td>1.0</td>\n",
       "      <td>1.0</td>\n",
       "      <td>3</td>\n",
       "      <td>8.917904e+09</td>\n",
       "    </tr>\n",
       "    <tr>\n",
       "      <th>1276867</th>\n",
       "      <td>-0.044311</td>\n",
       "      <td>-1.450093</td>\n",
       "      <td>-1.237776</td>\n",
       "      <td>-1.168411</td>\n",
       "      <td>0.799235</td>\n",
       "      <td>-1.697998</td>\n",
       "      <td>-1.119308</td>\n",
       "      <td>0.518887</td>\n",
       "      <td>-0.542167</td>\n",
       "      <td>-0.789142</td>\n",
       "      <td>...</td>\n",
       "      <td>3.0</td>\n",
       "      <td>4.0</td>\n",
       "      <td>1.0</td>\n",
       "      <td>0</td>\n",
       "      <td>2.0</td>\n",
       "      <td>1.0</td>\n",
       "      <td>1.0</td>\n",
       "      <td>1.0</td>\n",
       "      <td>3</td>\n",
       "      <td>8.917904e+09</td>\n",
       "    </tr>\n",
       "    <tr>\n",
       "      <th>1276868</th>\n",
       "      <td>-0.064612</td>\n",
       "      <td>-1.451896</td>\n",
       "      <td>-1.224768</td>\n",
       "      <td>-1.167575</td>\n",
       "      <td>0.812007</td>\n",
       "      <td>-1.682255</td>\n",
       "      <td>-1.121053</td>\n",
       "      <td>0.529160</td>\n",
       "      <td>-0.552153</td>\n",
       "      <td>-0.780984</td>\n",
       "      <td>...</td>\n",
       "      <td>3.0</td>\n",
       "      <td>3.0</td>\n",
       "      <td>1.0</td>\n",
       "      <td>0</td>\n",
       "      <td>3.0</td>\n",
       "      <td>1.0</td>\n",
       "      <td>1.0</td>\n",
       "      <td>1.0</td>\n",
       "      <td>3</td>\n",
       "      <td>8.917905e+09</td>\n",
       "    </tr>\n",
       "    <tr>\n",
       "      <th>1298466</th>\n",
       "      <td>-0.029986</td>\n",
       "      <td>-1.373057</td>\n",
       "      <td>-1.550443</td>\n",
       "      <td>-1.245204</td>\n",
       "      <td>0.779111</td>\n",
       "      <td>-1.614412</td>\n",
       "      <td>-0.995392</td>\n",
       "      <td>0.407722</td>\n",
       "      <td>-0.629187</td>\n",
       "      <td>-0.797301</td>\n",
       "      <td>...</td>\n",
       "      <td>3.0</td>\n",
       "      <td>4.0</td>\n",
       "      <td>1.0</td>\n",
       "      <td>2</td>\n",
       "      <td>2.0</td>\n",
       "      <td>1.0</td>\n",
       "      <td>1.0</td>\n",
       "      <td>1.0</td>\n",
       "      <td>3</td>\n",
       "      <td>8.917906e+09</td>\n",
       "    </tr>\n",
       "    <tr>\n",
       "      <th>1298467</th>\n",
       "      <td>-0.027755</td>\n",
       "      <td>-1.386652</td>\n",
       "      <td>-1.462573</td>\n",
       "      <td>-1.218038</td>\n",
       "      <td>0.766754</td>\n",
       "      <td>-1.639893</td>\n",
       "      <td>-1.020766</td>\n",
       "      <td>0.426180</td>\n",
       "      <td>-0.619201</td>\n",
       "      <td>-0.789142</td>\n",
       "      <td>...</td>\n",
       "      <td>3.0</td>\n",
       "      <td>3.0</td>\n",
       "      <td>1.0</td>\n",
       "      <td>0</td>\n",
       "      <td>2.0</td>\n",
       "      <td>1.0</td>\n",
       "      <td>1.0</td>\n",
       "      <td>1.0</td>\n",
       "      <td>3</td>\n",
       "      <td>8.917904e+09</td>\n",
       "    </tr>\n",
       "  </tbody>\n",
       "</table>\n",
       "<p>5 rows × 33 columns</p>\n",
       "</div>"
      ],
      "text/plain": [
       "             slope  Annual Mean Temperature  Mean Diurnal Range  \\\n",
       "pixel_id                                                          \n",
       "1272549  -0.153686                -1.475497           -1.165186   \n",
       "1276867  -0.044311                -1.450093           -1.237776   \n",
       "1276868  -0.064612                -1.451896           -1.224768   \n",
       "1298466  -0.029986                -1.373057           -1.550443   \n",
       "1298467  -0.027755                -1.386652           -1.462573   \n",
       "\n",
       "          Isothermality  Temperature Seasonality  \\\n",
       "pixel_id                                           \n",
       "1272549       -1.144281                 0.809341   \n",
       "1276867       -1.168411                 0.799235   \n",
       "1276868       -1.167575                 0.812007   \n",
       "1298466       -1.245204                 0.779111   \n",
       "1298467       -1.218038                 0.766754   \n",
       "\n",
       "          Max Temperature of Warmest Month  Min Temperature of Coldest Month  \\\n",
       "pixel_id                                                                       \n",
       "1272549                          -1.712443                         -1.131726   \n",
       "1276867                          -1.697998                         -1.119308   \n",
       "1276868                          -1.682255                         -1.121053   \n",
       "1298466                          -1.614412                         -0.995392   \n",
       "1298467                          -1.639893                         -1.020766   \n",
       "\n",
       "          Temperature Annual Range  Annual Precipitation  \\\n",
       "pixel_id                                                   \n",
       "1272549                   0.526905             -0.529328   \n",
       "1276867                   0.518887             -0.542167   \n",
       "1276868                   0.529160             -0.552153   \n",
       "1298466                   0.407722             -0.629187   \n",
       "1298467                   0.426180             -0.619201   \n",
       "\n",
       "          Precipitation of Wettest Month  ...  nutrient_availability_index  \\\n",
       "pixel_id                                  ...                                \n",
       "1272549                        -0.764668  ...                          3.0   \n",
       "1276867                        -0.789142  ...                          3.0   \n",
       "1276868                        -0.780984  ...                          3.0   \n",
       "1298466                        -0.797301  ...                          3.0   \n",
       "1298467                        -0.789142  ...                          3.0   \n",
       "\n",
       "          oxygen_availability_index  workability_index  protected_areas_index  \\\n",
       "pixel_id                                                                        \n",
       "1272549                         4.0                1.0                      2   \n",
       "1276867                         4.0                1.0                      0   \n",
       "1276868                         3.0                1.0                      0   \n",
       "1298466                         4.0                1.0                      2   \n",
       "1298467                         3.0                1.0                      0   \n",
       "\n",
       "          nutrient_retention_index  toxicity_index  excess_salts_index  \\\n",
       "pixel_id                                                                 \n",
       "1272549                        2.0             1.0                 1.0   \n",
       "1276867                        2.0             1.0                 1.0   \n",
       "1276868                        3.0             1.0                 1.0   \n",
       "1298466                        2.0             1.0                 1.0   \n",
       "1298467                        2.0             1.0                 1.0   \n",
       "\n",
       "          rooting_conditions_index  cat_gdp  calories_per_ha  \n",
       "pixel_id                                                      \n",
       "1272549                        1.0        3     8.917904e+09  \n",
       "1276867                        1.0        3     8.917904e+09  \n",
       "1276868                        1.0        3     8.917905e+09  \n",
       "1298466                        1.0        3     8.917906e+09  \n",
       "1298467                        1.0        3     8.917904e+09  \n",
       "\n",
       "[5 rows x 33 columns]"
      ]
     },
     "execution_count": 15,
     "metadata": {},
     "output_type": "execute_result"
    }
   ],
   "source": [
    "df_2000.head()"
   ]
  },
  {
   "cell_type": "markdown",
   "metadata": {},
   "source": [
    "### Tune parameters"
   ]
  },
  {
   "cell_type": "code",
   "execution_count": 6,
   "metadata": {},
   "outputs": [],
   "source": [
    "model_name = 'xgb_grid_search'"
   ]
  },
  {
   "cell_type": "code",
   "execution_count": 16,
   "metadata": {},
   "outputs": [],
   "source": [
    "X, y = df_2000.drop(['calories_per_ha'], axis=1), df_2000['calories_per_ha']\n",
    "X_train, X_test, y_train, y_test = train_test_split(X, y, test_size=0.1, random_state=123)\n",
    "eval_set = [(X_train, y_train), (X_test, y_test)]"
   ]
  },
  {
   "cell_type": "code",
   "execution_count": 17,
   "metadata": {},
   "outputs": [],
   "source": [
    "parameters = {'booster': ['gbtree'],\n",
    "              'objective': ['reg:squarederror'],\n",
    "              'n_estimators': [500],\n",
    "              'learning_rate': [0.01, 0.1, 0.5], \n",
    "              'min_split_loss': [0, 0.05, 0.1],\n",
    "              'max_depth': [5, 10, 15],\n",
    "              'min_child_weight': [1, 100, 500],\n",
    "              'subsample': [0.2, 0.5, 1], \n",
    "              'colsample_bytree': [0.2, 0.5, 1], \n",
    "              'reg_alpha': [0.01, 0.1, 0.5]}"
   ]
  },
  {
   "cell_type": "code",
   "execution_count": 25,
   "metadata": {},
   "outputs": [],
   "source": [
    "xgb_grid = GridSearchCV(xgb.XGBRegressor(),\n",
    "                        parameters1,\n",
    "                        scoring=['r2', 'neg_mean_squared_log_error'],\n",
    "                        refit='r2',\n",
    "                        n_jobs=-1,\n",
    "                        cv=5, \n",
    "                        verbose=2)"
   ]
  },
  {
   "cell_type": "code",
   "execution_count": null,
   "metadata": {},
   "outputs": [],
   "source": [
    "pd.DataFrame.from_dict(xgb_grid.cv_results_)"
   ]
  },
  {
   "cell_type": "code",
   "execution_count": 33,
   "metadata": {},
   "outputs": [],
   "source": [
    "# Optimal parameters from gridsearch\n",
    "optimal_params = {'booster': 'gbtree',\n",
    " 'colsample_bytree': 0.5,\n",
    " 'learning_rate': 0.05,\n",
    " 'max_depth': 15,\n",
    " 'min_child_weight': 1,\n",
    " 'n_estimators': 500,\n",
    " 'objective': 'reg:squarederror',\n",
    " 'reg_alpha': 0.5}"
   ]
  },
  {
   "cell_type": "markdown",
   "metadata": {},
   "source": [
    "### Train with best parameters"
   ]
  },
  {
   "cell_type": "code",
   "execution_count": 19,
   "metadata": {},
   "outputs": [],
   "source": [
    "df_2000 = pd.read_csv(data_2000_path + 'normalized_2000_gdp_cat_new.csv', index_col='pixel_id')"
   ]
  },
  {
   "cell_type": "code",
   "execution_count": 8,
   "metadata": {},
   "outputs": [],
   "source": [
    "# Optimal parameters from gridsearch\n",
    "optimal_params = {'booster': 'gbtree',\n",
    " 'colsample_bytree': 0.5,\n",
    " 'learning_rate': 0.05,\n",
    " 'max_depth': 15,\n",
    " 'min_child_weight': 1,\n",
    " 'n_estimators': 500,\n",
    " 'objective': 'reg:squarederror',\n",
    " 'reg_alpha': 0.5}"
   ]
  },
  {
   "cell_type": "code",
   "execution_count": 9,
   "metadata": {},
   "outputs": [],
   "source": [
    "model_name = 'final_new_param_train'"
   ]
  },
  {
   "cell_type": "code",
   "execution_count": 20,
   "metadata": {},
   "outputs": [],
   "source": [
    "X, y = df_2000.drop(['calories_per_ha', 'label_10'], axis=1), df_2000['calories_per_ha']\n",
    "X = pd.get_dummies(X, columns=non_numerical_col)"
   ]
  },
  {
   "cell_type": "code",
   "execution_count": 21,
   "metadata": {},
   "outputs": [],
   "source": [
    "col_order = X.columns"
   ]
  },
  {
   "cell_type": "code",
   "execution_count": 22,
   "metadata": {},
   "outputs": [],
   "source": [
    "X_train, X_test, y_train, y_test = train_test_split(X, y, test_size=0.1, random_state=123)\n",
    "eval_set = [(X_train, y_train), (X_test, y_test)]"
   ]
  },
  {
   "cell_type": "code",
   "execution_count": 23,
   "metadata": {
    "scrolled": true
   },
   "outputs": [],
   "source": [
    "try:\n",
    "    model = pickle.load(open(model_path + model_name + '.sav', 'rb'))\n",
    "except: \n",
    "    model = xgb.XGBRegressor(**optimal_params)\n",
    "    model.fit(X_train, y_train, early_stopping_rounds=10, eval_metric=[\"rmse\"], eval_set=eval_set, verbose=True)\n",
    "    #pickle.dump(model, open(model_path + model_name + '.sav', 'wb'))"
   ]
  },
  {
   "cell_type": "code",
   "execution_count": 24,
   "metadata": {},
   "outputs": [
    {
     "name": "stdout",
     "output_type": "stream",
     "text": [
      "R2 score: 0.9458864367747841\n",
      "RMSE: 1060810492.7417127\n"
     ]
    }
   ],
   "source": [
    "# make predictions for test data\n",
    "y_pred = model.predict(X_test)\n",
    "r2 = r2_score(y_test, y_pred)\n",
    "rmse = mean_squared_error(y_test, y_pred)**(1/2)\n",
    "print(f'R2 score: {r2}')\n",
    "print(f'RMSE: {rmse}')"
   ]
  },
  {
   "cell_type": "code",
   "execution_count": 25,
   "metadata": {},
   "outputs": [
    {
     "data": {
      "text/plain": [
       "500"
      ]
     },
     "execution_count": 25,
     "metadata": {},
     "output_type": "execute_result"
    }
   ],
   "source": [
    "# retrieve performance metrics\n",
    "results = model.evals_result()\n",
    "epochs = len(results['validation_0']['rmse'])\n",
    "x_axis = range(0, epochs)\n",
    "epochs"
   ]
  },
  {
   "cell_type": "code",
   "execution_count": 26,
   "metadata": {},
   "outputs": [
    {
     "data": {
      "image/png": "[encoded data removed]",
      "text/plain": [
       "<Figure size 864x576 with 1 Axes>"
      ]
     },
     "metadata": {
      "needs_background": "light"
     },
     "output_type": "display_data"
    }
   ],
   "source": [
    "# plot mse\n",
    "fig, ax = plt.subplots(figsize=(12, 8))\n",
    "ax.plot(x_axis, results['validation_0']['rmse'], label='Train')\n",
    "ax.plot(x_axis, results['validation_1']['rmse'], label='Test')\n",
    "ax.legend()\n",
    "plt.ylabel('RMSE')\n",
    "plt.title('XGBoost RMSE')\n",
    "plt.show()"
   ]
  },
  {
   "cell_type": "code",
   "execution_count": 32,
   "metadata": {},
   "outputs": [
    {
     "data": {
      "text/plain": [
       "<matplotlib.axes._subplots.AxesSubplot at 0x18853cf10>"
      ]
     },
     "execution_count": 32,
     "metadata": {},
     "output_type": "execute_result"
    },
    {
     "data": {
      "image/png": "[encoded data removed]",
      "text/plain": [
       "<Figure size 576x576 with 1 Axes>"
      ]
     },
     "metadata": {
      "needs_background": "light"
     },
     "output_type": "display_data"
    }
   ],
   "source": [
    "# which are the most influential features\n",
    "fig, ax = plt.subplots(figsize=(8, 8))\n",
    "xgb.plot_importance(model, max_num_features=10, ax=ax, grid=False, title='Feature importance')"
   ]
  },
  {
   "cell_type": "markdown",
   "metadata": {},
   "source": [
    "### Final model"
   ]
  },
  {
   "cell_type": "markdown",
   "metadata": {},
   "source": [
    "We take the model with calories (not log(calories)) as our final model, this model performing better than the one using the log(calories)."
   ]
  },
  {
   "cell_type": "code",
   "execution_count": 35,
   "metadata": {},
   "outputs": [],
   "source": [
    "# Optimal parameters from gridsearch\n",
    "optimal_params = {'booster': 'gbtree',\n",
    " 'colsample_bytree': 0.5,\n",
    " 'learning_rate': 0.05,\n",
    " 'max_depth': 15,\n",
    " 'min_child_weight': 1,\n",
    " 'n_estimators': 500,\n",
    " 'objective': 'reg:squarederror',\n",
    " 'reg_alpha': 0.5}"
   ]
  },
  {
   "cell_type": "code",
   "execution_count": 36,
   "metadata": {},
   "outputs": [],
   "source": [
    "model_name = 'final_model_no_log.sav'"
   ]
  },
  {
   "cell_type": "code",
   "execution_count": 37,
   "metadata": {},
   "outputs": [],
   "source": [
    "df_2000 = pd.read_csv(data_2000_path + 'normalized_2000_gdp_cat_new.csv', index_col='pixel_id').drop(['label_10'], axis=1)"
   ]
  },
  {
   "cell_type": "code",
   "execution_count": 43,
   "metadata": {},
   "outputs": [],
   "source": [
    "X = pd.get_dummies(df_2000.drop(['calories_per_ha'], axis=1), columns=non_numerical_col)"
   ]
  },
  {
   "cell_type": "code",
   "execution_count": 44,
   "metadata": {},
   "outputs": [],
   "source": [
    "col_order = X.columns"
   ]
  },
  {
   "cell_type": "code",
   "execution_count": 40,
   "metadata": {},
   "outputs": [],
   "source": [
    "try:\n",
    "    model = pickle.load(open(model_path + model_name + '.sav', 'rb'))\n",
    "except: \n",
    "    model = xgb.XGBRegressor(**optimal_params)\n",
    "    model.fit(X_train, y_train, early_stopping_rounds=10, eval_metric=[\"rmse\"], eval_set=eval_set, verbose=True)\n",
    "    #pickle.dump(model, open(model_path + model_name + '.sav', 'wb'))"
   ]
  },
  {
   "cell_type": "markdown",
   "metadata": {},
   "source": [
    "## Future predictions"
   ]
  },
  {
   "cell_type": "markdown",
   "metadata": {},
   "source": [
    "### Predict scenarios"
   ]
  },
  {
   "cell_type": "code",
   "execution_count": 84,
   "metadata": {},
   "outputs": [],
   "source": [
    "model_name = 'final_model_no_log'\n",
    "model = pickle.load(open(model_path + model_name + '.sav', 'rb'))"
   ]
  },
  {
   "cell_type": "code",
   "execution_count": 86,
   "metadata": {},
   "outputs": [],
   "source": [
    "col_order = model.get_booster().feature_names"
   ]
  },
  {
   "cell_type": "code",
   "execution_count": 11,
   "metadata": {},
   "outputs": [],
   "source": [
    "non_numerical_col_2 = non_numerical_col.copy()\n",
    "non_numerical_col_2.remove('cat_gdp')"
   ]
  },
  {
   "cell_type": "code",
   "execution_count": 88,
   "metadata": {
    "scrolled": true
   },
   "outputs": [
    {
     "name": "stdout",
     "output_type": "stream",
     "text": [
      "cc\n",
      "ssp1\n",
      "Loading data\n",
      "cat_gdp_1\n",
      "Predicting future yields\n",
      "Saving output\n",
      "ssp2\n",
      "Loading data\n",
      "Predicting future yields\n",
      "Saving output\n",
      "ssp3\n",
      "Loading data\n",
      "Predicting future yields\n",
      "Saving output\n",
      "ssp4\n",
      "Loading data\n",
      "Predicting future yields\n",
      "Saving output\n",
      "ssp5\n",
      "Loading data\n",
      "cat_gdp_0\n",
      "Predicting future yields\n",
      "Saving output\n",
      "gs\n",
      "ssp1\n",
      "Loading data\n",
      "cat_gdp_1\n",
      "Predicting future yields\n",
      "Saving output\n",
      "ssp2\n",
      "Loading data\n",
      "Predicting future yields\n",
      "Saving output\n",
      "ssp3\n",
      "Loading data\n",
      "Predicting future yields\n",
      "Saving output\n",
      "ssp4\n",
      "Loading data\n",
      "Predicting future yields\n",
      "Saving output\n",
      "ssp5\n",
      "Loading data\n",
      "cat_gdp_0\n",
      "Predicting future yields\n",
      "Saving output\n",
      "he\n",
      "ssp1\n",
      "Loading data\n",
      "cat_gdp_1\n",
      "Predicting future yields\n",
      "Saving output\n",
      "ssp2\n",
      "Loading data\n",
      "Predicting future yields\n",
      "Saving output\n",
      "ssp3\n",
      "Loading data\n",
      "Predicting future yields\n",
      "Saving output\n",
      "ssp4\n",
      "Loading data\n",
      "Predicting future yields\n",
      "Saving output\n",
      "ssp5\n",
      "Loading data\n",
      "cat_gdp_0\n",
      "Predicting future yields\n",
      "Saving output\n",
      "mr\n",
      "ssp1\n",
      "Loading data\n",
      "cat_gdp_1\n",
      "Predicting future yields\n",
      "Saving output\n",
      "ssp2\n",
      "Loading data\n",
      "Predicting future yields\n",
      "Saving output\n",
      "ssp3\n",
      "Loading data\n",
      "Predicting future yields\n",
      "Saving output\n",
      "ssp4\n",
      "Loading data\n",
      "Predicting future yields\n",
      "Saving output\n",
      "ssp5\n",
      "Loading data\n",
      "cat_gdp_0\n",
      "Predicting future yields\n",
      "Saving output\n"
     ]
    }
   ],
   "source": [
    "for climate_model in climate_models:\n",
    "    print(climate_model)\n",
    "    for ssp in climate_scenarios:\n",
    "        print(ssp)\n",
    "        print('Loading data')\n",
    "        df = pd.read_csv(data_2050_gdp_stat_path + 'model_input_{}_{}_gdp_cat_stat.csv'.format(climate_model, ssp)).drop(['log_GDP_pc'], axis=1)\n",
    "        \n",
    "        df = pd.get_dummies(df, columns=non_numerical_col)\n",
    "        \n",
    "        missing_col = [col for col in col_order if col not in df.columns]\n",
    "        for col in missing_col:\n",
    "            print(col)\n",
    "            df[col] = 0\n",
    "        \n",
    "        print('Predicting future yields')\n",
    "        df['calories_per_ha'] = model.predict(df[col_order])\n",
    "        print('Saving output')\n",
    "        #df.to_csv(model_output_path + '{}_{}_2050_new.csv'.format(climate_model, ssp))"
   ]
  },
  {
   "cell_type": "markdown",
   "metadata": {},
   "source": [
    "### Aggregate climate models"
   ]
  },
  {
   "cell_type": "code",
   "execution_count": 89,
   "metadata": {
    "scrolled": false
   },
   "outputs": [
    {
     "name": "stdout",
     "output_type": "stream",
     "text": [
      "Aggregating ssp1\n",
      "Reading cc\n"
     ]
    },
    {
     "name": "stderr",
     "output_type": "stream",
     "text": [
      "/Users/Romain/anaconda3/envs/food_sufficiency/lib/python3.8/site-packages/numpy/lib/arraysetops.py:568: FutureWarning: elementwise comparison failed; returning scalar instead, but in the future will perform elementwise comparison\n",
      "  mask |= (ar1 == a)\n"
     ]
    },
    {
     "name": "stdout",
     "output_type": "stream",
     "text": [
      "Reading gs\n",
      "Reading he\n",
      "Reading mr\n",
      "Aggregating ssp2\n",
      "Reading cc\n",
      "Reading gs\n",
      "Reading he\n",
      "Reading mr\n",
      "Aggregating ssp3\n",
      "Reading cc\n",
      "Reading gs\n",
      "Reading he\n",
      "Reading mr\n",
      "Aggregating ssp4\n",
      "Reading cc\n",
      "Reading gs\n",
      "Reading he\n",
      "Reading mr\n",
      "Aggregating ssp5\n",
      "Reading cc\n",
      "Reading gs\n",
      "Reading he\n",
      "Reading mr\n"
     ]
    }
   ],
   "source": [
    "# Mean of yield on climate models\n",
    "for ssp in climate_scenarios:\n",
    "    print('Aggregating {}'.format(ssp))\n",
    "    data = []\n",
    "    for climate_model in climate_models:\n",
    "        print('Reading {}'.format(climate_model))\n",
    "        df = pd.read_csv(model_output_path + '{}_{}_2050_new.csv'.format(climate_model, ssp), index_col='pixel_id', na_values=[-9999])\n",
    "        data.append(df['calories_per_ha'])\n",
    "    \n",
    "    output_df = pd.concat(data, axis=1).mean(axis=1)\n",
    "    #output_df.to_csv(composite_path + '{}_composite_2050_new.csv'.format(ssp), header=['calories_per_ha'], index=True)"
   ]
  },
  {
   "cell_type": "markdown",
   "metadata": {},
   "source": [
    "### Put everything together"
   ]
  },
  {
   "cell_type": "code",
   "execution_count": 46,
   "metadata": {},
   "outputs": [],
   "source": [
    "df_2000 = pd.read_csv(data_2000_path + 'normalized_2000_gdp_cat_new.csv', index_col='pixel_id')"
   ]
  },
  {
   "cell_type": "code",
   "execution_count": 27,
   "metadata": {},
   "outputs": [],
   "source": [
    "def predictions_df_future(y_predicted, cropland_serie_2000, cropland_serie_2050, change_cols=True):\n",
    "    \n",
    "    compare = pd.concat([cropland_serie_2000.rename('%cropland_2000'), \n",
    "                         cropland_serie_2050.rename('%cropland_2050'),\n",
    "                         y_predicted.rename('cal_per_ha_pred')], axis=1)\n",
    "            \n",
    "        \n",
    "    compare = compare.merge(pd.DataFrame(df_2000['calories_per_ha']),\n",
    "                            how='outer',\n",
    "                            right_index=True, \n",
    "                            left_index=True)\n",
    "    \n",
    "    compare  = compare.rename({'calories_per_ha':'cal_per_ha_2000'}, axis=1)\n",
    "    \n",
    "    # Add data points with positive 2000 yields but not in 2050 as points with 0 value yields\n",
    "    points_2000 = compare['cal_per_ha_2000'].dropna().index\n",
    "    points_2050 = compare['cal_per_ha_pred'].dropna().index\n",
    "\n",
    "    in_2000_not_in_2050 = [i for i in points_2000 if i not in points_2050]\n",
    "    print('disappering cropland', len(in_2000_not_in_2050))\n",
    "    compare.loc[in_2000_not_in_2050, 'cal_per_ha_pred'] = 0\n",
    "    \n",
    "    if change_cols == True:\n",
    "        compare['delta_cal_per_ha'] = compare['cal_per_ha_pred'] - compare['cal_per_ha_2000']\n",
    "\n",
    "        compare['%delta_cal_per_ha'] = (compare['cal_per_ha_pred'] - compare['cal_per_ha_2000']) / compare['cal_per_ha_2000']\n",
    "    \n",
    "    return compare"
   ]
  },
  {
   "cell_type": "code",
   "execution_count": 28,
   "metadata": {},
   "outputs": [],
   "source": [
    "def compute_cal(cal_per_ha, nb_ha, cropland):\n",
    "    return cal_per_ha * nb_ha * cropland"
   ]
  },
  {
   "cell_type": "code",
   "execution_count": 47,
   "metadata": {},
   "outputs": [
    {
     "name": "stdout",
     "output_type": "stream",
     "text": [
      "ssp1\n",
      "ssp2\n",
      "ssp3\n",
      "ssp4\n",
      "ssp5\n"
     ]
    }
   ],
   "source": [
    "land_use_2000 = pd.read_csv(inputs_path + 'LU/' + 'Cropmask_lulc_esa_2000.csv', index_col='pixel_id')['%cropland']\n",
    "ha_per_cell = pd.read_csv(inputs_path + 'LU/ha_per_cell.csv', index_col='pixel_id')\n",
    "population_2000 = pd.read_csv(inputs_path + 'population/pop_2000.csv', index_col='pixel_id')['gpw_population'].rename('population_2000')\n",
    "countries = pd.read_csv(base_path + 'country_ids.csv')\n",
    "countries_names = pd.read_csv(base_path + 'country_names.csv', encoding='latin-1')\n",
    "countries = countries[['country_id','pixel_id']].merge(countries_names[['base_id','ISO3','name', 'sovereignt']],right_on='base_id',left_on='country_id',how='right')\n",
    "countries = countries.set_index('pixel_id')\n",
    "\n",
    "for ssp in climate_scenarios:\n",
    "        print(ssp)\n",
    "        df = pd.read_csv(data_2050_gdp_stat_path + '{}_{}_gdp_cat_stat.csv'.format(climate_model, ssp), index_col='pixel_id', na_values=[-9999])\n",
    "        land_use_2050 = df['%cropland']\n",
    "        \n",
    "        df_pred = pd.read_csv(composite_path + '{}_composite_2050_new.csv'.format(ssp), index_col='pixel_id', na_values=[-9999])\n",
    "        output_df = predictions_df_future(df_pred['calories_per_ha'], land_use_2000, land_use_2050)\n",
    "        \n",
    "        population = pd.read_csv(inputs_path + 'population/pop_{}.csv'.format(ssp), index_col='pixel_id')['gpw_population'].rename('population_2050')\n",
    "        \n",
    "        joined_df = output_df.join([ha_per_cell, population_2000, population])\n",
    "        \n",
    "        joined_df['calories_2000'] = compute_cal(joined_df['cal_per_ha_2000'], joined_df['ha_per_pixel'], joined_df['%cropland_2000'])\n",
    "        joined_df['calories_2050'] = compute_cal(joined_df['cal_per_ha_pred'], joined_df['ha_per_pixel'], joined_df['%cropland_2050'])\n",
    "        \n",
    "        joined_df['delta_cal'] = joined_df['calories_2050'] - joined_df['calories_2000']\n",
    "        joined_df['%delta_cal'] = joined_df['delta_cal'] / joined_df['calories_2000']\n",
    "        \n",
    "        joined_df = joined_df.merge(countries, right_on='pixel_id', left_on='pixel_id')\n",
    "        #joined_df.to_csv(compare_path + '{}_compare_new.csv'.format(ssp))"
   ]
  }
 ],
 "metadata": {
  "kernelspec": {
   "display_name": "Python 3",
   "language": "python",
   "name": "python3"
  },
  "language_info": {
   "codemirror_mode": {
    "name": "ipython",
    "version": 3
   },
   "file_extension": ".py",
   "mimetype": "text/x-python",
   "name": "python",
   "nbconvert_exporter": "python",
   "pygments_lexer": "ipython3",
   "version": "3.8.1"
  },
  "toc": {
   "base_numbering": 1,
   "nav_menu": {},
   "number_sections": true,
   "sideBar": true,
   "skip_h1_title": true,
   "title_cell": "Table of Contents",
   "title_sidebar": "Contents",
   "toc_cell": false,
   "toc_position": {},
   "toc_section_display": true,
   "toc_window_display": true
  }
 },
 "nbformat": 4,
 "nbformat_minor": 2
}
