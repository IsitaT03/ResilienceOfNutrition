{
 "cells": [
  {
   "cell_type": "code",
   "execution_count": 2,
   "metadata": {},
   "outputs": [],
   "source": [
    "import numpy as np\n",
    "import pandas as pd\n",
    "import os\n",
    "import matplotlib.pyplot as plt\n",
    "import seaborn as sns"
   ]
  },
  {
   "cell_type": "code",
   "execution_count": 33,
   "metadata": {},
   "outputs": [],
   "source": [
    "data_path = '../../Data/data_min_R/' # Charlie's local.\n",
    "\n",
    "ssps = ['ssp1','ssp2','ssp3','ssp4','ssp5']"
   ]
  },
  {
   "cell_type": "markdown",
   "metadata": {},
   "source": [
    "# Calc global %LS_2050 \n",
    "For each SSP, from Bodirsky's data and Jones' populations."
   ]
  },
  {
   "cell_type": "markdown",
   "metadata": {},
   "source": [
    "## Load data"
   ]
  },
  {
   "cell_type": "code",
   "execution_count": 11,
   "metadata": {},
   "outputs": [],
   "source": [
    "## Load countries\n",
    "countries = pd.read_csv(data_path + 'inputs/Base/' + 'country_ids.csv')\n",
    "countries_names = pd.read_csv(data_path + 'inputs/Base/' + 'country_names.csv',encoding='latin-1')\n",
    "countries = countries[['country_id','pixel_id']].merge(countries_names[['base_id','ISO3','name', 'sovereignt']],right_on='base_id',left_on='country_id',how='right')\n",
    "countries = countries.set_index('pixel_id')"
   ]
  },
  {
   "cell_type": "code",
   "execution_count": 7,
   "metadata": {},
   "outputs": [],
   "source": [
    "## Load population\n",
    "\n",
    "def import_old_pop_data(scenario):\n",
    "    \"\"\"Takes scenario in format '2000', 'ssp5'\"\"\"\n",
    "    \n",
    "    countries = pd.read_csv(data_path + 'inputs/Base/' + 'country_ids.csv')\n",
    "    countries_names = pd.read_csv(data_path + 'inputs/Base/' + 'country_names.csv',encoding='latin-1')\n",
    "    countries = countries[['country_id','pixel_id']].merge(countries_names[['base_id','ISO3','name', 'sovereignt']],right_on='base_id',left_on='country_id',how='right')\n",
    "    countries = countries.set_index('pixel_id')\n",
    "    \n",
    "    pop_dir = data_path + 'inputs/population'\n",
    "    pop = pd.read_csv(os.path.join(pop_dir,'pop_'+ scenario + '.csv'))\n",
    "    pop = pop.merge(countries, right_on='pixel_id', left_on='pixel_id')\n",
    "    pop_bycountry = pop.groupby('name')['gpw_population'].sum()\n",
    "    \n",
    "    \n",
    "    \"\"\"# Combine the Cyprus and Northern Cyprus as we only have one in our future data\n",
    "    pop_bycountry.loc['Cyprus'] += pop_bycountry['Northern Cyprus']\n",
    "    pop_bycountry = pop_bycountry.drop('Northern Cyprus')\"\"\"\n",
    "    return pop_bycountry"
   ]
  },
  {
   "cell_type": "code",
   "execution_count": 96,
   "metadata": {},
   "outputs": [],
   "source": [
    "population = pd.DataFrame()\n",
    "for ssp in ssps+['2000']:\n",
    "    population['pop_'+ssp]= import_old_pop_data(ssp)"
   ]
  },
  {
   "cell_type": "code",
   "execution_count": 97,
   "metadata": {},
   "outputs": [
    {
     "data": {
      "text/html": [
       "<div>\n",
       "<style scoped>\n",
       "    .dataframe tbody tr th:only-of-type {\n",
       "        vertical-align: middle;\n",
       "    }\n",
       "\n",
       "    .dataframe tbody tr th {\n",
       "        vertical-align: top;\n",
       "    }\n",
       "\n",
       "    .dataframe thead th {\n",
       "        text-align: right;\n",
       "    }\n",
       "</style>\n",
       "<table border=\"1\" class=\"dataframe\">\n",
       "  <thead>\n",
       "    <tr style=\"text-align: right;\">\n",
       "      <th></th>\n",
       "      <th>pop_ssp1</th>\n",
       "      <th>pop_ssp2</th>\n",
       "      <th>pop_ssp3</th>\n",
       "      <th>pop_ssp4</th>\n",
       "      <th>pop_ssp5</th>\n",
       "      <th>pop_2000</th>\n",
       "    </tr>\n",
       "    <tr>\n",
       "      <th>ISO3</th>\n",
       "      <th></th>\n",
       "      <th></th>\n",
       "      <th></th>\n",
       "      <th></th>\n",
       "      <th></th>\n",
       "      <th></th>\n",
       "    </tr>\n",
       "  </thead>\n",
       "  <tbody>\n",
       "    <tr>\n",
       "      <th>AFG</th>\n",
       "      <td>52765426</td>\n",
       "      <td>66994422</td>\n",
       "      <td>75630510</td>\n",
       "      <td>76377078</td>\n",
       "      <td>52105184</td>\n",
       "      <td>1.975393e+07</td>\n",
       "    </tr>\n",
       "    <tr>\n",
       "      <th>WSB</th>\n",
       "      <td>16614</td>\n",
       "      <td>16614</td>\n",
       "      <td>16614</td>\n",
       "      <td>16614</td>\n",
       "      <td>33227</td>\n",
       "      <td>1.413851e+04</td>\n",
       "    </tr>\n",
       "    <tr>\n",
       "      <th>ALD</th>\n",
       "      <td>15540</td>\n",
       "      <td>15540</td>\n",
       "      <td>15540</td>\n",
       "      <td>15540</td>\n",
       "      <td>15540</td>\n",
       "      <td>1.414138e+04</td>\n",
       "    </tr>\n",
       "    <tr>\n",
       "      <th>ALB</th>\n",
       "      <td>2794859</td>\n",
       "      <td>2797509</td>\n",
       "      <td>2797509</td>\n",
       "      <td>2794859</td>\n",
       "      <td>2794859</td>\n",
       "      <td>3.012125e+06</td>\n",
       "    </tr>\n",
       "    <tr>\n",
       "      <th>DZA</th>\n",
       "      <td>35193987</td>\n",
       "      <td>35363778</td>\n",
       "      <td>62463440</td>\n",
       "      <td>35197306</td>\n",
       "      <td>35193979</td>\n",
       "      <td>3.046609e+07</td>\n",
       "    </tr>\n",
       "    <tr>\n",
       "      <th>...</th>\n",
       "      <td>...</td>\n",
       "      <td>...</td>\n",
       "      <td>...</td>\n",
       "      <td>...</td>\n",
       "      <td>...</td>\n",
       "      <td>...</td>\n",
       "    </tr>\n",
       "    <tr>\n",
       "      <th>WLF</th>\n",
       "      <td>2180</td>\n",
       "      <td>2180</td>\n",
       "      <td>2180</td>\n",
       "      <td>2180</td>\n",
       "      <td>2180</td>\n",
       "      <td>2.515850e+03</td>\n",
       "    </tr>\n",
       "    <tr>\n",
       "      <th>SAH</th>\n",
       "      <td>2007</td>\n",
       "      <td>2480</td>\n",
       "      <td>2629</td>\n",
       "      <td>2483</td>\n",
       "      <td>2086</td>\n",
       "      <td>1.964445e+03</td>\n",
       "    </tr>\n",
       "    <tr>\n",
       "      <th>YEM</th>\n",
       "      <td>45584457</td>\n",
       "      <td>53381988</td>\n",
       "      <td>63593696</td>\n",
       "      <td>65905907</td>\n",
       "      <td>45312856</td>\n",
       "      <td>1.748859e+07</td>\n",
       "    </tr>\n",
       "    <tr>\n",
       "      <th>ZMB</th>\n",
       "      <td>27309859</td>\n",
       "      <td>27670698</td>\n",
       "      <td>38287799</td>\n",
       "      <td>40731499</td>\n",
       "      <td>27271660</td>\n",
       "      <td>1.053150e+07</td>\n",
       "    </tr>\n",
       "    <tr>\n",
       "      <th>ZWE</th>\n",
       "      <td>13798270</td>\n",
       "      <td>13878182</td>\n",
       "      <td>13977971</td>\n",
       "      <td>13902248</td>\n",
       "      <td>13685885</td>\n",
       "      <td>1.236251e+07</td>\n",
       "    </tr>\n",
       "  </tbody>\n",
       "</table>\n",
       "<p>234 rows × 6 columns</p>\n",
       "</div>"
      ],
      "text/plain": [
       "      pop_ssp1  pop_ssp2  pop_ssp3  pop_ssp4  pop_ssp5      pop_2000\n",
       "ISO3                                                                \n",
       "AFG   52765426  66994422  75630510  76377078  52105184  1.975393e+07\n",
       "WSB      16614     16614     16614     16614     33227  1.413851e+04\n",
       "ALD      15540     15540     15540     15540     15540  1.414138e+04\n",
       "ALB    2794859   2797509   2797509   2794859   2794859  3.012125e+06\n",
       "DZA   35193987  35363778  62463440  35197306  35193979  3.046609e+07\n",
       "...        ...       ...       ...       ...       ...           ...\n",
       "WLF       2180      2180      2180      2180      2180  2.515850e+03\n",
       "SAH       2007      2480      2629      2483      2086  1.964445e+03\n",
       "YEM   45584457  53381988  63593696  65905907  45312856  1.748859e+07\n",
       "ZMB   27309859  27670698  38287799  40731499  27271660  1.053150e+07\n",
       "ZWE   13798270  13878182  13977971  13902248  13685885  1.236251e+07\n",
       "\n",
       "[234 rows x 6 columns]"
      ]
     },
     "execution_count": 97,
     "metadata": {},
     "output_type": "execute_result"
    }
   ],
   "source": [
    "population = population.merge(countries[['name','ISO3']].set_index('name').drop_duplicates(),on='name')\n",
    "population = population.set_index('ISO3')\n",
    "population"
   ]
  },
  {
   "cell_type": "code",
   "execution_count": 4,
   "metadata": {},
   "outputs": [],
   "source": [
    "## Load %LS\n",
    "\n",
    "diets_path = os.path.join(data_path,'inputs','Diet','pctLS_SSPs_Bodirsky.csv')\n",
    "diets = pd.read_csv(diets_path, sep=';')[['Scenario', 'Region', '2050', '2000']].set_index('Scenario')\n",
    "diets"
   ]
  },
  {
   "cell_type": "code",
   "execution_count": null,
   "metadata": {},
   "outputs": [],
   "source": [
    "### Merge all \n",
    "\n"
   ]
  },
  {
   "cell_type": "code",
   "execution_count": 26,
   "metadata": {},
   "outputs": [],
   "source": [
    "c = countriepopulatios[['name','ISO3']].set_index('name').drop_duplicates()#.unique()#.#,on='name',how='left')"
   ]
  },
  {
   "cell_type": "code",
   "execution_count": 13,
   "metadata": {},
   "outputs": [
    {
     "data": {
      "text/html": [
       "<div>\n",
       "<style scoped>\n",
       "    .dataframe tbody tr th:only-of-type {\n",
       "        vertical-align: middle;\n",
       "    }\n",
       "\n",
       "    .dataframe tbody tr th {\n",
       "        vertical-align: top;\n",
       "    }\n",
       "\n",
       "    .dataframe thead th {\n",
       "        text-align: right;\n",
       "    }\n",
       "</style>\n",
       "<table border=\"1\" class=\"dataframe\">\n",
       "  <thead>\n",
       "    <tr style=\"text-align: right;\">\n",
       "      <th></th>\n",
       "      <th>Region</th>\n",
       "      <th>2050</th>\n",
       "      <th>2000</th>\n",
       "    </tr>\n",
       "    <tr>\n",
       "      <th>Scenario</th>\n",
       "      <th></th>\n",
       "      <th></th>\n",
       "      <th></th>\n",
       "    </tr>\n",
       "  </thead>\n",
       "  <tbody>\n",
       "    <tr>\n",
       "      <th>ssp1</th>\n",
       "      <td>AFG</td>\n",
       "      <td>0.1854</td>\n",
       "      <td>0.0810</td>\n",
       "    </tr>\n",
       "    <tr>\n",
       "      <th>ssp1</th>\n",
       "      <td>AGO</td>\n",
       "      <td>0.1531</td>\n",
       "      <td>0.0721</td>\n",
       "    </tr>\n",
       "    <tr>\n",
       "      <th>ssp1</th>\n",
       "      <td>ALB</td>\n",
       "      <td>0.3411</td>\n",
       "      <td>0.2535</td>\n",
       "    </tr>\n",
       "    <tr>\n",
       "      <th>ssp1</th>\n",
       "      <td>ARE</td>\n",
       "      <td>0.1458</td>\n",
       "      <td>0.2078</td>\n",
       "    </tr>\n",
       "    <tr>\n",
       "      <th>ssp1</th>\n",
       "      <td>ARG</td>\n",
       "      <td>0.3329</td>\n",
       "      <td>0.3070</td>\n",
       "    </tr>\n",
       "    <tr>\n",
       "      <th>...</th>\n",
       "      <td>...</td>\n",
       "      <td>...</td>\n",
       "      <td>...</td>\n",
       "    </tr>\n",
       "    <tr>\n",
       "      <th>ssp5</th>\n",
       "      <td>WSM</td>\n",
       "      <td>0.2765</td>\n",
       "      <td>0.2543</td>\n",
       "    </tr>\n",
       "    <tr>\n",
       "      <th>ssp5</th>\n",
       "      <td>YEM</td>\n",
       "      <td>0.1468</td>\n",
       "      <td>0.0655</td>\n",
       "    </tr>\n",
       "    <tr>\n",
       "      <th>ssp5</th>\n",
       "      <td>ZAF</td>\n",
       "      <td>0.2026</td>\n",
       "      <td>0.1214</td>\n",
       "    </tr>\n",
       "    <tr>\n",
       "      <th>ssp5</th>\n",
       "      <td>ZMB</td>\n",
       "      <td>0.1662</td>\n",
       "      <td>0.0497</td>\n",
       "    </tr>\n",
       "    <tr>\n",
       "      <th>ssp5</th>\n",
       "      <td>ZWE</td>\n",
       "      <td>0.1494</td>\n",
       "      <td>0.0838</td>\n",
       "    </tr>\n",
       "  </tbody>\n",
       "</table>\n",
       "<p>950 rows × 3 columns</p>\n",
       "</div>"
      ],
      "text/plain": [
       "         Region    2050    2000\n",
       "Scenario                       \n",
       "ssp1        AFG  0.1854  0.0810\n",
       "ssp1        AGO  0.1531  0.0721\n",
       "ssp1        ALB  0.3411  0.2535\n",
       "ssp1        ARE  0.1458  0.2078\n",
       "ssp1        ARG  0.3329  0.3070\n",
       "...         ...     ...     ...\n",
       "ssp5        WSM  0.2765  0.2543\n",
       "ssp5        YEM  0.1468  0.0655\n",
       "ssp5        ZAF  0.2026  0.1214\n",
       "ssp5        ZMB  0.1662  0.0497\n",
       "ssp5        ZWE  0.1494  0.0838\n",
       "\n",
       "[950 rows x 3 columns]"
      ]
     },
     "execution_count": 13,
     "metadata": {},
     "output_type": "execute_result"
    }
   ],
   "source": [
    "diets"
   ]
  },
  {
   "cell_type": "markdown",
   "metadata": {
    "heading_collapsed": true
   },
   "source": [
    "## Global %LS_ssp = $\\sum_{Countries}$ ($\\%LS_{Country}$ * $Pop_{Country}$) / $Pop_{Total}$\n",
    "\n",
    "Average of %LS, weighted by pop"
   ]
  },
  {
   "cell_type": "code",
   "execution_count": 90,
   "metadata": {
    "hidden": true
   },
   "outputs": [
    {
     "name": "stdout",
     "output_type": "stream",
     "text": [
      "Skipped KSV (not in population)\n",
      "Skipped MAF (not in population)\n",
      "Skipped MDV (not in population)\n",
      "Skipped MHL (not in population)\n",
      "Skipped TUV (not in population)\n",
      "Global Caloric Sufficiency ssp1: 0.23728686354880824\n",
      "Skipped KSV (not in population)\n",
      "Skipped MAF (not in population)\n",
      "Skipped MDV (not in population)\n",
      "Skipped MHL (not in population)\n",
      "Skipped TUV (not in population)\n",
      "Global Caloric Sufficiency ssp2: 0.22905550297316568\n",
      "Skipped KSV (not in population)\n",
      "Skipped MAF (not in population)\n",
      "Skipped MDV (not in population)\n",
      "Skipped MHL (not in population)\n",
      "Skipped TUV (not in population)\n",
      "Global Caloric Sufficiency ssp3: 0.20972663721021714\n",
      "Skipped KSV (not in population)\n",
      "Skipped MAF (not in population)\n",
      "Skipped MDV (not in population)\n",
      "Skipped MHL (not in population)\n",
      "Skipped TUV (not in population)\n",
      "Global Caloric Sufficiency ssp4: 0.20811659841733302\n",
      "Skipped KSV (not in population)\n",
      "Skipped MAF (not in population)\n",
      "Skipped MDV (not in population)\n",
      "Skipped MHL (not in population)\n",
      "Skipped TUV (not in population)\n",
      "Global Caloric Sufficiency ssp5: 0.21198181981961245\n"
     ]
    }
   ],
   "source": [
    "ssp = 'ssp1'\n",
    "numerator = 0\n",
    "denominator = 0\n",
    "country_list = diets['Region'].unique()\n",
    "\n",
    "for ssp in ssps:\n",
    "    for country in country_list:\n",
    "        # Retrieve data from diets and population\n",
    "        try:\n",
    "            pctLS_country = diets[diets['Region']==country].at[ssp,'2050']\n",
    "            pop_country = population.at[country,'pop_'+ssp]\n",
    "\n",
    "            LS_country = pctLS_country * pop_country\n",
    "            numerator+=LS_country\n",
    "            denominator+= pop_country\n",
    "        except:\n",
    "            print('Skipped '+country+' (not in population)')\n",
    "\n",
    "    global_cal_suff = numerator/denominator\n",
    "    \n",
    "    print('Global Caloric Sufficiency '+ssp+': {}'.format(global_cal_suff))"
   ]
  },
  {
   "cell_type": "code",
   "execution_count": 94,
   "metadata": {
    "hidden": true
   },
   "outputs": [],
   "source": [
    "global_pctLS = {'ssp1':0.23728686354880824,\n",
    "               'ssp2':0.22905550297316568,\n",
    "               'ssp3':0.20972663721021714,\n",
    "               'ssp4':0.20811659841733302,\n",
    "               'ssp5':0.21198181981961245}"
   ]
  },
  {
   "cell_type": "code",
   "execution_count": 93,
   "metadata": {
    "hidden": true
   },
   "outputs": [
    {
     "data": {
      "text/plain": [
       "pop_ssp1    7949926714\n",
       "pop_ssp2    8210591474\n",
       "pop_ssp3    9929316985\n",
       "pop_ssp4    8722972624\n",
       "pop_ssp5    8248102437\n",
       "dtype: int64"
      ]
     },
     "execution_count": 93,
     "metadata": {},
     "output_type": "execute_result"
    }
   ],
   "source": [
    "population.sum() # Phew! Global pops are good :)"
   ]
  },
  {
   "cell_type": "markdown",
   "metadata": {},
   "source": [
    "## Global pct_LS_2000"
   ]
  },
  {
   "cell_type": "code",
   "execution_count": 98,
   "metadata": {},
   "outputs": [
    {
     "name": "stdout",
     "output_type": "stream",
     "text": [
      "Skipped KSV (not in population)\n",
      "Skipped MAF (not in population)\n",
      "Skipped MDV (not in population)\n",
      "Skipped MHL (not in population)\n",
      "Skipped TUV (not in population)\n",
      "Global Caloric Sufficiency 2000 : 0.13274634152807852\n"
     ]
    }
   ],
   "source": [
    "ssp = 'ssp1'\n",
    "numerator = 0\n",
    "denominator = 0\n",
    "country_list = diets['Region'].unique()\n",
    "\n",
    "for country in country_list:\n",
    "        # Retrieve data from diets and population\n",
    "    try:\n",
    "        pctLS_country = diets[diets['Region']==country].at[ssp,'2000']\n",
    "        pop_country = population.at[country,'pop_'+ssp]\n",
    "\n",
    "        LS_country = pctLS_country * pop_country\n",
    "        numerator+=LS_country\n",
    "        denominator+= pop_country\n",
    "    except:\n",
    "        print('Skipped '+country+' (not in population)')\n",
    "\n",
    "global_cal_suff = numerator/denominator\n",
    "\n",
    "print('Global Caloric Sufficiency 2000 : {}'.format(global_cal_suff))"
   ]
  },
  {
   "cell_type": "markdown",
   "metadata": {},
   "source": [
    "## Understand countries variability ( Where highest, in HIC, everywhere??)\n",
    "Map countries %LS (Bodirsky data) for all SSP and 2000\n",
    "\n",
    "To do !"
   ]
  },
  {
   "cell_type": "markdown",
   "metadata": {},
   "source": [
    "# Global Caloric Sufficiency"
   ]
  },
  {
   "cell_type": "code",
   "execution_count": null,
   "metadata": {},
   "outputs": [],
   "source": [
    "global_pctLS = {'ssp1':0.23728686354880824,\n",
    "               'ssp2':0.22905550297316568,\n",
    "               'ssp3':0.20972663721021714,\n",
    "               'ssp4':0.20811659841733302,\n",
    "               'ssp5':0.21198181981961245}"
   ]
  },
  {
   "cell_type": "code",
   "execution_count": null,
   "metadata": {},
   "outputs": [],
   "source": [
    "To do ! "
   ]
  }
 ],
 "metadata": {
  "kernelspec": {
   "display_name": "Python 3",
   "language": "python",
   "name": "python3"
  },
  "language_info": {
   "codemirror_mode": {
    "name": "ipython",
    "version": 3
   },
   "file_extension": ".py",
   "mimetype": "text/x-python",
   "name": "python",
   "nbconvert_exporter": "python",
   "pygments_lexer": "ipython3",
   "version": "3.7.6"
  },
  "toc": {
   "base_numbering": 1,
   "nav_menu": {},
   "number_sections": true,
   "sideBar": true,
   "skip_h1_title": false,
   "title_cell": "Table of Contents",
   "title_sidebar": "Contents",
   "toc_cell": false,
   "toc_position": {},
   "toc_section_display": true,
   "toc_window_display": false
  }
 },
 "nbformat": 4,
 "nbformat_minor": 4
}
