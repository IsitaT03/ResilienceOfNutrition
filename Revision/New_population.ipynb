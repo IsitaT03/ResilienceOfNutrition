{
 "cells": [
  {
   "cell_type": "markdown",
   "metadata": {},
   "source": [
    "# Imports"
   ]
  },
  {
   "cell_type": "code",
   "execution_count": 1,
   "metadata": {},
   "outputs": [],
   "source": [
    "import numpy as np\n",
    "import pandas as pd\n",
    "import os\n",
    "import matplotlib.pyplot as plt\n",
    "import seaborn as sns"
   ]
  },
  {
   "cell_type": "code",
   "execution_count": 2,
   "metadata": {},
   "outputs": [],
   "source": [
    "data_path = 'data/'\n",
    "new_pop_data_path = 'data/inputs/new_pop/'\n",
    "new_res_path = 'data/new_res/'"
   ]
  },
  {
   "cell_type": "markdown",
   "metadata": {},
   "source": [
    "# Data preprocessing "
   ]
  },
  {
   "cell_type": "markdown",
   "metadata": {},
   "source": [
    "## Old population data"
   ]
  },
  {
   "cell_type": "code",
   "execution_count": 255,
   "metadata": {},
   "outputs": [
    {
     "data": {
      "text/html": [
       "<div>\n",
       "<style scoped>\n",
       "    .dataframe tbody tr th:only-of-type {\n",
       "        vertical-align: middle;\n",
       "    }\n",
       "\n",
       "    .dataframe tbody tr th {\n",
       "        vertical-align: top;\n",
       "    }\n",
       "\n",
       "    .dataframe thead th {\n",
       "        text-align: right;\n",
       "    }\n",
       "</style>\n",
       "<table border=\"1\" class=\"dataframe\">\n",
       "  <thead>\n",
       "    <tr style=\"text-align: right;\">\n",
       "      <th></th>\n",
       "      <th>country_id</th>\n",
       "      <th>base_id</th>\n",
       "      <th>ISO3</th>\n",
       "      <th>name</th>\n",
       "      <th>sovereignt</th>\n",
       "    </tr>\n",
       "    <tr>\n",
       "      <th>pixel_id</th>\n",
       "      <th></th>\n",
       "      <th></th>\n",
       "      <th></th>\n",
       "      <th></th>\n",
       "      <th></th>\n",
       "    </tr>\n",
       "  </thead>\n",
       "  <tbody>\n",
       "    <tr>\n",
       "      <th>330087.0</th>\n",
       "      <td>91.0</td>\n",
       "      <td>91</td>\n",
       "      <td>GRL</td>\n",
       "      <td>Greenland</td>\n",
       "      <td>Denmark</td>\n",
       "    </tr>\n",
       "    <tr>\n",
       "      <th>330088.0</th>\n",
       "      <td>91.0</td>\n",
       "      <td>91</td>\n",
       "      <td>GRL</td>\n",
       "      <td>Greenland</td>\n",
       "      <td>Denmark</td>\n",
       "    </tr>\n",
       "    <tr>\n",
       "      <th>330089.0</th>\n",
       "      <td>91.0</td>\n",
       "      <td>91</td>\n",
       "      <td>GRL</td>\n",
       "      <td>Greenland</td>\n",
       "      <td>Denmark</td>\n",
       "    </tr>\n",
       "    <tr>\n",
       "      <th>330090.0</th>\n",
       "      <td>91.0</td>\n",
       "      <td>91</td>\n",
       "      <td>GRL</td>\n",
       "      <td>Greenland</td>\n",
       "      <td>Denmark</td>\n",
       "    </tr>\n",
       "    <tr>\n",
       "      <th>334378.0</th>\n",
       "      <td>91.0</td>\n",
       "      <td>91</td>\n",
       "      <td>GRL</td>\n",
       "      <td>Greenland</td>\n",
       "      <td>Denmark</td>\n",
       "    </tr>\n",
       "  </tbody>\n",
       "</table>\n",
       "</div>"
      ],
      "text/plain": [
       "          country_id  base_id ISO3       name sovereignt\n",
       "pixel_id                                                \n",
       "330087.0        91.0       91  GRL  Greenland    Denmark\n",
       "330088.0        91.0       91  GRL  Greenland    Denmark\n",
       "330089.0        91.0       91  GRL  Greenland    Denmark\n",
       "330090.0        91.0       91  GRL  Greenland    Denmark\n",
       "334378.0        91.0       91  GRL  Greenland    Denmark"
      ]
     },
     "execution_count": 255,
     "metadata": {},
     "output_type": "execute_result"
    }
   ],
   "source": [
    "# Country with pixel mapping\n",
    "countries = pd.read_csv(data_path + 'inputs/Base/' + 'country_ids.csv')\n",
    "countries_names = pd.read_csv(data_path + 'inputs/Base/' + 'country_names.csv',encoding='latin-1')\n",
    "countries = countries[['country_id','pixel_id']].merge(countries_names[['base_id','ISO3','name', 'sovereignt']],right_on='base_id',left_on='country_id',how='right')\n",
    "countries = countries.set_index('pixel_id')\n",
    "countries.head(5)"
   ]
  },
  {
   "cell_type": "code",
   "execution_count": 256,
   "metadata": {},
   "outputs": [
    {
     "data": {
      "text/plain": [
       "name\n",
       "Afghanistan                     1.975393e+07\n",
       "Akrotiri Sovereign Base Area    1.413851e+04\n",
       "Aland                           1.414138e+04\n",
       "Albania                         3.012125e+06\n",
       "Algeria                         3.046609e+07\n",
       "Name: gpw_population, dtype: float64"
      ]
     },
     "execution_count": 256,
     "metadata": {},
     "output_type": "execute_result"
    }
   ],
   "source": [
    "# Population by country in 2000 (old data)\n",
    "pop_dir = data_path + 'inputs/population'\n",
    "pop = pd.read_csv(os.path.join(pop_dir,'pop_2000.csv'))\n",
    "pop = pop.merge(countries, right_on='pixel_id', left_on='pixel_id')\n",
    "pop_bycountry_2000 = pop.groupby('name')['gpw_population'].sum()\n",
    "pop_bycountry_2000.head()"
   ]
  },
  {
   "cell_type": "code",
   "execution_count": 5,
   "metadata": {},
   "outputs": [],
   "source": [
    "iso_3_to_name = dict(pop[['ISO3', 'name']].drop_duplicates().values)"
   ]
  },
  {
   "cell_type": "code",
   "execution_count": 6,
   "metadata": {},
   "outputs": [],
   "source": [
    "suff = pd.read_csv(data_path + '/outputs/country_sufficiencies_new.csv', index_col='ISO3')\n",
    "unique_iso = suff.index\n",
    "unique_countries = [iso_3_to_name[c] for c in unique_iso]"
   ]
  },
  {
   "cell_type": "markdown",
   "metadata": {},
   "source": [
    "## New population data"
   ]
  },
  {
   "cell_type": "code",
   "execution_count": 257,
   "metadata": {},
   "outputs": [
    {
     "data": {
      "text/html": [
       "<div>\n",
       "<style scoped>\n",
       "    .dataframe tbody tr th:only-of-type {\n",
       "        vertical-align: middle;\n",
       "    }\n",
       "\n",
       "    .dataframe tbody tr th {\n",
       "        vertical-align: top;\n",
       "    }\n",
       "\n",
       "    .dataframe thead th {\n",
       "        text-align: right;\n",
       "    }\n",
       "</style>\n",
       "<table border=\"1\" class=\"dataframe\">\n",
       "  <thead>\n",
       "    <tr style=\"text-align: right;\">\n",
       "      <th></th>\n",
       "      <th>Location</th>\n",
       "      <th>Time</th>\n",
       "      <th>Variant</th>\n",
       "      <th>PopTotal</th>\n",
       "    </tr>\n",
       "  </thead>\n",
       "  <tbody>\n",
       "    <tr>\n",
       "      <th>0</th>\n",
       "      <td>Afghanistan</td>\n",
       "      <td>1950</td>\n",
       "      <td>Medium</td>\n",
       "      <td>7752.117</td>\n",
       "    </tr>\n",
       "    <tr>\n",
       "      <th>1</th>\n",
       "      <td>Afghanistan</td>\n",
       "      <td>1951</td>\n",
       "      <td>Medium</td>\n",
       "      <td>7840.151</td>\n",
       "    </tr>\n",
       "    <tr>\n",
       "      <th>2</th>\n",
       "      <td>Afghanistan</td>\n",
       "      <td>1952</td>\n",
       "      <td>Medium</td>\n",
       "      <td>7935.996</td>\n",
       "    </tr>\n",
       "    <tr>\n",
       "      <th>3</th>\n",
       "      <td>Afghanistan</td>\n",
       "      <td>1953</td>\n",
       "      <td>Medium</td>\n",
       "      <td>8039.684</td>\n",
       "    </tr>\n",
       "    <tr>\n",
       "      <th>4</th>\n",
       "      <td>Afghanistan</td>\n",
       "      <td>1954</td>\n",
       "      <td>Medium</td>\n",
       "      <td>8151.316</td>\n",
       "    </tr>\n",
       "    <tr>\n",
       "      <th>5</th>\n",
       "      <td>Afghanistan</td>\n",
       "      <td>1955</td>\n",
       "      <td>Medium</td>\n",
       "      <td>8270.992</td>\n",
       "    </tr>\n",
       "    <tr>\n",
       "      <th>6</th>\n",
       "      <td>Afghanistan</td>\n",
       "      <td>1956</td>\n",
       "      <td>Medium</td>\n",
       "      <td>8398.873</td>\n",
       "    </tr>\n",
       "    <tr>\n",
       "      <th>7</th>\n",
       "      <td>Afghanistan</td>\n",
       "      <td>1957</td>\n",
       "      <td>Medium</td>\n",
       "      <td>8535.157</td>\n",
       "    </tr>\n",
       "    <tr>\n",
       "      <th>8</th>\n",
       "      <td>Afghanistan</td>\n",
       "      <td>1958</td>\n",
       "      <td>Medium</td>\n",
       "      <td>8680.097</td>\n",
       "    </tr>\n",
       "    <tr>\n",
       "      <th>9</th>\n",
       "      <td>Afghanistan</td>\n",
       "      <td>1959</td>\n",
       "      <td>Medium</td>\n",
       "      <td>8833.947</td>\n",
       "    </tr>\n",
       "  </tbody>\n",
       "</table>\n",
       "</div>"
      ],
      "text/plain": [
       "      Location  Time Variant  PopTotal\n",
       "0  Afghanistan  1950  Medium  7752.117\n",
       "1  Afghanistan  1951  Medium  7840.151\n",
       "2  Afghanistan  1952  Medium  7935.996\n",
       "3  Afghanistan  1953  Medium  8039.684\n",
       "4  Afghanistan  1954  Medium  8151.316\n",
       "5  Afghanistan  1955  Medium  8270.992\n",
       "6  Afghanistan  1956  Medium  8398.873\n",
       "7  Afghanistan  1957  Medium  8535.157\n",
       "8  Afghanistan  1958  Medium  8680.097\n",
       "9  Afghanistan  1959  Medium  8833.947"
      ]
     },
     "execution_count": 257,
     "metadata": {},
     "output_type": "execute_result"
    }
   ],
   "source": [
    "# New population data\n",
    "new_pop = pd.read_csv(new_pop_data_path + 'WPP2019_TotalPopulationBySex.csv')[['Location', \n",
    "                                                                               'Time', \n",
    "                                                                               'Variant', \n",
    "                                                                               'PopTotal']]\n",
    "new_pop.head(10)"
   ]
  },
  {
   "cell_type": "code",
   "execution_count": 258,
   "metadata": {},
   "outputs": [],
   "source": [
    "country_name_mapping = {'Bolivia (Plurinational State of)': 'Bolivia',\n",
    "                        'Brunei Darussalam': 'Brunei',\n",
    "                        \"Côte d'Ivoire\": 'Ivory Coast',\n",
    "                        'Republic of Congo': 'Democratic Republic of the Congo',\n",
    "                        'Congo': 'Republic of Congo',\n",
    "                        'Czechia': 'Czech Republic',\n",
    "                        'Guinea-Bissau': 'Guinea Bissau',\n",
    "                        'Iran (Islamic Republic of)': 'Iran',\n",
    "                        'Republic of Korea': 'South Korea',\n",
    "                        #'Kosovo',\n",
    "                        \"Lao People's Democratic Republic\": 'Laos',\n",
    "                        'Republic of Moldova': 'Moldova',\n",
    "                        'North Macedonia': 'Macedonia',\n",
    "                        \"Dem. People's Republic of Korea\": 'North Korea',\n",
    "                        'State of Palestine': 'Palestine',\n",
    "                        'Russian Federation': 'Russia',\n",
    "                        #'Somaliland',\n",
    "                        'Eswatini': 'Swaziland',\n",
    "                        'Syrian Arab Republic': 'Syria',\n",
    "                        'Timor-Leste': 'East Timor',\n",
    "                        'China, Taiwan Province of China': 'Taiwan',\n",
    "                        'United Republic of Tanzania': 'Tanzania',\n",
    "                        'Venezuela (Bolivarian Republic of)': 'Venezuela',\n",
    "                        'Viet Nam': 'Vietnam'}"
   ]
  },
  {
   "cell_type": "code",
   "execution_count": 259,
   "metadata": {},
   "outputs": [
    {
     "name": "stdout",
     "output_type": "stream",
     "text": [
      "0\n"
     ]
    },
    {
     "data": {
      "text/plain": [
       "[]"
      ]
     },
     "execution_count": 259,
     "metadata": {},
     "output_type": "execute_result"
    }
   ],
   "source": [
    "new_pop = new_pop.replace(country_name_mapping)\n",
    "unique_loc_new = set(new_pop['Location'])\n",
    "\n",
    "not_in_new = [c for c in unique_countries if c not in unique_loc_new]\n",
    "\n",
    "print(len(not_in_new))\n",
    "not_in_new"
   ]
  },
  {
   "cell_type": "code",
   "execution_count": 10,
   "metadata": {},
   "outputs": [],
   "source": [
    "def map_country_names(df, mapper=country_name_mapping):\n",
    "    return df.replace(mapper)"
   ]
  },
  {
   "cell_type": "markdown",
   "metadata": {},
   "source": [
    "# Data consistency"
   ]
  },
  {
   "cell_type": "code",
   "execution_count": 11,
   "metadata": {},
   "outputs": [],
   "source": [
    "unique_countries = [c for c in unique_countries if c not in not_in_new]"
   ]
  },
  {
   "cell_type": "code",
   "execution_count": 12,
   "metadata": {},
   "outputs": [],
   "source": [
    "def import_old_pop_data(scenario):\n",
    "    \n",
    "    countries = pd.read_csv(data_path + 'inputs/Base/' + 'country_ids.csv')\n",
    "    countries_names = pd.read_csv(data_path + 'inputs/Base/' + 'country_names.csv',encoding='latin-1')\n",
    "    countries = countries[['country_id','pixel_id']].merge(countries_names[['base_id','ISO3','name', 'sovereignt']],right_on='base_id',left_on='country_id',how='right')\n",
    "    countries = countries.set_index('pixel_id')\n",
    "    \n",
    "    pop_dir = data_path + 'inputs/population'\n",
    "    pop = pd.read_csv(os.path.join(pop_dir,'pop_'+ scenario + '.csv'))\n",
    "    pop = pop.merge(countries, right_on='pixel_id', left_on='pixel_id')\n",
    "    pop_bycountry = pop.groupby('name')['gpw_population'].sum()\n",
    "    \n",
    "    \n",
    "    \"\"\"# Combine the Cyprus and Northern Cyprus as we only have one in our future data\n",
    "    pop_bycountry.loc['Cyprus'] += pop_bycountry['Northern Cyprus']\n",
    "    pop_bycountry = pop_bycountry.drop('Northern Cyprus')\"\"\"\n",
    "    return pop_bycountry"
   ]
  },
  {
   "cell_type": "code",
   "execution_count": 260,
   "metadata": {},
   "outputs": [],
   "source": [
    "new_pop = pd.read_csv(new_pop_data_path + 'WPP2019_TotalPopulationBySex.csv')[['Location', \n",
    "                                                                               'Time', \n",
    "                                                                               'Variant', \n",
    "                                                                               'PopTotal']]\n",
    "new_pop['PopTotal'] = new_pop['PopTotal'] * 1000\n",
    "new_pop = new_pop.replace(country_name_mapping)"
   ]
  },
  {
   "cell_type": "code",
   "execution_count": 261,
   "metadata": {},
   "outputs": [
    {
     "data": {
      "text/html": [
       "<div>\n",
       "<style scoped>\n",
       "    .dataframe tbody tr th:only-of-type {\n",
       "        vertical-align: middle;\n",
       "    }\n",
       "\n",
       "    .dataframe tbody tr th {\n",
       "        vertical-align: top;\n",
       "    }\n",
       "\n",
       "    .dataframe thead th {\n",
       "        text-align: right;\n",
       "    }\n",
       "</style>\n",
       "<table border=\"1\" class=\"dataframe\">\n",
       "  <thead>\n",
       "    <tr style=\"text-align: right;\">\n",
       "      <th></th>\n",
       "      <th>Location</th>\n",
       "      <th>Time</th>\n",
       "      <th>Variant</th>\n",
       "      <th>PopTotal</th>\n",
       "    </tr>\n",
       "  </thead>\n",
       "  <tbody>\n",
       "    <tr>\n",
       "      <th>0</th>\n",
       "      <td>Afghanistan</td>\n",
       "      <td>1950</td>\n",
       "      <td>Medium</td>\n",
       "      <td>7752117.0</td>\n",
       "    </tr>\n",
       "    <tr>\n",
       "      <th>1</th>\n",
       "      <td>Afghanistan</td>\n",
       "      <td>1951</td>\n",
       "      <td>Medium</td>\n",
       "      <td>7840151.0</td>\n",
       "    </tr>\n",
       "    <tr>\n",
       "      <th>2</th>\n",
       "      <td>Afghanistan</td>\n",
       "      <td>1952</td>\n",
       "      <td>Medium</td>\n",
       "      <td>7935996.0</td>\n",
       "    </tr>\n",
       "    <tr>\n",
       "      <th>3</th>\n",
       "      <td>Afghanistan</td>\n",
       "      <td>1953</td>\n",
       "      <td>Medium</td>\n",
       "      <td>8039684.0</td>\n",
       "    </tr>\n",
       "    <tr>\n",
       "      <th>4</th>\n",
       "      <td>Afghanistan</td>\n",
       "      <td>1954</td>\n",
       "      <td>Medium</td>\n",
       "      <td>8151316.0</td>\n",
       "    </tr>\n",
       "  </tbody>\n",
       "</table>\n",
       "</div>"
      ],
      "text/plain": [
       "      Location  Time Variant   PopTotal\n",
       "0  Afghanistan  1950  Medium  7752117.0\n",
       "1  Afghanistan  1951  Medium  7840151.0\n",
       "2  Afghanistan  1952  Medium  7935996.0\n",
       "3  Afghanistan  1953  Medium  8039684.0\n",
       "4  Afghanistan  1954  Medium  8151316.0"
      ]
     },
     "execution_count": 261,
     "metadata": {},
     "output_type": "execute_result"
    }
   ],
   "source": [
    "new_pop.head()"
   ]
  },
  {
   "cell_type": "code",
   "execution_count": 14,
   "metadata": {},
   "outputs": [],
   "source": [
    "sufficiency_old_df = pd.read_csv(data_path + '/outputs/country_sufficiencies_new.csv', index_col='ISO3')\n",
    "unique_iso = suff.index\n",
    "unique_c = [iso_3_to_name[c] for c in unique_iso]\n",
    "sufficiency_old_df.index = unique_c\n",
    "sufficiency_old_df = sufficiency_old_df.loc[unique_countries]"
   ]
  },
  {
   "cell_type": "markdown",
   "metadata": {},
   "source": [
    "## Baseline"
   ]
  },
  {
   "cell_type": "markdown",
   "metadata": {},
   "source": [
    "### Population"
   ]
  },
  {
   "cell_type": "markdown",
   "metadata": {},
   "source": [
    "#### Global level"
   ]
  },
  {
   "cell_type": "code",
   "execution_count": 17,
   "metadata": {},
   "outputs": [
    {
     "data": {
      "text/plain": [
       "(5.97629690731853, 'e+09')"
      ]
     },
     "execution_count": 17,
     "metadata": {},
     "output_type": "execute_result"
    }
   ],
   "source": [
    "# old\n",
    "pop_bycountry_2000 = import_old_pop_data('2000')\n",
    "total_old = pop_bycountry_2000.sum()\n",
    "total_old/1e9, 'e+09'"
   ]
  },
  {
   "cell_type": "code",
   "execution_count": 265,
   "metadata": {},
   "outputs": [
    {
     "data": {
      "text/plain": [
       "277295    6.143494e+09\n",
       "Name: PopTotal, dtype: float64"
      ]
     },
     "execution_count": 265,
     "metadata": {},
     "output_type": "execute_result"
    }
   ],
   "source": [
    "# new\n",
    "baseline_new = new_pop[new_pop['Time'] == 2000]\n",
    "total_new = baseline_new.loc[baseline_new['Location'] == 'World', 'PopTotal']\n",
    "total_new"
   ]
  },
  {
   "cell_type": "code",
   "execution_count": 19,
   "metadata": {},
   "outputs": [
    {
     "data": {
      "text/plain": [
       "0.027976671941324048"
      ]
     },
     "execution_count": 19,
     "metadata": {},
     "output_type": "execute_result"
    }
   ],
   "source": [
    "# Diff\n",
    "int(total_new - total_old)/total_old"
   ]
  },
  {
   "cell_type": "markdown",
   "metadata": {},
   "source": [
    "#### Country level"
   ]
  },
  {
   "cell_type": "code",
   "execution_count": 20,
   "metadata": {},
   "outputs": [],
   "source": [
    "differences = pd.Series(index=unique_countries)\n",
    "\n",
    "for c in unique_countries:\n",
    "    old = pop_bycountry_2000.loc[c]\n",
    "    new = baseline_new.loc[baseline_new['Location'] == c, 'PopTotal']\n",
    "    diff = int(new - old)/old\n",
    "    differences.at[c] = diff"
   ]
  },
  {
   "cell_type": "code",
   "execution_count": 21,
   "metadata": {},
   "outputs": [
    {
     "data": {
      "text/plain": [
       "Cyprus               0.986339\n",
       "Somalia              0.665883\n",
       "Singapore            0.600187\n",
       "Lebanon              0.432479\n",
       "Kuwait               0.388907\n",
       "Equatorial Guinea    0.256746\n",
       "Sierra Leone         0.248707\n",
       "Djibouti             0.247340\n",
       "New Zealand          0.235493\n",
       "Brunei               0.198176\n",
       "Serbia               0.180666\n",
       "Norway               0.173393\n",
       "Haiti                0.164928\n",
       "East Timor           0.161093\n",
       "Philippines          0.154085\n",
       "Gambia               0.153729\n",
       "Papua New Guinea     0.143547\n",
       "Greece               0.132305\n",
       "Denmark              0.127496\n",
       "Guyana               0.127231\n",
       "dtype: float64"
      ]
     },
     "execution_count": 21,
     "metadata": {},
     "output_type": "execute_result"
    }
   ],
   "source": [
    "differences.sort_values(ascending=False).head(20)"
   ]
  },
  {
   "cell_type": "code",
   "execution_count": 22,
   "metadata": {},
   "outputs": [
    {
     "data": {
      "text/plain": [
       "count    163.000000\n",
       "mean       0.051185\n",
       "std        0.128860\n",
       "min       -0.357745\n",
       "25%       -0.001843\n",
       "50%        0.018911\n",
       "75%        0.072484\n",
       "max        0.986339\n",
       "dtype: float64"
      ]
     },
     "execution_count": 22,
     "metadata": {},
     "output_type": "execute_result"
    }
   ],
   "source": [
    "differences.describe()"
   ]
  },
  {
   "cell_type": "code",
   "execution_count": 23,
   "metadata": {
    "scrolled": false
   },
   "outputs": [
    {
     "data": {
      "image/png": "[encoded data removed]",
      "text/plain": [
       "<Figure size 576x576 with 1 Axes>"
      ]
     },
     "metadata": {
      "needs_background": "light"
     },
     "output_type": "display_data"
    }
   ],
   "source": [
    "plt.figure(figsize=(8, 8))\n",
    "plt.boxplot(differences);"
   ]
  },
  {
   "cell_type": "markdown",
   "metadata": {},
   "source": [
    "### Caloric sufficiency"
   ]
  },
  {
   "cell_type": "code",
   "execution_count": 15,
   "metadata": {},
   "outputs": [],
   "source": [
    "def get_prod(ssp):\n",
    "    '''ssp: 2000 or ssp'''\n",
    "    results_dir = data_path + 'outputs/compare/'\n",
    "    if ssp == '2000':\n",
    "        rez = pd.read_csv(os.path.join(results_dir, 'ssp1_compare_new.csv')) \n",
    "        return rez, rez['calories_2000'].sum()\n",
    "    else:\n",
    "        rez = pd.read_csv(os.path.join(results_dir, ssp + '_compare_new.csv'))\n",
    "        rez = rez.set_index('pixel_id')\n",
    "        return rez, rez['calories_2050'].sum()"
   ]
  },
  {
   "cell_type": "code",
   "execution_count": 16,
   "metadata": {},
   "outputs": [],
   "source": [
    "def calc_CalSuff(prod_available, LS, pop,\n",
    "            caloric_req = (2320*1e3*365.25) #in cal/capita/yr\n",
    "           ):\n",
    "    ''' prod_available (for Food not Feed + accounting for losses) - in Calories\n",
    "        LS : animal calories availables\n",
    "        pop : in capita\n",
    "        caloric_req : default values is ADER=2320 kcal/cap/d (without fish)\n",
    "        \n",
    "        This is all per year\n",
    "    '''\n",
    "    return float((prod_available + LS) / (caloric_req * pop))"
   ]
  },
  {
   "cell_type": "code",
   "execution_count": 17,
   "metadata": {},
   "outputs": [],
   "source": [
    "# Percetenge live stock in 2000\n",
    "pctLS_2000 = .19\n",
    "# Live stock value in 2000\n",
    "LS_2000 = 1.1483e15*1e3 #calories\n",
    "# Precentage of production used as food\n",
    "pct_Prod_Food_2000 = .52\n",
    "\n",
    "prod_2000, total_prod_2000 = get_prod('2000')\n",
    "prod_by_country_2000 = prod_2000.groupby('name')['calories_2000'].sum()"
   ]
  },
  {
   "cell_type": "markdown",
   "metadata": {},
   "source": [
    "#### Global level"
   ]
  },
  {
   "cell_type": "code",
   "execution_count": 27,
   "metadata": {},
   "outputs": [
    {
     "data": {
      "text/plain": [
       "1.956895410334835"
      ]
     },
     "execution_count": 27,
     "metadata": {},
     "output_type": "execute_result"
    }
   ],
   "source": [
    "# Old\n",
    "# Quantity of food available in 2000 as food\n",
    "prod_available_2000 = total_prod_2000*pct_Prod_Food_2000\n",
    "\n",
    "# 2000 caloric sufficiency\n",
    "global_CalSuff_2000_old = calc_CalSuff(prod_available_2000,\n",
    "                       LS_2000,\n",
    "                       total_old)\n",
    "\n",
    "global_CalSuff_2000_old"
   ]
  },
  {
   "cell_type": "code",
   "execution_count": 28,
   "metadata": {},
   "outputs": [
    {
     "data": {
      "text/plain": [
       "1.903637955540555"
      ]
     },
     "execution_count": 28,
     "metadata": {},
     "output_type": "execute_result"
    }
   ],
   "source": [
    "# New\n",
    "global_CalSuff_2000_new = calc_CalSuff(prod_available_2000,\n",
    "                       LS_2000,\n",
    "                       total_new)\n",
    "\n",
    "global_CalSuff_2000_new"
   ]
  },
  {
   "cell_type": "code",
   "execution_count": 29,
   "metadata": {},
   "outputs": [
    {
     "data": {
      "text/plain": [
       "-0.027215279116612315"
      ]
     },
     "execution_count": 29,
     "metadata": {},
     "output_type": "execute_result"
    }
   ],
   "source": [
    "# Diff\n",
    "float(global_CalSuff_2000_new - global_CalSuff_2000_old)/global_CalSuff_2000_old"
   ]
  },
  {
   "cell_type": "markdown",
   "metadata": {},
   "source": [
    "#### Country level"
   ]
  },
  {
   "cell_type": "code",
   "execution_count": 30,
   "metadata": {},
   "outputs": [],
   "source": [
    "# 2000 diet data FAOSTAT\n",
    "diet_2000 = pd.read_csv(data_path + 'inputs/Diet/' + 'Consumption_2000_FAOSTAT.csv')\n",
    "\n",
    "# LS 2000 Data with countries\n",
    "LS_2000_df = diet_2000[diet_2000['Item']=='Animal Products'][['Country','Value']].merge(countries[['name','ISO3']].drop_duplicates(),\n",
    "                                                                                        right_on='name',left_on='Country',how='left')\n",
    "# kcal/capita/day to cal/capita\n",
    "LS_2000_df['LS2000_percapita'] = LS_2000_df['Value'].apply(lambda x:x*1e3*365.25)\n",
    "\n",
    "\n",
    "LS_2000_df = LS_2000_df[['name','ISO3','LS2000_percapita']].set_index('name').drop('ISO3', axis=1)\n",
    "\n",
    "for c in [c for c in unique_countries if c not in LS_2000_df.index]:\n",
    "    LS_2000_df.loc[c] = LS_2000 / total_old"
   ]
  },
  {
   "cell_type": "code",
   "execution_count": 18,
   "metadata": {},
   "outputs": [],
   "source": [
    "def compute_country_calSuff(pop_country, scenario):\n",
    "    if scenario == '2000':\n",
    "        df = pd.concat([prod_by_country_2000.loc[unique_countries], pop_country.loc[unique_countries]], axis=1)\n",
    "        df = df[df['calories_2000'] > 0]\n",
    "        \n",
    "        \n",
    "        LS_2000_df['LS_2000'] = LS_2000_df['LS2000_percapita'].multiply(pop_country['PopTotal']).loc[unique_countries]\n",
    "        \n",
    "        suff_country = df.apply(lambda r: calc_CalSuff(r['calories_2000']*pct_Prod_Food_2000, LS_2000_df.at[r.name, 'LS_2000'], r['PopTotal']), axis=1).replace([np.inf, -np.inf], np.nan)\n",
    "        \n",
    "        return suff_country\n",
    "    else:\n",
    "        return NotImplementedError"
   ]
  },
  {
   "cell_type": "code",
   "execution_count": 32,
   "metadata": {
    "scrolled": false
   },
   "outputs": [
    {
     "data": {
      "text/plain": [
       "Afghanistan             0.785233\n",
       "Angola                  0.597733\n",
       "Albania                 2.319537\n",
       "United Arab Emirates    0.403014\n",
       "Argentina               8.343864\n",
       "                          ...   \n",
       "Vietnam                 1.306412\n",
       "Yemen                   0.273570\n",
       "South Africa            1.681635\n",
       "Zambia                  2.483866\n",
       "Zimbabwe                2.262618\n",
       "Name: 2000, Length: 163, dtype: float64"
      ]
     },
     "execution_count": 32,
     "metadata": {},
     "output_type": "execute_result"
    }
   ],
   "source": [
    "suff_old = sufficiency_old_df.loc[unique_countries]['2000']\n",
    "suff_old"
   ]
  },
  {
   "cell_type": "code",
   "execution_count": 33,
   "metadata": {},
   "outputs": [
    {
     "data": {
      "text/plain": [
       "Afghanistan             0.752314\n",
       "Angola                  0.558997\n",
       "Albania                 2.243595\n",
       "United Arab Emirates    0.393303\n",
       "Argentina               8.304076\n",
       "                          ...   \n",
       "Vietnam                 1.265280\n",
       "Yemen                   0.274540\n",
       "South Africa            1.657406\n",
       "Zambia                  2.510916\n",
       "Zimbabwe                2.351255\n",
       "Length: 163, dtype: float64"
      ]
     },
     "execution_count": 33,
     "metadata": {},
     "output_type": "execute_result"
    }
   ],
   "source": [
    "suff_new = compute_country_calSuff(baseline_new.set_index('Location'), '2000')\n",
    "suff_new"
   ]
  },
  {
   "cell_type": "code",
   "execution_count": 34,
   "metadata": {},
   "outputs": [],
   "source": [
    "differences = pd.Series(index=unique_countries)\n",
    "\n",
    "for c in unique_countries:\n",
    "    old = suff_old.loc[c]\n",
    "    new = suff_new.loc[c]\n",
    "    diff = (new - old)\n",
    "    differences.at[c] = diff"
   ]
  },
  {
   "cell_type": "code",
   "execution_count": 35,
   "metadata": {},
   "outputs": [
    {
     "data": {
      "text/plain": [
       "Eritrea                   0.403726\n",
       "Kyrgyzstan                0.390931\n",
       "Bhutan                    0.180588\n",
       "Georgia                   0.121530\n",
       "Turkmenistan              0.110584\n",
       "Zimbabwe                  0.088637\n",
       "Swaziland                 0.069779\n",
       "Kazakhstan                0.054556\n",
       "South Sudan               0.053960\n",
       "Bosnia and Herzegovina    0.053829\n",
       "dtype: float64"
      ]
     },
     "execution_count": 35,
     "metadata": {},
     "output_type": "execute_result"
    }
   ],
   "source": [
    "differences.sort_values(ascending=False).head(10)"
   ]
  },
  {
   "cell_type": "code",
   "execution_count": 36,
   "metadata": {},
   "outputs": [
    {
     "data": {
      "text/plain": [
       "count    163.000000\n",
       "mean      -0.060731\n",
       "std        0.165516\n",
       "min       -0.937948\n",
       "25%       -0.073168\n",
       "50%       -0.016674\n",
       "75%        0.001956\n",
       "max        0.403726\n",
       "dtype: float64"
      ]
     },
     "execution_count": 36,
     "metadata": {},
     "output_type": "execute_result"
    }
   ],
   "source": [
    "differences.describe()"
   ]
  },
  {
   "cell_type": "code",
   "execution_count": 37,
   "metadata": {},
   "outputs": [
    {
     "data": {
      "image/png": "[encoded data removed]",
      "text/plain": [
       "<Figure size 576x576 with 1 Axes>"
      ]
     },
     "metadata": {
      "needs_background": "light"
     },
     "output_type": "display_data"
    }
   ],
   "source": [
    "plt.figure(figsize=(8, 8))\n",
    "plt.boxplot(differences);"
   ]
  },
  {
   "cell_type": "code",
   "execution_count": 19,
   "metadata": {},
   "outputs": [],
   "source": [
    "ssps = ['ssp1', 'ssp2', 'ssp3', 'ssp4', 'ssp5']\n",
    "\n",
    "variants = ['Low', 'Medium', 'High', 'Constant fertility', 'Instant replacement', 'Momentum', \n",
    "            'Constant mortality', 'No change', 'Zero migration']\n",
    "\n",
    "variant_mapping = ['ssp1 jones', 'ssp2 jones', 'ssp3 jones', 'ssp4 jones', 'ssp5 jones',\n",
    "                   'ssp1 Low', 'ssp4 Low', 'ssp2 Medium', 'ssp3 High', 'ssp4 High', \n",
    "                   'ssp2 Constant fertility', 'ssp3 Constant fertility', 'ssp4 Constant fertility', 'ssp2 Instant replacement', 'ssp2 Momentum',\n",
    "                   'ssp2 Constant mortality', 'ssp1 No change', 'ssp4 No change', 'ssp2 No change', 'ssp3 Zero migration']"
   ]
  },
  {
   "cell_type": "markdown",
   "metadata": {},
   "source": [
    "## Future"
   ]
  },
  {
   "cell_type": "code",
   "execution_count": 36,
   "metadata": {},
   "outputs": [
    {
     "data": {
      "text/plain": [
       "{'Constant fertility',\n",
       " 'Constant mortality',\n",
       " 'High',\n",
       " 'Instant replacement',\n",
       " 'Low',\n",
       " 'Lower 80 PI',\n",
       " 'Lower 95 PI',\n",
       " 'Median PI',\n",
       " 'Medium',\n",
       " 'Momentum',\n",
       " 'No change',\n",
       " 'Upper 80 PI',\n",
       " 'Upper 95 PI',\n",
       " 'Zero migration'}"
      ]
     },
     "execution_count": 36,
     "metadata": {},
     "output_type": "execute_result"
    }
   ],
   "source": [
    "set(new_pop['Variant'])"
   ]
  },
  {
   "cell_type": "markdown",
   "metadata": {},
   "source": [
    "### Population"
   ]
  },
  {
   "cell_type": "code",
   "execution_count": 70,
   "metadata": {},
   "outputs": [
    {
     "name": "stdout",
     "output_type": "stream",
     "text": [
      "ssp1 7.949926714 e+09\n",
      "ssp2 8.210591474 e+09\n",
      "ssp3 9.929316985 e+09\n",
      "ssp4 8.722972624 e+09\n",
      "ssp5 8.248102437 e+09\n"
     ]
    }
   ],
   "source": [
    "for ssp in ssps:\n",
    "    pop = import_old_pop_data(ssp)\n",
    "    print(ssp, pop.sum()/1e9, 'e+09')"
   ]
  },
  {
   "cell_type": "code",
   "execution_count": 71,
   "metadata": {},
   "outputs": [
    {
     "name": "stdout",
     "output_type": "stream",
     "text": [
      "Low 8.906797099 e+09\n",
      "Medium 9.7350339 e+09\n",
      "High 10.587773913 e+09\n",
      "Constant fertility 10.543229787 e+09\n",
      "Instant replacement 9.4179804 e+09\n",
      "Momentum 9.122680371 e+09\n",
      "Constant mortality 9.33004994 e+09\n",
      "No change 10.100631101 e+09\n",
      "Zero migration 9.735283098 e+09\n"
     ]
    }
   ],
   "source": [
    "for v in variants:\n",
    "    baseline_new = new_pop[new_pop['Time'] == 2050]\n",
    "    baseline_new = baseline_new[baseline_new['Variant'] == v]\n",
    "    total_new = baseline_new.loc[baseline_new['Location'] == 'World', 'PopTotal']\n",
    "    print(v, int(total_new)/1e9, 'e+09')"
   ]
  },
  {
   "cell_type": "markdown",
   "metadata": {},
   "source": [
    "### Sufficiency"
   ]
  },
  {
   "cell_type": "code",
   "execution_count": 40,
   "metadata": {},
   "outputs": [],
   "source": [
    "sufficiency_complete = pd.DataFrame(index=['World']+unique_countries, columns=['2000 jones', '2000 UN']+variant_mapping)"
   ]
  },
  {
   "cell_type": "code",
   "execution_count": 46,
   "metadata": {},
   "outputs": [],
   "source": [
    "sufficiency_complete.loc[unique_countries, '2000 jones'] = suff_old\n",
    "sufficiency_complete.loc[unique_countries, '2000 UN'] = suff_new"
   ]
  },
  {
   "cell_type": "code",
   "execution_count": 41,
   "metadata": {},
   "outputs": [],
   "source": [
    "feed_conversion_factor = 2.3\n",
    "\n",
    "# Data source: Bodirsky : share of calories in diet from animal products\n",
    "pctLS_2050 = .19 #Assuming cst"
   ]
  },
  {
   "cell_type": "code",
   "execution_count": 20,
   "metadata": {},
   "outputs": [],
   "source": [
    "def global_CalSuff_2050(pop,\n",
    "                        ssp,\n",
    "                        pctLS_2050 = .19):\n",
    "    \n",
    "    _, prod_2050 = get_prod(ssp)\n",
    "    \n",
    "    LS_2050 = pctLS_2050 * (prod_2050*pct_Prod_Food_2000 + feed_conversion_factor*LS_2000) / (1 + pctLS_2050*(feed_conversion_factor-1)) \n",
    "\n",
    "    feed_now_food = feed_conversion_factor * (LS_2000-LS_2050)\n",
    "    \n",
    "    prod_available = prod_2050*pct_Prod_Food_2000 + feed_now_food\n",
    "    \n",
    "    calsuff = calc_CalSuff(prod_available,\n",
    "                           LS_2050,\n",
    "                           pop)\n",
    "    \n",
    "    return float(calsuff)"
   ]
  },
  {
   "cell_type": "code",
   "execution_count": 21,
   "metadata": {},
   "outputs": [],
   "source": [
    "def calc_CalSuff_numerator_2050(LS_2000_c,\n",
    "                              pct_LS_2050,\n",
    "                              prod):\n",
    "    \n",
    "    LS_2050 = pct_LS_2050 * (prod * pct_Prod_Food_2000 + feed_conversion_factor * LS_2000_c) / (1 + pct_LS_2050*(feed_conversion_factor-1)) \n",
    "\n",
    "    feed_now_food = feed_conversion_factor * (LS_2000_c - LS_2050)\n",
    "    \n",
    "    prod_available = prod * pct_Prod_Food_2000 + feed_now_food\n",
    "    \n",
    "    return (prod_available+LS_2050)"
   ]
  },
  {
   "cell_type": "code",
   "execution_count": 301,
   "metadata": {},
   "outputs": [],
   "source": [
    "diets = pd.read_csv(data_path + 'inputs/Diet/' + 'pctLS_SSPs_Bodirsky.csv',sep=';')"
   ]
  },
  {
   "cell_type": "code",
   "execution_count": 52,
   "metadata": {},
   "outputs": [],
   "source": [
    "caloric_req = 2320*1e3*365.25"
   ]
  },
  {
   "cell_type": "code",
   "execution_count": 77,
   "metadata": {},
   "outputs": [
    {
     "name": "stdout",
     "output_type": "stream",
     "text": [
      "ssp1 jones\n",
      "ssp2 jones\n",
      "ssp3 jones\n",
      "ssp4 jones\n",
      "ssp5 jones\n",
      "ssp1 Low\n",
      "ssp4 Low\n",
      "ssp2 Medium\n",
      "ssp3 High\n",
      "ssp4 High\n",
      "ssp2 Constant fertility\n",
      "ssp3 Constant fertility\n",
      "ssp4 Constant fertility\n",
      "ssp2 Instant replacement\n",
      "ssp2 Momentum\n",
      "ssp2 Constant mortality\n",
      "ssp1 No change\n",
      "ssp4 No change\n",
      "ssp2 No change\n",
      "ssp3 Zero migration\n"
     ]
    }
   ],
   "source": [
    "# Try load file, if it does not exist, recompute\n",
    "\n",
    "try:\n",
    "    sufficiency_complete = pd.read_csv(data_path + 'new_res/complete_suff.csv', index_col='Unnamed: 0')\n",
    "\n",
    "except: \n",
    "\n",
    "    prod_ssps = [get_prod(ssp) for ssp in ssps]\n",
    "\n",
    "    sufficiency_complete.at['World', '2000 jones'] = global_CalSuff_2000_old\n",
    "    sufficiency_complete.at['World', '2000 UN'] = global_CalSuff_2000_new\n",
    "\n",
    "    for v in variant_mapping:\n",
    "        print(v)\n",
    "        ssp, variant = v.split(' ', maxsplit=1)\n",
    "\n",
    "        if variant == 'jones':\n",
    "            pop = import_old_pop_data(ssp)\n",
    "            total_pop = pop.sum()\n",
    "        else: \n",
    "            # Get 2050 population only\n",
    "            pop = new_pop[new_pop['Time'] == 2050]\n",
    "            # Get total population\n",
    "            pop = pop[pop['Variant'] == variant].set_index('Location')['PopTotal']\n",
    "            total_pop = pop.at['World']\n",
    "\n",
    "        # Compute global calsuff\n",
    "        sufficiency_complete.at['World', v] = global_CalSuff_2050(total_pop, ssp)\n",
    "\n",
    "        # Get production\n",
    "        ssp_index = int(ssp[-1])-1\n",
    "        prod, _ = prod_ssps[ssp_index]\n",
    "        prod_bycountry = prod.groupby('name')['calories_2050'].sum()\n",
    "\n",
    "        # Compute coutry calsuff\n",
    "        for country in unique_countries:\n",
    "            # Diet\n",
    "            try:\n",
    "                # Get from the data\n",
    "                pct_LS_2050 = diets[(diets['Scenario'] == ssp) & (diets['Region'].apply(lambda i: iso_3_to_name.get(i)) == country)]['2050'].values[0]\n",
    "            except IndexError:\n",
    "                # Assume percentage constant as defined before if value not in data\n",
    "                pct_LS_2050 = 0.19\n",
    "\n",
    "            # Production\n",
    "            prod_country = prod_bycountry.at[country]\n",
    "            pop_country = pop.at[country]\n",
    "\n",
    "            # Caloric sufficiency\n",
    "            num = calc_CalSuff_numerator_2050(LS_2000_df.at[country, 'LS_2000'],\n",
    "                                              pct_LS_2050,\n",
    "                                              prod=prod_country)\n",
    "\n",
    "            # sufficiency of the country\n",
    "            sufficiency_complete.at[country, v] = num/(caloric_req*pop_country)"
   ]
  },
  {
   "cell_type": "code",
   "execution_count": 72,
   "metadata": {},
   "outputs": [
    {
     "data": {
      "text/html": [
       "<div>\n",
       "<style scoped>\n",
       "    .dataframe tbody tr th:only-of-type {\n",
       "        vertical-align: middle;\n",
       "    }\n",
       "\n",
       "    .dataframe tbody tr th {\n",
       "        vertical-align: top;\n",
       "    }\n",
       "\n",
       "    .dataframe thead th {\n",
       "        text-align: right;\n",
       "    }\n",
       "</style>\n",
       "<table border=\"1\" class=\"dataframe\">\n",
       "  <thead>\n",
       "    <tr style=\"text-align: right;\">\n",
       "      <th></th>\n",
       "      <th>2000 jones</th>\n",
       "      <th>2000 UN</th>\n",
       "      <th>ssp1 jones</th>\n",
       "      <th>ssp2 jones</th>\n",
       "      <th>ssp3 jones</th>\n",
       "      <th>ssp4 jones</th>\n",
       "      <th>ssp5 jones</th>\n",
       "      <th>ssp1 Low</th>\n",
       "      <th>ssp4 Low</th>\n",
       "      <th>ssp2 Medium</th>\n",
       "      <th>...</th>\n",
       "      <th>ssp2 Constant fertility</th>\n",
       "      <th>ssp3 Constant fertility</th>\n",
       "      <th>ssp4 Constant fertility</th>\n",
       "      <th>ssp2 Instant replacement</th>\n",
       "      <th>ssp2 Momentum</th>\n",
       "      <th>ssp2 Constant mortality</th>\n",
       "      <th>ssp1 No change</th>\n",
       "      <th>ssp4 No change</th>\n",
       "      <th>ssp2 No change</th>\n",
       "      <th>ssp3 Zero migration</th>\n",
       "    </tr>\n",
       "  </thead>\n",
       "  <tbody>\n",
       "    <tr>\n",
       "      <th>World</th>\n",
       "      <td>1.956895</td>\n",
       "      <td>1.903638</td>\n",
       "      <td>1.427659</td>\n",
       "      <td>1.436981</td>\n",
       "      <td>1.190419</td>\n",
       "      <td>1.361359</td>\n",
       "      <td>1.489266</td>\n",
       "      <td>1.274283</td>\n",
       "      <td>1.333262</td>\n",
       "      <td>1.211959</td>\n",
       "      <td>...</td>\n",
       "      <td>1.119056</td>\n",
       "      <td>1.121103</td>\n",
       "      <td>1.126324</td>\n",
       "      <td>1.252760</td>\n",
       "      <td>1.293311</td>\n",
       "      <td>1.264566</td>\n",
       "      <td>1.123671</td>\n",
       "      <td>1.175679</td>\n",
       "      <td>1.168092</td>\n",
       "      <td>1.214146</td>\n",
       "    </tr>\n",
       "    <tr>\n",
       "      <th>Afghanistan</th>\n",
       "      <td>0.785233</td>\n",
       "      <td>0.752314</td>\n",
       "      <td>0.361810</td>\n",
       "      <td>0.305570</td>\n",
       "      <td>0.288663</td>\n",
       "      <td>0.268865</td>\n",
       "      <td>0.467330</td>\n",
       "      <td>0.324643</td>\n",
       "      <td>0.349199</td>\n",
       "      <td>0.316490</td>\n",
       "      <td>...</td>\n",
       "      <td>0.232117</td>\n",
       "      <td>0.247540</td>\n",
       "      <td>0.232838</td>\n",
       "      <td>0.367987</td>\n",
       "      <td>0.359137</td>\n",
       "      <td>0.331773</td>\n",
       "      <td>0.227318</td>\n",
       "      <td>0.244512</td>\n",
       "      <td>0.243755</td>\n",
       "      <td>0.322882</td>\n",
       "    </tr>\n",
       "    <tr>\n",
       "      <th>Angola</th>\n",
       "      <td>0.597733</td>\n",
       "      <td>0.558997</td>\n",
       "      <td>0.312329</td>\n",
       "      <td>0.401403</td>\n",
       "      <td>0.203325</td>\n",
       "      <td>0.312850</td>\n",
       "      <td>0.436844</td>\n",
       "      <td>0.184216</td>\n",
       "      <td>0.272841</td>\n",
       "      <td>0.219518</td>\n",
       "      <td>...</td>\n",
       "      <td>0.184160</td>\n",
       "      <td>0.132274</td>\n",
       "      <td>0.211433</td>\n",
       "      <td>0.347132</td>\n",
       "      <td>0.356321</td>\n",
       "      <td>0.231871</td>\n",
       "      <td>0.150981</td>\n",
       "      <td>0.223616</td>\n",
       "      <td>0.194772</td>\n",
       "      <td>0.157597</td>\n",
       "    </tr>\n",
       "    <tr>\n",
       "      <th>Albania</th>\n",
       "      <td>2.319537</td>\n",
       "      <td>2.243595</td>\n",
       "      <td>2.163720</td>\n",
       "      <td>2.131903</td>\n",
       "      <td>2.018599</td>\n",
       "      <td>2.176626</td>\n",
       "      <td>2.192396</td>\n",
       "      <td>2.732636</td>\n",
       "      <td>2.748935</td>\n",
       "      <td>2.460350</td>\n",
       "      <td>...</td>\n",
       "      <td>2.397339</td>\n",
       "      <td>2.269928</td>\n",
       "      <td>2.445312</td>\n",
       "      <td>2.168429</td>\n",
       "      <td>1.967234</td>\n",
       "      <td>2.570645</td>\n",
       "      <td>2.537288</td>\n",
       "      <td>2.552421</td>\n",
       "      <td>2.502347</td>\n",
       "      <td>2.034367</td>\n",
       "    </tr>\n",
       "    <tr>\n",
       "      <th>United Arab Emirates</th>\n",
       "      <td>0.403014</td>\n",
       "      <td>0.393303</td>\n",
       "      <td>0.170796</td>\n",
       "      <td>0.164719</td>\n",
       "      <td>0.155342</td>\n",
       "      <td>0.191847</td>\n",
       "      <td>0.118431</td>\n",
       "      <td>0.277701</td>\n",
       "      <td>0.311947</td>\n",
       "      <td>0.242482</td>\n",
       "      <td>...</td>\n",
       "      <td>0.238716</td>\n",
       "      <td>0.224212</td>\n",
       "      <td>0.277891</td>\n",
       "      <td>0.209756</td>\n",
       "      <td>0.221019</td>\n",
       "      <td>0.248963</td>\n",
       "      <td>0.253905</td>\n",
       "      <td>0.285217</td>\n",
       "      <td>0.245009</td>\n",
       "      <td>0.223483</td>\n",
       "    </tr>\n",
       "  </tbody>\n",
       "</table>\n",
       "<p>5 rows × 22 columns</p>\n",
       "</div>"
      ],
      "text/plain": [
       "                      2000 jones   2000 UN  ssp1 jones  ssp2 jones  \\\n",
       "World                   1.956895  1.903638    1.427659    1.436981   \n",
       "Afghanistan             0.785233  0.752314    0.361810    0.305570   \n",
       "Angola                  0.597733  0.558997    0.312329    0.401403   \n",
       "Albania                 2.319537  2.243595    2.163720    2.131903   \n",
       "United Arab Emirates    0.403014  0.393303    0.170796    0.164719   \n",
       "\n",
       "                      ssp3 jones  ssp4 jones  ssp5 jones  ssp1 Low  ssp4 Low  \\\n",
       "World                   1.190419    1.361359    1.489266  1.274283  1.333262   \n",
       "Afghanistan             0.288663    0.268865    0.467330  0.324643  0.349199   \n",
       "Angola                  0.203325    0.312850    0.436844  0.184216  0.272841   \n",
       "Albania                 2.018599    2.176626    2.192396  2.732636  2.748935   \n",
       "United Arab Emirates    0.155342    0.191847    0.118431  0.277701  0.311947   \n",
       "\n",
       "                      ssp2 Medium  ...  ssp2 Constant fertility  \\\n",
       "World                    1.211959  ...                 1.119056   \n",
       "Afghanistan              0.316490  ...                 0.232117   \n",
       "Angola                   0.219518  ...                 0.184160   \n",
       "Albania                  2.460350  ...                 2.397339   \n",
       "United Arab Emirates     0.242482  ...                 0.238716   \n",
       "\n",
       "                      ssp3 Constant fertility  ssp4 Constant fertility  \\\n",
       "World                                1.121103                 1.126324   \n",
       "Afghanistan                          0.247540                 0.232838   \n",
       "Angola                               0.132274                 0.211433   \n",
       "Albania                              2.269928                 2.445312   \n",
       "United Arab Emirates                 0.224212                 0.277891   \n",
       "\n",
       "                      ssp2 Instant replacement  ssp2 Momentum  \\\n",
       "World                                 1.252760       1.293311   \n",
       "Afghanistan                           0.367987       0.359137   \n",
       "Angola                                0.347132       0.356321   \n",
       "Albania                               2.168429       1.967234   \n",
       "United Arab Emirates                  0.209756       0.221019   \n",
       "\n",
       "                      ssp2 Constant mortality  ssp1 No change  ssp4 No change  \\\n",
       "World                                1.264566        1.123671        1.175679   \n",
       "Afghanistan                          0.331773        0.227318        0.244512   \n",
       "Angola                               0.231871        0.150981        0.223616   \n",
       "Albania                              2.570645        2.537288        2.552421   \n",
       "United Arab Emirates                 0.248963        0.253905        0.285217   \n",
       "\n",
       "                      ssp2 No change  ssp3 Zero migration  \n",
       "World                       1.168092             1.214146  \n",
       "Afghanistan                 0.243755             0.322882  \n",
       "Angola                      0.194772             0.157597  \n",
       "Albania                     2.502347             2.034367  \n",
       "United Arab Emirates        0.245009             0.223483  \n",
       "\n",
       "[5 rows x 22 columns]"
      ]
     },
     "execution_count": 72,
     "metadata": {},
     "output_type": "execute_result"
    }
   ],
   "source": [
    "sufficiency_complete.head()"
   ]
  },
  {
   "cell_type": "code",
   "execution_count": 81,
   "metadata": {},
   "outputs": [],
   "source": [
    "#sufficiency_complete.to_csv(data_path + 'new_res/complete_suff.csv')"
   ]
  },
  {
   "cell_type": "markdown",
   "metadata": {},
   "source": [
    "### Check results"
   ]
  },
  {
   "cell_type": "code",
   "execution_count": 85,
   "metadata": {
    "scrolled": false
   },
   "outputs": [
    {
     "data": {
      "text/html": [
       "<div>\n",
       "<style scoped>\n",
       "    .dataframe tbody tr th:only-of-type {\n",
       "        vertical-align: middle;\n",
       "    }\n",
       "\n",
       "    .dataframe tbody tr th {\n",
       "        vertical-align: top;\n",
       "    }\n",
       "\n",
       "    .dataframe thead th {\n",
       "        text-align: right;\n",
       "    }\n",
       "</style>\n",
       "<table border=\"1\" class=\"dataframe\">\n",
       "  <thead>\n",
       "    <tr style=\"text-align: right;\">\n",
       "      <th></th>\n",
       "      <th>2000 jones</th>\n",
       "      <th>2000 UN</th>\n",
       "      <th>ssp1 jones</th>\n",
       "      <th>ssp2 jones</th>\n",
       "      <th>ssp3 jones</th>\n",
       "      <th>ssp4 jones</th>\n",
       "      <th>ssp5 jones</th>\n",
       "      <th>ssp1 Low</th>\n",
       "      <th>ssp4 Low</th>\n",
       "      <th>ssp2 Medium</th>\n",
       "      <th>...</th>\n",
       "      <th>ssp2 Constant fertility</th>\n",
       "      <th>ssp3 Constant fertility</th>\n",
       "      <th>ssp4 Constant fertility</th>\n",
       "      <th>ssp2 Instant replacement</th>\n",
       "      <th>ssp2 Momentum</th>\n",
       "      <th>ssp2 Constant mortality</th>\n",
       "      <th>ssp1 No change</th>\n",
       "      <th>ssp4 No change</th>\n",
       "      <th>ssp2 No change</th>\n",
       "      <th>ssp3 Zero migration</th>\n",
       "    </tr>\n",
       "  </thead>\n",
       "  <tbody>\n",
       "    <tr>\n",
       "      <th>World</th>\n",
       "      <td>1.956895</td>\n",
       "      <td>1.903638</td>\n",
       "      <td>1.427659</td>\n",
       "      <td>1.436981</td>\n",
       "      <td>1.190419</td>\n",
       "      <td>1.361359</td>\n",
       "      <td>1.489266</td>\n",
       "      <td>1.274283</td>\n",
       "      <td>1.333262</td>\n",
       "      <td>1.211959</td>\n",
       "      <td>...</td>\n",
       "      <td>1.119056</td>\n",
       "      <td>1.121103</td>\n",
       "      <td>1.126324</td>\n",
       "      <td>1.252760</td>\n",
       "      <td>1.293311</td>\n",
       "      <td>1.264566</td>\n",
       "      <td>1.123671</td>\n",
       "      <td>1.175679</td>\n",
       "      <td>1.168092</td>\n",
       "      <td>1.214146</td>\n",
       "    </tr>\n",
       "    <tr>\n",
       "      <th>Afghanistan</th>\n",
       "      <td>0.785233</td>\n",
       "      <td>0.752314</td>\n",
       "      <td>0.361810</td>\n",
       "      <td>0.305570</td>\n",
       "      <td>0.288663</td>\n",
       "      <td>0.268865</td>\n",
       "      <td>0.467330</td>\n",
       "      <td>0.324643</td>\n",
       "      <td>0.349199</td>\n",
       "      <td>0.316490</td>\n",
       "      <td>...</td>\n",
       "      <td>0.232117</td>\n",
       "      <td>0.247540</td>\n",
       "      <td>0.232838</td>\n",
       "      <td>0.367987</td>\n",
       "      <td>0.359137</td>\n",
       "      <td>0.331773</td>\n",
       "      <td>0.227318</td>\n",
       "      <td>0.244512</td>\n",
       "      <td>0.243755</td>\n",
       "      <td>0.322882</td>\n",
       "    </tr>\n",
       "    <tr>\n",
       "      <th>Angola</th>\n",
       "      <td>0.597733</td>\n",
       "      <td>0.558997</td>\n",
       "      <td>0.312329</td>\n",
       "      <td>0.401403</td>\n",
       "      <td>0.203325</td>\n",
       "      <td>0.312850</td>\n",
       "      <td>0.436844</td>\n",
       "      <td>0.184216</td>\n",
       "      <td>0.272841</td>\n",
       "      <td>0.219518</td>\n",
       "      <td>...</td>\n",
       "      <td>0.184160</td>\n",
       "      <td>0.132274</td>\n",
       "      <td>0.211433</td>\n",
       "      <td>0.347132</td>\n",
       "      <td>0.356321</td>\n",
       "      <td>0.231871</td>\n",
       "      <td>0.150981</td>\n",
       "      <td>0.223616</td>\n",
       "      <td>0.194772</td>\n",
       "      <td>0.157597</td>\n",
       "    </tr>\n",
       "    <tr>\n",
       "      <th>Albania</th>\n",
       "      <td>2.319537</td>\n",
       "      <td>2.243595</td>\n",
       "      <td>2.163720</td>\n",
       "      <td>2.131903</td>\n",
       "      <td>2.018599</td>\n",
       "      <td>2.176626</td>\n",
       "      <td>2.192396</td>\n",
       "      <td>2.732636</td>\n",
       "      <td>2.748935</td>\n",
       "      <td>2.460350</td>\n",
       "      <td>...</td>\n",
       "      <td>2.397339</td>\n",
       "      <td>2.269928</td>\n",
       "      <td>2.445312</td>\n",
       "      <td>2.168429</td>\n",
       "      <td>1.967234</td>\n",
       "      <td>2.570645</td>\n",
       "      <td>2.537288</td>\n",
       "      <td>2.552421</td>\n",
       "      <td>2.502347</td>\n",
       "      <td>2.034367</td>\n",
       "    </tr>\n",
       "    <tr>\n",
       "      <th>United Arab Emirates</th>\n",
       "      <td>0.403014</td>\n",
       "      <td>0.393303</td>\n",
       "      <td>0.170796</td>\n",
       "      <td>0.164719</td>\n",
       "      <td>0.155342</td>\n",
       "      <td>0.191847</td>\n",
       "      <td>0.118431</td>\n",
       "      <td>0.277701</td>\n",
       "      <td>0.311947</td>\n",
       "      <td>0.242482</td>\n",
       "      <td>...</td>\n",
       "      <td>0.238716</td>\n",
       "      <td>0.224212</td>\n",
       "      <td>0.277891</td>\n",
       "      <td>0.209756</td>\n",
       "      <td>0.221019</td>\n",
       "      <td>0.248963</td>\n",
       "      <td>0.253905</td>\n",
       "      <td>0.285217</td>\n",
       "      <td>0.245009</td>\n",
       "      <td>0.223483</td>\n",
       "    </tr>\n",
       "  </tbody>\n",
       "</table>\n",
       "<p>5 rows × 22 columns</p>\n",
       "</div>"
      ],
      "text/plain": [
       "                      2000 jones   2000 UN  ssp1 jones  ssp2 jones  \\\n",
       "World                   1.956895  1.903638    1.427659    1.436981   \n",
       "Afghanistan             0.785233  0.752314    0.361810    0.305570   \n",
       "Angola                  0.597733  0.558997    0.312329    0.401403   \n",
       "Albania                 2.319537  2.243595    2.163720    2.131903   \n",
       "United Arab Emirates    0.403014  0.393303    0.170796    0.164719   \n",
       "\n",
       "                      ssp3 jones  ssp4 jones  ssp5 jones  ssp1 Low  ssp4 Low  \\\n",
       "World                   1.190419    1.361359    1.489266  1.274283  1.333262   \n",
       "Afghanistan             0.288663    0.268865    0.467330  0.324643  0.349199   \n",
       "Angola                  0.203325    0.312850    0.436844  0.184216  0.272841   \n",
       "Albania                 2.018599    2.176626    2.192396  2.732636  2.748935   \n",
       "United Arab Emirates    0.155342    0.191847    0.118431  0.277701  0.311947   \n",
       "\n",
       "                      ssp2 Medium  ...  ssp2 Constant fertility  \\\n",
       "World                    1.211959  ...                 1.119056   \n",
       "Afghanistan              0.316490  ...                 0.232117   \n",
       "Angola                   0.219518  ...                 0.184160   \n",
       "Albania                  2.460350  ...                 2.397339   \n",
       "United Arab Emirates     0.242482  ...                 0.238716   \n",
       "\n",
       "                      ssp3 Constant fertility  ssp4 Constant fertility  \\\n",
       "World                                1.121103                 1.126324   \n",
       "Afghanistan                          0.247540                 0.232838   \n",
       "Angola                               0.132274                 0.211433   \n",
       "Albania                              2.269928                 2.445312   \n",
       "United Arab Emirates                 0.224212                 0.277891   \n",
       "\n",
       "                      ssp2 Instant replacement  ssp2 Momentum  \\\n",
       "World                                 1.252760       1.293311   \n",
       "Afghanistan                           0.367987       0.359137   \n",
       "Angola                                0.347132       0.356321   \n",
       "Albania                               2.168429       1.967234   \n",
       "United Arab Emirates                  0.209756       0.221019   \n",
       "\n",
       "                      ssp2 Constant mortality  ssp1 No change  ssp4 No change  \\\n",
       "World                                1.264566        1.123671        1.175679   \n",
       "Afghanistan                          0.331773        0.227318        0.244512   \n",
       "Angola                               0.231871        0.150981        0.223616   \n",
       "Albania                              2.570645        2.537288        2.552421   \n",
       "United Arab Emirates                 0.248963        0.253905        0.285217   \n",
       "\n",
       "                      ssp2 No change  ssp3 Zero migration  \n",
       "World                       1.168092             1.214146  \n",
       "Afghanistan                 0.243755             0.322882  \n",
       "Angola                      0.194772             0.157597  \n",
       "Albania                     2.502347             2.034367  \n",
       "United Arab Emirates        0.245009             0.223483  \n",
       "\n",
       "[5 rows x 22 columns]"
      ]
     },
     "execution_count": 85,
     "metadata": {},
     "output_type": "execute_result"
    }
   ],
   "source": [
    "sufficiency_complete = pd.read_csv(data_path + 'new_res/complete_suff.csv', index_col='Unnamed: 0')\n",
    "sufficiency_complete.head()"
   ]
  },
  {
   "cell_type": "code",
   "execution_count": 86,
   "metadata": {
    "scrolled": false
   },
   "outputs": [
    {
     "data": {
      "text/plain": [
       "2000 jones                  1.956895\n",
       "2000 UN                     1.903638\n",
       "ssp1 jones                  1.427659\n",
       "ssp2 jones                  1.436981\n",
       "ssp3 jones                  1.190419\n",
       "ssp4 jones                  1.361359\n",
       "ssp5 jones                  1.489266\n",
       "ssp1 Low                    1.274283\n",
       "ssp4 Low                    1.333262\n",
       "ssp2 Medium                 1.211959\n",
       "ssp3 High                   1.116387\n",
       "ssp4 High                   1.121586\n",
       "ssp2 Constant fertility     1.119056\n",
       "ssp3 Constant fertility     1.121103\n",
       "ssp4 Constant fertility     1.126324\n",
       "ssp2 Instant replacement    1.252760\n",
       "ssp2 Momentum               1.293311\n",
       "ssp2 Constant mortality     1.264566\n",
       "ssp1 No change              1.123671\n",
       "ssp4 No change              1.175679\n",
       "ssp2 No change              1.168092\n",
       "ssp3 Zero migration         1.214146\n",
       "Name: World, dtype: float64"
      ]
     },
     "execution_count": 86,
     "metadata": {},
     "output_type": "execute_result"
    }
   ],
   "source": [
    "# Global calsuff\n",
    "sufficiency_complete.loc['World']"
   ]
  },
  {
   "cell_type": "code",
   "execution_count": 87,
   "metadata": {
    "scrolled": true
   },
   "outputs": [
    {
     "data": {
      "text/html": [
       "<div>\n",
       "<style scoped>\n",
       "    .dataframe tbody tr th:only-of-type {\n",
       "        vertical-align: middle;\n",
       "    }\n",
       "\n",
       "    .dataframe tbody tr th {\n",
       "        vertical-align: top;\n",
       "    }\n",
       "\n",
       "    .dataframe thead th {\n",
       "        text-align: right;\n",
       "    }\n",
       "</style>\n",
       "<table border=\"1\" class=\"dataframe\">\n",
       "  <thead>\n",
       "    <tr style=\"text-align: right;\">\n",
       "      <th></th>\n",
       "      <th>ISO3</th>\n",
       "      <th>CalSuff_2000</th>\n",
       "      <th>ssp1</th>\n",
       "      <th>ssp2</th>\n",
       "      <th>ssp3</th>\n",
       "      <th>ssp4</th>\n",
       "      <th>ssp5</th>\n",
       "      <th>delta_consistency</th>\n",
       "      <th>trade</th>\n",
       "      <th>GFSI</th>\n",
       "      <th>...</th>\n",
       "      <th>log_GNP</th>\n",
       "      <th>IncomeGroup</th>\n",
       "      <th>water</th>\n",
       "      <th>nutrition</th>\n",
       "      <th>avg_new_suff</th>\n",
       "      <th>delta_CalSuff_avg</th>\n",
       "      <th>delta_max</th>\n",
       "      <th>lowest_ssp</th>\n",
       "      <th>highest_ssp</th>\n",
       "      <th>Category</th>\n",
       "    </tr>\n",
       "    <tr>\n",
       "      <th>name</th>\n",
       "      <th></th>\n",
       "      <th></th>\n",
       "      <th></th>\n",
       "      <th></th>\n",
       "      <th></th>\n",
       "      <th></th>\n",
       "      <th></th>\n",
       "      <th></th>\n",
       "      <th></th>\n",
       "      <th></th>\n",
       "      <th></th>\n",
       "      <th></th>\n",
       "      <th></th>\n",
       "      <th></th>\n",
       "      <th></th>\n",
       "      <th></th>\n",
       "      <th></th>\n",
       "      <th></th>\n",
       "      <th></th>\n",
       "      <th></th>\n",
       "      <th></th>\n",
       "    </tr>\n",
       "  </thead>\n",
       "  <tbody>\n",
       "    <tr>\n",
       "      <th>Afghanistan</th>\n",
       "      <td>AFG</td>\n",
       "      <td>0.785233</td>\n",
       "      <td>0.357539</td>\n",
       "      <td>0.302060</td>\n",
       "      <td>0.285515</td>\n",
       "      <td>0.265726</td>\n",
       "      <td>0.462921</td>\n",
       "      <td>0</td>\n",
       "      <td>0.269311</td>\n",
       "      <td>NaN</td>\n",
       "      <td>...</td>\n",
       "      <td>6.309918</td>\n",
       "      <td>Low income</td>\n",
       "      <td>0.347358</td>\n",
       "      <td>0.750</td>\n",
       "      <td>0.334752</td>\n",
       "      <td>-0.450481</td>\n",
       "      <td>-0.519507</td>\n",
       "      <td>0.265726</td>\n",
       "      <td>0.462921</td>\n",
       "      <td>Most vulnerable</td>\n",
       "    </tr>\n",
       "    <tr>\n",
       "      <th>Angola</th>\n",
       "      <td>AGO</td>\n",
       "      <td>0.597733</td>\n",
       "      <td>0.308747</td>\n",
       "      <td>0.397758</td>\n",
       "      <td>0.200725</td>\n",
       "      <td>0.310365</td>\n",
       "      <td>0.433238</td>\n",
       "      <td>0</td>\n",
       "      <td>0.221301</td>\n",
       "      <td>0.386</td>\n",
       "      <td>...</td>\n",
       "      <td>8.122668</td>\n",
       "      <td>Lower middle income</td>\n",
       "      <td>0.989702</td>\n",
       "      <td>0.810</td>\n",
       "      <td>0.330167</td>\n",
       "      <td>-0.267566</td>\n",
       "      <td>-0.397008</td>\n",
       "      <td>0.200725</td>\n",
       "      <td>0.433238</td>\n",
       "      <td>Most vulnerable</td>\n",
       "    </tr>\n",
       "    <tr>\n",
       "      <th>Albania</th>\n",
       "      <td>ALB</td>\n",
       "      <td>2.319537</td>\n",
       "      <td>2.144321</td>\n",
       "      <td>2.112085</td>\n",
       "      <td>1.997762</td>\n",
       "      <td>2.156844</td>\n",
       "      <td>2.172469</td>\n",
       "      <td>0</td>\n",
       "      <td>0.208123</td>\n",
       "      <td>NaN</td>\n",
       "      <td>...</td>\n",
       "      <td>8.488794</td>\n",
       "      <td>Upper middle income</td>\n",
       "      <td>0.609977</td>\n",
       "      <td>0.937</td>\n",
       "      <td>2.116696</td>\n",
       "      <td>-0.202841</td>\n",
       "      <td>-0.321776</td>\n",
       "      <td>1.997762</td>\n",
       "      <td>2.172469</td>\n",
       "      <td>Decreasing but not as vulnerable</td>\n",
       "    </tr>\n",
       "    <tr>\n",
       "      <th>United Arab Emirates</th>\n",
       "      <td>ARE</td>\n",
       "      <td>0.403014</td>\n",
       "      <td>0.158618</td>\n",
       "      <td>0.152754</td>\n",
       "      <td>0.143927</td>\n",
       "      <td>0.179645</td>\n",
       "      <td>0.109497</td>\n",
       "      <td>0</td>\n",
       "      <td>0.000000</td>\n",
       "      <td>0.725</td>\n",
       "      <td>...</td>\n",
       "      <td>10.621571</td>\n",
       "      <td>High income</td>\n",
       "      <td>0.001105</td>\n",
       "      <td>NaN</td>\n",
       "      <td>0.148888</td>\n",
       "      <td>-0.254126</td>\n",
       "      <td>-0.293517</td>\n",
       "      <td>0.109497</td>\n",
       "      <td>0.179645</td>\n",
       "      <td>Importers</td>\n",
       "    </tr>\n",
       "    <tr>\n",
       "      <th>Argentina</th>\n",
       "      <td>ARG</td>\n",
       "      <td>8.343864</td>\n",
       "      <td>5.579006</td>\n",
       "      <td>6.409942</td>\n",
       "      <td>6.254420</td>\n",
       "      <td>5.945893</td>\n",
       "      <td>6.103357</td>\n",
       "      <td>0</td>\n",
       "      <td>1.000000</td>\n",
       "      <td>0.692</td>\n",
       "      <td>...</td>\n",
       "      <td>9.423029</td>\n",
       "      <td>Upper middle income</td>\n",
       "      <td>0.804605</td>\n",
       "      <td>0.977</td>\n",
       "      <td>6.058524</td>\n",
       "      <td>-2.285340</td>\n",
       "      <td>-2.764858</td>\n",
       "      <td>5.579006</td>\n",
       "      <td>6.409942</td>\n",
       "      <td>Exporters</td>\n",
       "    </tr>\n",
       "  </tbody>\n",
       "</table>\n",
       "<p>5 rows × 23 columns</p>\n",
       "</div>"
      ],
      "text/plain": [
       "                     ISO3  CalSuff_2000      ssp1      ssp2      ssp3  \\\n",
       "name                                                                    \n",
       "Afghanistan           AFG      0.785233  0.357539  0.302060  0.285515   \n",
       "Angola                AGO      0.597733  0.308747  0.397758  0.200725   \n",
       "Albania               ALB      2.319537  2.144321  2.112085  1.997762   \n",
       "United Arab Emirates  ARE      0.403014  0.158618  0.152754  0.143927   \n",
       "Argentina             ARG      8.343864  5.579006  6.409942  6.254420   \n",
       "\n",
       "                          ssp4      ssp5  delta_consistency     trade   GFSI  \\\n",
       "name                                                                           \n",
       "Afghanistan           0.265726  0.462921                  0  0.269311    NaN   \n",
       "Angola                0.310365  0.433238                  0  0.221301  0.386   \n",
       "Albania               2.156844  2.172469                  0  0.208123    NaN   \n",
       "United Arab Emirates  0.179645  0.109497                  0  0.000000  0.725   \n",
       "Argentina             5.945893  6.103357                  0  1.000000  0.692   \n",
       "\n",
       "                      ...    log_GNP          IncomeGroup     water  \\\n",
       "name                  ...                                             \n",
       "Afghanistan           ...   6.309918           Low income  0.347358   \n",
       "Angola                ...   8.122668  Lower middle income  0.989702   \n",
       "Albania               ...   8.488794  Upper middle income  0.609977   \n",
       "United Arab Emirates  ...  10.621571          High income  0.001105   \n",
       "Argentina             ...   9.423029  Upper middle income  0.804605   \n",
       "\n",
       "                      nutrition avg_new_suff  delta_CalSuff_avg  delta_max  \\\n",
       "name                                                                         \n",
       "Afghanistan               0.750     0.334752          -0.450481  -0.519507   \n",
       "Angola                    0.810     0.330167          -0.267566  -0.397008   \n",
       "Albania                   0.937     2.116696          -0.202841  -0.321776   \n",
       "United Arab Emirates        NaN     0.148888          -0.254126  -0.293517   \n",
       "Argentina                 0.977     6.058524          -2.285340  -2.764858   \n",
       "\n",
       "                      lowest_ssp  highest_ssp  \\\n",
       "name                                            \n",
       "Afghanistan             0.265726     0.462921   \n",
       "Angola                  0.200725     0.433238   \n",
       "Albania                 1.997762     2.172469   \n",
       "United Arab Emirates    0.109497     0.179645   \n",
       "Argentina               5.579006     6.409942   \n",
       "\n",
       "                                              Category  \n",
       "name                                                    \n",
       "Afghanistan                            Most vulnerable  \n",
       "Angola                                 Most vulnerable  \n",
       "Albania               Decreasing but not as vulnerable  \n",
       "United Arab Emirates                         Importers  \n",
       "Argentina                                    Exporters  \n",
       "\n",
       "[5 rows x 23 columns]"
      ]
     },
     "execution_count": 87,
     "metadata": {},
     "output_type": "execute_result"
    }
   ],
   "source": [
    "# Import old calsuff file\n",
    "old_suff = pd.read_csv(data_path + '/related_datasets/sufficiencies_full.csv', index_col='name')\n",
    "old_suff.head()"
   ]
  },
  {
   "cell_type": "code",
   "execution_count": 88,
   "metadata": {},
   "outputs": [
    {
     "data": {
      "text/html": [
       "<div>\n",
       "<style scoped>\n",
       "    .dataframe tbody tr th:only-of-type {\n",
       "        vertical-align: middle;\n",
       "    }\n",
       "\n",
       "    .dataframe tbody tr th {\n",
       "        vertical-align: top;\n",
       "    }\n",
       "\n",
       "    .dataframe thead th {\n",
       "        text-align: right;\n",
       "    }\n",
       "</style>\n",
       "<table border=\"1\" class=\"dataframe\">\n",
       "  <thead>\n",
       "    <tr style=\"text-align: right;\">\n",
       "      <th></th>\n",
       "      <th>2000 jones</th>\n",
       "      <th>2000 UN</th>\n",
       "      <th>ssp1 jones</th>\n",
       "      <th>ssp2 jones</th>\n",
       "      <th>ssp3 jones</th>\n",
       "      <th>ssp4 jones</th>\n",
       "      <th>ssp5 jones</th>\n",
       "      <th>ssp1 Low</th>\n",
       "      <th>ssp4 Low</th>\n",
       "      <th>ssp2 Medium</th>\n",
       "      <th>...</th>\n",
       "      <th>ssp2 Constant fertility</th>\n",
       "      <th>ssp3 Constant fertility</th>\n",
       "      <th>ssp4 Constant fertility</th>\n",
       "      <th>ssp2 Instant replacement</th>\n",
       "      <th>ssp2 Momentum</th>\n",
       "      <th>ssp2 Constant mortality</th>\n",
       "      <th>ssp1 No change</th>\n",
       "      <th>ssp4 No change</th>\n",
       "      <th>ssp2 No change</th>\n",
       "      <th>ssp3 Zero migration</th>\n",
       "    </tr>\n",
       "    <tr>\n",
       "      <th>name</th>\n",
       "      <th></th>\n",
       "      <th></th>\n",
       "      <th></th>\n",
       "      <th></th>\n",
       "      <th></th>\n",
       "      <th></th>\n",
       "      <th></th>\n",
       "      <th></th>\n",
       "      <th></th>\n",
       "      <th></th>\n",
       "      <th></th>\n",
       "      <th></th>\n",
       "      <th></th>\n",
       "      <th></th>\n",
       "      <th></th>\n",
       "      <th></th>\n",
       "      <th></th>\n",
       "      <th></th>\n",
       "      <th></th>\n",
       "      <th></th>\n",
       "      <th></th>\n",
       "    </tr>\n",
       "  </thead>\n",
       "  <tbody>\n",
       "    <tr>\n",
       "      <th>Afghanistan</th>\n",
       "      <td>0.785233</td>\n",
       "      <td>0.752314</td>\n",
       "      <td>0.361810</td>\n",
       "      <td>0.305570</td>\n",
       "      <td>0.288663</td>\n",
       "      <td>0.268865</td>\n",
       "      <td>0.467330</td>\n",
       "      <td>0.324643</td>\n",
       "      <td>0.349199</td>\n",
       "      <td>0.316490</td>\n",
       "      <td>...</td>\n",
       "      <td>0.232117</td>\n",
       "      <td>0.247540</td>\n",
       "      <td>0.232838</td>\n",
       "      <td>0.367987</td>\n",
       "      <td>0.359137</td>\n",
       "      <td>0.331773</td>\n",
       "      <td>0.227318</td>\n",
       "      <td>0.244512</td>\n",
       "      <td>0.243755</td>\n",
       "      <td>0.322882</td>\n",
       "    </tr>\n",
       "    <tr>\n",
       "      <th>Angola</th>\n",
       "      <td>0.597733</td>\n",
       "      <td>0.558997</td>\n",
       "      <td>0.312329</td>\n",
       "      <td>0.401403</td>\n",
       "      <td>0.203325</td>\n",
       "      <td>0.312850</td>\n",
       "      <td>0.436844</td>\n",
       "      <td>0.184216</td>\n",
       "      <td>0.272841</td>\n",
       "      <td>0.219518</td>\n",
       "      <td>...</td>\n",
       "      <td>0.184160</td>\n",
       "      <td>0.132274</td>\n",
       "      <td>0.211433</td>\n",
       "      <td>0.347132</td>\n",
       "      <td>0.356321</td>\n",
       "      <td>0.231871</td>\n",
       "      <td>0.150981</td>\n",
       "      <td>0.223616</td>\n",
       "      <td>0.194772</td>\n",
       "      <td>0.157597</td>\n",
       "    </tr>\n",
       "    <tr>\n",
       "      <th>Albania</th>\n",
       "      <td>2.319537</td>\n",
       "      <td>2.243595</td>\n",
       "      <td>2.163720</td>\n",
       "      <td>2.131903</td>\n",
       "      <td>2.018599</td>\n",
       "      <td>2.176626</td>\n",
       "      <td>2.192396</td>\n",
       "      <td>2.732636</td>\n",
       "      <td>2.748935</td>\n",
       "      <td>2.460350</td>\n",
       "      <td>...</td>\n",
       "      <td>2.397339</td>\n",
       "      <td>2.269928</td>\n",
       "      <td>2.445312</td>\n",
       "      <td>2.168429</td>\n",
       "      <td>1.967234</td>\n",
       "      <td>2.570645</td>\n",
       "      <td>2.537288</td>\n",
       "      <td>2.552421</td>\n",
       "      <td>2.502347</td>\n",
       "      <td>2.034367</td>\n",
       "    </tr>\n",
       "    <tr>\n",
       "      <th>United Arab Emirates</th>\n",
       "      <td>0.403014</td>\n",
       "      <td>0.393303</td>\n",
       "      <td>0.170796</td>\n",
       "      <td>0.164719</td>\n",
       "      <td>0.155342</td>\n",
       "      <td>0.191847</td>\n",
       "      <td>0.118431</td>\n",
       "      <td>0.277701</td>\n",
       "      <td>0.311947</td>\n",
       "      <td>0.242482</td>\n",
       "      <td>...</td>\n",
       "      <td>0.238716</td>\n",
       "      <td>0.224212</td>\n",
       "      <td>0.277891</td>\n",
       "      <td>0.209756</td>\n",
       "      <td>0.221019</td>\n",
       "      <td>0.248963</td>\n",
       "      <td>0.253905</td>\n",
       "      <td>0.285217</td>\n",
       "      <td>0.245009</td>\n",
       "      <td>0.223483</td>\n",
       "    </tr>\n",
       "    <tr>\n",
       "      <th>Argentina</th>\n",
       "      <td>8.343864</td>\n",
       "      <td>8.304076</td>\n",
       "      <td>5.582201</td>\n",
       "      <td>6.413155</td>\n",
       "      <td>6.257787</td>\n",
       "      <td>5.949105</td>\n",
       "      <td>6.106579</td>\n",
       "      <td>4.550943</td>\n",
       "      <td>4.863913</td>\n",
       "      <td>4.764825</td>\n",
       "      <td>...</td>\n",
       "      <td>4.569237</td>\n",
       "      <td>4.472211</td>\n",
       "      <td>4.247971</td>\n",
       "      <td>4.761514</td>\n",
       "      <td>4.901187</td>\n",
       "      <td>4.907301</td>\n",
       "      <td>4.089726</td>\n",
       "      <td>4.370977</td>\n",
       "      <td>4.701546</td>\n",
       "      <td>4.671633</td>\n",
       "    </tr>\n",
       "  </tbody>\n",
       "</table>\n",
       "<p>5 rows × 22 columns</p>\n",
       "</div>"
      ],
      "text/plain": [
       "                      2000 jones   2000 UN  ssp1 jones  ssp2 jones  \\\n",
       "name                                                                 \n",
       "Afghanistan             0.785233  0.752314    0.361810    0.305570   \n",
       "Angola                  0.597733  0.558997    0.312329    0.401403   \n",
       "Albania                 2.319537  2.243595    2.163720    2.131903   \n",
       "United Arab Emirates    0.403014  0.393303    0.170796    0.164719   \n",
       "Argentina               8.343864  8.304076    5.582201    6.413155   \n",
       "\n",
       "                      ssp3 jones  ssp4 jones  ssp5 jones  ssp1 Low  ssp4 Low  \\\n",
       "name                                                                           \n",
       "Afghanistan             0.288663    0.268865    0.467330  0.324643  0.349199   \n",
       "Angola                  0.203325    0.312850    0.436844  0.184216  0.272841   \n",
       "Albania                 2.018599    2.176626    2.192396  2.732636  2.748935   \n",
       "United Arab Emirates    0.155342    0.191847    0.118431  0.277701  0.311947   \n",
       "Argentina               6.257787    5.949105    6.106579  4.550943  4.863913   \n",
       "\n",
       "                      ssp2 Medium  ...  ssp2 Constant fertility  \\\n",
       "name                               ...                            \n",
       "Afghanistan              0.316490  ...                 0.232117   \n",
       "Angola                   0.219518  ...                 0.184160   \n",
       "Albania                  2.460350  ...                 2.397339   \n",
       "United Arab Emirates     0.242482  ...                 0.238716   \n",
       "Argentina                4.764825  ...                 4.569237   \n",
       "\n",
       "                      ssp3 Constant fertility  ssp4 Constant fertility  \\\n",
       "name                                                                     \n",
       "Afghanistan                          0.247540                 0.232838   \n",
       "Angola                               0.132274                 0.211433   \n",
       "Albania                              2.269928                 2.445312   \n",
       "United Arab Emirates                 0.224212                 0.277891   \n",
       "Argentina                            4.472211                 4.247971   \n",
       "\n",
       "                      ssp2 Instant replacement  ssp2 Momentum  \\\n",
       "name                                                            \n",
       "Afghanistan                           0.367987       0.359137   \n",
       "Angola                                0.347132       0.356321   \n",
       "Albania                               2.168429       1.967234   \n",
       "United Arab Emirates                  0.209756       0.221019   \n",
       "Argentina                             4.761514       4.901187   \n",
       "\n",
       "                      ssp2 Constant mortality  ssp1 No change  ssp4 No change  \\\n",
       "name                                                                            \n",
       "Afghanistan                          0.331773        0.227318        0.244512   \n",
       "Angola                               0.231871        0.150981        0.223616   \n",
       "Albania                              2.570645        2.537288        2.552421   \n",
       "United Arab Emirates                 0.248963        0.253905        0.285217   \n",
       "Argentina                            4.907301        4.089726        4.370977   \n",
       "\n",
       "                      ssp2 No change  ssp3 Zero migration  \n",
       "name                                                       \n",
       "Afghanistan                 0.243755             0.322882  \n",
       "Angola                      0.194772             0.157597  \n",
       "Albania                     2.502347             2.034367  \n",
       "United Arab Emirates        0.245009             0.223483  \n",
       "Argentina                   4.701546             4.671633  \n",
       "\n",
       "[5 rows x 22 columns]"
      ]
     },
     "execution_count": 88,
     "metadata": {},
     "output_type": "execute_result"
    }
   ],
   "source": [
    "# Keep only the country we previously studied\n",
    "sufficiency_countries = sufficiency_complete.loc[old_suff.index]\n",
    "sufficiency_countries.head()"
   ]
  },
  {
   "cell_type": "markdown",
   "metadata": {},
   "source": [
    "### Inconsistent countries 2000"
   ]
  },
  {
   "cell_type": "markdown",
   "metadata": {},
   "source": [
    "**Inconsistent countries are defined by a change of more than 15% of sufficiency in 2000 between the two population datasets.**"
   ]
  },
  {
   "cell_type": "code",
   "execution_count": 89,
   "metadata": {},
   "outputs": [
    {
     "data": {
      "text/html": [
       "<div>\n",
       "<style scoped>\n",
       "    .dataframe tbody tr th:only-of-type {\n",
       "        vertical-align: middle;\n",
       "    }\n",
       "\n",
       "    .dataframe tbody tr th {\n",
       "        vertical-align: top;\n",
       "    }\n",
       "\n",
       "    .dataframe thead th {\n",
       "        text-align: right;\n",
       "    }\n",
       "</style>\n",
       "<table border=\"1\" class=\"dataframe\">\n",
       "  <thead>\n",
       "    <tr style=\"text-align: right;\">\n",
       "      <th></th>\n",
       "      <th>2000 jones</th>\n",
       "      <th>2000 UN</th>\n",
       "      <th>ssp1 jones</th>\n",
       "      <th>ssp2 jones</th>\n",
       "      <th>ssp3 jones</th>\n",
       "      <th>ssp4 jones</th>\n",
       "      <th>ssp5 jones</th>\n",
       "      <th>ssp1 Low</th>\n",
       "      <th>ssp4 Low</th>\n",
       "      <th>ssp2 Medium</th>\n",
       "      <th>...</th>\n",
       "      <th>ssp2 Constant fertility</th>\n",
       "      <th>ssp3 Constant fertility</th>\n",
       "      <th>ssp4 Constant fertility</th>\n",
       "      <th>ssp2 Instant replacement</th>\n",
       "      <th>ssp2 Momentum</th>\n",
       "      <th>ssp2 Constant mortality</th>\n",
       "      <th>ssp1 No change</th>\n",
       "      <th>ssp4 No change</th>\n",
       "      <th>ssp2 No change</th>\n",
       "      <th>ssp3 Zero migration</th>\n",
       "    </tr>\n",
       "    <tr>\n",
       "      <th>name</th>\n",
       "      <th></th>\n",
       "      <th></th>\n",
       "      <th></th>\n",
       "      <th></th>\n",
       "      <th></th>\n",
       "      <th></th>\n",
       "      <th></th>\n",
       "      <th></th>\n",
       "      <th></th>\n",
       "      <th></th>\n",
       "      <th></th>\n",
       "      <th></th>\n",
       "      <th></th>\n",
       "      <th></th>\n",
       "      <th></th>\n",
       "      <th></th>\n",
       "      <th></th>\n",
       "      <th></th>\n",
       "      <th></th>\n",
       "      <th></th>\n",
       "      <th></th>\n",
       "    </tr>\n",
       "  </thead>\n",
       "  <tbody>\n",
       "    <tr>\n",
       "      <th>Bhutan</th>\n",
       "      <td>0.823885</td>\n",
       "      <td>1.004473</td>\n",
       "      <td>0.634543</td>\n",
       "      <td>0.972950</td>\n",
       "      <td>0.999827</td>\n",
       "      <td>0.784695</td>\n",
       "      <td>0.543941</td>\n",
       "      <td>0.953970</td>\n",
       "      <td>1.244368</td>\n",
       "      <td>1.612403</td>\n",
       "      <td>...</td>\n",
       "      <td>1.516990</td>\n",
       "      <td>1.782102</td>\n",
       "      <td>1.067141</td>\n",
       "      <td>1.483482</td>\n",
       "      <td>1.509432</td>\n",
       "      <td>1.684907</td>\n",
       "      <td>0.853816</td>\n",
       "      <td>1.113727</td>\n",
       "      <td>1.583214</td>\n",
       "      <td>1.873138</td>\n",
       "    </tr>\n",
       "    <tr>\n",
       "      <th>Cyprus</th>\n",
       "      <td>1.429181</td>\n",
       "      <td>0.888164</td>\n",
       "      <td>1.358984</td>\n",
       "      <td>1.744892</td>\n",
       "      <td>1.764409</td>\n",
       "      <td>1.724255</td>\n",
       "      <td>1.083701</td>\n",
       "      <td>0.778089</td>\n",
       "      <td>0.779907</td>\n",
       "      <td>0.725593</td>\n",
       "      <td>...</td>\n",
       "      <td>0.729505</td>\n",
       "      <td>0.745707</td>\n",
       "      <td>0.720876</td>\n",
       "      <td>0.637699</td>\n",
       "      <td>0.753779</td>\n",
       "      <td>0.754883</td>\n",
       "      <td>0.748375</td>\n",
       "      <td>0.750124</td>\n",
       "      <td>0.759102</td>\n",
       "      <td>0.849611</td>\n",
       "    </tr>\n",
       "    <tr>\n",
       "      <th>Eritrea</th>\n",
       "      <td>0.951553</td>\n",
       "      <td>1.355280</td>\n",
       "      <td>0.495409</td>\n",
       "      <td>0.587975</td>\n",
       "      <td>0.514685</td>\n",
       "      <td>0.423010</td>\n",
       "      <td>0.494308</td>\n",
       "      <td>0.832233</td>\n",
       "      <td>0.854811</td>\n",
       "      <td>0.913683</td>\n",
       "      <td>...</td>\n",
       "      <td>0.768607</td>\n",
       "      <td>0.672975</td>\n",
       "      <td>0.655865</td>\n",
       "      <td>1.151754</td>\n",
       "      <td>1.101608</td>\n",
       "      <td>0.956906</td>\n",
       "      <td>0.668336</td>\n",
       "      <td>0.686468</td>\n",
       "      <td>0.804470</td>\n",
       "      <td>0.746999</td>\n",
       "    </tr>\n",
       "    <tr>\n",
       "      <th>Pakistan</th>\n",
       "      <td>1.021265</td>\n",
       "      <td>0.981726</td>\n",
       "      <td>0.570161</td>\n",
       "      <td>0.414265</td>\n",
       "      <td>0.467507</td>\n",
       "      <td>0.468665</td>\n",
       "      <td>0.644307</td>\n",
       "      <td>0.401955</td>\n",
       "      <td>0.491567</td>\n",
       "      <td>0.392595</td>\n",
       "      <td>...</td>\n",
       "      <td>0.336334</td>\n",
       "      <td>0.374133</td>\n",
       "      <td>0.383795</td>\n",
       "      <td>0.440353</td>\n",
       "      <td>0.433962</td>\n",
       "      <td>0.401764</td>\n",
       "      <td>0.321753</td>\n",
       "      <td>0.393485</td>\n",
       "      <td>0.344826</td>\n",
       "      <td>0.427777</td>\n",
       "    </tr>\n",
       "  </tbody>\n",
       "</table>\n",
       "<p>4 rows × 22 columns</p>\n",
       "</div>"
      ],
      "text/plain": [
       "          2000 jones   2000 UN  ssp1 jones  ssp2 jones  ssp3 jones  \\\n",
       "name                                                                 \n",
       "Bhutan      0.823885  1.004473    0.634543    0.972950    0.999827   \n",
       "Cyprus      1.429181  0.888164    1.358984    1.744892    1.764409   \n",
       "Eritrea     0.951553  1.355280    0.495409    0.587975    0.514685   \n",
       "Pakistan    1.021265  0.981726    0.570161    0.414265    0.467507   \n",
       "\n",
       "          ssp4 jones  ssp5 jones  ssp1 Low  ssp4 Low  ssp2 Medium  ...  \\\n",
       "name                                                               ...   \n",
       "Bhutan      0.784695    0.543941  0.953970  1.244368     1.612403  ...   \n",
       "Cyprus      1.724255    1.083701  0.778089  0.779907     0.725593  ...   \n",
       "Eritrea     0.423010    0.494308  0.832233  0.854811     0.913683  ...   \n",
       "Pakistan    0.468665    0.644307  0.401955  0.491567     0.392595  ...   \n",
       "\n",
       "          ssp2 Constant fertility  ssp3 Constant fertility  \\\n",
       "name                                                         \n",
       "Bhutan                   1.516990                 1.782102   \n",
       "Cyprus                   0.729505                 0.745707   \n",
       "Eritrea                  0.768607                 0.672975   \n",
       "Pakistan                 0.336334                 0.374133   \n",
       "\n",
       "          ssp4 Constant fertility  ssp2 Instant replacement  ssp2 Momentum  \\\n",
       "name                                                                         \n",
       "Bhutan                   1.067141                  1.483482       1.509432   \n",
       "Cyprus                   0.720876                  0.637699       0.753779   \n",
       "Eritrea                  0.655865                  1.151754       1.101608   \n",
       "Pakistan                 0.383795                  0.440353       0.433962   \n",
       "\n",
       "          ssp2 Constant mortality  ssp1 No change  ssp4 No change  \\\n",
       "name                                                                \n",
       "Bhutan                   1.684907        0.853816        1.113727   \n",
       "Cyprus                   0.754883        0.748375        0.750124   \n",
       "Eritrea                  0.956906        0.668336        0.686468   \n",
       "Pakistan                 0.401764        0.321753        0.393485   \n",
       "\n",
       "          ssp2 No change  ssp3 Zero migration  \n",
       "name                                           \n",
       "Bhutan          1.583214             1.873138  \n",
       "Cyprus          0.759102             0.849611  \n",
       "Eritrea         0.804470             0.746999  \n",
       "Pakistan        0.344826             0.427777  \n",
       "\n",
       "[4 rows x 22 columns]"
      ]
     },
     "execution_count": 89,
     "metadata": {},
     "output_type": "execute_result"
    }
   ],
   "source": [
    "# Countries not consistent in 2000\n",
    "sufficiency_countries[((sufficiency_countries['2000 jones'] < 1) &\n",
    "                      (sufficiency_countries['2000 UN'] >= 1)) | \n",
    "                      ((sufficiency_countries['2000 jones'] >= 1) & \n",
    "                      (sufficiency_countries['2000 UN'] < 1))]"
   ]
  },
  {
   "cell_type": "code",
   "execution_count": 90,
   "metadata": {},
   "outputs": [
    {
     "data": {
      "text/html": [
       "<div>\n",
       "<style scoped>\n",
       "    .dataframe tbody tr th:only-of-type {\n",
       "        vertical-align: middle;\n",
       "    }\n",
       "\n",
       "    .dataframe tbody tr th {\n",
       "        vertical-align: top;\n",
       "    }\n",
       "\n",
       "    .dataframe thead th {\n",
       "        text-align: right;\n",
       "    }\n",
       "</style>\n",
       "<table border=\"1\" class=\"dataframe\">\n",
       "  <thead>\n",
       "    <tr style=\"text-align: right;\">\n",
       "      <th></th>\n",
       "      <th>2000 jones</th>\n",
       "      <th>2000 UN</th>\n",
       "      <th>ssp1 jones</th>\n",
       "      <th>ssp2 jones</th>\n",
       "      <th>ssp3 jones</th>\n",
       "      <th>ssp4 jones</th>\n",
       "      <th>ssp5 jones</th>\n",
       "      <th>ssp1 Low</th>\n",
       "      <th>ssp4 Low</th>\n",
       "      <th>ssp2 Medium</th>\n",
       "      <th>...</th>\n",
       "      <th>ssp2 Constant fertility</th>\n",
       "      <th>ssp3 Constant fertility</th>\n",
       "      <th>ssp4 Constant fertility</th>\n",
       "      <th>ssp2 Instant replacement</th>\n",
       "      <th>ssp2 Momentum</th>\n",
       "      <th>ssp2 Constant mortality</th>\n",
       "      <th>ssp1 No change</th>\n",
       "      <th>ssp4 No change</th>\n",
       "      <th>ssp2 No change</th>\n",
       "      <th>ssp3 Zero migration</th>\n",
       "    </tr>\n",
       "    <tr>\n",
       "      <th>name</th>\n",
       "      <th></th>\n",
       "      <th></th>\n",
       "      <th></th>\n",
       "      <th></th>\n",
       "      <th></th>\n",
       "      <th></th>\n",
       "      <th></th>\n",
       "      <th></th>\n",
       "      <th></th>\n",
       "      <th></th>\n",
       "      <th></th>\n",
       "      <th></th>\n",
       "      <th></th>\n",
       "      <th></th>\n",
       "      <th></th>\n",
       "      <th></th>\n",
       "      <th></th>\n",
       "      <th></th>\n",
       "      <th></th>\n",
       "      <th></th>\n",
       "      <th></th>\n",
       "    </tr>\n",
       "  </thead>\n",
       "  <tbody>\n",
       "    <tr>\n",
       "      <th>Bhutan</th>\n",
       "      <td>0.823885</td>\n",
       "      <td>1.004473</td>\n",
       "      <td>0.634543</td>\n",
       "      <td>0.972950</td>\n",
       "      <td>0.999827</td>\n",
       "      <td>0.784695</td>\n",
       "      <td>0.543941</td>\n",
       "      <td>0.953970</td>\n",
       "      <td>1.244368</td>\n",
       "      <td>1.612403</td>\n",
       "      <td>...</td>\n",
       "      <td>1.516990</td>\n",
       "      <td>1.782102</td>\n",
       "      <td>1.067141</td>\n",
       "      <td>1.483482</td>\n",
       "      <td>1.509432</td>\n",
       "      <td>1.684907</td>\n",
       "      <td>0.853816</td>\n",
       "      <td>1.113727</td>\n",
       "      <td>1.583214</td>\n",
       "      <td>1.873138</td>\n",
       "    </tr>\n",
       "    <tr>\n",
       "      <th>Cyprus</th>\n",
       "      <td>1.429181</td>\n",
       "      <td>0.888164</td>\n",
       "      <td>1.358984</td>\n",
       "      <td>1.744892</td>\n",
       "      <td>1.764409</td>\n",
       "      <td>1.724255</td>\n",
       "      <td>1.083701</td>\n",
       "      <td>0.778089</td>\n",
       "      <td>0.779907</td>\n",
       "      <td>0.725593</td>\n",
       "      <td>...</td>\n",
       "      <td>0.729505</td>\n",
       "      <td>0.745707</td>\n",
       "      <td>0.720876</td>\n",
       "      <td>0.637699</td>\n",
       "      <td>0.753779</td>\n",
       "      <td>0.754883</td>\n",
       "      <td>0.748375</td>\n",
       "      <td>0.750124</td>\n",
       "      <td>0.759102</td>\n",
       "      <td>0.849611</td>\n",
       "    </tr>\n",
       "    <tr>\n",
       "      <th>Eritrea</th>\n",
       "      <td>0.951553</td>\n",
       "      <td>1.355280</td>\n",
       "      <td>0.495409</td>\n",
       "      <td>0.587975</td>\n",
       "      <td>0.514685</td>\n",
       "      <td>0.423010</td>\n",
       "      <td>0.494308</td>\n",
       "      <td>0.832233</td>\n",
       "      <td>0.854811</td>\n",
       "      <td>0.913683</td>\n",
       "      <td>...</td>\n",
       "      <td>0.768607</td>\n",
       "      <td>0.672975</td>\n",
       "      <td>0.655865</td>\n",
       "      <td>1.151754</td>\n",
       "      <td>1.101608</td>\n",
       "      <td>0.956906</td>\n",
       "      <td>0.668336</td>\n",
       "      <td>0.686468</td>\n",
       "      <td>0.804470</td>\n",
       "      <td>0.746999</td>\n",
       "    </tr>\n",
       "    <tr>\n",
       "      <th>Lebanon</th>\n",
       "      <td>0.898256</td>\n",
       "      <td>0.696685</td>\n",
       "      <td>0.945048</td>\n",
       "      <td>0.999215</td>\n",
       "      <td>1.122805</td>\n",
       "      <td>1.013074</td>\n",
       "      <td>0.955654</td>\n",
       "      <td>0.571689</td>\n",
       "      <td>0.618406</td>\n",
       "      <td>0.551327</td>\n",
       "      <td>...</td>\n",
       "      <td>0.530721</td>\n",
       "      <td>0.603372</td>\n",
       "      <td>0.542969</td>\n",
       "      <td>0.531759</td>\n",
       "      <td>0.412001</td>\n",
       "      <td>0.570175</td>\n",
       "      <td>0.518542</td>\n",
       "      <td>0.560915</td>\n",
       "      <td>0.548262</td>\n",
       "      <td>0.472986</td>\n",
       "    </tr>\n",
       "    <tr>\n",
       "      <th>Sierra Leone</th>\n",
       "      <td>1.454848</td>\n",
       "      <td>1.170234</td>\n",
       "      <td>0.963024</td>\n",
       "      <td>0.865030</td>\n",
       "      <td>0.754443</td>\n",
       "      <td>0.919563</td>\n",
       "      <td>1.224833</td>\n",
       "      <td>0.796680</td>\n",
       "      <td>0.806442</td>\n",
       "      <td>0.684606</td>\n",
       "      <td>...</td>\n",
       "      <td>0.540925</td>\n",
       "      <td>0.455810</td>\n",
       "      <td>0.579217</td>\n",
       "      <td>0.809685</td>\n",
       "      <td>0.830076</td>\n",
       "      <td>0.741606</td>\n",
       "      <td>0.621303</td>\n",
       "      <td>0.628916</td>\n",
       "      <td>0.587339</td>\n",
       "      <td>0.570191</td>\n",
       "    </tr>\n",
       "    <tr>\n",
       "      <th>Somalia</th>\n",
       "      <td>2.573276</td>\n",
       "      <td>1.635328</td>\n",
       "      <td>1.915485</td>\n",
       "      <td>1.229980</td>\n",
       "      <td>1.289226</td>\n",
       "      <td>1.207875</td>\n",
       "      <td>1.948719</td>\n",
       "      <td>0.428877</td>\n",
       "      <td>0.519205</td>\n",
       "      <td>0.489463</td>\n",
       "      <td>...</td>\n",
       "      <td>0.389758</td>\n",
       "      <td>0.560728</td>\n",
       "      <td>0.382773</td>\n",
       "      <td>0.769884</td>\n",
       "      <td>0.748756</td>\n",
       "      <td>0.518473</td>\n",
       "      <td>0.335830</td>\n",
       "      <td>0.406562</td>\n",
       "      <td>0.413981</td>\n",
       "      <td>0.676286</td>\n",
       "    </tr>\n",
       "  </tbody>\n",
       "</table>\n",
       "<p>6 rows × 22 columns</p>\n",
       "</div>"
      ],
      "text/plain": [
       "              2000 jones   2000 UN  ssp1 jones  ssp2 jones  ssp3 jones  \\\n",
       "name                                                                     \n",
       "Bhutan          0.823885  1.004473    0.634543    0.972950    0.999827   \n",
       "Cyprus          1.429181  0.888164    1.358984    1.744892    1.764409   \n",
       "Eritrea         0.951553  1.355280    0.495409    0.587975    0.514685   \n",
       "Lebanon         0.898256  0.696685    0.945048    0.999215    1.122805   \n",
       "Sierra Leone    1.454848  1.170234    0.963024    0.865030    0.754443   \n",
       "Somalia         2.573276  1.635328    1.915485    1.229980    1.289226   \n",
       "\n",
       "              ssp4 jones  ssp5 jones  ssp1 Low  ssp4 Low  ssp2 Medium  ...  \\\n",
       "name                                                                   ...   \n",
       "Bhutan          0.784695    0.543941  0.953970  1.244368     1.612403  ...   \n",
       "Cyprus          1.724255    1.083701  0.778089  0.779907     0.725593  ...   \n",
       "Eritrea         0.423010    0.494308  0.832233  0.854811     0.913683  ...   \n",
       "Lebanon         1.013074    0.955654  0.571689  0.618406     0.551327  ...   \n",
       "Sierra Leone    0.919563    1.224833  0.796680  0.806442     0.684606  ...   \n",
       "Somalia         1.207875    1.948719  0.428877  0.519205     0.489463  ...   \n",
       "\n",
       "              ssp2 Constant fertility  ssp3 Constant fertility  \\\n",
       "name                                                             \n",
       "Bhutan                       1.516990                 1.782102   \n",
       "Cyprus                       0.729505                 0.745707   \n",
       "Eritrea                      0.768607                 0.672975   \n",
       "Lebanon                      0.530721                 0.603372   \n",
       "Sierra Leone                 0.540925                 0.455810   \n",
       "Somalia                      0.389758                 0.560728   \n",
       "\n",
       "              ssp4 Constant fertility  ssp2 Instant replacement  \\\n",
       "name                                                              \n",
       "Bhutan                       1.067141                  1.483482   \n",
       "Cyprus                       0.720876                  0.637699   \n",
       "Eritrea                      0.655865                  1.151754   \n",
       "Lebanon                      0.542969                  0.531759   \n",
       "Sierra Leone                 0.579217                  0.809685   \n",
       "Somalia                      0.382773                  0.769884   \n",
       "\n",
       "              ssp2 Momentum  ssp2 Constant mortality  ssp1 No change  \\\n",
       "name                                                                   \n",
       "Bhutan             1.509432                 1.684907        0.853816   \n",
       "Cyprus             0.753779                 0.754883        0.748375   \n",
       "Eritrea            1.101608                 0.956906        0.668336   \n",
       "Lebanon            0.412001                 0.570175        0.518542   \n",
       "Sierra Leone       0.830076                 0.741606        0.621303   \n",
       "Somalia            0.748756                 0.518473        0.335830   \n",
       "\n",
       "              ssp4 No change  ssp2 No change  ssp3 Zero migration  \n",
       "name                                                               \n",
       "Bhutan              1.113727        1.583214             1.873138  \n",
       "Cyprus              0.750124        0.759102             0.849611  \n",
       "Eritrea             0.686468        0.804470             0.746999  \n",
       "Lebanon             0.560915        0.548262             0.472986  \n",
       "Sierra Leone        0.628916        0.587339             0.570191  \n",
       "Somalia             0.406562        0.413981             0.676286  \n",
       "\n",
       "[6 rows x 22 columns]"
      ]
     },
     "execution_count": 90,
     "metadata": {},
     "output_type": "execute_result"
    }
   ],
   "source": [
    "inconsistant_countries = sufficiency_countries[abs(sufficiency_countries['2000 jones'] - sufficiency_countries['2000 UN'])/sufficiency_countries['2000 jones'] > 0.15]\n",
    "inconsistant_countries"
   ]
  },
  {
   "cell_type": "code",
   "execution_count": 91,
   "metadata": {},
   "outputs": [],
   "source": [
    "consistant_suff = sufficiency_countries.drop(inconsistant_countries.index, axis=0)"
   ]
  },
  {
   "cell_type": "markdown",
   "metadata": {},
   "source": [
    "### Number of scenario analysis\n"
   ]
  },
  {
   "cell_type": "code",
   "execution_count": 163,
   "metadata": {},
   "outputs": [],
   "source": [
    "jones_scenarios, un_scenarios = variant_mapping[:5], variant_mapping[5:]"
   ]
  },
  {
   "cell_type": "markdown",
   "metadata": {},
   "source": [
    "#### Compute statistics"
   ]
  },
  {
   "cell_type": "code",
   "execution_count": 164,
   "metadata": {},
   "outputs": [],
   "source": [
    "consistant_suff['avg_new_suff'] = consistant_suff[variant_mapping].mean(axis=1)\n",
    "consistant_suff['avg_new_suff_jones'] = consistant_suff[jones_scenarios].mean(axis=1)\n",
    "consistant_suff['avg_new_suff_un'] = consistant_suff[un_scenarios].mean(axis=1)"
   ]
  },
  {
   "cell_type": "code",
   "execution_count": 165,
   "metadata": {},
   "outputs": [],
   "source": [
    "consistant_suff['avg_suff_2000'] = consistant_suff[['2000 jones', '2000 UN']].mean(axis=1)"
   ]
  },
  {
   "cell_type": "code",
   "execution_count": 166,
   "metadata": {},
   "outputs": [],
   "source": [
    "consistant_suff['delta_avg'] = consistant_suff['avg_new_suff'] - consistant_suff['avg_suff_2000']\n",
    "consistant_suff['delta_avg_jones'] = consistant_suff['avg_new_suff_jones'] - consistant_suff['2000 jones']\n",
    "consistant_suff['delta_avg_un'] = consistant_suff['avg_new_suff_un'] - consistant_suff['2000 UN']"
   ]
  },
  {
   "cell_type": "code",
   "execution_count": 167,
   "metadata": {},
   "outputs": [],
   "source": [
    "# Number of scenarios that goes up (or down) compared to max (or min) of 2000\n",
    "consistant_suff['num_up'] = consistant_suff.apply(lambda r: len([v for v in variant_mapping if r[v] > max(r['2000 jones'], r['2000 UN'])]), axis=1)\n",
    "consistant_suff['num_down'] = consistant_suff.apply(lambda r: len([v for v in variant_mapping if r[v] < min(r['2000 jones'], r['2000 UN'])]), axis=1)\n",
    "\n",
    "consistant_suff['num_up_jones'] = consistant_suff.apply(lambda r: len([v for v in jones_scenarios if r[v] > r['2000 jones']]), axis=1)\n",
    "consistant_suff['num_down_jones'] = consistant_suff.apply(lambda r: len([v for v in jones_scenarios if r[v] < r['2000 jones']]), axis=1)\n",
    "\n",
    "consistant_suff['num_up_un'] = consistant_suff.apply(lambda r: len([v for v in un_scenarios if r[v] > r['2000 UN']]), axis=1)\n",
    "consistant_suff['num_down_un'] = consistant_suff.apply(lambda r: len([v for v in un_scenarios if r[v] < r['2000 UN']]), axis=1)"
   ]
  },
  {
   "cell_type": "code",
   "execution_count": 168,
   "metadata": {},
   "outputs": [],
   "source": [
    "# Maximum change\n",
    "consistant_suff['delta_max'] = consistant_suff.apply(lambda r: min(r[variant_mapping]) - max(r['2000 jones'], r['2000 UN']) if abs(min(r[variant_mapping]) - max(r['2000 jones'], r['2000 UN'])) > abs(max(r[variant_mapping]) - min(r['2000 jones'], r['2000 UN'])) else max(r[variant_mapping]) - min(r['2000 jones'], r['2000 UN']), axis=1)\n",
    "consistant_suff['delta_max_jones'] = consistant_suff.apply(lambda r: min(r[jones_scenarios]) - r['2000 jones'] if abs(min(r[jones_scenarios]) - r['2000 jones']) > abs(max(r[jones_scenarios]) - r['2000 jones']) else max(r[jones_scenarios]) - r['2000 jones'], axis=1)\n",
    "consistant_suff['delta_max_un'] = consistant_suff.apply(lambda r: min(r[un_scenarios]) - r['2000 UN'] if abs(min(r[un_scenarios]) - r['2000 UN']) > abs(max(r[un_scenarios]) - r['2000 UN']) else max(r[un_scenarios]) - r['2000 UN'], axis=1)"
   ]
  },
  {
   "cell_type": "code",
   "execution_count": 169,
   "metadata": {},
   "outputs": [],
   "source": [
    "consistant_suff['highest_future'] = consistant_suff[variant_mapping].max(axis=1)\n",
    "consistant_suff['lowest_future'] = consistant_suff[variant_mapping].min(axis=1)\n",
    "\n",
    "consistant_suff['highest_future_jones'] = consistant_suff[jones_scenarios].max(axis=1)\n",
    "consistant_suff['lowest_future_jones'] = consistant_suff[jones_scenarios].min(axis=1)\n",
    "\n",
    "consistant_suff['highest_future_un'] = consistant_suff[un_scenarios].max(axis=1)\n",
    "consistant_suff['lowest_future_un'] = consistant_suff[un_scenarios].min(axis=1)"
   ]
  },
  {
   "cell_type": "markdown",
   "metadata": {},
   "source": [
    "#### Analyze"
   ]
  },
  {
   "cell_type": "markdown",
   "metadata": {},
   "source": [
    "Number of countries studied"
   ]
  },
  {
   "cell_type": "code",
   "execution_count": 170,
   "metadata": {},
   "outputs": [
    {
     "data": {
      "text/plain": [
       "154"
      ]
     },
     "execution_count": 170,
     "metadata": {},
     "output_type": "execute_result"
    }
   ],
   "source": [
    "len(consistant_suff)"
   ]
  },
  {
   "cell_type": "markdown",
   "metadata": {},
   "source": [
    "Number of countries where cal suff decreases in all scenarios (across the 20 scenarios)"
   ]
  },
  {
   "cell_type": "code",
   "execution_count": 171,
   "metadata": {},
   "outputs": [
    {
     "data": {
      "text/plain": [
       "76"
      ]
     },
     "execution_count": 171,
     "metadata": {},
     "output_type": "execute_result"
    }
   ],
   "source": [
    "len(consistant_suff[consistant_suff['num_down'] == 20])"
   ]
  },
  {
   "cell_type": "markdown",
   "metadata": {},
   "source": [
    "% of countries where cal suff decreases in all scenarios (across the 20 scenarios)"
   ]
  },
  {
   "cell_type": "code",
   "execution_count": 172,
   "metadata": {},
   "outputs": [
    {
     "data": {
      "text/plain": [
       "0.4935064935064935"
      ]
     },
     "execution_count": 172,
     "metadata": {},
     "output_type": "execute_result"
    }
   ],
   "source": [
    "len(consistant_suff[consistant_suff['num_down'] == 20]) / len(consistant_suff)"
   ]
  },
  {
   "cell_type": "markdown",
   "metadata": {},
   "source": [
    "Number of countries where cal suff decreases in most scenarios (15 or more)"
   ]
  },
  {
   "cell_type": "code",
   "execution_count": 173,
   "metadata": {},
   "outputs": [
    {
     "data": {
      "text/plain": [
       "102"
      ]
     },
     "execution_count": 173,
     "metadata": {},
     "output_type": "execute_result"
    }
   ],
   "source": [
    "len(consistant_suff[consistant_suff['num_down'] >= 15])"
   ]
  },
  {
   "cell_type": "markdown",
   "metadata": {},
   "source": [
    "Number of countries with calsuff < 1"
   ]
  },
  {
   "cell_type": "code",
   "execution_count": 174,
   "metadata": {},
   "outputs": [
    {
     "data": {
      "text/plain": [
       "2000 jones                  47\n",
       "2000 UN                     48\n",
       "ssp1 jones                  64\n",
       "ssp2 jones                  65\n",
       "ssp3 jones                  69\n",
       "ssp4 jones                  63\n",
       "ssp5 jones                  62\n",
       "ssp1 Low                    73\n",
       "ssp4 Low                    65\n",
       "ssp2 Medium                 73\n",
       "ssp3 High                   73\n",
       "ssp4 High                   77\n",
       "ssp2 Constant fertility     81\n",
       "ssp3 Constant fertility     70\n",
       "ssp4 Constant fertility     80\n",
       "ssp2 Instant replacement    74\n",
       "ssp2 Momentum               70\n",
       "ssp2 Constant mortality     70\n",
       "ssp1 No change              82\n",
       "ssp4 No change              77\n",
       "ssp2 No change              75\n",
       "ssp3 Zero migration         69\n",
       "dtype: int64"
      ]
     },
     "execution_count": 174,
     "metadata": {},
     "output_type": "execute_result"
    }
   ],
   "source": [
    "consistant_suff.apply(lambda col: len([v for v in col if v < 1]))[['2000 jones', '2000 UN']+variant_mapping]"
   ]
  },
  {
   "cell_type": "markdown",
   "metadata": {},
   "source": [
    "### Categorization"
   ]
  },
  {
   "cell_type": "code",
   "execution_count": 175,
   "metadata": {},
   "outputs": [],
   "source": [
    "# Add additional datasets\n",
    "suff_added_data = consistant_suff.join(old_suff.drop(['ISO3', 'CalSuff_2000', 'delta_consistency', 'avg_new_suff', 'delta_CalSuff_avg', 'delta_max', 'lowest_ssp', 'highest_ssp', 'Category']+ssps, axis=1))"
   ]
  },
  {
   "cell_type": "code",
   "execution_count": 176,
   "metadata": {},
   "outputs": [
    {
     "data": {
      "text/plain": [
       "Index(['2000 jones', '2000 UN', 'ssp1 jones', 'ssp2 jones', 'ssp3 jones',\n",
       "       'ssp4 jones', 'ssp5 jones', 'ssp1 Low', 'ssp4 Low', 'ssp2 Medium',\n",
       "       'ssp3 High', 'ssp4 High', 'ssp2 Constant fertility',\n",
       "       'ssp3 Constant fertility', 'ssp4 Constant fertility',\n",
       "       'ssp2 Instant replacement', 'ssp2 Momentum', 'ssp2 Constant mortality',\n",
       "       'ssp1 No change', 'ssp4 No change', 'ssp2 No change',\n",
       "       'ssp3 Zero migration', 'avg_new_suff', 'avg_new_suff_jones',\n",
       "       'avg_new_suff_un', 'avg_suff_2000', 'delta_avg', 'delta_avg_jones',\n",
       "       'delta_avg_un', 'num_up', 'num_down', 'num_up_jones', 'num_down_jones',\n",
       "       'num_up_un', 'num_down_un', 'delta_max', 'delta_max_jones',\n",
       "       'delta_max_un', 'highest_future', 'lowest_future',\n",
       "       'highest_future_jones', 'lowest_future_jones', 'highest_future_un',\n",
       "       'lowest_future_un', 'trade', 'GFSI', 'GDP', 'log_GDP', 'GNP', 'log_GNP',\n",
       "       'IncomeGroup', 'water', 'nutrition'],\n",
       "      dtype='object')"
      ]
     },
     "execution_count": 176,
     "metadata": {},
     "output_type": "execute_result"
    }
   ],
   "source": [
    "suff_added_data.columns"
   ]
  },
  {
   "cell_type": "code",
   "execution_count": 234,
   "metadata": {},
   "outputs": [],
   "source": [
    "def custom_categorization_new(row, pop_file=None):\n",
    "    if pop_file == 'Jones':\n",
    "        if row['CalSuff_2000'] > 3 and row['trade'] > 0.8: \n",
    "            return 'Exporters' # e.g Brazil, USA, France, Denmark (Greenland)\n",
    "    \n",
    "        elif (row['delta_CalSuff_avg'] > 0.6 and row['delta_consistency'] >= 3) or (row['CalSuff_2000'] > 1.2 and row['delta_consistency'] >= 3 and row['delta_CalSuff_avg'] > 0.2):\n",
    "            return 'Increasing sufficiency'\n",
    "\n",
    "        elif row['trade'] < 0.1:\n",
    "            return 'Importers'\n",
    "\n",
    "        elif row['CalSuff_2000'] < 1.2 and (row['delta_consistency'] <= 1 or row['highest_ssp'] < 0.9):\n",
    "            return 'Most vulnerable'\n",
    "\n",
    "        elif (row['lowest_ssp'] < 1 or row['CalSuff_2000'] < 2) and (row['delta_CalSuff_avg'] < -0.2 or row['lowest_ssp'] < 1) and row['delta_consistency'] <= 1:\n",
    "            return 'Newly vulnerable'\n",
    "\n",
    "        elif row['CalSuff_2000'] < 1.2 and row['delta_consistency'] >= 2 and row['lowest_ssp'] > 0.9*row['CalSuff_2000']:\n",
    "            return 'Vulnerable but improving'\n",
    "\n",
    "        elif row['delta_consistency'] <= 2 and row['delta_CalSuff_avg'] < -0.1 and row['CalSuff_2000'] > 2:\n",
    "            return 'Decreasing but not as vulnerable'\n",
    "\n",
    "        elif (row['delta_consistency'] > 0 and row['delta_consistency'] < 4) or (row['CalSuff_2000'] < row['highest_ssp'] and row['CalSuff_2000'] > row['lowest_ssp']):\n",
    "            return 'Highly variable'  \n",
    "\n",
    "        return 'Outliers'\n",
    "    \n",
    "    elif pop_file == 'UN':\n",
    "        if row['2000 UN'] > 3 and row['trade'] > 0.8: \n",
    "            return 'Exporters' # e.g Brazil, USA, France, Denmark (Greenland)\n",
    "\n",
    "        elif (row['delta_avg_un'] > 0.6 and row['num_up_un'] >= 12) or (row['2000 UN'] > 1.2 and row['num_up_un'] >= 12 and row['delta_avg_un'] > 0.2):\n",
    "            return 'Increasing sufficiency'\n",
    "\n",
    "        elif row['trade'] < 0.1:\n",
    "            return 'Importers'\n",
    "\n",
    "        elif row['2000 UN'] < 1.2 and (row['num_down_un'] >= 12 or row['highest_future_un'] < 0.9):\n",
    "            return 'Most vulnerable'\n",
    "\n",
    "        elif (row['lowest_future_un'] < 1 or row['2000 UN'] < 2) and (row['delta_avg_un'] < -0.2 or row['lowest_future_un'] < 1) and row['num_down_un'] >= 12:\n",
    "            return 'Newly vulnerable'\n",
    "\n",
    "        elif row['2000 UN'] < 1.2 and row['num_up_un'] >= 7 and row['lowest_future_un'] > 0.9*row['2000 UN']:\n",
    "            return 'Vulnerable but improving'\n",
    "\n",
    "        elif row['num_down_un'] >= 7 and row['delta_avg_un'] < -0.1 and row['2000 UN'] > 2:\n",
    "            return 'Decreasing but not as vulnerable'\n",
    "\n",
    "        elif (row['num_down_un'] < 12 and row['num_up_un'] < 12) or (row['2000 UN'] < row['highest_future_un'] and row['2000 UN'] > row['lowest_future_un']):\n",
    "            return 'Highly variable'  \n",
    "\n",
    "\n",
    "        return 'Outliers'\n",
    "    \n",
    "    \n",
    "    else:\n",
    "    \n",
    "        if row['avg_suff_2000'] > 3 and row['trade'] > 0.8: \n",
    "            return 'Exporters' # e.g Brazil, USA, France, Denmark (Greenland)\n",
    "\n",
    "        elif (row['delta_avg'] > 0.6 and row['num_up'] >= 15) or (row['avg_suff_2000'] > 1.2 and row['num_up'] >= 15 and row['delta_avg'] > 0.2):\n",
    "            return 'Increasing sufficiency'\n",
    "\n",
    "        elif row['trade'] < 0.1:\n",
    "            return 'Importers'\n",
    "\n",
    "        elif row['avg_suff_2000'] < 1.2 and (row['num_down'] >= 15 or row['highest_future'] < 0.9):\n",
    "            return 'Most vulnerable'\n",
    "\n",
    "        elif (row['lowest_future'] < 1 or row['avg_suff_2000'] < 2) and (row['delta_avg'] < -0.2 or row['lowest_future'] < 1) and row['num_down'] >= 15:\n",
    "            return 'Newly vulnerable'\n",
    "\n",
    "        elif row['avg_suff_2000'] < 1.2 and row['num_up'] >= 10 and row['lowest_future'] > 0.9*row['avg_suff_2000']:\n",
    "            return 'Vulnerable but improving'\n",
    "\n",
    "        elif row['num_down'] >= 10 and row['delta_avg'] < -0.1 and row['avg_suff_2000'] > 2:\n",
    "            return 'Decreasing but not as vulnerable'\n",
    "\n",
    "        elif (row['num_down'] < 15 and row['num_up'] < 15) or (row['num_down'] + row['num_up'] != 20):\n",
    "            return 'Highly variable'  \n",
    "\n",
    "\n",
    "        return 'Outliers'"
   ]
  },
  {
   "cell_type": "code",
   "execution_count": 235,
   "metadata": {},
   "outputs": [],
   "source": [
    "# New categories\n",
    "suff_added_data['New category'] = suff_added_data.apply(lambda row: custom_categorization_new(row, pop_file='UN'), axis=1)"
   ]
  },
  {
   "cell_type": "markdown",
   "metadata": {},
   "source": [
    "Compare with prvious categories"
   ]
  },
  {
   "cell_type": "code",
   "execution_count": 236,
   "metadata": {},
   "outputs": [
    {
     "data": {
      "text/html": [
       "<div>\n",
       "<style scoped>\n",
       "    .dataframe tbody tr th:only-of-type {\n",
       "        vertical-align: middle;\n",
       "    }\n",
       "\n",
       "    .dataframe tbody tr th {\n",
       "        vertical-align: top;\n",
       "    }\n",
       "\n",
       "    .dataframe thead th {\n",
       "        text-align: right;\n",
       "    }\n",
       "</style>\n",
       "<table border=\"1\" class=\"dataframe\">\n",
       "  <thead>\n",
       "    <tr style=\"text-align: right;\">\n",
       "      <th></th>\n",
       "      <th>Old category</th>\n",
       "      <th>New category</th>\n",
       "    </tr>\n",
       "    <tr>\n",
       "      <th>name</th>\n",
       "      <th></th>\n",
       "      <th></th>\n",
       "    </tr>\n",
       "  </thead>\n",
       "  <tbody>\n",
       "    <tr>\n",
       "      <th>Afghanistan</th>\n",
       "      <td>Most vulnerable</td>\n",
       "      <td>Most vulnerable</td>\n",
       "    </tr>\n",
       "    <tr>\n",
       "      <th>Angola</th>\n",
       "      <td>Most vulnerable</td>\n",
       "      <td>Most vulnerable</td>\n",
       "    </tr>\n",
       "    <tr>\n",
       "      <th>Albania</th>\n",
       "      <td>Decreasing but not as vulnerable</td>\n",
       "      <td>Highly variable</td>\n",
       "    </tr>\n",
       "    <tr>\n",
       "      <th>United Arab Emirates</th>\n",
       "      <td>Importers</td>\n",
       "      <td>Importers</td>\n",
       "    </tr>\n",
       "    <tr>\n",
       "      <th>Argentina</th>\n",
       "      <td>Exporters</td>\n",
       "      <td>Exporters</td>\n",
       "    </tr>\n",
       "  </tbody>\n",
       "</table>\n",
       "</div>"
      ],
      "text/plain": [
       "                                          Old category     New category\n",
       "name                                                                   \n",
       "Afghanistan                            Most vulnerable  Most vulnerable\n",
       "Angola                                 Most vulnerable  Most vulnerable\n",
       "Albania               Decreasing but not as vulnerable  Highly variable\n",
       "United Arab Emirates                         Importers        Importers\n",
       "Argentina                                    Exporters        Exporters"
      ]
     },
     "execution_count": 236,
     "metadata": {},
     "output_type": "execute_result"
    }
   ],
   "source": [
    "cat_compare = pd.DataFrame(data=[old_suff['Category'].loc[suff_added_data.index], suff_added_data['New category']]).T\n",
    "cat_compare = cat_compare.rename(columns={'Category': 'Old category'})\n",
    "cat_compare.head()"
   ]
  },
  {
   "cell_type": "code",
   "execution_count": 237,
   "metadata": {},
   "outputs": [
    {
     "data": {
      "text/plain": [
       "name\n",
       "Somalia         Decreasing but not as vulnerable\n",
       "Bhutan                           Highly variable\n",
       "Cyprus                                 Importers\n",
       "Lebanon                                Importers\n",
       "Eritrea                          Most vulnerable\n",
       "Sierra Leone                    Newly vulnerable\n",
       "Name: Category, dtype: object"
      ]
     },
     "execution_count": 237,
     "metadata": {},
     "output_type": "execute_result"
    }
   ],
   "source": [
    "old_suff.loc[inconsistant_countries.index]['Category'].sort_values()"
   ]
  },
  {
   "cell_type": "code",
   "execution_count": 238,
   "metadata": {},
   "outputs": [
    {
     "data": {
      "text/plain": [
       "30"
      ]
     },
     "execution_count": 238,
     "metadata": {},
     "output_type": "execute_result"
    }
   ],
   "source": [
    "# Number of countries where category is different\n",
    "cat_change = cat_compare[cat_compare['Old category'] != cat_compare['New category']]\n",
    "len(cat_change)"
   ]
  },
  {
   "cell_type": "code",
   "execution_count": 239,
   "metadata": {
    "scrolled": false
   },
   "outputs": [
    {
     "data": {
      "text/html": [
       "<div>\n",
       "<style scoped>\n",
       "    .dataframe tbody tr th:only-of-type {\n",
       "        vertical-align: middle;\n",
       "    }\n",
       "\n",
       "    .dataframe tbody tr th {\n",
       "        vertical-align: top;\n",
       "    }\n",
       "\n",
       "    .dataframe thead th {\n",
       "        text-align: right;\n",
       "    }\n",
       "</style>\n",
       "<table border=\"1\" class=\"dataframe\">\n",
       "  <thead>\n",
       "    <tr style=\"text-align: right;\">\n",
       "      <th></th>\n",
       "      <th>Old category</th>\n",
       "      <th>New category</th>\n",
       "    </tr>\n",
       "    <tr>\n",
       "      <th>name</th>\n",
       "      <th></th>\n",
       "      <th></th>\n",
       "    </tr>\n",
       "  </thead>\n",
       "  <tbody>\n",
       "    <tr>\n",
       "      <th>Albania</th>\n",
       "      <td>Decreasing but not as vulnerable</td>\n",
       "      <td>Highly variable</td>\n",
       "    </tr>\n",
       "    <tr>\n",
       "      <th>Chad</th>\n",
       "      <td>Decreasing but not as vulnerable</td>\n",
       "      <td>Newly vulnerable</td>\n",
       "    </tr>\n",
       "    <tr>\n",
       "      <th>Bosnia and Herzegovina</th>\n",
       "      <td>Decreasing but not as vulnerable</td>\n",
       "      <td>Increasing sufficiency</td>\n",
       "    </tr>\n",
       "    <tr>\n",
       "      <th>Slovakia</th>\n",
       "      <td>Decreasing but not as vulnerable</td>\n",
       "      <td>Highly variable</td>\n",
       "    </tr>\n",
       "    <tr>\n",
       "      <th>Romania</th>\n",
       "      <td>Decreasing but not as vulnerable</td>\n",
       "      <td>Increasing sufficiency</td>\n",
       "    </tr>\n",
       "    <tr>\n",
       "      <th>Papua New Guinea</th>\n",
       "      <td>Decreasing but not as vulnerable</td>\n",
       "      <td>Newly vulnerable</td>\n",
       "    </tr>\n",
       "    <tr>\n",
       "      <th>Greece</th>\n",
       "      <td>Decreasing but not as vulnerable</td>\n",
       "      <td>Increasing sufficiency</td>\n",
       "    </tr>\n",
       "    <tr>\n",
       "      <th>Croatia</th>\n",
       "      <td>Decreasing but not as vulnerable</td>\n",
       "      <td>Highly variable</td>\n",
       "    </tr>\n",
       "    <tr>\n",
       "      <th>Mali</th>\n",
       "      <td>Decreasing but not as vulnerable</td>\n",
       "      <td>Newly vulnerable</td>\n",
       "    </tr>\n",
       "    <tr>\n",
       "      <th>Macedonia</th>\n",
       "      <td>Decreasing but not as vulnerable</td>\n",
       "      <td>Highly variable</td>\n",
       "    </tr>\n",
       "    <tr>\n",
       "      <th>Italy</th>\n",
       "      <td>Decreasing but not as vulnerable</td>\n",
       "      <td>Highly variable</td>\n",
       "    </tr>\n",
       "    <tr>\n",
       "      <th>Myanmar</th>\n",
       "      <td>Highly variable</td>\n",
       "      <td>Newly vulnerable</td>\n",
       "    </tr>\n",
       "    <tr>\n",
       "      <th>South Africa</th>\n",
       "      <td>Highly variable</td>\n",
       "      <td>Newly vulnerable</td>\n",
       "    </tr>\n",
       "    <tr>\n",
       "      <th>Zimbabwe</th>\n",
       "      <td>Highly variable</td>\n",
       "      <td>Newly vulnerable</td>\n",
       "    </tr>\n",
       "    <tr>\n",
       "      <th>Cambodia</th>\n",
       "      <td>Highly variable</td>\n",
       "      <td>Newly vulnerable</td>\n",
       "    </tr>\n",
       "    <tr>\n",
       "      <th>Ecuador</th>\n",
       "      <td>Highly variable</td>\n",
       "      <td>Most vulnerable</td>\n",
       "    </tr>\n",
       "    <tr>\n",
       "      <th>Switzerland</th>\n",
       "      <td>Highly variable</td>\n",
       "      <td>Newly vulnerable</td>\n",
       "    </tr>\n",
       "    <tr>\n",
       "      <th>Armenia</th>\n",
       "      <td>Highly variable</td>\n",
       "      <td>Increasing sufficiency</td>\n",
       "    </tr>\n",
       "    <tr>\n",
       "      <th>Moldova</th>\n",
       "      <td>Increasing sufficiency</td>\n",
       "      <td>Highly variable</td>\n",
       "    </tr>\n",
       "    <tr>\n",
       "      <th>Iran</th>\n",
       "      <td>Increasing sufficiency</td>\n",
       "      <td>Highly variable</td>\n",
       "    </tr>\n",
       "    <tr>\n",
       "      <th>Mongolia</th>\n",
       "      <td>Increasing sufficiency</td>\n",
       "      <td>Decreasing but not as vulnerable</td>\n",
       "    </tr>\n",
       "    <tr>\n",
       "      <th>New Zealand</th>\n",
       "      <td>Increasing sufficiency</td>\n",
       "      <td>Highly variable</td>\n",
       "    </tr>\n",
       "    <tr>\n",
       "      <th>Swaziland</th>\n",
       "      <td>Increasing sufficiency</td>\n",
       "      <td>Newly vulnerable</td>\n",
       "    </tr>\n",
       "    <tr>\n",
       "      <th>Tunisia</th>\n",
       "      <td>Increasing sufficiency</td>\n",
       "      <td>Importers</td>\n",
       "    </tr>\n",
       "    <tr>\n",
       "      <th>Lesotho</th>\n",
       "      <td>Increasing sufficiency</td>\n",
       "      <td>Vulnerable but improving</td>\n",
       "    </tr>\n",
       "    <tr>\n",
       "      <th>Ireland</th>\n",
       "      <td>Newly vulnerable</td>\n",
       "      <td>Decreasing but not as vulnerable</td>\n",
       "    </tr>\n",
       "    <tr>\n",
       "      <th>Equatorial Guinea</th>\n",
       "      <td>Vulnerable but improving</td>\n",
       "      <td>Most vulnerable</td>\n",
       "    </tr>\n",
       "    <tr>\n",
       "      <th>Peru</th>\n",
       "      <td>Vulnerable but improving</td>\n",
       "      <td>Most vulnerable</td>\n",
       "    </tr>\n",
       "    <tr>\n",
       "      <th>Gabon</th>\n",
       "      <td>Vulnerable but improving</td>\n",
       "      <td>Highly variable</td>\n",
       "    </tr>\n",
       "    <tr>\n",
       "      <th>Morocco</th>\n",
       "      <td>Vulnerable but improving</td>\n",
       "      <td>Most vulnerable</td>\n",
       "    </tr>\n",
       "  </tbody>\n",
       "</table>\n",
       "</div>"
      ],
      "text/plain": [
       "                                            Old category  \\\n",
       "name                                                       \n",
       "Albania                 Decreasing but not as vulnerable   \n",
       "Chad                    Decreasing but not as vulnerable   \n",
       "Bosnia and Herzegovina  Decreasing but not as vulnerable   \n",
       "Slovakia                Decreasing but not as vulnerable   \n",
       "Romania                 Decreasing but not as vulnerable   \n",
       "Papua New Guinea        Decreasing but not as vulnerable   \n",
       "Greece                  Decreasing but not as vulnerable   \n",
       "Croatia                 Decreasing but not as vulnerable   \n",
       "Mali                    Decreasing but not as vulnerable   \n",
       "Macedonia               Decreasing but not as vulnerable   \n",
       "Italy                   Decreasing but not as vulnerable   \n",
       "Myanmar                                  Highly variable   \n",
       "South Africa                             Highly variable   \n",
       "Zimbabwe                                 Highly variable   \n",
       "Cambodia                                 Highly variable   \n",
       "Ecuador                                  Highly variable   \n",
       "Switzerland                              Highly variable   \n",
       "Armenia                                  Highly variable   \n",
       "Moldova                           Increasing sufficiency   \n",
       "Iran                              Increasing sufficiency   \n",
       "Mongolia                          Increasing sufficiency   \n",
       "New Zealand                       Increasing sufficiency   \n",
       "Swaziland                         Increasing sufficiency   \n",
       "Tunisia                           Increasing sufficiency   \n",
       "Lesotho                           Increasing sufficiency   \n",
       "Ireland                                 Newly vulnerable   \n",
       "Equatorial Guinea               Vulnerable but improving   \n",
       "Peru                            Vulnerable but improving   \n",
       "Gabon                           Vulnerable but improving   \n",
       "Morocco                         Vulnerable but improving   \n",
       "\n",
       "                                            New category  \n",
       "name                                                      \n",
       "Albania                                  Highly variable  \n",
       "Chad                                    Newly vulnerable  \n",
       "Bosnia and Herzegovina            Increasing sufficiency  \n",
       "Slovakia                                 Highly variable  \n",
       "Romania                           Increasing sufficiency  \n",
       "Papua New Guinea                        Newly vulnerable  \n",
       "Greece                            Increasing sufficiency  \n",
       "Croatia                                  Highly variable  \n",
       "Mali                                    Newly vulnerable  \n",
       "Macedonia                                Highly variable  \n",
       "Italy                                    Highly variable  \n",
       "Myanmar                                 Newly vulnerable  \n",
       "South Africa                            Newly vulnerable  \n",
       "Zimbabwe                                Newly vulnerable  \n",
       "Cambodia                                Newly vulnerable  \n",
       "Ecuador                                  Most vulnerable  \n",
       "Switzerland                             Newly vulnerable  \n",
       "Armenia                           Increasing sufficiency  \n",
       "Moldova                                  Highly variable  \n",
       "Iran                                     Highly variable  \n",
       "Mongolia                Decreasing but not as vulnerable  \n",
       "New Zealand                              Highly variable  \n",
       "Swaziland                               Newly vulnerable  \n",
       "Tunisia                                        Importers  \n",
       "Lesotho                         Vulnerable but improving  \n",
       "Ireland                 Decreasing but not as vulnerable  \n",
       "Equatorial Guinea                        Most vulnerable  \n",
       "Peru                                     Most vulnerable  \n",
       "Gabon                                    Highly variable  \n",
       "Morocco                                  Most vulnerable  "
      ]
     },
     "execution_count": 239,
     "metadata": {},
     "output_type": "execute_result"
    }
   ],
   "source": [
    "cat_change.sort_values(by='Old category')"
   ]
  },
  {
   "cell_type": "markdown",
   "metadata": {},
   "source": [
    "Sanity check when making changes in the categorization function that it does not change the old categories, dataframe should be empty."
   ]
  },
  {
   "cell_type": "code",
   "execution_count": 240,
   "metadata": {
    "scrolled": true
   },
   "outputs": [
    {
     "data": {
      "text/html": [
       "<div>\n",
       "<style scoped>\n",
       "    .dataframe tbody tr th:only-of-type {\n",
       "        vertical-align: middle;\n",
       "    }\n",
       "\n",
       "    .dataframe tbody tr th {\n",
       "        vertical-align: top;\n",
       "    }\n",
       "\n",
       "    .dataframe thead th {\n",
       "        text-align: right;\n",
       "    }\n",
       "</style>\n",
       "<table border=\"1\" class=\"dataframe\">\n",
       "  <thead>\n",
       "    <tr style=\"text-align: right;\">\n",
       "      <th></th>\n",
       "      <th>Category</th>\n",
       "      <th>New category</th>\n",
       "    </tr>\n",
       "    <tr>\n",
       "      <th>name</th>\n",
       "      <th></th>\n",
       "      <th></th>\n",
       "    </tr>\n",
       "  </thead>\n",
       "  <tbody>\n",
       "  </tbody>\n",
       "</table>\n",
       "</div>"
      ],
      "text/plain": [
       "Empty DataFrame\n",
       "Columns: [Category, New category]\n",
       "Index: []"
      ]
     },
     "execution_count": 240,
     "metadata": {},
     "output_type": "execute_result"
    }
   ],
   "source": [
    "test = old_suff.copy().loc[suff_added_data.index]\n",
    "test['New category'] = test.apply(lambda row: custom_categorization_new(row, pop_file='Jones'), axis=1)\n",
    "\n",
    "test_compare = pd.DataFrame(data=[old_suff['Category'].loc[suff_added_data.index], test['New category']]).T\n",
    "\n",
    "test_compare[test_compare['Category'] != test_compare['New category']]"
   ]
  },
  {
   "cell_type": "code",
   "execution_count": 241,
   "metadata": {},
   "outputs": [
    {
     "data": {
      "text/plain": [
       "Most vulnerable                     38\n",
       "Newly vulnerable                    31\n",
       "Importers                           20\n",
       "Decreasing but not as vulnerable    18\n",
       "Exporters                           16\n",
       "Highly variable                     16\n",
       "Increasing sufficiency              14\n",
       "Vulnerable but improving             1\n",
       "Name: New category, dtype: int64"
      ]
     },
     "execution_count": 241,
     "metadata": {},
     "output_type": "execute_result"
    }
   ],
   "source": [
    "suff_added_data['New category'].value_counts()"
   ]
  },
  {
   "cell_type": "code",
   "execution_count": 242,
   "metadata": {},
   "outputs": [
    {
     "name": "stdout",
     "output_type": "stream",
     "text": [
      "Highly variable\t['Armenia', 'Switzerland', 'Ecuador', 'Cambodia', 'Myanmar', 'South Africa', 'Zimbabwe']\n",
      "Increasing sufficiency\t['Iran', 'Lesotho', 'Moldova', 'Mongolia', 'New Zealand', 'Swaziland', 'Tunisia']\n",
      "Vulnerable but improving\t['Gabon', 'Equatorial Guinea', 'Morocco', 'Peru']\n",
      "Exporters\t[]\n",
      "Importers\t[]\n",
      "Newly vulnerable\t['Ireland']\n",
      "Decreasing but not as vulnerable\t['Albania', 'Bosnia and Herzegovina', 'Greece', 'Croatia', 'Italy', 'Macedonia', 'Mali', 'Papua New Guinea', 'Romania', 'Slovakia', 'Chad']\n",
      "Most vulnerable\t[]\n"
     ]
    }
   ],
   "source": [
    "# Was in cat but not anymore\n",
    "for cat in set(suff_added_data['New category']):\n",
    "    was_in = cat_compare[cat_compare['Old category'] == cat]\n",
    "    was_in_is_not = was_in[was_in['New category'] != cat]\n",
    "    print(cat, list(was_in_is_not.index), sep='\\t')"
   ]
  },
  {
   "cell_type": "code",
   "execution_count": 243,
   "metadata": {},
   "outputs": [
    {
     "name": "stdout",
     "output_type": "stream",
     "text": [
      "Highly variable\t['Albania', 'Gabon', 'Croatia', 'Iran', 'Italy', 'Moldova', 'Macedonia', 'New Zealand', 'Slovakia']\n",
      "Increasing sufficiency\t['Armenia', 'Bosnia and Herzegovina', 'Greece', 'Romania']\n",
      "Vulnerable but improving\t['Lesotho']\n",
      "Exporters\t[]\n",
      "Importers\t['Tunisia']\n",
      "Newly vulnerable\t['Switzerland', 'Cambodia', 'Mali', 'Myanmar', 'Papua New Guinea', 'Swaziland', 'Chad', 'South Africa', 'Zimbabwe']\n",
      "Decreasing but not as vulnerable\t['Ireland', 'Mongolia']\n",
      "Most vulnerable\t['Ecuador', 'Equatorial Guinea', 'Morocco', 'Peru']\n"
     ]
    }
   ],
   "source": [
    "# Was not in cat but is now\n",
    "for cat in set(suff_added_data['New category']):\n",
    "    was_not = cat_compare[cat_compare['Old category'] != cat]\n",
    "    was_not_is_in = was_not[was_not['New category'] == cat]\n",
    "    print(cat, list(was_not_is_in.index), sep='\\t')"
   ]
  },
  {
   "cell_type": "code",
   "execution_count": 244,
   "metadata": {},
   "outputs": [
    {
     "data": {
      "text/plain": [
       "Category\n",
       "Decreasing but not as vulnerable    3.100513\n",
       "Exporters                           6.072764\n",
       "Highly variable                     1.514558\n",
       "Importers                           0.865300\n",
       "Increasing sufficiency              2.194842\n",
       "Most vulnerable                     0.771475\n",
       "Newly vulnerable                    1.752894\n",
       "Vulnerable but improving            0.570959\n",
       "Name: CalSuff_2000, dtype: float64"
      ]
     },
     "execution_count": 244,
     "metadata": {},
     "output_type": "execute_result"
    }
   ],
   "source": [
    "# Mean CalSuff Jones 2000\n",
    "old_suff.groupby('Category')['CalSuff_2000'].mean()"
   ]
  },
  {
   "cell_type": "code",
   "execution_count": 245,
   "metadata": {},
   "outputs": [
    {
     "data": {
      "text/plain": [
       "Category\n",
       "Decreasing but not as vulnerable    2.218807\n",
       "Exporters                           4.985210\n",
       "Highly variable                     1.650424\n",
       "Importers                           0.717401\n",
       "Increasing sufficiency              3.497141\n",
       "Most vulnerable                     0.470577\n",
       "Newly vulnerable                    1.057040\n",
       "Vulnerable but improving            0.969035\n",
       "dtype: float64"
      ]
     },
     "execution_count": 245,
     "metadata": {},
     "output_type": "execute_result"
    }
   ],
   "source": [
    "# Mean CalSuff Jones 2050\n",
    "old_suff.groupby('Category')[ssps].mean().mean(axis=1)"
   ]
  },
  {
   "cell_type": "code",
   "execution_count": 246,
   "metadata": {},
   "outputs": [
    {
     "data": {
      "text/plain": [
       "New category\n",
       "Decreasing but not as vulnerable    3.134363\n",
       "Exporters                           5.877755\n",
       "Highly variable                     1.855220\n",
       "Importers                           0.795032\n",
       "Increasing sufficiency              2.367711\n",
       "Most vulnerable                     0.734518\n",
       "Newly vulnerable                    1.903058\n",
       "Vulnerable but improving            0.765582\n",
       "Name: 2000 UN, dtype: float64"
      ]
     },
     "execution_count": 246,
     "metadata": {},
     "output_type": "execute_result"
    }
   ],
   "source": [
    "# Mean CalSuff UN 2000\n",
    "suff_added_data.groupby('New category')['2000 UN'].mean()"
   ]
  },
  {
   "cell_type": "code",
   "execution_count": 247,
   "metadata": {},
   "outputs": [
    {
     "data": {
      "text/plain": [
       "New category\n",
       "Decreasing but not as vulnerable    2.105619\n",
       "Exporters                           4.838094\n",
       "Highly variable                     1.950646\n",
       "Importers                           0.693552\n",
       "Increasing sufficiency              3.433202\n",
       "Most vulnerable                     0.411720\n",
       "Newly vulnerable                    0.945334\n",
       "Vulnerable but improving            1.069414\n",
       "dtype: float64"
      ]
     },
     "execution_count": 247,
     "metadata": {},
     "output_type": "execute_result"
    }
   ],
   "source": [
    "# Mean CalSuff UN 2050\n",
    "suff_added_data.groupby('New category')[un_scenarios].mean().mean(axis=1)"
   ]
  },
  {
   "cell_type": "code",
   "execution_count": null,
   "metadata": {},
   "outputs": [],
   "source": []
  },
  {
   "cell_type": "code",
   "execution_count": 248,
   "metadata": {},
   "outputs": [],
   "source": [
    "suff_added_data.to_csv(new_res_path + 'suff_with_cat.csv')"
   ]
  },
  {
   "cell_type": "markdown",
   "metadata": {},
   "source": [
    "# Country changes"
   ]
  },
  {
   "cell_type": "code",
   "execution_count": 274,
   "metadata": {},
   "outputs": [],
   "source": [
    "suff_added_data = pd.read_csv(new_res_path + 'suff_with_cat.csv', index_col='name')"
   ]
  },
  {
   "cell_type": "code",
   "execution_count": 275,
   "metadata": {},
   "outputs": [
    {
     "data": {
      "text/plain": [
       "['2000 jones',\n",
       " '2000 UN',\n",
       " 'ssp1 jones',\n",
       " 'ssp2 jones',\n",
       " 'ssp3 jones',\n",
       " 'ssp4 jones',\n",
       " 'ssp5 jones',\n",
       " 'ssp1 Low',\n",
       " 'ssp4 Low',\n",
       " 'ssp2 Medium',\n",
       " 'ssp3 High',\n",
       " 'ssp4 High',\n",
       " 'ssp2 Constant fertility',\n",
       " 'ssp3 Constant fertility',\n",
       " 'ssp4 Constant fertility',\n",
       " 'ssp2 Instant replacement',\n",
       " 'ssp2 Momentum',\n",
       " 'ssp2 Constant mortality',\n",
       " 'ssp1 No change',\n",
       " 'ssp4 No change',\n",
       " 'ssp2 No change',\n",
       " 'ssp3 Zero migration']"
      ]
     },
     "execution_count": 275,
     "metadata": {},
     "output_type": "execute_result"
    }
   ],
   "source": [
    "all_variants = ['2000 jones', '2000 UN'] + variant_mapping\n",
    "all_variants"
   ]
  },
  {
   "cell_type": "code",
   "execution_count": 276,
   "metadata": {},
   "outputs": [],
   "source": [
    "prod_ssps = [get_prod(ssp) for ssp in ssps]"
   ]
  },
  {
   "cell_type": "code",
   "execution_count": 302,
   "metadata": {},
   "outputs": [],
   "source": [
    "def get_changes(country):\n",
    "    changes = pd.DataFrame(columns=all_variants, \n",
    "                           index=['Caloric Sufficiency', 'Production', 'Population', 'Cropland', 'Livestock'])\n",
    "    \n",
    "    changes = changes.rename_axis(country, axis=1)\n",
    "    \n",
    "    # sufficiency 2000\n",
    "    changes.at['Caloric Sufficiency', '2000 jones'] = suff_added_data.loc[country, '2000 jones']\n",
    "    changes.at['Caloric Sufficiency', '2000 UN'] = suff_added_data.loc[country, '2000 UN']\n",
    "    # population 2000\n",
    "    changes.at['Population', '2000 jones'] = pop_bycountry_2000[country]\n",
    "    changes.at['Population', '2000 UN'] = baseline_new.loc[baseline_new['Location'] == country, 'PopTotal'].values[0]\n",
    "    # production 2000\n",
    "    changes.at['Production', '2000 jones'] = prod_by_country_2000[country]\n",
    "    changes.at['Production', '2000 UN'] = prod_by_country_2000[country]\n",
    "    # livestock 2000\n",
    "    try:\n",
    "        changes.at['Livestock', '2000 jones'] = diets[(diets['Scenario'] == 'ssp1') & (diets['Region'].apply(lambda i: iso_3_to_name.get(i)) == country)]['2000'].values[0]\n",
    "    except:\n",
    "        changes.at['Livestock', '2000 UN'] = np.nan\n",
    "        pass\n",
    "    changes.at['Livestock', '2000 UN'] = changes.at['Livestock', '2000 jones']\n",
    "    \n",
    "    \n",
    "    df, _ = prod_ssps[0]\n",
    "    # cropland 2000\n",
    "    df['cropland_2000'] = df.dropna(subset=['calories_2000'])['ha_per_pixel'] * df.dropna(subset=['calories_2000'])['%cropland_2000']\n",
    "    changes.at['Cropland', '2000 jones'] = df.groupby('name')['cropland_2000'].sum()[country]\n",
    "    changes.at['Cropland', '2000 UN'] = df.groupby('name')['cropland_2000'].sum()[country]\n",
    "    \n",
    "    \n",
    "    for variant in variant_mapping:\n",
    "        ssp, pop_name = variant.split(' ', maxsplit=1)\n",
    "        ssp_num = int(ssp[-1])\n",
    "        df, _ = prod_ssps[ssp_num-1]\n",
    "        # change in caloric sufficicency\n",
    "        changes.at['Caloric Sufficiency', variant] = suff_added_data.loc[country, variant]\n",
    "        \n",
    "        # change in population\n",
    "        if pop_name == 'jones':\n",
    "            pop = import_old_pop_data(ssp)\n",
    "            change_pop = (pop.at[country] - changes.at['Population', '2000 jones']) / changes.at['Population', '2000 jones']\n",
    "            changes.at['Population', variant] = '{:+,.2f}%'.format(100*change_pop)\n",
    "        else:\n",
    "            # Get 2050 population only\n",
    "            pop = new_pop[new_pop['Time'] == 2050]\n",
    "            # Get total population\n",
    "            pop = pop[pop['Variant'] == pop_name].set_index('Location')['PopTotal']\n",
    "            change_pop = (pop.at[country] - changes.at['Population', '2000 UN']) / changes.at['Population', '2000 UN']\n",
    "            changes.at['Population', variant] = '{:+,.2f}%'.format(100*change_pop)\n",
    "            \n",
    "        \n",
    "        # change in production\n",
    "        prod_bycountry = df.groupby('name')['calories_2050'].sum() \n",
    "        change_prod = (prod_bycountry[country] - changes.at['Production', '2000 jones']) / changes.at['Production', '2000 jones']\n",
    "        changes.at['Production', variant] = '{:+,.2f}%'.format(100*change_prod)\n",
    "        \n",
    "        # change in cropland\n",
    "        df['cropland_2050'] = df['ha_per_pixel'] * df['%cropland_2050']\n",
    "        change_cropland = (df.groupby('name')['cropland_2050'].sum()[country] - changes.at['Cropland', '2000 jones']) / changes.at['Cropland', '2000 jones']\n",
    "        changes.at['Cropland', variant] = '{:+,.2f}%'.format(100*change_cropland)\n",
    "        \n",
    "        # livestock\n",
    "        try:\n",
    "            changes.at['Livestock', variant] = diets[(diets['Scenario'] == ssp) & (diets['Region'].apply(lambda i: iso_3_to_name.get(i)) == country)]['2050'].values[0]\n",
    "        except:\n",
    "            changes.at['Livestock', variant] = np.nan\n",
    "            pass\n",
    "    # invert axis (transpose df)\n",
    "    return changes.T "
   ]
  },
  {
   "cell_type": "code",
   "execution_count": 305,
   "metadata": {
    "scrolled": true
   },
   "outputs": [
    {
     "name": "stdout",
     "output_type": "stream",
     "text": [
      "1/154\n",
      "2/154\n",
      "3/154\n",
      "4/154\n",
      "5/154\n",
      "6/154\n",
      "7/154\n",
      "8/154\n",
      "9/154\n",
      "10/154\n",
      "11/154\n",
      "12/154\n",
      "13/154\n",
      "14/154\n",
      "15/154\n",
      "16/154\n",
      "17/154\n",
      "18/154\n",
      "19/154\n",
      "20/154\n",
      "21/154\n",
      "22/154\n",
      "23/154\n",
      "24/154\n",
      "25/154\n",
      "26/154\n",
      "27/154\n",
      "28/154\n",
      "29/154\n",
      "30/154\n",
      "31/154\n",
      "32/154\n",
      "33/154\n",
      "34/154\n",
      "35/154\n",
      "36/154\n",
      "37/154\n",
      "38/154\n",
      "39/154\n",
      "40/154\n",
      "41/154\n",
      "42/154\n",
      "43/154\n",
      "44/154\n",
      "45/154\n",
      "46/154\n",
      "47/154\n",
      "48/154\n",
      "49/154\n",
      "50/154\n",
      "51/154\n",
      "52/154\n",
      "53/154\n",
      "54/154\n",
      "55/154\n",
      "56/154\n",
      "57/154\n",
      "58/154\n",
      "59/154\n",
      "60/154\n",
      "61/154\n",
      "62/154\n",
      "63/154\n",
      "64/154\n",
      "65/154\n",
      "66/154\n",
      "67/154\n",
      "68/154\n",
      "69/154\n",
      "70/154\n",
      "71/154\n",
      "72/154\n",
      "73/154\n",
      "74/154\n",
      "75/154\n",
      "76/154\n",
      "77/154\n",
      "78/154\n",
      "79/154\n",
      "80/154\n",
      "81/154\n",
      "82/154\n",
      "83/154\n",
      "84/154\n",
      "85/154\n",
      "86/154\n",
      "87/154\n",
      "88/154\n",
      "89/154\n",
      "90/154\n",
      "91/154\n",
      "92/154\n",
      "93/154\n",
      "94/154\n",
      "95/154\n",
      "96/154\n",
      "97/154\n",
      "98/154\n",
      "99/154\n",
      "100/154\n",
      "101/154\n",
      "102/154\n",
      "103/154\n",
      "104/154\n",
      "105/154\n",
      "106/154\n",
      "107/154\n",
      "108/154\n",
      "109/154\n",
      "110/154\n",
      "111/154\n",
      "112/154\n",
      "113/154\n",
      "114/154\n",
      "115/154\n",
      "116/154\n",
      "117/154\n",
      "118/154\n",
      "119/154\n",
      "120/154\n",
      "121/154\n",
      "122/154\n",
      "123/154\n",
      "124/154\n",
      "125/154\n",
      "126/154\n",
      "127/154\n",
      "128/154\n",
      "129/154\n",
      "130/154\n",
      "131/154\n",
      "132/154\n",
      "133/154\n",
      "134/154\n",
      "135/154\n",
      "136/154\n",
      "137/154\n",
      "138/154\n",
      "139/154\n",
      "140/154\n",
      "141/154\n",
      "142/154\n",
      "143/154\n",
      "144/154\n",
      "145/154\n",
      "146/154\n",
      "147/154\n",
      "148/154\n",
      "149/154\n",
      "150/154\n",
      "151/154\n",
      "152/154\n",
      "153/154\n",
      "154/154\n"
     ]
    }
   ],
   "source": [
    "# Creating Excel Writer Object from Pandas  \n",
    "writer = pd.ExcelWriter(new_res_path + 'country_info_with_UN.xlsx', engine='xlsxwriter')   \n",
    "workbook = writer.book\n",
    "worksheet = workbook.add_worksheet('Country_results')\n",
    "writer.sheets['Country_results'] = worksheet\n",
    "\n",
    "country_list = suff_added_data.index.to_list()\n",
    "start_row = 0\n",
    "done = 0\n",
    "for country in country_list:\n",
    "    done += 1\n",
    "    # compute information about the country\n",
    "    changes = get_changes(country)\n",
    "    # write to excel file\n",
    "    changes.to_excel(writer, sheet_name='Country_results', startrow=start_row, startcol=0, index=True)\n",
    "    start_row += len(changes) + 2\n",
    "    print(f'{done}/{len(country_list)}')\n",
    "\n",
    "# save excel file\n",
    "writer.save()"
   ]
  },
  {
   "cell_type": "code",
   "execution_count": null,
   "metadata": {},
   "outputs": [],
   "source": []
  }
 ],
 "metadata": {
  "kernelspec": {
   "display_name": "Python 3",
   "language": "python",
   "name": "python3"
  },
  "language_info": {
   "codemirror_mode": {
    "name": "ipython",
    "version": 3
   },
   "file_extension": ".py",
   "mimetype": "text/x-python",
   "name": "python",
   "nbconvert_exporter": "python",
   "pygments_lexer": "ipython3",
   "version": "3.8.1"
  },
  "toc": {
   "base_numbering": 1,
   "nav_menu": {},
   "number_sections": true,
   "sideBar": true,
   "skip_h1_title": false,
   "title_cell": "Table of Contents",
   "title_sidebar": "Contents",
   "toc_cell": false,
   "toc_position": {},
   "toc_section_display": true,
   "toc_window_display": true
  }
 },
 "nbformat": 4,
 "nbformat_minor": 4
}
