{
 "cells": [
  {
   "cell_type": "markdown",
   "metadata": {},
   "source": [
    "# Convert NETCDF files to TIFF"
   ]
  },
  {
   "cell_type": "code",
   "execution_count": 1,
   "metadata": {},
   "outputs": [
    {
     "name": "stdout",
     "output_type": "stream",
     "text": [
      "Input file size is 1440, 720\n",
      "0...10...20...30...40...50...60...70...80...90...100 - done.\n",
      "Input file size is 1440, 720\n",
      "0...10...20...30...40...50...60...70...80...90...100 - done.\n",
      "Input file size is 1440, 720\n",
      "0...10...20...30...40...50...60...70...80...90...100 - done.\n",
      "Input file size is 1440, 720\n",
      "0...10...20...30...40...50...60...70...80...90...100 - done.\n",
      "Input file size is 1440, 720\n",
      "0...10...20...30...40...50...60...70...80...90...100 - done.\n"
     ]
    }
   ],
   "source": [
    "# 1150 is year 2000\n",
    "! gdal_translate -b 1150 NETCDF:\"data/irrigation/2000/management.nc\":irrig_c3ann data/irrigation/2000/2000_irrig_c3ann.tif\n",
    "! gdal_translate -b 1150 NETCDF:\"data/irrigation/2000/management.nc\":irrig_c3per data/irrigation/2000/2000_irrig_c3per.tif\n",
    "! gdal_translate -b 1150 NETCDF:\"data/irrigation/2000/management.nc\":irrig_c3nfx data/irrigation/2000/2000_irrig_c3nfx.tif\n",
    "! gdal_translate -b 1150 NETCDF:\"data/irrigation/2000/management.nc\":irrig_c4ann data/irrigation/2000/2000_irrig_c4ann.tif\n",
    "! gdal_translate -b 1150 NETCDF:\"data/irrigation/2000/management.nc\":irrig_c4per data/irrigation/2000/2000_irrig_c4per.tif        "
   ]
  },
  {
   "cell_type": "code",
   "execution_count": 2,
   "metadata": {},
   "outputs": [
    {
     "name": "stdout",
     "output_type": "stream",
     "text": [
      "Input file size is 1440, 720\n",
      "0...10...20...30...40...50...60...70...80...90...100 - done.\n",
      "Input file size is 1440, 720\n",
      "0...10...20...30...40...50...60...70...80...90...100 - done.\n",
      "Input file size is 1440, 720\n",
      "0...10...20...30...40...50...60...70...80...90...100 - done.\n",
      "Input file size is 1440, 720\n",
      "0...10...20...30...40...50...60...70...80...90...100 - done.\n",
      "Input file size is 1440, 720\n",
      "0...10...20...30...40...50...60...70...80...90...100 - done.\n"
     ]
    }
   ],
   "source": [
    "# 35 is year 2050\n",
    "! gdal_translate -b 35 NETCDF:\"data/irrigation/SSP1/management_ssp1.nc\":irrig_c3ann data/irrigation/SSP1/ssp1_irrig_c3ann.tif\n",
    "! gdal_translate -b 35 NETCDF:\"data/irrigation/SSP1/management_ssp1.nc\":irrig_c3per data/irrigation/SSP1/ssp1_irrig_c3per.tif\n",
    "! gdal_translate -b 35 NETCDF:\"data/irrigation/SSP1/management_ssp1.nc\":irrig_c3nfx data/irrigation/SSP1/ssp1_irrig_c3nfx.tif\n",
    "! gdal_translate -b 35 NETCDF:\"data/irrigation/SSP1/management_ssp1.nc\":irrig_c4ann data/irrigation/SSP1/ssp1_irrig_c4ann.tif\n",
    "! gdal_translate -b 35 NETCDF:\"data/irrigation/SSP1/management_ssp1.nc\":irrig_c4per data/irrigation/SSP1/ssp1_irrig_c4per.tif        "
   ]
  },
  {
   "cell_type": "code",
   "execution_count": 3,
   "metadata": {},
   "outputs": [
    {
     "name": "stdout",
     "output_type": "stream",
     "text": [
      "Input file size is 1440, 720\n",
      "0...10...20...30...40...50...60...70...80...90...100 - done.\n",
      "Input file size is 1440, 720\n",
      "0...10...20...30...40...50...60...70...80...90...100 - done.\n",
      "Input file size is 1440, 720\n",
      "0...10...20...30...40...50...60...70...80...90...100 - done.\n",
      "Input file size is 1440, 720\n",
      "0...10...20...30...40...50...60...70...80...90...100 - done.\n",
      "Input file size is 1440, 720\n",
      "0...10...20...30...40...50...60...70...80...90...100 - done.\n"
     ]
    }
   ],
   "source": [
    "! gdal_translate -b 35 NETCDF:\"data/irrigation/SSP2/management_ssp2.nc\":irrig_c3ann data/irrigation/SSP2/ssp2_irrig_c3ann.tif\n",
    "! gdal_translate -b 35 NETCDF:\"data/irrigation/SSP2/management_ssp2.nc\":irrig_c3per data/irrigation/SSP2/ssp2_irrig_c3per.tif\n",
    "! gdal_translate -b 35 NETCDF:\"data/irrigation/SSP2/management_ssp2.nc\":irrig_c3nfx data/irrigation/SSP2/ssp2_irrig_c3nfx.tif\n",
    "! gdal_translate -b 35 NETCDF:\"data/irrigation/SSP2/management_ssp2.nc\":irrig_c4ann data/irrigation/SSP2/ssp2_irrig_c4ann.tif\n",
    "! gdal_translate -b 35 NETCDF:\"data/irrigation/SSP2/management_ssp2.nc\":irrig_c4per data/irrigation/SSP2/ssp2_irrig_c4per.tif        "
   ]
  },
  {
   "cell_type": "code",
   "execution_count": 4,
   "metadata": {},
   "outputs": [
    {
     "name": "stdout",
     "output_type": "stream",
     "text": [
      "Input file size is 1440, 720\n",
      "0...10...20...30...40...50...60...70...80...90...100 - done.\n",
      "Input file size is 1440, 720\n",
      "0...10...20...30...40...50...60...70...80...90...100 - done.\n",
      "Input file size is 1440, 720\n",
      "0...10...20...30...40...50...60...70...80...90...100 - done.\n",
      "Input file size is 1440, 720\n",
      "0...10...20...30...40...50...60...70...80...90...100 - done.\n",
      "Input file size is 1440, 720\n",
      "0...10...20...30...40...50...60...70...80...90...100 - done.\n"
     ]
    }
   ],
   "source": [
    "! gdal_translate -b 35 NETCDF:\"data/irrigation/SSP3/management_ssp3.nc\":irrig_c3ann data/irrigation/SSP3/ssp3_irrig_c3ann.tif\n",
    "! gdal_translate -b 35 NETCDF:\"data/irrigation/SSP3/management_ssp3.nc\":irrig_c3per data/irrigation/SSP3/ssp3_irrig_c3per.tif\n",
    "! gdal_translate -b 35 NETCDF:\"data/irrigation/SSP3/management_ssp3.nc\":irrig_c3nfx data/irrigation/SSP3/ssp3_irrig_c3nfx.tif\n",
    "! gdal_translate -b 35 NETCDF:\"data/irrigation/SSP3/management_ssp3.nc\":irrig_c4ann data/irrigation/SSP3/ssp3_irrig_c4ann.tif\n",
    "! gdal_translate -b 35 NETCDF:\"data/irrigation/SSP3/management_ssp3.nc\":irrig_c4per data/irrigation/SSP3/ssp3_irrig_c4per.tif        "
   ]
  },
  {
   "cell_type": "code",
   "execution_count": 5,
   "metadata": {},
   "outputs": [
    {
     "name": "stdout",
     "output_type": "stream",
     "text": [
      "Input file size is 1440, 720\n",
      "0...10...20...30...40...50...60...70...80...90...100 - done.\n",
      "Input file size is 1440, 720\n",
      "0...10...20...30...40...50...60...70...80...90...100 - done.\n",
      "Input file size is 1440, 720\n",
      "0...10...20...30...40...50...60...70...80...90...100 - done.\n",
      "Input file size is 1440, 720\n",
      "0...10...20...30...40...50...60...70...80...90...100 - done.\n",
      "Input file size is 1440, 720\n",
      "0...10...20...30...40...50...60...70...80...90...100 - done.\n"
     ]
    }
   ],
   "source": [
    "! gdal_translate -b 35 NETCDF:\"data/irrigation/SSP4/management_ssp4.nc\":irrig_c3ann data/irrigation/SSP4/ssp4_irrig_c3ann.tif\n",
    "! gdal_translate -b 35 NETCDF:\"data/irrigation/SSP4/management_ssp4.nc\":irrig_c3per data/irrigation/SSP4/ssp4_irrig_c3per.tif\n",
    "! gdal_translate -b 35 NETCDF:\"data/irrigation/SSP4/management_ssp4.nc\":irrig_c3nfx data/irrigation/SSP4/ssp4_irrig_c3nfx.tif\n",
    "! gdal_translate -b 35 NETCDF:\"data/irrigation/SSP4/management_ssp4.nc\":irrig_c4ann data/irrigation/SSP4/ssp4_irrig_c4ann.tif\n",
    "! gdal_translate -b 35 NETCDF:\"data/irrigation/SSP4/management_ssp4.nc\":irrig_c4per data/irrigation/SSP4/ssp4_irrig_c4per.tif        "
   ]
  },
  {
   "cell_type": "code",
   "execution_count": 6,
   "metadata": {},
   "outputs": [
    {
     "name": "stdout",
     "output_type": "stream",
     "text": [
      "Input file size is 1440, 720\n",
      "0...10...20...30...40...50...60...70...80...90...100 - done.\n",
      "Input file size is 1440, 720\n",
      "0...10...20...30...40...50...60...70...80...90...100 - done.\n",
      "Input file size is 1440, 720\n",
      "0...10...20...30...40...50...60...70...80...90...100 - done.\n",
      "Input file size is 1440, 720\n",
      "0...10...20...30...40...50...60...70...80...90...100 - done.\n",
      "Input file size is 1440, 720\n",
      "0...10...20...30...40...50...60...70...80...90...100 - done.\n"
     ]
    }
   ],
   "source": [
    "! gdal_translate -b 35 NETCDF:\"data/irrigation/SSP5/management_ssp5.nc\":irrig_c3ann data/irrigation/SSP5/ssp5_irrig_c3ann.tif\n",
    "! gdal_translate -b 35 NETCDF:\"data/irrigation/SSP5/management_ssp5.nc\":irrig_c3per data/irrigation/SSP5/ssp5_irrig_c3per.tif\n",
    "! gdal_translate -b 35 NETCDF:\"data/irrigation/SSP5/management_ssp5.nc\":irrig_c3nfx data/irrigation/SSP5/ssp5_irrig_c3nfx.tif\n",
    "! gdal_translate -b 35 NETCDF:\"data/irrigation/SSP5/management_ssp5.nc\":irrig_c4ann data/irrigation/SSP5/ssp5_irrig_c4ann.tif\n",
    "! gdal_translate -b 35 NETCDF:\"data/irrigation/SSP5/management_ssp5.nc\":irrig_c4per data/irrigation/SSP5/ssp5_irrig_c4per.tif        "
   ]
  },
  {
   "cell_type": "code",
   "execution_count": 9,
   "metadata": {},
   "outputs": [
    {
     "name": "stdout",
     "output_type": "stream",
     "text": [
      "(-180.0, 0.25, 0.0, 90.0, 0.0, -0.25)\n"
     ]
    },
    {
     "data": {
      "text/plain": [
       "(0.25, 0.25)"
      ]
     },
     "execution_count": 9,
     "metadata": {},
     "output_type": "execute_result"
    }
   ],
   "source": [
    "from osgeo import gdal\n",
    "raster = gdal.Open('data/irrigation/2000/2000_irrig_c3ann.tif')\n",
    "gt = raster.GetGeoTransform()\n",
    "print(gt)\n",
    "pixelSizeX = gt[1]\n",
    "pixelSizeY =-gt[5]\n",
    "\n",
    "pixelSizeX, pixelSizeY"
   ]
  },
  {
   "cell_type": "code",
   "execution_count": null,
   "metadata": {},
   "outputs": [],
   "source": []
  }
 ],
 "metadata": {
  "kernelspec": {
   "display_name": "Python 3",
   "language": "python",
   "name": "python3"
  },
  "language_info": {
   "codemirror_mode": {
    "name": "ipython",
    "version": 3
   },
   "file_extension": ".py",
   "mimetype": "text/x-python",
   "name": "python",
   "nbconvert_exporter": "python",
   "pygments_lexer": "ipython3",
   "version": "3.6.8"
  },
  "toc": {
   "base_numbering": 1,
   "nav_menu": {},
   "number_sections": true,
   "sideBar": true,
   "skip_h1_title": true,
   "title_cell": "Table of Contents",
   "title_sidebar": "Contents",
   "toc_cell": false,
   "toc_position": {},
   "toc_section_display": true,
   "toc_window_display": false
  }
 },
 "nbformat": 4,
 "nbformat_minor": 2
}
