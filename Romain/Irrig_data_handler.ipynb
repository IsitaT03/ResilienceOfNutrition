{
 "cells": [
  {
   "cell_type": "markdown",
   "metadata": {},
   "source": [
    "# Add irrigation data"
   ]
  },
  {
   "cell_type": "markdown",
   "metadata": {
    "heading_collapsed": true
   },
   "source": [
    "## Transform .nc to .tif"
   ]
  },
  {
   "cell_type": "code",
   "execution_count": 1,
   "metadata": {
    "hidden": true
   },
   "outputs": [
    {
     "name": "stdout",
     "output_type": "stream",
     "text": [
      "Input file size is 1440, 720\n",
      "0...10...20...30...40...50...60...70...80...90...100 - done.\n",
      "Input file size is 1440, 720\n",
      "0...10...20...30...40...50...60...70...80...90...100 - done.\n",
      "Input file size is 1440, 720\n",
      "0...10...20...30...40...50...60...70...80...90...100 - done.\n",
      "Input file size is 1440, 720\n",
      "0...10...20...30...40...50...60...70...80...90...100 - done.\n",
      "Input file size is 1440, 720\n",
      "0...10...20...30...40...50...60...70...80...90...100 - done.\n"
     ]
    }
   ],
   "source": [
    "# 1150 is year 2000\n",
    "! gdal_translate -b 1150 NETCDF:\"data/irrigation/2000/management.nc\":irrig_c3ann data/irrigation/2000/2000_irrig_c3ann.tif\n",
    "! gdal_translate -b 1150 NETCDF:\"data/irrigation/2000/management.nc\":irrig_c3per data/irrigation/2000/2000_irrig_c3per.tif\n",
    "! gdal_translate -b 1150 NETCDF:\"data/irrigation/2000/management.nc\":irrig_c3nfx data/irrigation/2000/2000_irrig_c3nfx.tif\n",
    "! gdal_translate -b 1150 NETCDF:\"data/irrigation/2000/management.nc\":irrig_c4ann data/irrigation/2000/2000_irrig_c4ann.tif\n",
    "! gdal_translate -b 1150 NETCDF:\"data/irrigation/2000/management.nc\":irrig_c4per data/irrigation/2000/2000_irrig_c4per.tif        "
   ]
  },
  {
   "cell_type": "code",
   "execution_count": 2,
   "metadata": {
    "hidden": true
   },
   "outputs": [
    {
     "name": "stdout",
     "output_type": "stream",
     "text": [
      "Input file size is 1440, 720\n",
      "0...10...20...30...40...50...60...70...80...90...100 - done.\n",
      "Input file size is 1440, 720\n",
      "0...10...20...30...40...50...60...70...80...90...100 - done.\n",
      "Input file size is 1440, 720\n",
      "0...10...20...30...40...50...60...70...80...90...100 - done.\n",
      "Input file size is 1440, 720\n",
      "0...10...20...30...40...50...60...70...80...90...100 - done.\n",
      "Input file size is 1440, 720\n",
      "0...10...20...30...40...50...60...70...80...90...100 - done.\n"
     ]
    }
   ],
   "source": [
    "# 35 is year 2050\n",
    "! gdal_translate -b 35 NETCDF:\"data/irrigation/SSP1/management_ssp1.nc\":irrig_c3ann data/irrigation/SSP1/ssp1_irrig_c3ann.tif\n",
    "! gdal_translate -b 35 NETCDF:\"data/irrigation/SSP1/management_ssp1.nc\":irrig_c3per data/irrigation/SSP1/ssp1_irrig_c3per.tif\n",
    "! gdal_translate -b 35 NETCDF:\"data/irrigation/SSP1/management_ssp1.nc\":irrig_c3nfx data/irrigation/SSP1/ssp1_irrig_c3nfx.tif\n",
    "! gdal_translate -b 35 NETCDF:\"data/irrigation/SSP1/management_ssp1.nc\":irrig_c4ann data/irrigation/SSP1/ssp1_irrig_c4ann.tif\n",
    "! gdal_translate -b 35 NETCDF:\"data/irrigation/SSP1/management_ssp1.nc\":irrig_c4per data/irrigation/SSP1/ssp1_irrig_c4per.tif        "
   ]
  },
  {
   "cell_type": "code",
   "execution_count": 3,
   "metadata": {
    "hidden": true
   },
   "outputs": [
    {
     "name": "stdout",
     "output_type": "stream",
     "text": [
      "Input file size is 1440, 720\n",
      "0...10...20...30...40...50...60...70...80...90...100 - done.\n",
      "Input file size is 1440, 720\n",
      "0...10...20...30...40...50...60...70...80...90...100 - done.\n",
      "Input file size is 1440, 720\n",
      "0...10...20...30...40...50...60...70...80...90...100 - done.\n",
      "Input file size is 1440, 720\n",
      "0...10...20...30...40...50...60...70...80...90...100 - done.\n",
      "Input file size is 1440, 720\n",
      "0...10...20...30...40...50...60...70...80...90...100 - done.\n"
     ]
    }
   ],
   "source": [
    "! gdal_translate -b 35 NETCDF:\"data/irrigation/SSP2/management_ssp2.nc\":irrig_c3ann data/irrigation/SSP2/ssp2_irrig_c3ann.tif\n",
    "! gdal_translate -b 35 NETCDF:\"data/irrigation/SSP2/management_ssp2.nc\":irrig_c3per data/irrigation/SSP2/ssp2_irrig_c3per.tif\n",
    "! gdal_translate -b 35 NETCDF:\"data/irrigation/SSP2/management_ssp2.nc\":irrig_c3nfx data/irrigation/SSP2/ssp2_irrig_c3nfx.tif\n",
    "! gdal_translate -b 35 NETCDF:\"data/irrigation/SSP2/management_ssp2.nc\":irrig_c4ann data/irrigation/SSP2/ssp2_irrig_c4ann.tif\n",
    "! gdal_translate -b 35 NETCDF:\"data/irrigation/SSP2/management_ssp2.nc\":irrig_c4per data/irrigation/SSP2/ssp2_irrig_c4per.tif        "
   ]
  },
  {
   "cell_type": "code",
   "execution_count": 4,
   "metadata": {
    "hidden": true
   },
   "outputs": [
    {
     "name": "stdout",
     "output_type": "stream",
     "text": [
      "Input file size is 1440, 720\n",
      "0...10...20...30...40...50...60...70...80...90...100 - done.\n",
      "Input file size is 1440, 720\n",
      "0...10...20...30...40...50...60...70...80...90...100 - done.\n",
      "Input file size is 1440, 720\n",
      "0...10...20...30...40...50...60...70...80...90...100 - done.\n",
      "Input file size is 1440, 720\n",
      "0...10...20...30...40...50...60...70...80...90...100 - done.\n",
      "Input file size is 1440, 720\n",
      "0...10...20...30...40...50...60...70...80...90...100 - done.\n"
     ]
    }
   ],
   "source": [
    "! gdal_translate -b 35 NETCDF:\"data/irrigation/SSP3/management_ssp3.nc\":irrig_c3ann data/irrigation/SSP3/ssp3_irrig_c3ann.tif\n",
    "! gdal_translate -b 35 NETCDF:\"data/irrigation/SSP3/management_ssp3.nc\":irrig_c3per data/irrigation/SSP3/ssp3_irrig_c3per.tif\n",
    "! gdal_translate -b 35 NETCDF:\"data/irrigation/SSP3/management_ssp3.nc\":irrig_c3nfx data/irrigation/SSP3/ssp3_irrig_c3nfx.tif\n",
    "! gdal_translate -b 35 NETCDF:\"data/irrigation/SSP3/management_ssp3.nc\":irrig_c4ann data/irrigation/SSP3/ssp3_irrig_c4ann.tif\n",
    "! gdal_translate -b 35 NETCDF:\"data/irrigation/SSP3/management_ssp3.nc\":irrig_c4per data/irrigation/SSP3/ssp3_irrig_c4per.tif        "
   ]
  },
  {
   "cell_type": "code",
   "execution_count": 5,
   "metadata": {
    "hidden": true
   },
   "outputs": [
    {
     "name": "stdout",
     "output_type": "stream",
     "text": [
      "Input file size is 1440, 720\n",
      "0...10...20...30...40...50...60...70...80...90...100 - done.\n",
      "Input file size is 1440, 720\n",
      "0...10...20...30...40...50...60...70...80...90...100 - done.\n",
      "Input file size is 1440, 720\n",
      "0...10...20...30...40...50...60...70...80...90...100 - done.\n",
      "Input file size is 1440, 720\n",
      "0...10...20...30...40...50...60...70...80...90...100 - done.\n",
      "Input file size is 1440, 720\n",
      "0...10...20...30...40...50...60...70...80...90...100 - done.\n"
     ]
    }
   ],
   "source": [
    "! gdal_translate -b 35 NETCDF:\"data/irrigation/SSP4/management_ssp4.nc\":irrig_c3ann data/irrigation/SSP4/ssp4_irrig_c3ann.tif\n",
    "! gdal_translate -b 35 NETCDF:\"data/irrigation/SSP4/management_ssp4.nc\":irrig_c3per data/irrigation/SSP4/ssp4_irrig_c3per.tif\n",
    "! gdal_translate -b 35 NETCDF:\"data/irrigation/SSP4/management_ssp4.nc\":irrig_c3nfx data/irrigation/SSP4/ssp4_irrig_c3nfx.tif\n",
    "! gdal_translate -b 35 NETCDF:\"data/irrigation/SSP4/management_ssp4.nc\":irrig_c4ann data/irrigation/SSP4/ssp4_irrig_c4ann.tif\n",
    "! gdal_translate -b 35 NETCDF:\"data/irrigation/SSP4/management_ssp4.nc\":irrig_c4per data/irrigation/SSP4/ssp4_irrig_c4per.tif        "
   ]
  },
  {
   "cell_type": "code",
   "execution_count": 6,
   "metadata": {
    "hidden": true
   },
   "outputs": [
    {
     "name": "stdout",
     "output_type": "stream",
     "text": [
      "Input file size is 1440, 720\n",
      "0...10...20...30...40...50...60...70...80...90...100 - done.\n",
      "Input file size is 1440, 720\n",
      "0...10...20...30...40...50...60...70...80...90...100 - done.\n",
      "Input file size is 1440, 720\n",
      "0...10...20...30...40...50...60...70...80...90...100 - done.\n",
      "Input file size is 1440, 720\n",
      "0...10...20...30...40...50...60...70...80...90...100 - done.\n",
      "Input file size is 1440, 720\n",
      "0...10...20...30...40...50...60...70...80...90...100 - done.\n"
     ]
    }
   ],
   "source": [
    "! gdal_translate -b 35 NETCDF:\"data/irrigation/SSP5/management_ssp5.nc\":irrig_c3ann data/irrigation/SSP5/ssp5_irrig_c3ann.tif\n",
    "! gdal_translate -b 35 NETCDF:\"data/irrigation/SSP5/management_ssp5.nc\":irrig_c3per data/irrigation/SSP5/ssp5_irrig_c3per.tif\n",
    "! gdal_translate -b 35 NETCDF:\"data/irrigation/SSP5/management_ssp5.nc\":irrig_c3nfx data/irrigation/SSP5/ssp5_irrig_c3nfx.tif\n",
    "! gdal_translate -b 35 NETCDF:\"data/irrigation/SSP5/management_ssp5.nc\":irrig_c4ann data/irrigation/SSP5/ssp5_irrig_c4ann.tif\n",
    "! gdal_translate -b 35 NETCDF:\"data/irrigation/SSP5/management_ssp5.nc\":irrig_c4per data/irrigation/SSP5/ssp5_irrig_c4per.tif        "
   ]
  },
  {
   "cell_type": "markdown",
   "metadata": {
    "heading_collapsed": true
   },
   "source": [
    "## Resample tiff files to 5 arcmin"
   ]
  },
  {
   "cell_type": "code",
   "execution_count": 16,
   "metadata": {
    "hidden": true
   },
   "outputs": [
    {
     "name": "stdout",
     "output_type": "stream",
     "text": [
      "(-180.0, 0.25, 0.0, 90.0, 0.0, -0.25)\n"
     ]
    },
    {
     "data": {
      "text/plain": [
       "(0.25, 0.25)"
      ]
     },
     "execution_count": 16,
     "metadata": {},
     "output_type": "execute_result"
    }
   ],
   "source": [
    "from osgeo import gdal\n",
    "raster = gdal.Open('data/fertl_c3ann.tif')\n",
    "gt = raster.GetGeoTransform()\n",
    "print(gt)\n",
    "pixelSizeX = gt[1]\n",
    "pixelSizeY =-gt[5]\n",
    "\n",
    "pixelSizeX, pixelSizeY"
   ]
  },
  {
   "cell_type": "code",
   "execution_count": 17,
   "metadata": {
    "hidden": true
   },
   "outputs": [
    {
     "name": "stdout",
     "output_type": "stream",
     "text": [
      "(-179.99999491609228, 0.08333333804392655, 0.0, 90.00000254430942, 0.0, -0.08333333804392655)\n"
     ]
    },
    {
     "data": {
      "text/plain": [
       "(0.08333333804392655, 0.08333333804392655)"
      ]
     },
     "execution_count": 17,
     "metadata": {},
     "output_type": "execute_result"
    }
   ],
   "source": [
    "raster = gdal.Open('data/fertl_c3ann_5m.tif')\n",
    "gt = raster.GetGeoTransform()\n",
    "print(gt)\n",
    "pixelSizeX = gt[1]\n",
    "pixelSizeY =-gt[5]\n",
    "\n",
    "pixelSizeX, pixelSizeY"
   ]
  },
  {
   "cell_type": "code",
   "execution_count": 18,
   "metadata": {
    "hidden": true
   },
   "outputs": [
    {
     "name": "stdout",
     "output_type": "stream",
     "text": [
      "Creating output file that is 4320P x 2160L.\n",
      "Processing data/irrigation/2000/2000_irrig_c3ann.tif [1/1] : 0Using internal nodata values (e.g. 1e+20) for image data/irrigation/2000/2000_irrig_c3ann.tif.\n",
      "Copying nodata values from source data/irrigation/2000/2000_irrig_c3ann.tif to destination data/irrigation/2000/2000_irrig_c3ann_5m.tif.\n",
      "...10...20...30...40...50...60...70...80...90...100 - done.\n",
      "Creating output file that is 4320P x 2160L.\n",
      "Processing data/irrigation/2000/2000_irrig_c3per.tif [1/1] : 0Using internal nodata values (e.g. 1e+20) for image data/irrigation/2000/2000_irrig_c3per.tif.\n",
      "Copying nodata values from source data/irrigation/2000/2000_irrig_c3per.tif to destination data/irrigation/2000/2000_irrig_c3per_5m.tif.\n",
      "...10...20...30...40...50...60...70...80...90...100 - done.\n",
      "Creating output file that is 4320P x 2160L.\n",
      "Processing data/irrigation/2000/2000_irrig_c3nfx.tif [1/1] : 0Using internal nodata values (e.g. 1e+20) for image data/irrigation/2000/2000_irrig_c3nfx.tif.\n",
      "Copying nodata values from source data/irrigation/2000/2000_irrig_c3nfx.tif to destination data/irrigation/2000/2000_irrig_c3nfx_5m.tif.\n",
      "...10...20...30...40...50...60...70...80...90...100 - done.\n",
      "Creating output file that is 4320P x 2160L.\n",
      "Processing data/irrigation/2000/2000_irrig_c4ann.tif [1/1] : 0Using internal nodata values (e.g. 1e+20) for image data/irrigation/2000/2000_irrig_c4ann.tif.\n",
      "Copying nodata values from source data/irrigation/2000/2000_irrig_c4ann.tif to destination data/irrigation/2000/2000_irrig_c4ann_5m.tif.\n",
      "...10...20...30...40...50...60...70...80...90...100 - done.\n",
      "Creating output file that is 4320P x 2160L.\n",
      "Processing data/irrigation/2000/2000_irrig_c4per.tif [1/1] : 0Using internal nodata values (e.g. 1e+20) for image data/irrigation/2000/2000_irrig_c4per.tif.\n",
      "Copying nodata values from source data/irrigation/2000/2000_irrig_c4per.tif to destination data/irrigation/2000/2000_irrig_c4per_5m.tif.\n",
      "...10...20...30...40...50...60...70...80...90...100 - done.\n"
     ]
    }
   ],
   "source": [
    "! gdalwarp -tr 0.08333333804392655 0.08333333804392655 -r bilinear data/irrigation/2000/2000_irrig_c3ann.tif data/irrigation/2000/2000_irrig_c3ann_5m.tif\n",
    "! gdalwarp -tr 0.08333333804392655 0.08333333804392655 -r bilinear data/irrigation/2000/2000_irrig_c3per.tif data/irrigation/2000/2000_irrig_c3per_5m.tif\n",
    "! gdalwarp -tr 0.08333333804392655 0.08333333804392655 -r bilinear data/irrigation/2000/2000_irrig_c3nfx.tif data/irrigation/2000/2000_irrig_c3nfx_5m.tif\n",
    "! gdalwarp -tr 0.08333333804392655 0.08333333804392655 -r bilinear data/irrigation/2000/2000_irrig_c4ann.tif data/irrigation/2000/2000_irrig_c4ann_5m.tif\n",
    "! gdalwarp -tr 0.08333333804392655 0.08333333804392655 -r bilinear data/irrigation/2000/2000_irrig_c4per.tif data/irrigation/2000/2000_irrig_c4per_5m.tif"
   ]
  },
  {
   "cell_type": "code",
   "execution_count": 21,
   "metadata": {
    "hidden": true
   },
   "outputs": [
    {
     "name": "stdout",
     "output_type": "stream",
     "text": [
      "Creating output file that is 4320P x 2160L.\n",
      "Processing data/irrigation/SSP1/SSP1_irrig_c3ann.tif [1/1] : 0Using internal nodata values (e.g. 1e+20) for image data/irrigation/SSP1/SSP1_irrig_c3ann.tif.\n",
      "Copying nodata values from source data/irrigation/SSP1/SSP1_irrig_c3ann.tif to destination data/irrigation/SSP1/SSP1_irrig_c3ann_5m.tif.\n",
      "...10...20...30...40...50...60...70...80...90...100 - done.\n",
      "Creating output file that is 4320P x 2160L.\n",
      "Processing data/irrigation/SSP1/SSP1_irrig_c3per.tif [1/1] : 0Using internal nodata values (e.g. 1e+20) for image data/irrigation/SSP1/SSP1_irrig_c3per.tif.\n",
      "Copying nodata values from source data/irrigation/SSP1/SSP1_irrig_c3per.tif to destination data/irrigation/SSP1/SSP1_irrig_c3per_5m.tif.\n",
      "...10...20...30...40...50...60...70...80...90...100 - done.\n",
      "Creating output file that is 4320P x 2160L.\n",
      "Processing data/irrigation/SSP1/SSP1_irrig_c3nfx.tif [1/1] : 0Using internal nodata values (e.g. 1e+20) for image data/irrigation/SSP1/SSP1_irrig_c3nfx.tif.\n",
      "Copying nodata values from source data/irrigation/SSP1/SSP1_irrig_c3nfx.tif to destination data/irrigation/SSP1/SSP1_irrig_c3nfx_5m.tif.\n",
      "...10...20...30...40...50...60...70...80...90...100 - done.\n",
      "Creating output file that is 4320P x 2160L.\n",
      "Processing data/irrigation/SSP1/SSP1_irrig_c4ann.tif [1/1] : 0Using internal nodata values (e.g. 1e+20) for image data/irrigation/SSP1/SSP1_irrig_c4ann.tif.\n",
      "Copying nodata values from source data/irrigation/SSP1/SSP1_irrig_c4ann.tif to destination data/irrigation/SSP1/SSP1_irrig_c4ann_5m.tif.\n",
      "...10...20...30...40...50...60...70...80...90...100 - done.\n",
      "Creating output file that is 4320P x 2160L.\n",
      "Processing data/irrigation/SSP1/SSP1_irrig_c4per.tif [1/1] : 0Using internal nodata values (e.g. 1e+20) for image data/irrigation/SSP1/SSP1_irrig_c4per.tif.\n",
      "Copying nodata values from source data/irrigation/SSP1/SSP1_irrig_c4per.tif to destination data/irrigation/SSP1/SSP1_irrig_c4per_5m.tif.\n",
      "...10...20...30...40...50...60...70...80...90...100 - done.\n"
     ]
    }
   ],
   "source": [
    "! gdalwarp -tr 0.08333333804392655 0.08333333804392655 -r bilinear data/irrigation/SSP1/SSP1_irrig_c3ann.tif data/irrigation/SSP1/SSP1_irrig_c3ann_5m.tif\n",
    "! gdalwarp -tr 0.08333333804392655 0.08333333804392655 -r bilinear data/irrigation/SSP1/SSP1_irrig_c3per.tif data/irrigation/SSP1/SSP1_irrig_c3per_5m.tif\n",
    "! gdalwarp -tr 0.08333333804392655 0.08333333804392655 -r bilinear data/irrigation/SSP1/SSP1_irrig_c3nfx.tif data/irrigation/SSP1/SSP1_irrig_c3nfx_5m.tif\n",
    "! gdalwarp -tr 0.08333333804392655 0.08333333804392655 -r bilinear data/irrigation/SSP1/SSP1_irrig_c4ann.tif data/irrigation/SSP1/SSP1_irrig_c4ann_5m.tif\n",
    "! gdalwarp -tr 0.08333333804392655 0.08333333804392655 -r bilinear data/irrigation/SSP1/SSP1_irrig_c4per.tif data/irrigation/SSP1/SSP1_irrig_c4per_5m.tif"
   ]
  },
  {
   "cell_type": "code",
   "execution_count": 22,
   "metadata": {
    "hidden": true
   },
   "outputs": [
    {
     "name": "stdout",
     "output_type": "stream",
     "text": [
      "Creating output file that is 4320P x 2160L.\n",
      "Processing data/irrigation/SSP2/SSP2_irrig_c3ann.tif [1/1] : 0Using internal nodata values (e.g. 1e+20) for image data/irrigation/SSP2/SSP2_irrig_c3ann.tif.\n",
      "Copying nodata values from source data/irrigation/SSP2/SSP2_irrig_c3ann.tif to destination data/irrigation/SSP2/SSP2_irrig_c3ann_5m.tif.\n",
      "...10...20...30...40...50...60...70...80...90...100 - done.\n",
      "Creating output file that is 4320P x 2160L.\n",
      "Processing data/irrigation/SSP2/SSP2_irrig_c3per.tif [1/1] : 0Using internal nodata values (e.g. 1e+20) for image data/irrigation/SSP2/SSP2_irrig_c3per.tif.\n",
      "Copying nodata values from source data/irrigation/SSP2/SSP2_irrig_c3per.tif to destination data/irrigation/SSP2/SSP2_irrig_c3per_5m.tif.\n",
      "...10...20...30...40...50...60...70...80...90...100 - done.\n",
      "Creating output file that is 4320P x 2160L.\n",
      "Processing data/irrigation/SSP2/SSP2_irrig_c3nfx.tif [1/1] : 0Using internal nodata values (e.g. 1e+20) for image data/irrigation/SSP2/SSP2_irrig_c3nfx.tif.\n",
      "Copying nodata values from source data/irrigation/SSP2/SSP2_irrig_c3nfx.tif to destination data/irrigation/SSP2/SSP2_irrig_c3nfx_5m.tif.\n",
      "...10...20...30...40...50...60...70...80...90...100 - done.\n",
      "Creating output file that is 4320P x 2160L.\n",
      "Processing data/irrigation/SSP2/SSP2_irrig_c4ann.tif [1/1] : 0Using internal nodata values (e.g. 1e+20) for image data/irrigation/SSP2/SSP2_irrig_c4ann.tif.\n",
      "Copying nodata values from source data/irrigation/SSP2/SSP2_irrig_c4ann.tif to destination data/irrigation/SSP2/SSP2_irrig_c4ann_5m.tif.\n",
      "...10...20...30...40...50...60...70...80...90...100 - done.\n",
      "Creating output file that is 4320P x 2160L.\n",
      "Processing data/irrigation/SSP2/SSP2_irrig_c4per.tif [1/1] : 0Using internal nodata values (e.g. 1e+20) for image data/irrigation/SSP2/SSP2_irrig_c4per.tif.\n",
      "Copying nodata values from source data/irrigation/SSP2/SSP2_irrig_c4per.tif to destination data/irrigation/SSP2/SSP2_irrig_c4per_5m.tif.\n",
      "...10...20...30...40...50...60...70...80...90...100 - done.\n"
     ]
    }
   ],
   "source": [
    "! gdalwarp -tr 0.08333333804392655 0.08333333804392655 -r bilinear data/irrigation/SSP2/SSP2_irrig_c3ann.tif data/irrigation/SSP2/SSP2_irrig_c3ann_5m.tif\n",
    "! gdalwarp -tr 0.08333333804392655 0.08333333804392655 -r bilinear data/irrigation/SSP2/SSP2_irrig_c3per.tif data/irrigation/SSP2/SSP2_irrig_c3per_5m.tif\n",
    "! gdalwarp -tr 0.08333333804392655 0.08333333804392655 -r bilinear data/irrigation/SSP2/SSP2_irrig_c3nfx.tif data/irrigation/SSP2/SSP2_irrig_c3nfx_5m.tif\n",
    "! gdalwarp -tr 0.08333333804392655 0.08333333804392655 -r bilinear data/irrigation/SSP2/SSP2_irrig_c4ann.tif data/irrigation/SSP2/SSP2_irrig_c4ann_5m.tif\n",
    "! gdalwarp -tr 0.08333333804392655 0.08333333804392655 -r bilinear data/irrigation/SSP2/SSP2_irrig_c4per.tif data/irrigation/SSP2/SSP2_irrig_c4per_5m.tif"
   ]
  },
  {
   "cell_type": "code",
   "execution_count": 23,
   "metadata": {
    "hidden": true
   },
   "outputs": [
    {
     "name": "stdout",
     "output_type": "stream",
     "text": [
      "Creating output file that is 4320P x 2160L.\n",
      "Processing data/irrigation/SSP3/SSP3_irrig_c3ann.tif [1/1] : 0Using internal nodata values (e.g. 1e+20) for image data/irrigation/SSP3/SSP3_irrig_c3ann.tif.\n",
      "Copying nodata values from source data/irrigation/SSP3/SSP3_irrig_c3ann.tif to destination data/irrigation/SSP3/SSP3_irrig_c3ann_5m.tif.\n",
      "...10...20...30...40...50...60...70...80...90...100 - done.\n",
      "Creating output file that is 4320P x 2160L.\n",
      "Processing data/irrigation/SSP3/SSP3_irrig_c3per.tif [1/1] : 0Using internal nodata values (e.g. 1e+20) for image data/irrigation/SSP3/SSP3_irrig_c3per.tif.\n",
      "Copying nodata values from source data/irrigation/SSP3/SSP3_irrig_c3per.tif to destination data/irrigation/SSP3/SSP3_irrig_c3per_5m.tif.\n",
      "...10...20...30...40...50...60...70...80...90...100 - done.\n",
      "Creating output file that is 4320P x 2160L.\n",
      "Processing data/irrigation/SSP3/SSP3_irrig_c3nfx.tif [1/1] : 0Using internal nodata values (e.g. 1e+20) for image data/irrigation/SSP3/SSP3_irrig_c3nfx.tif.\n",
      "Copying nodata values from source data/irrigation/SSP3/SSP3_irrig_c3nfx.tif to destination data/irrigation/SSP3/SSP3_irrig_c3nfx_5m.tif.\n",
      "...10...20...30...40...50...60...70...80...90...100 - done.\n",
      "Creating output file that is 4320P x 2160L.\n",
      "Processing data/irrigation/SSP3/SSP3_irrig_c4ann.tif [1/1] : 0Using internal nodata values (e.g. 1e+20) for image data/irrigation/SSP3/SSP3_irrig_c4ann.tif.\n",
      "Copying nodata values from source data/irrigation/SSP3/SSP3_irrig_c4ann.tif to destination data/irrigation/SSP3/SSP3_irrig_c4ann_5m.tif.\n",
      "...10...20...30...40...50...60...70...80...90...100 - done.\n",
      "Creating output file that is 4320P x 2160L.\n",
      "Processing data/irrigation/SSP3/SSP3_irrig_c4per.tif [1/1] : 0Using internal nodata values (e.g. 1e+20) for image data/irrigation/SSP3/SSP3_irrig_c4per.tif.\n",
      "Copying nodata values from source data/irrigation/SSP3/SSP3_irrig_c4per.tif to destination data/irrigation/SSP3/SSP3_irrig_c4per_5m.tif.\n",
      "...10...20...30...40...50...60...70...80...90...100 - done.\n"
     ]
    }
   ],
   "source": [
    "! gdalwarp -tr 0.08333333804392655 0.08333333804392655 -r bilinear data/irrigation/SSP3/SSP3_irrig_c3ann.tif data/irrigation/SSP3/SSP3_irrig_c3ann_5m.tif\n",
    "! gdalwarp -tr 0.08333333804392655 0.08333333804392655 -r bilinear data/irrigation/SSP3/SSP3_irrig_c3per.tif data/irrigation/SSP3/SSP3_irrig_c3per_5m.tif\n",
    "! gdalwarp -tr 0.08333333804392655 0.08333333804392655 -r bilinear data/irrigation/SSP3/SSP3_irrig_c3nfx.tif data/irrigation/SSP3/SSP3_irrig_c3nfx_5m.tif\n",
    "! gdalwarp -tr 0.08333333804392655 0.08333333804392655 -r bilinear data/irrigation/SSP3/SSP3_irrig_c4ann.tif data/irrigation/SSP3/SSP3_irrig_c4ann_5m.tif\n",
    "! gdalwarp -tr 0.08333333804392655 0.08333333804392655 -r bilinear data/irrigation/SSP3/SSP3_irrig_c4per.tif data/irrigation/SSP3/SSP3_irrig_c4per_5m.tif"
   ]
  },
  {
   "cell_type": "code",
   "execution_count": 24,
   "metadata": {
    "hidden": true
   },
   "outputs": [
    {
     "name": "stdout",
     "output_type": "stream",
     "text": [
      "Creating output file that is 4320P x 2160L.\n",
      "Processing data/irrigation/SSP4/SSP4_irrig_c3ann.tif [1/1] : 0Using internal nodata values (e.g. 1e+20) for image data/irrigation/SSP4/SSP4_irrig_c3ann.tif.\n",
      "Copying nodata values from source data/irrigation/SSP4/SSP4_irrig_c3ann.tif to destination data/irrigation/SSP4/SSP4_irrig_c3ann_5m.tif.\n",
      "...10...20...30...40...50...60...70...80...90...100 - done.\n",
      "Creating output file that is 4320P x 2160L.\n",
      "Processing data/irrigation/SSP4/SSP4_irrig_c3per.tif [1/1] : 0Using internal nodata values (e.g. 1e+20) for image data/irrigation/SSP4/SSP4_irrig_c3per.tif.\n",
      "Copying nodata values from source data/irrigation/SSP4/SSP4_irrig_c3per.tif to destination data/irrigation/SSP4/SSP4_irrig_c3per_5m.tif.\n",
      "...10...20...30...40...50...60...70...80...90...100 - done.\n",
      "Creating output file that is 4320P x 2160L.\n",
      "Processing data/irrigation/SSP4/SSP4_irrig_c3nfx.tif [1/1] : 0Using internal nodata values (e.g. 1e+20) for image data/irrigation/SSP4/SSP4_irrig_c3nfx.tif.\n",
      "Copying nodata values from source data/irrigation/SSP4/SSP4_irrig_c3nfx.tif to destination data/irrigation/SSP4/SSP4_irrig_c3nfx_5m.tif.\n",
      "...10...20...30...40...50...60...70...80...90...100 - done.\n",
      "Creating output file that is 4320P x 2160L.\n",
      "Processing data/irrigation/SSP4/SSP4_irrig_c4ann.tif [1/1] : 0Using internal nodata values (e.g. 1e+20) for image data/irrigation/SSP4/SSP4_irrig_c4ann.tif.\n",
      "Copying nodata values from source data/irrigation/SSP4/SSP4_irrig_c4ann.tif to destination data/irrigation/SSP4/SSP4_irrig_c4ann_5m.tif.\n",
      "...10...20...30...40...50...60...70...80...90...100 - done.\n",
      "Creating output file that is 4320P x 2160L.\n",
      "Processing data/irrigation/SSP4/SSP4_irrig_c4per.tif [1/1] : 0Using internal nodata values (e.g. 1e+20) for image data/irrigation/SSP4/SSP4_irrig_c4per.tif.\n",
      "Copying nodata values from source data/irrigation/SSP4/SSP4_irrig_c4per.tif to destination data/irrigation/SSP4/SSP4_irrig_c4per_5m.tif.\n",
      "...10...20...30...40...50...60...70...80...90...100 - done.\n"
     ]
    }
   ],
   "source": [
    "! gdalwarp -tr 0.08333333804392655 0.08333333804392655 -r bilinear data/irrigation/SSP4/SSP4_irrig_c3ann.tif data/irrigation/SSP4/SSP4_irrig_c3ann_5m.tif\n",
    "! gdalwarp -tr 0.08333333804392655 0.08333333804392655 -r bilinear data/irrigation/SSP4/SSP4_irrig_c3per.tif data/irrigation/SSP4/SSP4_irrig_c3per_5m.tif\n",
    "! gdalwarp -tr 0.08333333804392655 0.08333333804392655 -r bilinear data/irrigation/SSP4/SSP4_irrig_c3nfx.tif data/irrigation/SSP4/SSP4_irrig_c3nfx_5m.tif\n",
    "! gdalwarp -tr 0.08333333804392655 0.08333333804392655 -r bilinear data/irrigation/SSP4/SSP4_irrig_c4ann.tif data/irrigation/SSP4/SSP4_irrig_c4ann_5m.tif\n",
    "! gdalwarp -tr 0.08333333804392655 0.08333333804392655 -r bilinear data/irrigation/SSP4/SSP4_irrig_c4per.tif data/irrigation/SSP4/SSP4_irrig_c4per_5m.tif"
   ]
  },
  {
   "cell_type": "code",
   "execution_count": 25,
   "metadata": {
    "hidden": true
   },
   "outputs": [
    {
     "name": "stdout",
     "output_type": "stream",
     "text": [
      "Creating output file that is 4320P x 2160L.\n",
      "Processing data/irrigation/SSP5/SSP5_irrig_c3ann.tif [1/1] : 0Using internal nodata values (e.g. 1e+20) for image data/irrigation/SSP5/SSP5_irrig_c3ann.tif.\n",
      "Copying nodata values from source data/irrigation/SSP5/SSP5_irrig_c3ann.tif to destination data/irrigation/SSP5/SSP5_irrig_c3ann_5m.tif.\n",
      "...10...20...30...40...50...60...70...80...90...100 - done.\n",
      "Creating output file that is 4320P x 2160L.\n",
      "Processing data/irrigation/SSP5/SSP5_irrig_c3per.tif [1/1] : 0Using internal nodata values (e.g. 1e+20) for image data/irrigation/SSP5/SSP5_irrig_c3per.tif.\n",
      "Copying nodata values from source data/irrigation/SSP5/SSP5_irrig_c3per.tif to destination data/irrigation/SSP5/SSP5_irrig_c3per_5m.tif.\n",
      "...10...20...30...40...50...60...70...80...90...100 - done.\n",
      "Creating output file that is 4320P x 2160L.\n",
      "Processing data/irrigation/SSP5/SSP5_irrig_c3nfx.tif [1/1] : 0Using internal nodata values (e.g. 1e+20) for image data/irrigation/SSP5/SSP5_irrig_c3nfx.tif.\n",
      "Copying nodata values from source data/irrigation/SSP5/SSP5_irrig_c3nfx.tif to destination data/irrigation/SSP5/SSP5_irrig_c3nfx_5m.tif.\n",
      "...10...20...30...40...50...60...70...80...90...100 - done.\n",
      "Creating output file that is 4320P x 2160L.\n",
      "Processing data/irrigation/SSP5/SSP5_irrig_c4ann.tif [1/1] : 0Using internal nodata values (e.g. 1e+20) for image data/irrigation/SSP5/SSP5_irrig_c4ann.tif.\n",
      "Copying nodata values from source data/irrigation/SSP5/SSP5_irrig_c4ann.tif to destination data/irrigation/SSP5/SSP5_irrig_c4ann_5m.tif.\n",
      "...10...20...30...40...50...60...70...80...90...100 - done.\n",
      "Creating output file that is 4320P x 2160L.\n",
      "Processing data/irrigation/SSP5/SSP5_irrig_c4per.tif [1/1] : 0Using internal nodata values (e.g. 1e+20) for image data/irrigation/SSP5/SSP5_irrig_c4per.tif.\n",
      "Copying nodata values from source data/irrigation/SSP5/SSP5_irrig_c4per.tif to destination data/irrigation/SSP5/SSP5_irrig_c4per_5m.tif.\n",
      "...10...20...30...40...50...60...70...80...90...100 - done.\n"
     ]
    }
   ],
   "source": [
    "! gdalwarp -tr 0.08333333804392655 0.08333333804392655 -r bilinear data/irrigation/SSP5/SSP5_irrig_c3ann.tif data/irrigation/SSP5/SSP5_irrig_c3ann_5m.tif\n",
    "! gdalwarp -tr 0.08333333804392655 0.08333333804392655 -r bilinear data/irrigation/SSP5/SSP5_irrig_c3per.tif data/irrigation/SSP5/SSP5_irrig_c3per_5m.tif\n",
    "! gdalwarp -tr 0.08333333804392655 0.08333333804392655 -r bilinear data/irrigation/SSP5/SSP5_irrig_c3nfx.tif data/irrigation/SSP5/SSP5_irrig_c3nfx_5m.tif\n",
    "! gdalwarp -tr 0.08333333804392655 0.08333333804392655 -r bilinear data/irrigation/SSP5/SSP5_irrig_c4ann.tif data/irrigation/SSP5/SSP5_irrig_c4ann_5m.tif\n",
    "! gdalwarp -tr 0.08333333804392655 0.08333333804392655 -r bilinear data/irrigation/SSP5/SSP5_irrig_c4per.tif data/irrigation/SSP5/SSP5_irrig_c4per_5m.tif"
   ]
  },
  {
   "cell_type": "code",
   "execution_count": 20,
   "metadata": {
    "hidden": true
   },
   "outputs": [
    {
     "name": "stdout",
     "output_type": "stream",
     "text": [
      "(-180.0, 0.08333333804392655, 0.0, 90.0, 0.0, -0.08333333804392655)\n"
     ]
    },
    {
     "data": {
      "text/plain": [
       "(0.08333333804392655, 0.08333333804392655)"
      ]
     },
     "execution_count": 20,
     "metadata": {},
     "output_type": "execute_result"
    }
   ],
   "source": [
    "raster = gdal.Open('data/irrigation/2000/2000_irrig_c4per_5m.tif')\n",
    "gt = raster.GetGeoTransform()\n",
    "print(gt)\n",
    "pixelSizeX = gt[1]\n",
    "pixelSizeY =-gt[5]\n",
    "\n",
    "pixelSizeX, pixelSizeY"
   ]
  },
  {
   "cell_type": "markdown",
   "metadata": {},
   "source": [
    "## Transform tiff to csv"
   ]
  },
  {
   "cell_type": "markdown",
   "metadata": {},
   "source": [
    "### tiff to xyz"
   ]
  },
  {
   "cell_type": "code",
   "execution_count": 29,
   "metadata": {},
   "outputs": [
    {
     "name": "stdout",
     "output_type": "stream",
     "text": [
      "Input file size is 4320, 2160\n",
      "0...10...20...30...40...50...60...70...80...90...100 - done.\n",
      "Input file size is 4320, 2160\n",
      "0...10...20...30...40...50...60...70...80...90...100 - done.\n",
      "Input file size is 4320, 2160\n",
      "0...10...20...30...40...50...60...70...80...90...100 - done.\n",
      "Input file size is 4320, 2160\n",
      "0...10...20...30...40...50...60...70...80...90...100 - done.\n",
      "Input file size is 4320, 2160\n",
      "0...10...20...30...40...50...60...70...80...90...100 - done.\n"
     ]
    }
   ],
   "source": [
    "! gdal_translate data/irrigation/2000/2000_irrig_c3ann_5m.tif data/irrigation/2000/2000_irrig_c3ann_5m.xyz\n",
    "! gdal_translate data/irrigation/2000/2000_irrig_c3per_5m.tif data/irrigation/2000/2000_irrig_c3per_5m.xyz\n",
    "! gdal_translate data/irrigation/2000/2000_irrig_c3nfx_5m.tif data/irrigation/2000/2000_irrig_c3nfx_5m.xyz\n",
    "! gdal_translate data/irrigation/2000/2000_irrig_c4ann_5m.tif data/irrigation/2000/2000_irrig_c4ann_5m.xyz\n",
    "! gdal_translate data/irrigation/2000/2000_irrig_c4per_5m.tif data/irrigation/2000/2000_irrig_c4per_5m.xyz"
   ]
  },
  {
   "cell_type": "code",
   "execution_count": 30,
   "metadata": {},
   "outputs": [
    {
     "name": "stdout",
     "output_type": "stream",
     "text": [
      "Input file size is 4320, 2160\n",
      "0...10...20...30...40...50...60...70...80...90...100 - done.\n",
      "Input file size is 4320, 2160\n",
      "0...10...20...30...40...50...60...70...80...90...100 - done.\n",
      "Input file size is 4320, 2160\n",
      "0...10...20...30...40...50...60...70...80...90...100 - done.\n",
      "Input file size is 4320, 2160\n",
      "0...10...20...30...40...50...60...70...80...90...100 - done.\n",
      "Input file size is 4320, 2160\n",
      "0...10...20...30...40...50...60...70...80...90...100 - done.\n"
     ]
    }
   ],
   "source": [
    "! gdal_translate data/irrigation/SSP1/SSP1_irrig_c3ann_5m.tif data/irrigation/SSP1/SSP1_irrig_c3ann_5m.xyz\n",
    "! gdal_translate data/irrigation/SSP1/SSP1_irrig_c3per_5m.tif data/irrigation/SSP1/SSP1_irrig_c3per_5m.xyz\n",
    "! gdal_translate data/irrigation/SSP1/SSP1_irrig_c3nfx_5m.tif data/irrigation/SSP1/SSP1_irrig_c3nfx_5m.xyz\n",
    "! gdal_translate data/irrigation/SSP1/SSP1_irrig_c4ann_5m.tif data/irrigation/SSP1/SSP1_irrig_c4ann_5m.xyz\n",
    "! gdal_translate data/irrigation/SSP1/SSP1_irrig_c4per_5m.tif data/irrigation/SSP1/SSP1_irrig_c4per_5m.xyz"
   ]
  },
  {
   "cell_type": "code",
   "execution_count": 1,
   "metadata": {},
   "outputs": [
    {
     "name": "stdout",
     "output_type": "stream",
     "text": [
      "Input file size is 4320, 2160\n",
      "0...10...20...30...40...50...60...70...80...90...100 - done.\n",
      "Input file size is 4320, 2160\n",
      "0...10...20...30...40...50...60...70...80...90...100 - done.\n",
      "Input file size is 4320, 2160\n",
      "ERROR 1: At line 7896926, found 1 tokens. Expected 3 at least\n",
      "0...10...20...30...40...50...60...70...80...90...100 - done.\n",
      "Input file size is 4320, 2160\n",
      "0...10...20...30...40...50...60...70...80...90...100 - done.\n",
      "Input file size is 4320, 2160\n",
      "0...10...20...30...40...50...60...70...80...90...100 - done.\n"
     ]
    }
   ],
   "source": [
    "! gdal_translate data/irrigation/SSP2/SSP2_irrig_c3ann_5m.tif data/irrigation/SSP2/SSP2_irrig_c3ann_5m.xyz\n",
    "! gdal_translate data/irrigation/SSP2/SSP2_irrig_c3per_5m.tif data/irrigation/SSP2/SSP2_irrig_c3per_5m.xyz\n",
    "! gdal_translate data/irrigation/SSP2/SSP2_irrig_c3nfx_5m.tif data/irrigation/SSP2/SSP2_irrig_c3nfx_5m.xyz\n",
    "! gdal_translate data/irrigation/SSP2/SSP2_irrig_c4ann_5m.tif data/irrigation/SSP2/SSP2_irrig_c4ann_5m.xyz\n",
    "! gdal_translate data/irrigation/SSP2/SSP2_irrig_c4per_5m.tif data/irrigation/SSP2/SSP2_irrig_c4per_5m.xyz"
   ]
  },
  {
   "cell_type": "code",
   "execution_count": 2,
   "metadata": {},
   "outputs": [
    {
     "name": "stdout",
     "output_type": "stream",
     "text": [
      "Input file size is 4320, 2160\n",
      "0...10...20...30...40...50...60...70...80...90...100 - done.\n",
      "Input file size is 4320, 2160\n",
      "0...10...20...30...40...50...60...70...80...90...100 - done.\n",
      "Input file size is 4320, 2160\n",
      "0...10...20...30...40...50...60...70...80...90...100 - done.\n",
      "Input file size is 4320, 2160\n",
      "0...10...20...30...40...50...60...70...80...90...100 - done.\n",
      "Input file size is 4320, 2160\n",
      "0...10...20...30...40...50...60...70...80...90...100 - done.\n"
     ]
    }
   ],
   "source": [
    "! gdal_translate data/irrigation/SSP3/SSP3_irrig_c3ann_5m.tif data/irrigation/SSP3/SSP3_irrig_c3ann_5m.xyz\n",
    "! gdal_translate data/irrigation/SSP3/SSP3_irrig_c3per_5m.tif data/irrigation/SSP3/SSP3_irrig_c3per_5m.xyz\n",
    "! gdal_translate data/irrigation/SSP3/SSP3_irrig_c3nfx_5m.tif data/irrigation/SSP3/SSP3_irrig_c3nfx_5m.xyz\n",
    "! gdal_translate data/irrigation/SSP3/SSP3_irrig_c4ann_5m.tif data/irrigation/SSP3/SSP3_irrig_c4ann_5m.xyz\n",
    "! gdal_translate data/irrigation/SSP3/SSP3_irrig_c4per_5m.tif data/irrigation/SSP3/SSP3_irrig_c4per_5m.xyz"
   ]
  },
  {
   "cell_type": "code",
   "execution_count": 16,
   "metadata": {},
   "outputs": [
    {
     "name": "stdout",
     "output_type": "stream",
     "text": [
      "Input file size is 4320, 2160\n",
      "0...10...20...30...40...50...60...70...80...90...100 - done.\n",
      "Input file size is 4320, 2160\n",
      "0...10...20...30...40...50...60...70...80...90...100 - done.\n",
      "Input file size is 4320, 2160\n",
      "0...10...20...30...40...50...60...70...80...90...100 - done.\n",
      "Input file size is 4320, 2160\n",
      "0...10...20...30...40...50...60...70...80...90...100 - done.\n",
      "Input file size is 4320, 2160\n",
      "0...10...20...30...40...50...60...70...80...90...100 - done.\n"
     ]
    }
   ],
   "source": [
    "! gdal_translate data/irrigation/SSP4/SSP4_irrig_c3ann_5m.tif data/irrigation/SSP4/SSP4_irrig_c3ann_5m.xyz\n",
    "! gdal_translate data/irrigation/SSP4/SSP4_irrig_c3per_5m.tif data/irrigation/SSP4/SSP4_irrig_c3per_5m.xyz\n",
    "! gdal_translate data/irrigation/SSP4/SSP4_irrig_c3nfx_5m.tif data/irrigation/SSP4/SSP4_irrig_c3nfx_5m.xyz\n",
    "! gdal_translate data/irrigation/SSP4/SSP4_irrig_c4ann_5m.tif data/irrigation/SSP4/SSP4_irrig_c4ann_5m.xyz\n",
    "! gdal_translate data/irrigation/SSP4/SSP4_irrig_c4per_5m.tif data/irrigation/SSP4/SSP4_irrig_c4per_5m.xyz"
   ]
  },
  {
   "cell_type": "code",
   "execution_count": 17,
   "metadata": {},
   "outputs": [
    {
     "name": "stdout",
     "output_type": "stream",
     "text": [
      "Input file size is 4320, 2160\n",
      "0...10...20...30...40...50...60...70...80...90...100 - done.\n",
      "Input file size is 4320, 2160\n",
      "0...10...20...30...40...50...60...70...80...90...100 - done.\n",
      "Input file size is 4320, 2160\n",
      "0...10...20...30...40...50...60...70...80...90...100 - done.\n",
      "Input file size is 4320, 2160\n",
      "0...10...20...30...40...50...60...70...80...90...100 - done.\n",
      "Input file size is 4320, 2160\n",
      "0...10...20...30...40...50...60...70...80...90...100 - done.\n"
     ]
    }
   ],
   "source": [
    "! gdal_translate data/irrigation/SSP5/SSP5_irrig_c3ann_5m.tif data/irrigation/SSP5/SSP5_irrig_c3ann_5m.xyz\n",
    "! gdal_translate data/irrigation/SSP5/SSP5_irrig_c3per_5m.tif data/irrigation/SSP5/SSP5_irrig_c3per_5m.xyz\n",
    "! gdal_translate data/irrigation/SSP5/SSP5_irrig_c3nfx_5m.tif data/irrigation/SSP5/SSP5_irrig_c3nfx_5m.xyz\n",
    "! gdal_translate data/irrigation/SSP5/SSP5_irrig_c4ann_5m.tif data/irrigation/SSP5/SSP5_irrig_c4ann_5m.xyz\n",
    "! gdal_translate data/irrigation/SSP5/SSP5_irrig_c4per_5m.tif data/irrigation/SSP5/SSP5_irrig_c4per_5m.xyz"
   ]
  },
  {
   "cell_type": "markdown",
   "metadata": {
    "heading_collapsed": true
   },
   "source": [
    "### xyz to csv"
   ]
  },
  {
   "cell_type": "code",
   "execution_count": 18,
   "metadata": {
    "hidden": true
   },
   "outputs": [
    {
     "name": "stdout",
     "output_type": "stream",
     "text": [
      "2000\n",
      "irrig_c3ann\n",
      "irrig_c3per\n",
      "irrig_c3nfx\n",
      "irrig_c4ann\n",
      "irrig_c4per\n",
      "    irrig_c3ann   irrig_c3per   irrig_c3nfx   irrig_c4ann   irrig_c4per\n",
      "0  1.000000e+20  1.000000e+20  1.000000e+20  1.000000e+20  1.000000e+20\n",
      "SSP1\n",
      "irrig_c3ann\n",
      "irrig_c3per\n",
      "irrig_c3nfx\n",
      "irrig_c4ann\n",
      "irrig_c4per\n",
      "    irrig_c3ann   irrig_c3per   irrig_c3nfx   irrig_c4ann   irrig_c4per\n",
      "0  1.000000e+20  1.000000e+20  1.000000e+20  1.000000e+20  1.000000e+20\n",
      "SSP2\n",
      "irrig_c3ann\n",
      "irrig_c3per\n",
      "irrig_c3nfx\n",
      "irrig_c4ann\n",
      "irrig_c4per\n",
      "    irrig_c3ann   irrig_c3per   irrig_c3nfx   irrig_c4ann   irrig_c4per\n",
      "0  1.000000e+20  1.000000e+20  1.000000e+20  1.000000e+20  1.000000e+20\n",
      "SSP3\n",
      "irrig_c3ann\n",
      "irrig_c3per\n",
      "irrig_c3nfx\n",
      "irrig_c4ann\n",
      "irrig_c4per\n",
      "    irrig_c3ann   irrig_c3per   irrig_c3nfx   irrig_c4ann   irrig_c4per\n",
      "0  1.000000e+20  1.000000e+20  1.000000e+20  1.000000e+20  1.000000e+20\n",
      "SSP4\n",
      "irrig_c3ann\n",
      "irrig_c3per\n",
      "irrig_c3nfx\n",
      "irrig_c4ann\n",
      "irrig_c4per\n",
      "    irrig_c3ann   irrig_c3per   irrig_c3nfx   irrig_c4ann   irrig_c4per\n",
      "0  1.000000e+20  1.000000e+20  1.000000e+20  1.000000e+20  1.000000e+20\n",
      "SSP5\n",
      "irrig_c3ann\n",
      "irrig_c3per\n",
      "irrig_c3nfx\n",
      "irrig_c4ann\n",
      "irrig_c4per\n",
      "    irrig_c3ann   irrig_c3per   irrig_c3nfx   irrig_c4ann   irrig_c4per\n",
      "0  1.000000e+20  1.000000e+20  1.000000e+20  1.000000e+20  1.000000e+20\n"
     ]
    }
   ],
   "source": [
    "import pandas as pd\n",
    "import numpy as np\n",
    "\n",
    "scenarios = ['2000', 'SSP1', 'SSP2', 'SSP3', 'SSP4', 'SSP5']\n",
    "names = ['irrig_c3ann', 'irrig_c3per', 'irrig_c3nfx', 'irrig_c4ann', 'irrig_c4per']\n",
    "\n",
    "for scenario in scenarios:\n",
    "    print(scenario)\n",
    "    data = []\n",
    "    columns = []\n",
    "    for name in names:\n",
    "        print(name)\n",
    "        file = pd.read_csv('data/irrigation/{}/{}_{}_5m.xyz'.format(scenario, scenario, name), delimiter=' ', header=None)\n",
    "        irrig_col = file.iloc[:, -1].values\n",
    "        data.append(irrig_col)\n",
    "        columns.append(name)\n",
    "    df = pd.DataFrame(np.asarray(data).T, columns=columns) \n",
    "    print(df.head(1))\n",
    "    df.index.name = 'pixel_id'\n",
    "    df.to_csv('data/irrigation/{}/{}_irrigation.csv'.format(scenario, scenario))"
   ]
  },
  {
   "cell_type": "markdown",
   "metadata": {},
   "source": [
    "## Add irrigation to the model data "
   ]
  },
  {
   "cell_type": "code",
   "execution_count": 24,
   "metadata": {},
   "outputs": [],
   "source": [
    "import numpy as np\n",
    "import pandas as pd\n",
    "import os\n",
    "\n",
    "import matplotlib.pyplot as plt\n",
    "%matplotlib inline"
   ]
  },
  {
   "cell_type": "code",
   "execution_count": 6,
   "metadata": {
    "scrolled": false
   },
   "outputs": [],
   "source": [
    "data_2000_path = 'data/2000/'\n",
    "data_2050_path = 'data/2050/'\n",
    "outout_path = 'data/with_irrig/'\n",
    "data_irrig_path = 'data/irrigation/'\n",
    "climate_models = ['cc', 'gs', 'he', 'mr']\n",
    "climate_scenarios = ['ssp1', 'ssp2', 'ssp3', 'ssp4', 'ssp5']"
   ]
  },
  {
   "cell_type": "code",
   "execution_count": 28,
   "metadata": {},
   "outputs": [
    {
     "name": "stderr",
     "output_type": "stream",
     "text": [
      "/Users/Romain/anaconda/envs/project/lib/python3.6/site-packages/numpy/lib/arraysetops.py:569: FutureWarning: elementwise comparison failed; returning scalar instead, but in the future will perform elementwise comparison\n",
      "  mask |= (ar1 == a)\n"
     ]
    }
   ],
   "source": [
    "# Add irrig cols to 2000\n",
    "df_2000 = pd.read_csv(data_2000_path + 'baseline_df.csv', index_col='pixel_id')\n",
    "irrig_files = os.listdir(data_irrig_path + '2000/')\n",
    "irrig_files = [filename for filename in irrig_files if filename.endswith('.csv')]\n",
    "\n",
    "file = irrig_files[0]\n",
    "irrig = pd.read_csv(data_irrig_path + '2000/' + file, index_col='pixel_id')\n",
    "irrig_max = irrig.max().max()\n",
    "irrig = irrig.replace(irrig_max, -9999)\n",
    "full = df_2000.join(irrig)\n",
    "full.to_csv(outout_path + 'baseline_df.csv')"
   ]
  },
  {
   "cell_type": "code",
   "execution_count": 30,
   "metadata": {},
   "outputs": [],
   "source": [
    "# Add irrig cols to 2050 data\n",
    "for ssp in climate_scenarios:\n",
    "    \n",
    "    irrig_files = os.listdir(data_irrig_path + ssp + '/')\n",
    "    irrig_files = [filename for filename in irrig_files if filename.endswith('.csv')]\n",
    "    file = irrig_files[0]\n",
    "    \n",
    "    irrig = pd.read_csv(data_irrig_path + ssp + '/' + file, index_col='pixel_id')\n",
    "    irrig_max = irrig.max().max()\n",
    "    irrig = irrig.replace(irrig_max, -9999)\n",
    "    \n",
    "    for model in climate_models:\n",
    "        df = pd.read_csv(data_2050_path + '{}_{}.csv'.format(model, ssp), index_col='pixel_id')\n",
    "        full = df.join(irrig)\n",
    "        full.to_csv(outout_path + '{}_{}.csv'.format(model, ssp))"
   ]
  },
  {
   "cell_type": "code",
   "execution_count": 27,
   "metadata": {},
   "outputs": [
    {
     "data": {
      "image/png": "[encoded data removed]",
      "text/plain": [
       "<Figure size 1440x1440 with 36 Axes>"
      ]
     },
     "metadata": {
      "needs_background": "light"
     },
     "output_type": "display_data"
    }
   ],
   "source": [
    "# Test and check values\n",
    "test = pd.read_csv(outout_path + 'baseline_df.csv', index_col='pixel_id', na_values=[-9999])\n",
    "test.hist(figsize=(20, 20));"
   ]
  }
 ],
 "metadata": {
  "kernelspec": {
   "display_name": "Python 3",
   "language": "python",
   "name": "python3"
  },
  "language_info": {
   "codemirror_mode": {
    "name": "ipython",
    "version": 3
   },
   "file_extension": ".py",
   "mimetype": "text/x-python",
   "name": "python",
   "nbconvert_exporter": "python",
   "pygments_lexer": "ipython3",
   "version": "3.6.8"
  },
  "toc": {
   "base_numbering": 1,
   "nav_menu": {},
   "number_sections": true,
   "sideBar": true,
   "skip_h1_title": true,
   "title_cell": "Table of Contents",
   "title_sidebar": "Contents",
   "toc_cell": false,
   "toc_position": {},
   "toc_section_display": true,
   "toc_window_display": false
  }
 },
 "nbformat": 4,
 "nbformat_minor": 2
}
