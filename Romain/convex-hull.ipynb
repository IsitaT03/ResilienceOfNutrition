{
 "cells": [
  {
   "cell_type": "code",
   "execution_count": 1,
   "metadata": {},
   "outputs": [],
   "source": [
    "import pandas as pd\n",
    "import numpy as np\n",
    "\n",
    "from sklearn.utils import shuffle\n",
    "from sklearn.preprocessing import StandardScaler\n",
    "from sklearn.cluster import DBSCAN\n",
    "\n",
    "import scipy.sparse.linalg\n",
    "\n",
    "import matplotlib.pyplot as plt\n",
    "%matplotlib inline \n",
    "\n",
    "import seaborn as sns\n",
    "\n",
    "from scipy.spatial import ConvexHull\n",
    "from matplotlib.path import Path\n"
   ]
  },
  {
   "cell_type": "markdown",
   "metadata": {},
   "source": [
    "We first load the 2000 data an find the min max values for every feature.\n",
    "\n",
    "Features related to the predicted temperatures are removed. ('Temperature Annual Range', 'Min Temperature of Coldest Month', 'Annual Mean Temperature','Max Temperature of Warmest Month', 'Mean Diurnal Range', 'Temperature Seasonality'). Indeed, these features were not in min max range of 2000 dataset."
   ]
  },
  {
   "cell_type": "code",
   "execution_count": 2,
   "metadata": {},
   "outputs": [
    {
     "data": {
      "text/plain": [
       "{'nutrient_availability_index': [1.0, 7.0],\n",
       " 'oxygen_availability_index': [1.0, 7.0],\n",
       " 'workability_index': [1.0, 7.0],\n",
       " 'protected_areas_index': [0.0, 2.0],\n",
       " 'nutrient_retention_index': [1.0, 7.0],\n",
       " 'toxicity_index': [1.0, 7.0],\n",
       " 'excess_salts_index': [1.0, 7.0],\n",
       " 'rooting_conditions_index': [1.0, 7.0],\n",
       " 'slope': [4.380776422507338e-05, 1.5707963267948966],\n",
       " 'Isothermality': [14.046306194164176, 96.6964857388604],\n",
       " 'Annual Precipitation': [0.0, 8122.0],\n",
       " 'Precipitation of Wettest Month': [0.0, 2578.0],\n",
       " 'Precipitation of Driest Month': [0.0, 501.0],\n",
       " 'Precipitation Seasonality': [0.0, 217.40899059346063],\n",
       " 'fertl_c3ann': [-9999.0, 297.25000000000006],\n",
       " 'fertl_c3nfx': [-9999.0, 338.7929992675782],\n",
       " 'fertl_c3per': [-9999.0, 487.14099121093767],\n",
       " 'fertl_c4ann': [-9999.0, 604.7890014648439],\n",
       " 'fertl_c4per': [-9999.0, -9999.0],\n",
       " 'log_altitude': [0.0, 8.77539495854551],\n",
       " 'log_GDP_pc': [-3.3885248304083886, 4.230240022141504]}"
      ]
     },
     "execution_count": 2,
     "metadata": {},
     "output_type": "execute_result"
    }
   ],
   "source": [
    "original_df = pd.read_csv('baseline_df.csv', index_col='pixel_id')\n",
    "original_df_inputs = original_df.drop(['log_calories_per_ha', 'Temperature Annual Range', 'Min Temperature of Coldest Month', 'Annual Mean Temperature','Max Temperature of Warmest Month', 'Mean Diurnal Range', 'Temperature Seasonality'], axis=1).drop_duplicates()\n",
    "min_max = original_df_inputs.apply(lambda x: pd.Series([x.min(), x.max()])).T.values.tolist()\n",
    "\n",
    "min_max_dict = {}\n",
    "for i, column in enumerate(original_df_inputs.columns):\n",
    "    min_max_dict[column] = min_max[i]\n",
    "min_max_dict"
   ]
  },
  {
   "cell_type": "code",
   "execution_count": 3,
   "metadata": {},
   "outputs": [
    {
     "name": "stderr",
     "output_type": "stream",
     "text": [
      "/home/kyle/anaconda3/lib/python3.6/site-packages/numpy/lib/arraysetops.py:472: FutureWarning: elementwise comparison failed; returning scalar instead, but in the future will perform elementwise comparison\n",
      "  mask |= (ar1 == a)\n"
     ]
    },
    {
     "name": "stdout",
     "output_type": "stream",
     "text": [
      "1060997\n"
     ]
    },
    {
     "data": {
      "text/plain": [
       "(969108, 1060997, 0.9133937230736751)"
      ]
     },
     "execution_count": 3,
     "metadata": {},
     "output_type": "execute_result"
    }
   ],
   "source": [
    "# returns true if all features are within minmax\n",
    "# of 2000 data\n",
    "def is_in_min_max(row, min_max):\n",
    "    for column in original_df_inputs.columns:\n",
    "        feature = row[column]\n",
    "        if feature < min_max_dict[column][0] or feature >  min_max_dict[column][1]:\n",
    "            return 0\n",
    "    return 1\n",
    "\n",
    "# returns proportion of data points within 2000 data min max\n",
    "def get_proportion_in_min_max(min_max, prediction_df):\n",
    "    inside = prediction_df.apply(lambda row: is_in_min_max(row, min_max), axis=1).sum()\n",
    "    total_points = len(prediction_df)\n",
    "    return inside, total_points, inside/total_points\n",
    "\n",
    "prediction_df_cc_ssp1 = pd.read_csv('he_ssp1.csv', index_col='pixel_id')\n",
    "print(len(prediction_df_cc_ssp1))\n",
    "get_proportion_in_min_max(min_max, prediction_df_cc_ssp1)"
   ]
  },
  {
   "cell_type": "markdown",
   "metadata": {},
   "source": [
    "We see that more than 91% of datapoints are within the cuboid minmax formed from the 2000 dataset used for training.\n",
    "\n",
    "We will now look at which features are outside the cuboid."
   ]
  },
  {
   "cell_type": "code",
   "execution_count": 10,
   "metadata": {},
   "outputs": [],
   "source": [
    "# returns features that are not within minmax\n",
    "# of 2000 data\n",
    "def features_not_in_min_max(row, min_max):\n",
    "    features=[]\n",
    "    for column in original_df_inputs.columns:\n",
    "        feature = row[column]\n",
    "        if feature < min_max_dict[column][0] or feature >  min_max_dict[column][1]:\n",
    "            features.append(column)\n",
    "    return features\n",
    "outside_features = prediction_df_cc_ssp1.apply(lambda row: features_not_in_min_max(row, min_max), axis=1)"
   ]
  },
  {
   "cell_type": "code",
   "execution_count": 12,
   "metadata": {},
   "outputs": [
    {
     "name": "stdout",
     "output_type": "stream",
     "text": [
      "mean 1.0006094309438562\n"
     ]
    }
   ],
   "source": [
    "outside_features = outside_features[outside_features.str.len()>0]\n",
    "print('mean number of features not in min max',outside_features.apply(lambda val: len(val)).mean())\n",
    "outside_features = outside_features.apply(pd.Series).unstack().reset_index().dropna()"
   ]
  },
  {
   "cell_type": "code",
   "execution_count": 19,
   "metadata": {},
   "outputs": [
    {
     "data": {
      "text/plain": [
       "<matplotlib.axes._subplots.AxesSubplot at 0x7f8a0ec04470>"
      ]
     },
     "execution_count": 19,
     "metadata": {},
     "output_type": "execute_result"
    },
    {
     "data": {
      "image/png": "[encoded data removed]",
      "text/plain": [
       "<Figure size 432x288 with 1 Axes>"
      ]
     },
     "metadata": {},
     "output_type": "display_data"
    }
   ],
   "source": [
    "# plot count for features not in min max\n",
    "outside_features[0].value_counts().plot.bar()"
   ]
  },
  {
   "cell_type": "markdown",
   "metadata": {},
   "source": [
    "The log GDP is largely responsible for the 9% of values not in min max cuboid."
   ]
  },
  {
   "cell_type": "code",
   "execution_count": null,
   "metadata": {},
   "outputs": [],
   "source": []
  }
 ],
 "metadata": {
  "kernelspec": {
   "display_name": "Python 3",
   "language": "python",
   "name": "python3"
  },
  "language_info": {
   "codemirror_mode": {
    "name": "ipython",
    "version": 3
   },
   "file_extension": ".py",
   "mimetype": "text/x-python",
   "name": "python",
   "nbconvert_exporter": "python",
   "pygments_lexer": "ipython3",
   "version": "3.6.8"
  },
  "toc": {
   "base_numbering": 1,
   "nav_menu": {},
   "number_sections": true,
   "sideBar": true,
   "skip_h1_title": true,
   "title_cell": "Table of Contents",
   "title_sidebar": "Contents",
   "toc_cell": false,
   "toc_position": {},
   "toc_section_display": true,
   "toc_window_display": false
  }
 },
 "nbformat": 4,
 "nbformat_minor": 2
}
